{
 "cells": [
  {
   "cell_type": "markdown",
   "metadata": {},
   "source": [
    "# HW6, DATSCI W261\n",
    "Team: Kuan Lin, Alejandro J. Rojas, Ricardo Barrera<br/>\n",
    "Emails: kuanlin@ischool.berkeley.edu, ale@ischool.berkeley.edu, ricardofrank@ischool.berkeley.edu<br/>\n",
    "Time of Initial Submission: 8:00 AM PST, Thursday, Feb 25, 2016<br/>\n",
    "W261-1, Spring 2016 Week 6 Homework"
   ]
  },
  {
   "cell_type": "markdown",
   "metadata": {},
   "source": [
    "# HW6.0. \n",
    "In mathematics, computer science, economics, or management science what is mathematical optimization?\n",
    " Give an example of a optimization problem that you have worked with directly or that your organization\n",
    " has worked on. Please describe the objective function and the decision variables. \n",
    " Was the project successful (deployed in the real world)? Describe."
   ]
  },
  {
   "cell_type": "markdown",
   "metadata": {},
   "source": [
    "Mathematical optimization is the act of selecting minima or maxima, possibly local or global.  In ML, it is common to frame a problem in a convex fashion in order to guarantee a global maxima / minima, and we see mathematical optimization come into play frequently in tuning model parameters via something like gradient descent.\n",
    "\n",
    "Regarding pratical and personal examples, I've used mathematical optimization in my logistic regression customer churn model to determine the best parameters for the model.  The objective function that was optimized was \n",
    "\n",
    "$Error = -y * log(h_{\\theta}(x)) - (1-y) * log( 1 - h_{\\theta}(x))$\n",
    "\n",
    "where $h_{\\theta}(x)$ is the sigmoid function.\n",
    "\n",
    "The input variable, $x$, was made up of factors like\n",
    "\n",
    "1. Compute hours\n",
    "2. Map-reduce jobs run per day\n",
    "3. Account Age\n",
    "\n",
    "\n",
    "As a result of this churn model, we have a probability of a customer leaving the service and can guide resources intelligently to engage them and possibly recapture a customer or understand the reason for their departure."
   ]
  },
  {
   "cell_type": "markdown",
   "metadata": {},
   "source": [
    "# HW6.1 \n",
    "Optimization theory: \n",
    "For unconstrained univariate optimization what are the first order  Necessary Conditions for Optimality\n",
    " (FOC).  What are the second order optimality conditions (SOC)? Give a mathematical defintion. Also in \n",
    " python, plot the univartiate function \n",
    "X^3 -12x^2-6 defined over the real  domain -6 to +6. \n",
    "\n",
    "Also plot its corresponding first and second derivative functions. Eyeballing these graphs, identify \n",
    "candidate optimal points and then classify them as local minimums or maximums. Highlight and label \n",
    "these points in your graphs. Justify your responses using the FOC and SOC.\n",
    "\n",
    "For unconstrained multi-variate optimization what are the first order  Necessary Conditions for \n",
    "Optimality (FOC).  What are the second order optimality conditions (SOC)? Give a mathematical \n",
    "defintion. What is the Hessian matrix in this context?"
   ]
  },
  {
   "cell_type": "markdown",
   "metadata": {},
   "source": [
    "<b/>Optimization theory: \n",
    "For unconstrained univariate optimization what are the first order  Necessary Conditions for Optimality (FOC). </b><br/>\n",
    "\n",
    "The first order necessary condition is that the following is true:\n",
    "\n",
    "$\\bigtriangledown(x) = 0$, for some $x$\n",
    "\n",
    "<b/>\n",
    "What are the second order optimality conditions (SOC)? Give a mathematical defintion.\n",
    "</b><br/> \n",
    "\n",
    "$\\bigtriangledown^2(x) < 0$, for all $x$, or<br/>\n",
    "$\\bigtriangledown^2(x) > 0$, for all $x$\n",
    "\n",
    "<b/>Also in python, plot the univartiate function \n",
    "X^3 -12x^2-6 defined over the real  domain -6 to +6. \n",
    " </b><br/>\n"
   ]
  },
  {
   "cell_type": "code",
   "execution_count": 1,
   "metadata": {
    "collapsed": false
   },
   "outputs": [
    {
     "data": {
      "image/png": "[encoded data removed]",
      "text/plain": [
       "<matplotlib.figure.Figure at 0x29fafb0>"
      ]
     },
     "metadata": {},
     "output_type": "display_data"
    },
    {
     "data": {
      "image/png": "[encoded data removed]",
      "text/plain": [
       "<matplotlib.figure.Figure at 0x69e3050>"
      ]
     },
     "metadata": {},
     "output_type": "display_data"
    },
    {
     "data": {
      "image/png": "[encoded data removed]",
      "text/plain": [
       "<matplotlib.figure.Figure at 0x6bff150>"
      ]
     },
     "metadata": {},
     "output_type": "display_data"
    }
   ],
   "source": [
    "%matplotlib inline\n",
    "import numpy as np  \n",
    "import matplotlib.pyplot as plt  \n",
    "def graph(formula, x_range):  \n",
    "    x = np.array(x_range)  \n",
    "    y = eval(formula)\n",
    "    plt.plot(x, y) \n",
    "    plt.title(formula)\n",
    "    plt.show()\n",
    "    \n",
    "#graph('x**3 -12*x**2-6', range(-6, 6))\n",
    "#graph('3*x**2 -24*x', range(-6, 6))\n",
    "#graph('6*x - 24', range(-6, 6))\n",
    "\n",
    "x = np.array(range(-6,6)) \n",
    "formula = 'x**3 -12*x**2-6'\n",
    "y = eval(formula)\n",
    "plt.plot(x, y) \n",
    "plt.plot(0,0,'ro')\n",
    "plt.title('x^3 - 12x^2 - 6')\n",
    "plt.show()\n",
    "\n",
    "formula = '3*x**2 -24*x'\n",
    "y = eval(formula)\n",
    "plt.plot(x, y,) \n",
    "plt.plot(0,0,'ro')\n",
    "plt.title('3x^2 - 24x')\n",
    "plt.show()\n",
    "\n",
    "formula = '6*x-24'\n",
    "y = eval(formula)\n",
    "plt.plot(x, y) \n",
    "plt.title('6x - 24')\n",
    "plt.show()"
   ]
  },
  {
   "cell_type": "markdown",
   "metadata": {},
   "source": [
    "The highlilghted point is a local maximum because the first derivative is at zero (FOC) and the second derivative is less than zero (SOC).\n",
    "\n",
    "For multi-variate optimization problem, the gradient is defined as the vector of first partial derivatives:\n",
    "$$[\\frac {\\partial f}{\\partial x_{1}}, \\frac {\\partial f}{\\partial x_{2}}, \\frac {\\partial f}{\\partial x_{3}}, ...]$$\n",
    "The second derivative term is represented by the hassian matrix, which is the matrix of second order derivatives, where each element is\n",
    "$$\\frac {\\partial f^{2}}{\\partial x_{i}X_{j}}$$\n",
    "For multivariate optimization, the FOC is that the gradient vector is zero for all elements, and SOC is that the hassian matrix is positive semi-definite"
   ]
  },
  {
   "cell_type": "markdown",
   "metadata": {},
   "source": [
    "# HW6.2\n",
    "Taking x=1 as the first approximation(xt1) of a root of X^3 + 2x -4 = 0, use the Newton-Raphson \n",
    "method to calculate the second approximation (denoted as xt2) of this root. (Hint the solution is xt2=1.2)"
   ]
  },
  {
   "cell_type": "markdown",
   "metadata": {},
   "source": [
    "f(x) = x<sup>3</sup> + 2x - 4<br/>\n",
    "f'(x) = 3x + 2\n",
    "\n",
    "Using Newton's Metnod:<br/>\n",
    "x<sub>n+1</sub> = x<sub>n</sub> - f(x<sub>n</sub>)/f'(x<sub>n</sub>) = 1 - (1<sup>3</sup>+2\\*1-4)/(3\\*1+2) = 1 - (-0.2) = 1.2\n"
   ]
  },
  {
   "cell_type": "code",
   "execution_count": 2,
   "metadata": {
    "collapsed": false
   },
   "outputs": [
    {
     "name": "stdout",
     "output_type": "stream",
     "text": [
      "(8.428813202954188e-13, 1.1795090246030533)\n"
     ]
    }
   ],
   "source": [
    "#define the function and first\n",
    "#initialize random point\n",
    "#while not within error val (e.g. 0.1), iterate\n",
    "#set new point to previous minus orig / first\n",
    "\n",
    "import numpy as np\n",
    "\n",
    "orig = 'x**3 + 2*x - 4'\n",
    "first = '3*x**2 + 2'\n",
    "\n",
    "x_0 = np.random.random_sample()\n",
    "error = 0.000001\n",
    "x = x_0\n",
    "\n",
    "cur_orig = eval(orig)\n",
    "\n",
    "while cur_orig < -error or cur_orig > error:\n",
    "    x = x - eval(orig)/eval(first)\n",
    "    cur_orig = eval(orig)\n",
    "    \n",
    "print (cur_orig, x)"
   ]
  },
  {
   "cell_type": "markdown",
   "metadata": {},
   "source": [
    "# HW6.3 Convex optimization \n",
    "What makes an optimization problem convex? What are the first order  Necessary Conditions for \n",
    "Optimality in convex optimization.  What are the second order optimality conditions for convex \n",
    "optimization? Are both necessary to determine the maximum or minimum of candidate optimal solutions?"
   ]
  },
  {
   "cell_type": "markdown",
   "metadata": {},
   "source": [
    "An optimization problem is convex if the cost function is continous and the second derivative is positive when evaluated for all points within the set of interest.  The first order necessary condition for optimality is still to have the first derivative to be zero.  The second order optimality is to have the second derivative greater than or equal to zero, which is automatically satisfied if the cost function is convex.  Therefore only the first order is necessary to determine the optimal solution in a convex problem.\n",
    "\n",
    "Fill in the BLANKS here:<br/>\n",
    "Convex minimization, a subfield of optimization, studies the problem of minimizing [<em>convex</em>] functions over [<em>convex</em>] sets. The [<em>convexity</em>] property can make optimization in some sense \"easier\" than the general case - for example, any local minimum must be a global minimum."
   ]
  },
  {
   "cell_type": "markdown",
   "metadata": {},
   "source": [
    "# HW 6.4\n",
    "The learning objective function for weighted ordinary least squares (WOLS) (aka weight linear regression)\n",
    " is defined as follows:\n",
    "\n",
    "0.5* sumOverTrainingExample i (weight_i * (W * X_i - y_i)^2)\n",
    "\n",
    "Where training set consists of input variables X ( in vector form) and a target variable y, \n",
    "and W is the vector of coefficients for the linear regression model.\n",
    "\n",
    "Derive the gradient for this weighted OLS by hand; showing each step and also explaining each step."
   ]
  },
  {
   "cell_type": "markdown",
   "metadata": {},
   "source": [
    "The original objective function is:\n",
    "$$f(X) = 0.5 \\cdot \\sum w_{i}\\cdot (W\\cdot x_{i} - y_{i})^{2}$$\n",
    "\n",
    "To find W that minimize the objective function, we take the derivative of f(x) with respect to W:\n",
    "$$\n",
    "\\frac {\\partial f}{\\partial W} = 0.5 \\cdot \\sum w_{i}\\cdot 2 \\cdot (W \\cdot x_{i} - y_{i}) \\cdot \\frac {\\partial (W \\cdot x_{i} - y_{i})}{\\partial W}\n",
    "= \\sum w_{i} \\cdot x_{i} \\cdot (W \\cdot x_{i} - y_{i})\n",
    "$$\n",
    "\n",
    "The above result is the gradient as defined by the weighte OLS"
   ]
  },
  {
   "cell_type": "markdown",
   "metadata": {},
   "source": [
    "# HW 6.5\n",
    "Write a MapReduce job in MRJob to do the training at scale of a weighted OLS model using gradient descent.\n",
    "\n",
    "Generate one million datapoints just like in the following notebook: \n",
    "http://nbviewer.ipython.org/urls/dl.dropbox.com/s/kritdm3mo1daolj/MrJobLinearRegressionGD.ipynb\n",
    "\n",
    "Weight each example as follows: \n",
    "\n",
    "weight(x)= abs(1/x)\n",
    "\n",
    "Sample 1% of the data in MapReduce and use the sampled dataset to train a \n",
    "(weighted if available in SciKit-Learn) linear regression model locally using SciKit-Learn \n",
    "(http://scikit-learn.org/stable/modules/generated/sklearn.linear_model.LinearRegression.html)\n",
    "\n",
    "Plot the resulting weighted linear regression model versus the original model that you used \n",
    "to generate the data. Comment on your findings."
   ]
  },
  {
   "cell_type": "code",
   "execution_count": 1,
   "metadata": {
    "collapsed": true
   },
   "outputs": [],
   "source": [
    "import numpy as np\n",
    "# generate 1 million samples\n",
    "size = 1000000\n",
    "x = np.random.uniform(-4, 4, size)\n",
    "# True model: y = 1.0 * x - 4\n",
    "y = x * 1.0 - 4 + np.random.normal(0,0.5,size)\n",
    "data = zip(y,x)\n",
    "np.savetxt('LinearRegression.csv',data,delimiter = \",\")"
   ]
  },
  {
   "cell_type": "code",
   "execution_count": 4,
   "metadata": {
    "collapsed": false
   },
   "outputs": [
    {
     "name": "stdout",
     "output_type": "stream",
     "text": [
      "Overwriting WLS_Gradient_Descend.py\n"
     ]
    }
   ],
   "source": [
    "%%writefile WLS_Gradient_Descend.py\n",
    "from mrjob.job import MRJob\n",
    "\n",
    "#Modified from class example to use weighted least square\n",
    "#     \n",
    "class MrJobBatchGDUpdate_LinearRegression(MRJob):\n",
    "    # run before the mapper processes any input\n",
    "    def read_weightsfile(self):\n",
    "        # Read weights file\n",
    "        with open('weights.txt', 'r') as f:\n",
    "            self.weights = [float(v) for v in f.readline().split(',')]\n",
    "        # Initialze gradient for this iteration\n",
    "        self.partial_Gradient = [0]*len(self.weights)\n",
    "        self.partial_count = 0.0\n",
    "    \n",
    "    # Calculate partial gradient for each example \n",
    "    def partial_gradient(self, _, line):\n",
    "        D = (map(float,line.split(',')))\n",
    "        # y_hat is the predicted value given current weights\n",
    "        y_hat = self.weights[0]+self.weights[1]*D[1]\n",
    "        # Update parial gradient vector with gradient form current example\n",
    "        # weight each gradient by abs(1/x) as stated in the problem\n",
    "        sample_weight = abs(1/D[1])\n",
    "        # Cap sample weight so that we don't get some ridiculously large\n",
    "        # weights when data is small\n",
    "        if sample_weight > 10:\n",
    "            sample_weight = 10.0\n",
    "        elif sample_weight < 0.01:\n",
    "            sample_weight = 0.01\n",
    "        self.partial_Gradient =  [self.partial_Gradient[0] + sample_weight*(D[0]-y_hat), \n",
    "                                  self.partial_Gradient[1] + sample_weight*(D[0]-y_hat)*D[1]]\n",
    "        # accumulate weights\n",
    "        self.partial_count = self.partial_count + sample_weight\n",
    "    \n",
    "    # Finally emit in-memory partial gradient and partial count\n",
    "    def partial_gradient_emit(self):\n",
    "        yield None, (self.partial_Gradient,self.partial_count)\n",
    "        \n",
    "    # Accumulate partial gradient from mapper and emit total gradient \n",
    "    # Output: key = None, Value = gradient vector\n",
    "    def gradient_accumulater(self, _, partial_Gradient_Record): \n",
    "        total_gradient = [0]*2\n",
    "        total_count = 0.0\n",
    "        for partial_Gradient,partial_count in partial_Gradient_Record:\n",
    "            total_count = total_count + partial_count\n",
    "            total_gradient[0] = total_gradient[0] + partial_Gradient[0]\n",
    "            total_gradient[1] = total_gradient[1] + partial_Gradient[1]\n",
    "        yield None, [v/total_count for v in total_gradient]\n",
    "        # wieghted least square total gradient\n",
    "        #yield None, [v for v in total_gradient]\n",
    "    \n",
    "    def steps(self):\n",
    "        return [self.mr(mapper_init=self.read_weightsfile,\n",
    "                       mapper=self.partial_gradient,\n",
    "                       mapper_final=self.partial_gradient_emit,\n",
    "                       reducer=self.gradient_accumulater)] \n",
    "    \n",
    "if __name__ == '__main__':\n",
    "    MrJobBatchGDUpdate_LinearRegression.run()"
   ]
  },
  {
   "cell_type": "code",
   "execution_count": 6,
   "metadata": {
    "collapsed": false
   },
   "outputs": [
    {
     "name": "stderr",
     "output_type": "stream",
     "text": [
      "WARNING:mrjob.runner:\n",
      "WARNING:mrjob.runner:PLEASE NOTE: Starting in mrjob v0.5.0, protocols will be strict by default. It's recommended you run your job with --strict-protocols or set up mrjob.conf as described at https://pythonhosted.org/mrjob/whats-new.html#ready-for-strict-protocols\n",
      "WARNING:mrjob.runner:\n",
      "WARNING:mrjob.job:mr() is deprecated and will be removed in v0.6.0. Use mrjob.step.MRStep directly instead.\n",
      "WARNING:mrjob.job:mr() is deprecated and will be removed in v0.6.0. Use mrjob.step.MRStep directly instead.\n",
      "WARNING:mrjob.job:mr() is deprecated and will be removed in v0.6.0. Use mrjob.step.MRStep directly instead.\n",
      "WARNING:mrjob.job:mr() is deprecated and will be removed in v0.6.0. Use mrjob.step.MRStep directly instead.\n",
      "WARNING:mrjob.job:mr() is deprecated and will be removed in v0.6.0. Use mrjob.step.MRStep directly instead.\n"
     ]
    },
    {
     "name": "stdout",
     "output_type": "stream",
     "text": [
      "iteration =0  weights = [-2.31993502 -2.49050546]\n",
      "iteration =1  weights ="
     ]
    },
    {
     "name": "stderr",
     "output_type": "stream",
     "text": [
      "WARNING:mrjob.runner:\n",
      "WARNING:mrjob.runner:PLEASE NOTE: Starting in mrjob v0.5.0, protocols will be strict by default. It's recommended you run your job with --strict-protocols or set up mrjob.conf as described at https://pythonhosted.org/mrjob/whats-new.html#ready-for-strict-protocols\n",
      "WARNING:mrjob.runner:\n",
      "WARNING:mrjob.job:mr() is deprecated and will be removed in v0.6.0. Use mrjob.step.MRStep directly instead.\n",
      "WARNING:mrjob.job:mr() is deprecated and will be removed in v0.6.0. Use mrjob.step.MRStep directly instead.\n",
      "WARNING:mrjob.job:mr() is deprecated and will be removed in v0.6.0. Use mrjob.step.MRStep directly instead.\n",
      "WARNING:mrjob.job:mr() is deprecated and will be removed in v0.6.0. Use mrjob.step.MRStep directly instead.\n",
      "WARNING:mrjob.job:mr() is deprecated and will be removed in v0.6.0. Use mrjob.step.MRStep directly instead.\n"
     ]
    },
    {
     "name": "stdout",
     "output_type": "stream",
     "text": [
      " [-2.40331461 -1.55883276]\n",
      "iteration =2  weights ="
     ]
    },
    {
     "name": "stderr",
     "output_type": "stream",
     "text": [
      "WARNING:mrjob.runner:\n",
      "WARNING:mrjob.runner:PLEASE NOTE: Starting in mrjob v0.5.0, protocols will be strict by default. It's recommended you run your job with --strict-protocols or set up mrjob.conf as described at https://pythonhosted.org/mrjob/whats-new.html#ready-for-strict-protocols\n",
      "WARNING:mrjob.runner:\n",
      "WARNING:mrjob.job:mr() is deprecated and will be removed in v0.6.0. Use mrjob.step.MRStep directly instead.\n",
      "WARNING:mrjob.job:mr() is deprecated and will be removed in v0.6.0. Use mrjob.step.MRStep directly instead.\n",
      "WARNING:mrjob.job:mr() is deprecated and will be removed in v0.6.0. Use mrjob.step.MRStep directly instead.\n",
      "WARNING:mrjob.job:mr() is deprecated and will be removed in v0.6.0. Use mrjob.step.MRStep directly instead.\n",
      "WARNING:mrjob.job:mr() is deprecated and will be removed in v0.6.0. Use mrjob.step.MRStep directly instead.\n"
     ]
    },
    {
     "name": "stdout",
     "output_type": "stream",
     "text": [
      " [-2.48269569 -0.87591118]\n",
      "iteration =3  weights ="
     ]
    },
    {
     "name": "stderr",
     "output_type": "stream",
     "text": [
      "WARNING:mrjob.runner:\n",
      "WARNING:mrjob.runner:PLEASE NOTE: Starting in mrjob v0.5.0, protocols will be strict by default. It's recommended you run your job with --strict-protocols or set up mrjob.conf as described at https://pythonhosted.org/mrjob/whats-new.html#ready-for-strict-protocols\n",
      "WARNING:mrjob.runner:\n",
      "WARNING:mrjob.job:mr() is deprecated and will be removed in v0.6.0. Use mrjob.step.MRStep directly instead.\n",
      "WARNING:mrjob.job:mr() is deprecated and will be removed in v0.6.0. Use mrjob.step.MRStep directly instead.\n",
      "WARNING:mrjob.job:mr() is deprecated and will be removed in v0.6.0. Use mrjob.step.MRStep directly instead.\n",
      "WARNING:mrjob.job:mr() is deprecated and will be removed in v0.6.0. Use mrjob.step.MRStep directly instead.\n",
      "WARNING:mrjob.job:mr() is deprecated and will be removed in v0.6.0. Use mrjob.step.MRStep directly instead.\n"
     ]
    },
    {
     "name": "stdout",
     "output_type": "stream",
     "text": [
      " [-2.55823269 -0.3753223 ]\n",
      "iteration =4  weights ="
     ]
    },
    {
     "name": "stderr",
     "output_type": "stream",
     "text": [
      "WARNING:mrjob.runner:\n",
      "WARNING:mrjob.runner:PLEASE NOTE: Starting in mrjob v0.5.0, protocols will be strict by default. It's recommended you run your job with --strict-protocols or set up mrjob.conf as described at https://pythonhosted.org/mrjob/whats-new.html#ready-for-strict-protocols\n",
      "WARNING:mrjob.runner:\n",
      "WARNING:mrjob.job:mr() is deprecated and will be removed in v0.6.0. Use mrjob.step.MRStep directly instead.\n",
      "WARNING:mrjob.job:mr() is deprecated and will be removed in v0.6.0. Use mrjob.step.MRStep directly instead.\n",
      "WARNING:mrjob.job:mr() is deprecated and will be removed in v0.6.0. Use mrjob.step.MRStep directly instead.\n",
      "WARNING:mrjob.job:mr() is deprecated and will be removed in v0.6.0. Use mrjob.step.MRStep directly instead.\n",
      "WARNING:mrjob.job:mr() is deprecated and will be removed in v0.6.0. Use mrjob.step.MRStep directly instead.\n"
     ]
    },
    {
     "name": "stdout",
     "output_type": "stream",
     "text": [
      " [-2.63008444 -0.00838208]\n",
      "iteration =5  weights ="
     ]
    },
    {
     "name": "stderr",
     "output_type": "stream",
     "text": [
      "WARNING:mrjob.runner:\n",
      "WARNING:mrjob.runner:PLEASE NOTE: Starting in mrjob v0.5.0, protocols will be strict by default. It's recommended you run your job with --strict-protocols or set up mrjob.conf as described at https://pythonhosted.org/mrjob/whats-new.html#ready-for-strict-protocols\n",
      "WARNING:mrjob.runner:\n",
      "WARNING:mrjob.job:mr() is deprecated and will be removed in v0.6.0. Use mrjob.step.MRStep directly instead.\n",
      "WARNING:mrjob.job:mr() is deprecated and will be removed in v0.6.0. Use mrjob.step.MRStep directly instead.\n",
      "WARNING:mrjob.job:mr() is deprecated and will be removed in v0.6.0. Use mrjob.step.MRStep directly instead.\n",
      "WARNING:mrjob.job:mr() is deprecated and will be removed in v0.6.0. Use mrjob.step.MRStep directly instead.\n",
      "WARNING:mrjob.job:mr() is deprecated and will be removed in v0.6.0. Use mrjob.step.MRStep directly instead.\n"
     ]
    },
    {
     "name": "stdout",
     "output_type": "stream",
     "text": [
      " [-2.69841074  0.26059441]\n",
      "iteration =6  weights ="
     ]
    },
    {
     "name": "stderr",
     "output_type": "stream",
     "text": [
      "WARNING:mrjob.runner:\n",
      "WARNING:mrjob.runner:PLEASE NOTE: Starting in mrjob v0.5.0, protocols will be strict by default. It's recommended you run your job with --strict-protocols or set up mrjob.conf as described at https://pythonhosted.org/mrjob/whats-new.html#ready-for-strict-protocols\n",
      "WARNING:mrjob.runner:\n",
      "WARNING:mrjob.job:mr() is deprecated and will be removed in v0.6.0. Use mrjob.step.MRStep directly instead.\n",
      "WARNING:mrjob.job:mr() is deprecated and will be removed in v0.6.0. Use mrjob.step.MRStep directly instead.\n",
      "WARNING:mrjob.job:mr() is deprecated and will be removed in v0.6.0. Use mrjob.step.MRStep directly instead.\n",
      "WARNING:mrjob.job:mr() is deprecated and will be removed in v0.6.0. Use mrjob.step.MRStep directly instead.\n",
      "WARNING:mrjob.job:mr() is deprecated and will be removed in v0.6.0. Use mrjob.step.MRStep directly instead.\n"
     ]
    },
    {
     "name": "stdout",
     "output_type": "stream",
     "text": [
      " [-2.76336995  0.45776386]\n",
      "iteration =7  weights ="
     ]
    },
    {
     "name": "stderr",
     "output_type": "stream",
     "text": [
      "WARNING:mrjob.runner:\n",
      "WARNING:mrjob.runner:PLEASE NOTE: Starting in mrjob v0.5.0, protocols will be strict by default. It's recommended you run your job with --strict-protocols or set up mrjob.conf as described at https://pythonhosted.org/mrjob/whats-new.html#ready-for-strict-protocols\n",
      "WARNING:mrjob.runner:\n",
      "WARNING:mrjob.job:mr() is deprecated and will be removed in v0.6.0. Use mrjob.step.MRStep directly instead.\n",
      "WARNING:mrjob.job:mr() is deprecated and will be removed in v0.6.0. Use mrjob.step.MRStep directly instead.\n",
      "WARNING:mrjob.job:mr() is deprecated and will be removed in v0.6.0. Use mrjob.step.MRStep directly instead.\n",
      "WARNING:mrjob.job:mr() is deprecated and will be removed in v0.6.0. Use mrjob.step.MRStep directly instead.\n",
      "WARNING:mrjob.job:mr() is deprecated and will be removed in v0.6.0. Use mrjob.step.MRStep directly instead.\n"
     ]
    },
    {
     "name": "stdout",
     "output_type": "stream",
     "text": [
      " [-2.82511728  0.60229888]\n",
      "iteration =8  weights ="
     ]
    },
    {
     "name": "stderr",
     "output_type": "stream",
     "text": [
      "WARNING:mrjob.runner:\n",
      "WARNING:mrjob.runner:PLEASE NOTE: Starting in mrjob v0.5.0, protocols will be strict by default. It's recommended you run your job with --strict-protocols or set up mrjob.conf as described at https://pythonhosted.org/mrjob/whats-new.html#ready-for-strict-protocols\n",
      "WARNING:mrjob.runner:\n",
      "WARNING:mrjob.job:mr() is deprecated and will be removed in v0.6.0. Use mrjob.step.MRStep directly instead.\n",
      "WARNING:mrjob.job:mr() is deprecated and will be removed in v0.6.0. Use mrjob.step.MRStep directly instead.\n",
      "WARNING:mrjob.job:mr() is deprecated and will be removed in v0.6.0. Use mrjob.step.MRStep directly instead.\n",
      "WARNING:mrjob.job:mr() is deprecated and will be removed in v0.6.0. Use mrjob.step.MRStep directly instead.\n",
      "WARNING:mrjob.job:mr() is deprecated and will be removed in v0.6.0. Use mrjob.step.MRStep directly instead.\n"
     ]
    },
    {
     "name": "stdout",
     "output_type": "stream",
     "text": [
      " [-2.88380369  0.70825284]\n",
      "iteration =9  weights ="
     ]
    },
    {
     "name": "stderr",
     "output_type": "stream",
     "text": [
      "WARNING:mrjob.runner:\n",
      "WARNING:mrjob.runner:PLEASE NOTE: Starting in mrjob v0.5.0, protocols will be strict by default. It's recommended you run your job with --strict-protocols or set up mrjob.conf as described at https://pythonhosted.org/mrjob/whats-new.html#ready-for-strict-protocols\n",
      "WARNING:mrjob.runner:\n",
      "WARNING:mrjob.job:mr() is deprecated and will be removed in v0.6.0. Use mrjob.step.MRStep directly instead.\n",
      "WARNING:mrjob.job:mr() is deprecated and will be removed in v0.6.0. Use mrjob.step.MRStep directly instead.\n",
      "WARNING:mrjob.job:mr() is deprecated and will be removed in v0.6.0. Use mrjob.step.MRStep directly instead.\n",
      "WARNING:mrjob.job:mr() is deprecated and will be removed in v0.6.0. Use mrjob.step.MRStep directly instead.\n",
      "WARNING:mrjob.job:mr() is deprecated and will be removed in v0.6.0. Use mrjob.step.MRStep directly instead.\n"
     ]
    },
    {
     "name": "stdout",
     "output_type": "stream",
     "text": [
      " [-2.93957516  0.78592671]\n",
      "iteration =10  weights ="
     ]
    },
    {
     "name": "stderr",
     "output_type": "stream",
     "text": [
      "WARNING:mrjob.runner:\n",
      "WARNING:mrjob.runner:PLEASE NOTE: Starting in mrjob v0.5.0, protocols will be strict by default. It's recommended you run your job with --strict-protocols or set up mrjob.conf as described at https://pythonhosted.org/mrjob/whats-new.html#ready-for-strict-protocols\n",
      "WARNING:mrjob.runner:\n",
      "WARNING:mrjob.job:mr() is deprecated and will be removed in v0.6.0. Use mrjob.step.MRStep directly instead.\n",
      "WARNING:mrjob.job:mr() is deprecated and will be removed in v0.6.0. Use mrjob.step.MRStep directly instead.\n",
      "WARNING:mrjob.job:mr() is deprecated and will be removed in v0.6.0. Use mrjob.step.MRStep directly instead.\n",
      "WARNING:mrjob.job:mr() is deprecated and will be removed in v0.6.0. Use mrjob.step.MRStep directly instead.\n",
      "WARNING:mrjob.job:mr() is deprecated and will be removed in v0.6.0. Use mrjob.step.MRStep directly instead.\n"
     ]
    },
    {
     "name": "stdout",
     "output_type": "stream",
     "text": [
      " [-2.99257228  0.84287106]\n",
      "iteration =11  weights ="
     ]
    },
    {
     "name": "stderr",
     "output_type": "stream",
     "text": [
      "WARNING:mrjob.runner:\n",
      "WARNING:mrjob.runner:PLEASE NOTE: Starting in mrjob v0.5.0, protocols will be strict by default. It's recommended you run your job with --strict-protocols or set up mrjob.conf as described at https://pythonhosted.org/mrjob/whats-new.html#ready-for-strict-protocols\n",
      "WARNING:mrjob.runner:\n",
      "WARNING:mrjob.job:mr() is deprecated and will be removed in v0.6.0. Use mrjob.step.MRStep directly instead.\n",
      "WARNING:mrjob.job:mr() is deprecated and will be removed in v0.6.0. Use mrjob.step.MRStep directly instead.\n",
      "WARNING:mrjob.job:mr() is deprecated and will be removed in v0.6.0. Use mrjob.step.MRStep directly instead.\n",
      "WARNING:mrjob.job:mr() is deprecated and will be removed in v0.6.0. Use mrjob.step.MRStep directly instead.\n",
      "WARNING:mrjob.job:mr() is deprecated and will be removed in v0.6.0. Use mrjob.step.MRStep directly instead.\n"
     ]
    },
    {
     "name": "stdout",
     "output_type": "stream",
     "text": [
      " [-3.04292996  0.88462036]\n",
      "iteration =12  weights ="
     ]
    },
    {
     "name": "stderr",
     "output_type": "stream",
     "text": [
      "WARNING:mrjob.runner:\n",
      "WARNING:mrjob.runner:PLEASE NOTE: Starting in mrjob v0.5.0, protocols will be strict by default. It's recommended you run your job with --strict-protocols or set up mrjob.conf as described at https://pythonhosted.org/mrjob/whats-new.html#ready-for-strict-protocols\n",
      "WARNING:mrjob.runner:\n",
      "WARNING:mrjob.job:mr() is deprecated and will be removed in v0.6.0. Use mrjob.step.MRStep directly instead.\n",
      "WARNING:mrjob.job:mr() is deprecated and will be removed in v0.6.0. Use mrjob.step.MRStep directly instead.\n",
      "WARNING:mrjob.job:mr() is deprecated and will be removed in v0.6.0. Use mrjob.step.MRStep directly instead.\n",
      "WARNING:mrjob.job:mr() is deprecated and will be removed in v0.6.0. Use mrjob.step.MRStep directly instead.\n",
      "WARNING:mrjob.job:mr() is deprecated and will be removed in v0.6.0. Use mrjob.step.MRStep directly instead.\n"
     ]
    },
    {
     "name": "stdout",
     "output_type": "stream",
     "text": [
      " [-3.09077739  0.91523138]\n",
      "iteration =13  weights ="
     ]
    },
    {
     "name": "stderr",
     "output_type": "stream",
     "text": [
      "WARNING:mrjob.runner:\n",
      "WARNING:mrjob.runner:PLEASE NOTE: Starting in mrjob v0.5.0, protocols will be strict by default. It's recommended you run your job with --strict-protocols or set up mrjob.conf as described at https://pythonhosted.org/mrjob/whats-new.html#ready-for-strict-protocols\n",
      "WARNING:mrjob.runner:\n",
      "WARNING:mrjob.job:mr() is deprecated and will be removed in v0.6.0. Use mrjob.step.MRStep directly instead.\n",
      "WARNING:mrjob.job:mr() is deprecated and will be removed in v0.6.0. Use mrjob.step.MRStep directly instead.\n",
      "WARNING:mrjob.job:mr() is deprecated and will be removed in v0.6.0. Use mrjob.step.MRStep directly instead.\n",
      "WARNING:mrjob.job:mr() is deprecated and will be removed in v0.6.0. Use mrjob.step.MRStep directly instead.\n",
      "WARNING:mrjob.job:mr() is deprecated and will be removed in v0.6.0. Use mrjob.step.MRStep directly instead.\n"
     ]
    },
    {
     "name": "stdout",
     "output_type": "stream",
     "text": [
      " [-3.13623806  0.93767769]\n",
      "iteration =14  weights ="
     ]
    },
    {
     "name": "stderr",
     "output_type": "stream",
     "text": [
      "WARNING:mrjob.runner:\n",
      "WARNING:mrjob.runner:PLEASE NOTE: Starting in mrjob v0.5.0, protocols will be strict by default. It's recommended you run your job with --strict-protocols or set up mrjob.conf as described at https://pythonhosted.org/mrjob/whats-new.html#ready-for-strict-protocols\n",
      "WARNING:mrjob.runner:\n",
      "WARNING:mrjob.job:mr() is deprecated and will be removed in v0.6.0. Use mrjob.step.MRStep directly instead.\n",
      "WARNING:mrjob.job:mr() is deprecated and will be removed in v0.6.0. Use mrjob.step.MRStep directly instead.\n",
      "WARNING:mrjob.job:mr() is deprecated and will be removed in v0.6.0. Use mrjob.step.MRStep directly instead.\n",
      "WARNING:mrjob.job:mr() is deprecated and will be removed in v0.6.0. Use mrjob.step.MRStep directly instead.\n",
      "WARNING:mrjob.job:mr() is deprecated and will be removed in v0.6.0. Use mrjob.step.MRStep directly instead.\n"
     ]
    },
    {
     "name": "stdout",
     "output_type": "stream",
     "text": [
      " [-3.1794298   0.95413892]\n",
      "iteration =15  weights ="
     ]
    },
    {
     "name": "stderr",
     "output_type": "stream",
     "text": [
      "WARNING:mrjob.runner:\n",
      "WARNING:mrjob.runner:PLEASE NOTE: Starting in mrjob v0.5.0, protocols will be strict by default. It's recommended you run your job with --strict-protocols or set up mrjob.conf as described at https://pythonhosted.org/mrjob/whats-new.html#ready-for-strict-protocols\n",
      "WARNING:mrjob.runner:\n",
      "WARNING:mrjob.job:mr() is deprecated and will be removed in v0.6.0. Use mrjob.step.MRStep directly instead.\n",
      "WARNING:mrjob.job:mr() is deprecated and will be removed in v0.6.0. Use mrjob.step.MRStep directly instead.\n",
      "WARNING:mrjob.job:mr() is deprecated and will be removed in v0.6.0. Use mrjob.step.MRStep directly instead.\n",
      "WARNING:mrjob.job:mr() is deprecated and will be removed in v0.6.0. Use mrjob.step.MRStep directly instead.\n",
      "WARNING:mrjob.job:mr() is deprecated and will be removed in v0.6.0. Use mrjob.step.MRStep directly instead.\n"
     ]
    },
    {
     "name": "stdout",
     "output_type": "stream",
     "text": [
      " [-3.22046496  0.96621273]\n",
      "iteration =16  weights ="
     ]
    },
    {
     "name": "stderr",
     "output_type": "stream",
     "text": [
      "WARNING:mrjob.runner:\n",
      "WARNING:mrjob.runner:PLEASE NOTE: Starting in mrjob v0.5.0, protocols will be strict by default. It's recommended you run your job with --strict-protocols or set up mrjob.conf as described at https://pythonhosted.org/mrjob/whats-new.html#ready-for-strict-protocols\n",
      "WARNING:mrjob.runner:\n",
      "WARNING:mrjob.job:mr() is deprecated and will be removed in v0.6.0. Use mrjob.step.MRStep directly instead.\n",
      "WARNING:mrjob.job:mr() is deprecated and will be removed in v0.6.0. Use mrjob.step.MRStep directly instead.\n",
      "WARNING:mrjob.job:mr() is deprecated and will be removed in v0.6.0. Use mrjob.step.MRStep directly instead.\n",
      "WARNING:mrjob.job:mr() is deprecated and will be removed in v0.6.0. Use mrjob.step.MRStep directly instead.\n",
      "WARNING:mrjob.job:mr() is deprecated and will be removed in v0.6.0. Use mrjob.step.MRStep directly instead.\n"
     ]
    },
    {
     "name": "stdout",
     "output_type": "stream",
     "text": [
      " [-3.25945058  0.97507021]\n",
      "iteration =17  weights ="
     ]
    },
    {
     "name": "stderr",
     "output_type": "stream",
     "text": [
      "WARNING:mrjob.runner:\n",
      "WARNING:mrjob.runner:PLEASE NOTE: Starting in mrjob v0.5.0, protocols will be strict by default. It's recommended you run your job with --strict-protocols or set up mrjob.conf as described at https://pythonhosted.org/mrjob/whats-new.html#ready-for-strict-protocols\n",
      "WARNING:mrjob.runner:\n",
      "WARNING:mrjob.job:mr() is deprecated and will be removed in v0.6.0. Use mrjob.step.MRStep directly instead.\n",
      "WARNING:mrjob.job:mr() is deprecated and will be removed in v0.6.0. Use mrjob.step.MRStep directly instead.\n",
      "WARNING:mrjob.job:mr() is deprecated and will be removed in v0.6.0. Use mrjob.step.MRStep directly instead.\n",
      "WARNING:mrjob.job:mr() is deprecated and will be removed in v0.6.0. Use mrjob.step.MRStep directly instead.\n",
      "WARNING:mrjob.job:mr() is deprecated and will be removed in v0.6.0. Use mrjob.step.MRStep directly instead.\n"
     ]
    },
    {
     "name": "stdout",
     "output_type": "stream",
     "text": [
      " [-3.29648853  0.98156979]\n",
      "iteration =18  weights ="
     ]
    },
    {
     "name": "stderr",
     "output_type": "stream",
     "text": [
      "WARNING:mrjob.runner:\n",
      "WARNING:mrjob.runner:PLEASE NOTE: Starting in mrjob v0.5.0, protocols will be strict by default. It's recommended you run your job with --strict-protocols or set up mrjob.conf as described at https://pythonhosted.org/mrjob/whats-new.html#ready-for-strict-protocols\n",
      "WARNING:mrjob.runner:\n",
      "WARNING:mrjob.job:mr() is deprecated and will be removed in v0.6.0. Use mrjob.step.MRStep directly instead.\n",
      "WARNING:mrjob.job:mr() is deprecated and will be removed in v0.6.0. Use mrjob.step.MRStep directly instead.\n",
      "WARNING:mrjob.job:mr() is deprecated and will be removed in v0.6.0. Use mrjob.step.MRStep directly instead.\n",
      "WARNING:mrjob.job:mr() is deprecated and will be removed in v0.6.0. Use mrjob.step.MRStep directly instead.\n",
      "WARNING:mrjob.job:mr() is deprecated and will be removed in v0.6.0. Use mrjob.step.MRStep directly instead.\n"
     ]
    },
    {
     "name": "stdout",
     "output_type": "stream",
     "text": [
      " [-3.33167578  0.98634069]\n",
      "iteration =19  weights ="
     ]
    },
    {
     "name": "stderr",
     "output_type": "stream",
     "text": [
      "WARNING:mrjob.runner:\n",
      "WARNING:mrjob.runner:PLEASE NOTE: Starting in mrjob v0.5.0, protocols will be strict by default. It's recommended you run your job with --strict-protocols or set up mrjob.conf as described at https://pythonhosted.org/mrjob/whats-new.html#ready-for-strict-protocols\n",
      "WARNING:mrjob.runner:\n",
      "WARNING:mrjob.job:mr() is deprecated and will be removed in v0.6.0. Use mrjob.step.MRStep directly instead.\n",
      "WARNING:mrjob.job:mr() is deprecated and will be removed in v0.6.0. Use mrjob.step.MRStep directly instead.\n",
      "WARNING:mrjob.job:mr() is deprecated and will be removed in v0.6.0. Use mrjob.step.MRStep directly instead.\n",
      "WARNING:mrjob.job:mr() is deprecated and will be removed in v0.6.0. Use mrjob.step.MRStep directly instead.\n",
      "WARNING:mrjob.job:mr() is deprecated and will be removed in v0.6.0. Use mrjob.step.MRStep directly instead.\n"
     ]
    },
    {
     "name": "stdout",
     "output_type": "stream",
     "text": [
      " [-3.36510454  0.98984415]\n",
      "iteration =20  weights ="
     ]
    },
    {
     "name": "stderr",
     "output_type": "stream",
     "text": [
      "WARNING:mrjob.runner:\n",
      "WARNING:mrjob.runner:PLEASE NOTE: Starting in mrjob v0.5.0, protocols will be strict by default. It's recommended you run your job with --strict-protocols or set up mrjob.conf as described at https://pythonhosted.org/mrjob/whats-new.html#ready-for-strict-protocols\n",
      "WARNING:mrjob.runner:\n",
      "WARNING:mrjob.job:mr() is deprecated and will be removed in v0.6.0. Use mrjob.step.MRStep directly instead.\n",
      "WARNING:mrjob.job:mr() is deprecated and will be removed in v0.6.0. Use mrjob.step.MRStep directly instead.\n",
      "WARNING:mrjob.job:mr() is deprecated and will be removed in v0.6.0. Use mrjob.step.MRStep directly instead.\n",
      "WARNING:mrjob.job:mr() is deprecated and will be removed in v0.6.0. Use mrjob.step.MRStep directly instead.\n",
      "WARNING:mrjob.job:mr() is deprecated and will be removed in v0.6.0. Use mrjob.step.MRStep directly instead.\n"
     ]
    },
    {
     "name": "stdout",
     "output_type": "stream",
     "text": [
      " [-3.3968625   0.99241827]\n",
      "iteration =21  weights ="
     ]
    },
    {
     "name": "stderr",
     "output_type": "stream",
     "text": [
      "WARNING:mrjob.runner:\n",
      "WARNING:mrjob.runner:PLEASE NOTE: Starting in mrjob v0.5.0, protocols will be strict by default. It's recommended you run your job with --strict-protocols or set up mrjob.conf as described at https://pythonhosted.org/mrjob/whats-new.html#ready-for-strict-protocols\n",
      "WARNING:mrjob.runner:\n",
      "WARNING:mrjob.job:mr() is deprecated and will be removed in v0.6.0. Use mrjob.step.MRStep directly instead.\n",
      "WARNING:mrjob.job:mr() is deprecated and will be removed in v0.6.0. Use mrjob.step.MRStep directly instead.\n",
      "WARNING:mrjob.job:mr() is deprecated and will be removed in v0.6.0. Use mrjob.step.MRStep directly instead.\n",
      "WARNING:mrjob.job:mr() is deprecated and will be removed in v0.6.0. Use mrjob.step.MRStep directly instead.\n",
      "WARNING:mrjob.job:mr() is deprecated and will be removed in v0.6.0. Use mrjob.step.MRStep directly instead.\n"
     ]
    },
    {
     "name": "stdout",
     "output_type": "stream",
     "text": [
      " [-3.42703303  0.99431088]\n",
      "iteration =22  weights ="
     ]
    },
    {
     "name": "stderr",
     "output_type": "stream",
     "text": [
      "WARNING:mrjob.runner:\n",
      "WARNING:mrjob.runner:PLEASE NOTE: Starting in mrjob v0.5.0, protocols will be strict by default. It's recommended you run your job with --strict-protocols or set up mrjob.conf as described at https://pythonhosted.org/mrjob/whats-new.html#ready-for-strict-protocols\n",
      "WARNING:mrjob.runner:\n",
      "WARNING:mrjob.job:mr() is deprecated and will be removed in v0.6.0. Use mrjob.step.MRStep directly instead.\n",
      "WARNING:mrjob.job:mr() is deprecated and will be removed in v0.6.0. Use mrjob.step.MRStep directly instead.\n",
      "WARNING:mrjob.job:mr() is deprecated and will be removed in v0.6.0. Use mrjob.step.MRStep directly instead.\n",
      "WARNING:mrjob.job:mr() is deprecated and will be removed in v0.6.0. Use mrjob.step.MRStep directly instead.\n",
      "WARNING:mrjob.job:mr() is deprecated and will be removed in v0.6.0. Use mrjob.step.MRStep directly instead.\n"
     ]
    },
    {
     "name": "stdout",
     "output_type": "stream",
     "text": [
      " [-3.45569538  0.99570366]\n",
      "iteration =23  weights ="
     ]
    },
    {
     "name": "stderr",
     "output_type": "stream",
     "text": [
      "WARNING:mrjob.runner:\n",
      "WARNING:mrjob.runner:PLEASE NOTE: Starting in mrjob v0.5.0, protocols will be strict by default. It's recommended you run your job with --strict-protocols or set up mrjob.conf as described at https://pythonhosted.org/mrjob/whats-new.html#ready-for-strict-protocols\n",
      "WARNING:mrjob.runner:\n",
      "WARNING:mrjob.job:mr() is deprecated and will be removed in v0.6.0. Use mrjob.step.MRStep directly instead.\n",
      "WARNING:mrjob.job:mr() is deprecated and will be removed in v0.6.0. Use mrjob.step.MRStep directly instead.\n",
      "WARNING:mrjob.job:mr() is deprecated and will be removed in v0.6.0. Use mrjob.step.MRStep directly instead.\n",
      "WARNING:mrjob.job:mr() is deprecated and will be removed in v0.6.0. Use mrjob.step.MRStep directly instead.\n",
      "WARNING:mrjob.job:mr() is deprecated and will be removed in v0.6.0. Use mrjob.step.MRStep directly instead.\n"
     ]
    },
    {
     "name": "stdout",
     "output_type": "stream",
     "text": [
      " [-3.48292487  0.9967298 ]\n",
      "iteration =24  weights ="
     ]
    },
    {
     "name": "stderr",
     "output_type": "stream",
     "text": [
      "WARNING:mrjob.runner:\n",
      "WARNING:mrjob.runner:PLEASE NOTE: Starting in mrjob v0.5.0, protocols will be strict by default. It's recommended you run your job with --strict-protocols or set up mrjob.conf as described at https://pythonhosted.org/mrjob/whats-new.html#ready-for-strict-protocols\n",
      "WARNING:mrjob.runner:\n",
      "WARNING:mrjob.job:mr() is deprecated and will be removed in v0.6.0. Use mrjob.step.MRStep directly instead.\n",
      "WARNING:mrjob.job:mr() is deprecated and will be removed in v0.6.0. Use mrjob.step.MRStep directly instead.\n",
      "WARNING:mrjob.job:mr() is deprecated and will be removed in v0.6.0. Use mrjob.step.MRStep directly instead.\n",
      "WARNING:mrjob.job:mr() is deprecated and will be removed in v0.6.0. Use mrjob.step.MRStep directly instead.\n",
      "WARNING:mrjob.job:mr() is deprecated and will be removed in v0.6.0. Use mrjob.step.MRStep directly instead.\n"
     ]
    },
    {
     "name": "stdout",
     "output_type": "stream",
     "text": [
      " [-3.50879308  0.99748694]\n",
      "iteration =25  weights ="
     ]
    },
    {
     "name": "stderr",
     "output_type": "stream",
     "text": [
      "WARNING:mrjob.runner:\n",
      "WARNING:mrjob.runner:PLEASE NOTE: Starting in mrjob v0.5.0, protocols will be strict by default. It's recommended you run your job with --strict-protocols or set up mrjob.conf as described at https://pythonhosted.org/mrjob/whats-new.html#ready-for-strict-protocols\n",
      "WARNING:mrjob.runner:\n",
      "WARNING:mrjob.job:mr() is deprecated and will be removed in v0.6.0. Use mrjob.step.MRStep directly instead.\n",
      "WARNING:mrjob.job:mr() is deprecated and will be removed in v0.6.0. Use mrjob.step.MRStep directly instead.\n",
      "WARNING:mrjob.job:mr() is deprecated and will be removed in v0.6.0. Use mrjob.step.MRStep directly instead.\n",
      "WARNING:mrjob.job:mr() is deprecated and will be removed in v0.6.0. Use mrjob.step.MRStep directly instead.\n",
      "WARNING:mrjob.job:mr() is deprecated and will be removed in v0.6.0. Use mrjob.step.MRStep directly instead.\n"
     ]
    },
    {
     "name": "stdout",
     "output_type": "stream",
     "text": [
      " [-3.53336801  0.99804664]\n",
      "iteration =26  weights ="
     ]
    },
    {
     "name": "stderr",
     "output_type": "stream",
     "text": [
      "WARNING:mrjob.runner:\n",
      "WARNING:mrjob.runner:PLEASE NOTE: Starting in mrjob v0.5.0, protocols will be strict by default. It's recommended you run your job with --strict-protocols or set up mrjob.conf as described at https://pythonhosted.org/mrjob/whats-new.html#ready-for-strict-protocols\n",
      "WARNING:mrjob.runner:\n",
      "WARNING:mrjob.job:mr() is deprecated and will be removed in v0.6.0. Use mrjob.step.MRStep directly instead.\n",
      "WARNING:mrjob.job:mr() is deprecated and will be removed in v0.6.0. Use mrjob.step.MRStep directly instead.\n",
      "WARNING:mrjob.job:mr() is deprecated and will be removed in v0.6.0. Use mrjob.step.MRStep directly instead.\n",
      "WARNING:mrjob.job:mr() is deprecated and will be removed in v0.6.0. Use mrjob.step.MRStep directly instead.\n",
      "WARNING:mrjob.job:mr() is deprecated and will be removed in v0.6.0. Use mrjob.step.MRStep directly instead.\n"
     ]
    },
    {
     "name": "stdout",
     "output_type": "stream",
     "text": [
      " [-3.5567143  0.9984614]\n",
      "iteration =27  weights ="
     ]
    },
    {
     "name": "stderr",
     "output_type": "stream",
     "text": [
      "WARNING:mrjob.runner:\n",
      "WARNING:mrjob.runner:PLEASE NOTE: Starting in mrjob v0.5.0, protocols will be strict by default. It's recommended you run your job with --strict-protocols or set up mrjob.conf as described at https://pythonhosted.org/mrjob/whats-new.html#ready-for-strict-protocols\n",
      "WARNING:mrjob.runner:\n",
      "WARNING:mrjob.job:mr() is deprecated and will be removed in v0.6.0. Use mrjob.step.MRStep directly instead.\n",
      "WARNING:mrjob.job:mr() is deprecated and will be removed in v0.6.0. Use mrjob.step.MRStep directly instead.\n",
      "WARNING:mrjob.job:mr() is deprecated and will be removed in v0.6.0. Use mrjob.step.MRStep directly instead.\n",
      "WARNING:mrjob.job:mr() is deprecated and will be removed in v0.6.0. Use mrjob.step.MRStep directly instead.\n",
      "WARNING:mrjob.job:mr() is deprecated and will be removed in v0.6.0. Use mrjob.step.MRStep directly instead.\n"
     ]
    },
    {
     "name": "stdout",
     "output_type": "stream",
     "text": [
      " [-3.57889335  0.99876968]\n",
      "iteration =28  weights ="
     ]
    },
    {
     "name": "stderr",
     "output_type": "stream",
     "text": [
      "WARNING:mrjob.runner:\n",
      "WARNING:mrjob.runner:PLEASE NOTE: Starting in mrjob v0.5.0, protocols will be strict by default. It's recommended you run your job with --strict-protocols or set up mrjob.conf as described at https://pythonhosted.org/mrjob/whats-new.html#ready-for-strict-protocols\n",
      "WARNING:mrjob.runner:\n",
      "WARNING:mrjob.job:mr() is deprecated and will be removed in v0.6.0. Use mrjob.step.MRStep directly instead.\n",
      "WARNING:mrjob.job:mr() is deprecated and will be removed in v0.6.0. Use mrjob.step.MRStep directly instead.\n",
      "WARNING:mrjob.job:mr() is deprecated and will be removed in v0.6.0. Use mrjob.step.MRStep directly instead.\n",
      "WARNING:mrjob.job:mr() is deprecated and will be removed in v0.6.0. Use mrjob.step.MRStep directly instead.\n",
      "WARNING:mrjob.job:mr() is deprecated and will be removed in v0.6.0. Use mrjob.step.MRStep directly instead.\n"
     ]
    },
    {
     "name": "stdout",
     "output_type": "stream",
     "text": [
      " [-3.5999635  0.9989997]\n",
      "iteration =29  weights ="
     ]
    },
    {
     "name": "stderr",
     "output_type": "stream",
     "text": [
      "WARNING:mrjob.runner:\n",
      "WARNING:mrjob.runner:PLEASE NOTE: Starting in mrjob v0.5.0, protocols will be strict by default. It's recommended you run your job with --strict-protocols or set up mrjob.conf as described at https://pythonhosted.org/mrjob/whats-new.html#ready-for-strict-protocols\n",
      "WARNING:mrjob.runner:\n",
      "WARNING:mrjob.job:mr() is deprecated and will be removed in v0.6.0. Use mrjob.step.MRStep directly instead.\n",
      "WARNING:mrjob.job:mr() is deprecated and will be removed in v0.6.0. Use mrjob.step.MRStep directly instead.\n",
      "WARNING:mrjob.job:mr() is deprecated and will be removed in v0.6.0. Use mrjob.step.MRStep directly instead.\n",
      "WARNING:mrjob.job:mr() is deprecated and will be removed in v0.6.0. Use mrjob.step.MRStep directly instead.\n",
      "WARNING:mrjob.job:mr() is deprecated and will be removed in v0.6.0. Use mrjob.step.MRStep directly instead.\n"
     ]
    },
    {
     "name": "stdout",
     "output_type": "stream",
     "text": [
      " [-3.61998019  0.99917217]\n",
      "iteration =30  weights ="
     ]
    },
    {
     "name": "stderr",
     "output_type": "stream",
     "text": [
      "WARNING:mrjob.runner:\n",
      "WARNING:mrjob.runner:PLEASE NOTE: Starting in mrjob v0.5.0, protocols will be strict by default. It's recommended you run your job with --strict-protocols or set up mrjob.conf as described at https://pythonhosted.org/mrjob/whats-new.html#ready-for-strict-protocols\n",
      "WARNING:mrjob.runner:\n",
      "WARNING:mrjob.job:mr() is deprecated and will be removed in v0.6.0. Use mrjob.step.MRStep directly instead.\n",
      "WARNING:mrjob.job:mr() is deprecated and will be removed in v0.6.0. Use mrjob.step.MRStep directly instead.\n",
      "WARNING:mrjob.job:mr() is deprecated and will be removed in v0.6.0. Use mrjob.step.MRStep directly instead.\n",
      "WARNING:mrjob.job:mr() is deprecated and will be removed in v0.6.0. Use mrjob.step.MRStep directly instead.\n",
      "WARNING:mrjob.job:mr() is deprecated and will be removed in v0.6.0. Use mrjob.step.MRStep directly instead.\n"
     ]
    },
    {
     "name": "stdout",
     "output_type": "stream",
     "text": [
      " [-3.63899607  0.99930224]\n",
      "iteration =31  weights ="
     ]
    },
    {
     "name": "stderr",
     "output_type": "stream",
     "text": [
      "WARNING:mrjob.runner:\n",
      "WARNING:mrjob.runner:PLEASE NOTE: Starting in mrjob v0.5.0, protocols will be strict by default. It's recommended you run your job with --strict-protocols or set up mrjob.conf as described at https://pythonhosted.org/mrjob/whats-new.html#ready-for-strict-protocols\n",
      "WARNING:mrjob.runner:\n",
      "WARNING:mrjob.job:mr() is deprecated and will be removed in v0.6.0. Use mrjob.step.MRStep directly instead.\n",
      "WARNING:mrjob.job:mr() is deprecated and will be removed in v0.6.0. Use mrjob.step.MRStep directly instead.\n",
      "WARNING:mrjob.job:mr() is deprecated and will be removed in v0.6.0. Use mrjob.step.MRStep directly instead.\n",
      "WARNING:mrjob.job:mr() is deprecated and will be removed in v0.6.0. Use mrjob.step.MRStep directly instead.\n",
      "WARNING:mrjob.job:mr() is deprecated and will be removed in v0.6.0. Use mrjob.step.MRStep directly instead.\n"
     ]
    },
    {
     "name": "stdout",
     "output_type": "stream",
     "text": [
      " [-3.65706119  0.99940107]\n",
      "iteration =32  weights ="
     ]
    },
    {
     "name": "stderr",
     "output_type": "stream",
     "text": [
      "WARNING:mrjob.runner:\n",
      "WARNING:mrjob.runner:PLEASE NOTE: Starting in mrjob v0.5.0, protocols will be strict by default. It's recommended you run your job with --strict-protocols or set up mrjob.conf as described at https://pythonhosted.org/mrjob/whats-new.html#ready-for-strict-protocols\n",
      "WARNING:mrjob.runner:\n",
      "WARNING:mrjob.job:mr() is deprecated and will be removed in v0.6.0. Use mrjob.step.MRStep directly instead.\n",
      "WARNING:mrjob.job:mr() is deprecated and will be removed in v0.6.0. Use mrjob.step.MRStep directly instead.\n",
      "WARNING:mrjob.job:mr() is deprecated and will be removed in v0.6.0. Use mrjob.step.MRStep directly instead.\n",
      "WARNING:mrjob.job:mr() is deprecated and will be removed in v0.6.0. Use mrjob.step.MRStep directly instead.\n",
      "WARNING:mrjob.job:mr() is deprecated and will be removed in v0.6.0. Use mrjob.step.MRStep directly instead.\n"
     ]
    },
    {
     "name": "stdout",
     "output_type": "stream",
     "text": [
      " [-3.67422306  0.99947681]\n",
      "iteration =33  weights ="
     ]
    },
    {
     "name": "stderr",
     "output_type": "stream",
     "text": [
      "WARNING:mrjob.runner:\n",
      "WARNING:mrjob.runner:PLEASE NOTE: Starting in mrjob v0.5.0, protocols will be strict by default. It's recommended you run your job with --strict-protocols or set up mrjob.conf as described at https://pythonhosted.org/mrjob/whats-new.html#ready-for-strict-protocols\n",
      "WARNING:mrjob.runner:\n",
      "WARNING:mrjob.job:mr() is deprecated and will be removed in v0.6.0. Use mrjob.step.MRStep directly instead.\n",
      "WARNING:mrjob.job:mr() is deprecated and will be removed in v0.6.0. Use mrjob.step.MRStep directly instead.\n",
      "WARNING:mrjob.job:mr() is deprecated and will be removed in v0.6.0. Use mrjob.step.MRStep directly instead.\n",
      "WARNING:mrjob.job:mr() is deprecated and will be removed in v0.6.0. Use mrjob.step.MRStep directly instead.\n",
      "WARNING:mrjob.job:mr() is deprecated and will be removed in v0.6.0. Use mrjob.step.MRStep directly instead.\n"
     ]
    },
    {
     "name": "stdout",
     "output_type": "stream",
     "text": [
      " [-3.69052686  0.99953547]\n",
      "iteration =34  weights ="
     ]
    },
    {
     "name": "stderr",
     "output_type": "stream",
     "text": [
      "WARNING:mrjob.runner:\n",
      "WARNING:mrjob.runner:PLEASE NOTE: Starting in mrjob v0.5.0, protocols will be strict by default. It's recommended you run your job with --strict-protocols or set up mrjob.conf as described at https://pythonhosted.org/mrjob/whats-new.html#ready-for-strict-protocols\n",
      "WARNING:mrjob.runner:\n",
      "WARNING:mrjob.job:mr() is deprecated and will be removed in v0.6.0. Use mrjob.step.MRStep directly instead.\n",
      "WARNING:mrjob.job:mr() is deprecated and will be removed in v0.6.0. Use mrjob.step.MRStep directly instead.\n",
      "WARNING:mrjob.job:mr() is deprecated and will be removed in v0.6.0. Use mrjob.step.MRStep directly instead.\n",
      "WARNING:mrjob.job:mr() is deprecated and will be removed in v0.6.0. Use mrjob.step.MRStep directly instead.\n",
      "WARNING:mrjob.job:mr() is deprecated and will be removed in v0.6.0. Use mrjob.step.MRStep directly instead.\n"
     ]
    },
    {
     "name": "stdout",
     "output_type": "stream",
     "text": [
      " [-3.70601548  0.99958145]\n",
      "iteration =35  weights ="
     ]
    },
    {
     "name": "stderr",
     "output_type": "stream",
     "text": [
      "WARNING:mrjob.runner:\n",
      "WARNING:mrjob.runner:PLEASE NOTE: Starting in mrjob v0.5.0, protocols will be strict by default. It's recommended you run your job with --strict-protocols or set up mrjob.conf as described at https://pythonhosted.org/mrjob/whats-new.html#ready-for-strict-protocols\n",
      "WARNING:mrjob.runner:\n",
      "WARNING:mrjob.job:mr() is deprecated and will be removed in v0.6.0. Use mrjob.step.MRStep directly instead.\n",
      "WARNING:mrjob.job:mr() is deprecated and will be removed in v0.6.0. Use mrjob.step.MRStep directly instead.\n",
      "WARNING:mrjob.job:mr() is deprecated and will be removed in v0.6.0. Use mrjob.step.MRStep directly instead.\n",
      "WARNING:mrjob.job:mr() is deprecated and will be removed in v0.6.0. Use mrjob.step.MRStep directly instead.\n",
      "WARNING:mrjob.job:mr() is deprecated and will be removed in v0.6.0. Use mrjob.step.MRStep directly instead.\n"
     ]
    },
    {
     "name": "stdout",
     "output_type": "stream",
     "text": [
      " [-3.72072967  0.99961798]\n",
      "iteration =36  weights ="
     ]
    },
    {
     "name": "stderr",
     "output_type": "stream",
     "text": [
      "WARNING:mrjob.runner:\n",
      "WARNING:mrjob.runner:PLEASE NOTE: Starting in mrjob v0.5.0, protocols will be strict by default. It's recommended you run your job with --strict-protocols or set up mrjob.conf as described at https://pythonhosted.org/mrjob/whats-new.html#ready-for-strict-protocols\n",
      "WARNING:mrjob.runner:\n",
      "WARNING:mrjob.job:mr() is deprecated and will be removed in v0.6.0. Use mrjob.step.MRStep directly instead.\n",
      "WARNING:mrjob.job:mr() is deprecated and will be removed in v0.6.0. Use mrjob.step.MRStep directly instead.\n",
      "WARNING:mrjob.job:mr() is deprecated and will be removed in v0.6.0. Use mrjob.step.MRStep directly instead.\n",
      "WARNING:mrjob.job:mr() is deprecated and will be removed in v0.6.0. Use mrjob.step.MRStep directly instead.\n",
      "WARNING:mrjob.job:mr() is deprecated and will be removed in v0.6.0. Use mrjob.step.MRStep directly instead.\n"
     ]
    },
    {
     "name": "stdout",
     "output_type": "stream",
     "text": [
      " [-3.73470817  0.99964746]\n",
      "iteration =37  weights ="
     ]
    },
    {
     "name": "stderr",
     "output_type": "stream",
     "text": [
      "WARNING:mrjob.runner:\n",
      "WARNING:mrjob.runner:PLEASE NOTE: Starting in mrjob v0.5.0, protocols will be strict by default. It's recommended you run your job with --strict-protocols or set up mrjob.conf as described at https://pythonhosted.org/mrjob/whats-new.html#ready-for-strict-protocols\n",
      "WARNING:mrjob.runner:\n",
      "WARNING:mrjob.job:mr() is deprecated and will be removed in v0.6.0. Use mrjob.step.MRStep directly instead.\n",
      "WARNING:mrjob.job:mr() is deprecated and will be removed in v0.6.0. Use mrjob.step.MRStep directly instead.\n",
      "WARNING:mrjob.job:mr() is deprecated and will be removed in v0.6.0. Use mrjob.step.MRStep directly instead.\n",
      "WARNING:mrjob.job:mr() is deprecated and will be removed in v0.6.0. Use mrjob.step.MRStep directly instead.\n",
      "WARNING:mrjob.job:mr() is deprecated and will be removed in v0.6.0. Use mrjob.step.MRStep directly instead.\n"
     ]
    },
    {
     "name": "stdout",
     "output_type": "stream",
     "text": [
      " [-3.74798774  0.99967162]\n",
      "iteration =38  weights ="
     ]
    },
    {
     "name": "stderr",
     "output_type": "stream",
     "text": [
      "WARNING:mrjob.runner:\n",
      "WARNING:mrjob.runner:PLEASE NOTE: Starting in mrjob v0.5.0, protocols will be strict by default. It's recommended you run your job with --strict-protocols or set up mrjob.conf as described at https://pythonhosted.org/mrjob/whats-new.html#ready-for-strict-protocols\n",
      "WARNING:mrjob.runner:\n",
      "WARNING:mrjob.job:mr() is deprecated and will be removed in v0.6.0. Use mrjob.step.MRStep directly instead.\n",
      "WARNING:mrjob.job:mr() is deprecated and will be removed in v0.6.0. Use mrjob.step.MRStep directly instead.\n",
      "WARNING:mrjob.job:mr() is deprecated and will be removed in v0.6.0. Use mrjob.step.MRStep directly instead.\n",
      "WARNING:mrjob.job:mr() is deprecated and will be removed in v0.6.0. Use mrjob.step.MRStep directly instead.\n",
      "WARNING:mrjob.job:mr() is deprecated and will be removed in v0.6.0. Use mrjob.step.MRStep directly instead.\n"
     ]
    },
    {
     "name": "stdout",
     "output_type": "stream",
     "text": [
      " [-3.76060334  0.99969176]\n",
      "iteration =39  weights ="
     ]
    },
    {
     "name": "stderr",
     "output_type": "stream",
     "text": [
      "WARNING:mrjob.runner:\n",
      "WARNING:mrjob.runner:PLEASE NOTE: Starting in mrjob v0.5.0, protocols will be strict by default. It's recommended you run your job with --strict-protocols or set up mrjob.conf as described at https://pythonhosted.org/mrjob/whats-new.html#ready-for-strict-protocols\n",
      "WARNING:mrjob.runner:\n",
      "WARNING:mrjob.job:mr() is deprecated and will be removed in v0.6.0. Use mrjob.step.MRStep directly instead.\n",
      "WARNING:mrjob.job:mr() is deprecated and will be removed in v0.6.0. Use mrjob.step.MRStep directly instead.\n",
      "WARNING:mrjob.job:mr() is deprecated and will be removed in v0.6.0. Use mrjob.step.MRStep directly instead.\n",
      "WARNING:mrjob.job:mr() is deprecated and will be removed in v0.6.0. Use mrjob.step.MRStep directly instead.\n",
      "WARNING:mrjob.job:mr() is deprecated and will be removed in v0.6.0. Use mrjob.step.MRStep directly instead.\n"
     ]
    },
    {
     "name": "stdout",
     "output_type": "stream",
     "text": [
      " [-3.77258816  0.99970883]\n",
      "iteration =40  weights ="
     ]
    },
    {
     "name": "stderr",
     "output_type": "stream",
     "text": [
      "WARNING:mrjob.runner:\n",
      "WARNING:mrjob.runner:PLEASE NOTE: Starting in mrjob v0.5.0, protocols will be strict by default. It's recommended you run your job with --strict-protocols or set up mrjob.conf as described at https://pythonhosted.org/mrjob/whats-new.html#ready-for-strict-protocols\n",
      "WARNING:mrjob.runner:\n",
      "WARNING:mrjob.job:mr() is deprecated and will be removed in v0.6.0. Use mrjob.step.MRStep directly instead.\n",
      "WARNING:mrjob.job:mr() is deprecated and will be removed in v0.6.0. Use mrjob.step.MRStep directly instead.\n",
      "WARNING:mrjob.job:mr() is deprecated and will be removed in v0.6.0. Use mrjob.step.MRStep directly instead.\n",
      "WARNING:mrjob.job:mr() is deprecated and will be removed in v0.6.0. Use mrjob.step.MRStep directly instead.\n",
      "WARNING:mrjob.job:mr() is deprecated and will be removed in v0.6.0. Use mrjob.step.MRStep directly instead.\n"
     ]
    },
    {
     "name": "stdout",
     "output_type": "stream",
     "text": [
      " [-3.78397375  0.99972354]\n",
      "iteration =41  weights ="
     ]
    },
    {
     "name": "stderr",
     "output_type": "stream",
     "text": [
      "WARNING:mrjob.runner:\n",
      "WARNING:mrjob.runner:PLEASE NOTE: Starting in mrjob v0.5.0, protocols will be strict by default. It's recommended you run your job with --strict-protocols or set up mrjob.conf as described at https://pythonhosted.org/mrjob/whats-new.html#ready-for-strict-protocols\n",
      "WARNING:mrjob.runner:\n",
      "WARNING:mrjob.job:mr() is deprecated and will be removed in v0.6.0. Use mrjob.step.MRStep directly instead.\n",
      "WARNING:mrjob.job:mr() is deprecated and will be removed in v0.6.0. Use mrjob.step.MRStep directly instead.\n",
      "WARNING:mrjob.job:mr() is deprecated and will be removed in v0.6.0. Use mrjob.step.MRStep directly instead.\n",
      "WARNING:mrjob.job:mr() is deprecated and will be removed in v0.6.0. Use mrjob.step.MRStep directly instead.\n",
      "WARNING:mrjob.job:mr() is deprecated and will be removed in v0.6.0. Use mrjob.step.MRStep directly instead.\n"
     ]
    },
    {
     "name": "stdout",
     "output_type": "stream",
     "text": [
      " [-3.79479005  0.9997364 ]\n",
      "iteration =42  weights ="
     ]
    },
    {
     "name": "stderr",
     "output_type": "stream",
     "text": [
      "WARNING:mrjob.runner:\n",
      "WARNING:mrjob.runner:PLEASE NOTE: Starting in mrjob v0.5.0, protocols will be strict by default. It's recommended you run your job with --strict-protocols or set up mrjob.conf as described at https://pythonhosted.org/mrjob/whats-new.html#ready-for-strict-protocols\n",
      "WARNING:mrjob.runner:\n",
      "WARNING:mrjob.job:mr() is deprecated and will be removed in v0.6.0. Use mrjob.step.MRStep directly instead.\n",
      "WARNING:mrjob.job:mr() is deprecated and will be removed in v0.6.0. Use mrjob.step.MRStep directly instead.\n",
      "WARNING:mrjob.job:mr() is deprecated and will be removed in v0.6.0. Use mrjob.step.MRStep directly instead.\n",
      "WARNING:mrjob.job:mr() is deprecated and will be removed in v0.6.0. Use mrjob.step.MRStep directly instead.\n",
      "WARNING:mrjob.job:mr() is deprecated and will be removed in v0.6.0. Use mrjob.step.MRStep directly instead.\n"
     ]
    },
    {
     "name": "stdout",
     "output_type": "stream",
     "text": [
      " [-3.80506555  0.99974781]\n",
      "iteration =43  weights ="
     ]
    },
    {
     "name": "stderr",
     "output_type": "stream",
     "text": [
      "WARNING:mrjob.runner:\n",
      "WARNING:mrjob.runner:PLEASE NOTE: Starting in mrjob v0.5.0, protocols will be strict by default. It's recommended you run your job with --strict-protocols or set up mrjob.conf as described at https://pythonhosted.org/mrjob/whats-new.html#ready-for-strict-protocols\n",
      "WARNING:mrjob.runner:\n",
      "WARNING:mrjob.job:mr() is deprecated and will be removed in v0.6.0. Use mrjob.step.MRStep directly instead.\n",
      "WARNING:mrjob.job:mr() is deprecated and will be removed in v0.6.0. Use mrjob.step.MRStep directly instead.\n",
      "WARNING:mrjob.job:mr() is deprecated and will be removed in v0.6.0. Use mrjob.step.MRStep directly instead.\n",
      "WARNING:mrjob.job:mr() is deprecated and will be removed in v0.6.0. Use mrjob.step.MRStep directly instead.\n",
      "WARNING:mrjob.job:mr() is deprecated and will be removed in v0.6.0. Use mrjob.step.MRStep directly instead.\n"
     ]
    },
    {
     "name": "stdout",
     "output_type": "stream",
     "text": [
      " [-3.81482727  0.99975805]\n",
      "iteration =44  weights ="
     ]
    },
    {
     "name": "stderr",
     "output_type": "stream",
     "text": [
      "WARNING:mrjob.runner:\n",
      "WARNING:mrjob.runner:PLEASE NOTE: Starting in mrjob v0.5.0, protocols will be strict by default. It's recommended you run your job with --strict-protocols or set up mrjob.conf as described at https://pythonhosted.org/mrjob/whats-new.html#ready-for-strict-protocols\n",
      "WARNING:mrjob.runner:\n",
      "WARNING:mrjob.job:mr() is deprecated and will be removed in v0.6.0. Use mrjob.step.MRStep directly instead.\n",
      "WARNING:mrjob.job:mr() is deprecated and will be removed in v0.6.0. Use mrjob.step.MRStep directly instead.\n",
      "WARNING:mrjob.job:mr() is deprecated and will be removed in v0.6.0. Use mrjob.step.MRStep directly instead.\n",
      "WARNING:mrjob.job:mr() is deprecated and will be removed in v0.6.0. Use mrjob.step.MRStep directly instead.\n",
      "WARNING:mrjob.job:mr() is deprecated and will be removed in v0.6.0. Use mrjob.step.MRStep directly instead.\n"
     ]
    },
    {
     "name": "stdout",
     "output_type": "stream",
     "text": [
      " [-3.82410091  0.99976734]\n",
      "iteration =45  weights ="
     ]
    },
    {
     "name": "stderr",
     "output_type": "stream",
     "text": [
      "WARNING:mrjob.runner:\n",
      "WARNING:mrjob.runner:PLEASE NOTE: Starting in mrjob v0.5.0, protocols will be strict by default. It's recommended you run your job with --strict-protocols or set up mrjob.conf as described at https://pythonhosted.org/mrjob/whats-new.html#ready-for-strict-protocols\n",
      "WARNING:mrjob.runner:\n",
      "WARNING:mrjob.job:mr() is deprecated and will be removed in v0.6.0. Use mrjob.step.MRStep directly instead.\n",
      "WARNING:mrjob.job:mr() is deprecated and will be removed in v0.6.0. Use mrjob.step.MRStep directly instead.\n",
      "WARNING:mrjob.job:mr() is deprecated and will be removed in v0.6.0. Use mrjob.step.MRStep directly instead.\n",
      "WARNING:mrjob.job:mr() is deprecated and will be removed in v0.6.0. Use mrjob.step.MRStep directly instead.\n",
      "WARNING:mrjob.job:mr() is deprecated and will be removed in v0.6.0. Use mrjob.step.MRStep directly instead.\n"
     ]
    },
    {
     "name": "stdout",
     "output_type": "stream",
     "text": [
      " [-3.83291087  0.99977585]\n",
      "iteration =46  weights ="
     ]
    },
    {
     "name": "stderr",
     "output_type": "stream",
     "text": [
      "WARNING:mrjob.runner:\n",
      "WARNING:mrjob.runner:PLEASE NOTE: Starting in mrjob v0.5.0, protocols will be strict by default. It's recommended you run your job with --strict-protocols or set up mrjob.conf as described at https://pythonhosted.org/mrjob/whats-new.html#ready-for-strict-protocols\n",
      "WARNING:mrjob.runner:\n",
      "WARNING:mrjob.job:mr() is deprecated and will be removed in v0.6.0. Use mrjob.step.MRStep directly instead.\n",
      "WARNING:mrjob.job:mr() is deprecated and will be removed in v0.6.0. Use mrjob.step.MRStep directly instead.\n",
      "WARNING:mrjob.job:mr() is deprecated and will be removed in v0.6.0. Use mrjob.step.MRStep directly instead.\n",
      "WARNING:mrjob.job:mr() is deprecated and will be removed in v0.6.0. Use mrjob.step.MRStep directly instead.\n",
      "WARNING:mrjob.job:mr() is deprecated and will be removed in v0.6.0. Use mrjob.step.MRStep directly instead.\n"
     ]
    },
    {
     "name": "stdout",
     "output_type": "stream",
     "text": [
      " [-3.84128033  0.9997837 ]\n",
      "iteration =47  weights ="
     ]
    },
    {
     "name": "stderr",
     "output_type": "stream",
     "text": [
      "WARNING:mrjob.runner:\n",
      "WARNING:mrjob.runner:PLEASE NOTE: Starting in mrjob v0.5.0, protocols will be strict by default. It's recommended you run your job with --strict-protocols or set up mrjob.conf as described at https://pythonhosted.org/mrjob/whats-new.html#ready-for-strict-protocols\n",
      "WARNING:mrjob.runner:\n",
      "WARNING:mrjob.job:mr() is deprecated and will be removed in v0.6.0. Use mrjob.step.MRStep directly instead.\n",
      "WARNING:mrjob.job:mr() is deprecated and will be removed in v0.6.0. Use mrjob.step.MRStep directly instead.\n",
      "WARNING:mrjob.job:mr() is deprecated and will be removed in v0.6.0. Use mrjob.step.MRStep directly instead.\n",
      "WARNING:mrjob.job:mr() is deprecated and will be removed in v0.6.0. Use mrjob.step.MRStep directly instead.\n",
      "WARNING:mrjob.job:mr() is deprecated and will be removed in v0.6.0. Use mrjob.step.MRStep directly instead.\n"
     ]
    },
    {
     "name": "stdout",
     "output_type": "stream",
     "text": [
      " [-3.84923132  0.99979099]\n",
      "iteration =48  weights ="
     ]
    },
    {
     "name": "stderr",
     "output_type": "stream",
     "text": [
      "WARNING:mrjob.runner:\n",
      "WARNING:mrjob.runner:PLEASE NOTE: Starting in mrjob v0.5.0, protocols will be strict by default. It's recommended you run your job with --strict-protocols or set up mrjob.conf as described at https://pythonhosted.org/mrjob/whats-new.html#ready-for-strict-protocols\n",
      "WARNING:mrjob.runner:\n",
      "WARNING:mrjob.job:mr() is deprecated and will be removed in v0.6.0. Use mrjob.step.MRStep directly instead.\n",
      "WARNING:mrjob.job:mr() is deprecated and will be removed in v0.6.0. Use mrjob.step.MRStep directly instead.\n",
      "WARNING:mrjob.job:mr() is deprecated and will be removed in v0.6.0. Use mrjob.step.MRStep directly instead.\n",
      "WARNING:mrjob.job:mr() is deprecated and will be removed in v0.6.0. Use mrjob.step.MRStep directly instead.\n",
      "WARNING:mrjob.job:mr() is deprecated and will be removed in v0.6.0. Use mrjob.step.MRStep directly instead.\n"
     ]
    },
    {
     "name": "stdout",
     "output_type": "stream",
     "text": [
      " [-3.85678476  0.99979778]\n",
      "iteration =49  weights ="
     ]
    },
    {
     "name": "stderr",
     "output_type": "stream",
     "text": [
      "WARNING:mrjob.runner:\n",
      "WARNING:mrjob.runner:PLEASE NOTE: Starting in mrjob v0.5.0, protocols will be strict by default. It's recommended you run your job with --strict-protocols or set up mrjob.conf as described at https://pythonhosted.org/mrjob/whats-new.html#ready-for-strict-protocols\n",
      "WARNING:mrjob.runner:\n",
      "WARNING:mrjob.job:mr() is deprecated and will be removed in v0.6.0. Use mrjob.step.MRStep directly instead.\n",
      "WARNING:mrjob.job:mr() is deprecated and will be removed in v0.6.0. Use mrjob.step.MRStep directly instead.\n",
      "WARNING:mrjob.job:mr() is deprecated and will be removed in v0.6.0. Use mrjob.step.MRStep directly instead.\n",
      "WARNING:mrjob.job:mr() is deprecated and will be removed in v0.6.0. Use mrjob.step.MRStep directly instead.\n",
      "WARNING:mrjob.job:mr() is deprecated and will be removed in v0.6.0. Use mrjob.step.MRStep directly instead.\n"
     ]
    },
    {
     "name": "stdout",
     "output_type": "stream",
     "text": [
      " [-3.86396053  0.99980414]\n",
      "iteration =50  weights ="
     ]
    },
    {
     "name": "stderr",
     "output_type": "stream",
     "text": [
      "WARNING:mrjob.runner:\n",
      "WARNING:mrjob.runner:PLEASE NOTE: Starting in mrjob v0.5.0, protocols will be strict by default. It's recommended you run your job with --strict-protocols or set up mrjob.conf as described at https://pythonhosted.org/mrjob/whats-new.html#ready-for-strict-protocols\n",
      "WARNING:mrjob.runner:\n",
      "WARNING:mrjob.job:mr() is deprecated and will be removed in v0.6.0. Use mrjob.step.MRStep directly instead.\n",
      "WARNING:mrjob.job:mr() is deprecated and will be removed in v0.6.0. Use mrjob.step.MRStep directly instead.\n",
      "WARNING:mrjob.job:mr() is deprecated and will be removed in v0.6.0. Use mrjob.step.MRStep directly instead.\n",
      "WARNING:mrjob.job:mr() is deprecated and will be removed in v0.6.0. Use mrjob.step.MRStep directly instead.\n",
      "WARNING:mrjob.job:mr() is deprecated and will be removed in v0.6.0. Use mrjob.step.MRStep directly instead.\n"
     ]
    },
    {
     "name": "stdout",
     "output_type": "stream",
     "text": [
      " [-3.87077751  0.99981012]\n",
      "iteration =51  weights ="
     ]
    },
    {
     "name": "stderr",
     "output_type": "stream",
     "text": [
      "WARNING:mrjob.runner:\n",
      "WARNING:mrjob.runner:PLEASE NOTE: Starting in mrjob v0.5.0, protocols will be strict by default. It's recommended you run your job with --strict-protocols or set up mrjob.conf as described at https://pythonhosted.org/mrjob/whats-new.html#ready-for-strict-protocols\n",
      "WARNING:mrjob.runner:\n",
      "WARNING:mrjob.job:mr() is deprecated and will be removed in v0.6.0. Use mrjob.step.MRStep directly instead.\n",
      "WARNING:mrjob.job:mr() is deprecated and will be removed in v0.6.0. Use mrjob.step.MRStep directly instead.\n",
      "WARNING:mrjob.job:mr() is deprecated and will be removed in v0.6.0. Use mrjob.step.MRStep directly instead.\n",
      "WARNING:mrjob.job:mr() is deprecated and will be removed in v0.6.0. Use mrjob.step.MRStep directly instead.\n",
      "WARNING:mrjob.job:mr() is deprecated and will be removed in v0.6.0. Use mrjob.step.MRStep directly instead.\n"
     ]
    },
    {
     "name": "stdout",
     "output_type": "stream",
     "text": [
      " [-3.87725365  0.99981575]\n",
      "iteration =52  weights ="
     ]
    },
    {
     "name": "stderr",
     "output_type": "stream",
     "text": [
      "WARNING:mrjob.runner:\n",
      "WARNING:mrjob.runner:PLEASE NOTE: Starting in mrjob v0.5.0, protocols will be strict by default. It's recommended you run your job with --strict-protocols or set up mrjob.conf as described at https://pythonhosted.org/mrjob/whats-new.html#ready-for-strict-protocols\n",
      "WARNING:mrjob.runner:\n",
      "WARNING:mrjob.job:mr() is deprecated and will be removed in v0.6.0. Use mrjob.step.MRStep directly instead.\n",
      "WARNING:mrjob.job:mr() is deprecated and will be removed in v0.6.0. Use mrjob.step.MRStep directly instead.\n",
      "WARNING:mrjob.job:mr() is deprecated and will be removed in v0.6.0. Use mrjob.step.MRStep directly instead.\n",
      "WARNING:mrjob.job:mr() is deprecated and will be removed in v0.6.0. Use mrjob.step.MRStep directly instead.\n",
      "WARNING:mrjob.job:mr() is deprecated and will be removed in v0.6.0. Use mrjob.step.MRStep directly instead.\n"
     ]
    },
    {
     "name": "stdout",
     "output_type": "stream",
     "text": [
      " [-3.88340598  0.99982106]\n",
      "iteration =53  weights ="
     ]
    },
    {
     "name": "stderr",
     "output_type": "stream",
     "text": [
      "WARNING:mrjob.runner:\n",
      "WARNING:mrjob.runner:PLEASE NOTE: Starting in mrjob v0.5.0, protocols will be strict by default. It's recommended you run your job with --strict-protocols or set up mrjob.conf as described at https://pythonhosted.org/mrjob/whats-new.html#ready-for-strict-protocols\n",
      "WARNING:mrjob.runner:\n",
      "WARNING:mrjob.job:mr() is deprecated and will be removed in v0.6.0. Use mrjob.step.MRStep directly instead.\n",
      "WARNING:mrjob.job:mr() is deprecated and will be removed in v0.6.0. Use mrjob.step.MRStep directly instead.\n",
      "WARNING:mrjob.job:mr() is deprecated and will be removed in v0.6.0. Use mrjob.step.MRStep directly instead.\n",
      "WARNING:mrjob.job:mr() is deprecated and will be removed in v0.6.0. Use mrjob.step.MRStep directly instead.\n",
      "WARNING:mrjob.job:mr() is deprecated and will be removed in v0.6.0. Use mrjob.step.MRStep directly instead.\n"
     ]
    },
    {
     "name": "stdout",
     "output_type": "stream",
     "text": [
      " [-3.88925069  0.99982608]\n",
      "iteration =54  weights ="
     ]
    },
    {
     "name": "stderr",
     "output_type": "stream",
     "text": [
      "WARNING:mrjob.runner:\n",
      "WARNING:mrjob.runner:PLEASE NOTE: Starting in mrjob v0.5.0, protocols will be strict by default. It's recommended you run your job with --strict-protocols or set up mrjob.conf as described at https://pythonhosted.org/mrjob/whats-new.html#ready-for-strict-protocols\n",
      "WARNING:mrjob.runner:\n",
      "WARNING:mrjob.job:mr() is deprecated and will be removed in v0.6.0. Use mrjob.step.MRStep directly instead.\n",
      "WARNING:mrjob.job:mr() is deprecated and will be removed in v0.6.0. Use mrjob.step.MRStep directly instead.\n",
      "WARNING:mrjob.job:mr() is deprecated and will be removed in v0.6.0. Use mrjob.step.MRStep directly instead.\n",
      "WARNING:mrjob.job:mr() is deprecated and will be removed in v0.6.0. Use mrjob.step.MRStep directly instead.\n",
      "WARNING:mrjob.job:mr() is deprecated and will be removed in v0.6.0. Use mrjob.step.MRStep directly instead.\n"
     ]
    },
    {
     "name": "stdout",
     "output_type": "stream",
     "text": [
      " [-3.89480317  0.99983082]\n",
      "iteration =55  weights ="
     ]
    },
    {
     "name": "stderr",
     "output_type": "stream",
     "text": [
      "WARNING:mrjob.runner:\n",
      "WARNING:mrjob.runner:PLEASE NOTE: Starting in mrjob v0.5.0, protocols will be strict by default. It's recommended you run your job with --strict-protocols or set up mrjob.conf as described at https://pythonhosted.org/mrjob/whats-new.html#ready-for-strict-protocols\n",
      "WARNING:mrjob.runner:\n",
      "WARNING:mrjob.job:mr() is deprecated and will be removed in v0.6.0. Use mrjob.step.MRStep directly instead.\n",
      "WARNING:mrjob.job:mr() is deprecated and will be removed in v0.6.0. Use mrjob.step.MRStep directly instead.\n",
      "WARNING:mrjob.job:mr() is deprecated and will be removed in v0.6.0. Use mrjob.step.MRStep directly instead.\n",
      "WARNING:mrjob.job:mr() is deprecated and will be removed in v0.6.0. Use mrjob.step.MRStep directly instead.\n",
      "WARNING:mrjob.job:mr() is deprecated and will be removed in v0.6.0. Use mrjob.step.MRStep directly instead.\n"
     ]
    },
    {
     "name": "stdout",
     "output_type": "stream",
     "text": [
      " [-3.90007803  0.99983532]\n",
      "iteration =56  weights ="
     ]
    },
    {
     "name": "stderr",
     "output_type": "stream",
     "text": [
      "WARNING:mrjob.runner:\n",
      "WARNING:mrjob.runner:PLEASE NOTE: Starting in mrjob v0.5.0, protocols will be strict by default. It's recommended you run your job with --strict-protocols or set up mrjob.conf as described at https://pythonhosted.org/mrjob/whats-new.html#ready-for-strict-protocols\n",
      "WARNING:mrjob.runner:\n",
      "WARNING:mrjob.job:mr() is deprecated and will be removed in v0.6.0. Use mrjob.step.MRStep directly instead.\n",
      "WARNING:mrjob.job:mr() is deprecated and will be removed in v0.6.0. Use mrjob.step.MRStep directly instead.\n",
      "WARNING:mrjob.job:mr() is deprecated and will be removed in v0.6.0. Use mrjob.step.MRStep directly instead.\n",
      "WARNING:mrjob.job:mr() is deprecated and will be removed in v0.6.0. Use mrjob.step.MRStep directly instead.\n",
      "WARNING:mrjob.job:mr() is deprecated and will be removed in v0.6.0. Use mrjob.step.MRStep directly instead.\n"
     ]
    },
    {
     "name": "stdout",
     "output_type": "stream",
     "text": [
      " [-3.90508914  0.99983958]\n",
      "iteration =57  weights ="
     ]
    },
    {
     "name": "stderr",
     "output_type": "stream",
     "text": [
      "WARNING:mrjob.runner:\n",
      "WARNING:mrjob.runner:PLEASE NOTE: Starting in mrjob v0.5.0, protocols will be strict by default. It's recommended you run your job with --strict-protocols or set up mrjob.conf as described at https://pythonhosted.org/mrjob/whats-new.html#ready-for-strict-protocols\n",
      "WARNING:mrjob.runner:\n",
      "WARNING:mrjob.job:mr() is deprecated and will be removed in v0.6.0. Use mrjob.step.MRStep directly instead.\n",
      "WARNING:mrjob.job:mr() is deprecated and will be removed in v0.6.0. Use mrjob.step.MRStep directly instead.\n",
      "WARNING:mrjob.job:mr() is deprecated and will be removed in v0.6.0. Use mrjob.step.MRStep directly instead.\n",
      "WARNING:mrjob.job:mr() is deprecated and will be removed in v0.6.0. Use mrjob.step.MRStep directly instead.\n",
      "WARNING:mrjob.job:mr() is deprecated and will be removed in v0.6.0. Use mrjob.step.MRStep directly instead.\n"
     ]
    },
    {
     "name": "stdout",
     "output_type": "stream",
     "text": [
      " [-3.9098497   0.99984362]\n",
      "iteration =58  weights ="
     ]
    },
    {
     "name": "stderr",
     "output_type": "stream",
     "text": [
      "WARNING:mrjob.runner:\n",
      "WARNING:mrjob.runner:PLEASE NOTE: Starting in mrjob v0.5.0, protocols will be strict by default. It's recommended you run your job with --strict-protocols or set up mrjob.conf as described at https://pythonhosted.org/mrjob/whats-new.html#ready-for-strict-protocols\n",
      "WARNING:mrjob.runner:\n",
      "WARNING:mrjob.job:mr() is deprecated and will be removed in v0.6.0. Use mrjob.step.MRStep directly instead.\n",
      "WARNING:mrjob.job:mr() is deprecated and will be removed in v0.6.0. Use mrjob.step.MRStep directly instead.\n",
      "WARNING:mrjob.job:mr() is deprecated and will be removed in v0.6.0. Use mrjob.step.MRStep directly instead.\n",
      "WARNING:mrjob.job:mr() is deprecated and will be removed in v0.6.0. Use mrjob.step.MRStep directly instead.\n",
      "WARNING:mrjob.job:mr() is deprecated and will be removed in v0.6.0. Use mrjob.step.MRStep directly instead.\n"
     ]
    },
    {
     "name": "stdout",
     "output_type": "stream",
     "text": [
      " [-3.91437223  0.99984745]\n",
      "iteration =59  weights ="
     ]
    },
    {
     "name": "stderr",
     "output_type": "stream",
     "text": [
      "WARNING:mrjob.runner:\n",
      "WARNING:mrjob.runner:PLEASE NOTE: Starting in mrjob v0.5.0, protocols will be strict by default. It's recommended you run your job with --strict-protocols or set up mrjob.conf as described at https://pythonhosted.org/mrjob/whats-new.html#ready-for-strict-protocols\n",
      "WARNING:mrjob.runner:\n",
      "WARNING:mrjob.job:mr() is deprecated and will be removed in v0.6.0. Use mrjob.step.MRStep directly instead.\n",
      "WARNING:mrjob.job:mr() is deprecated and will be removed in v0.6.0. Use mrjob.step.MRStep directly instead.\n",
      "WARNING:mrjob.job:mr() is deprecated and will be removed in v0.6.0. Use mrjob.step.MRStep directly instead.\n",
      "WARNING:mrjob.job:mr() is deprecated and will be removed in v0.6.0. Use mrjob.step.MRStep directly instead.\n",
      "WARNING:mrjob.job:mr() is deprecated and will be removed in v0.6.0. Use mrjob.step.MRStep directly instead.\n"
     ]
    },
    {
     "name": "stdout",
     "output_type": "stream",
     "text": [
      " [-3.91866864  0.99985109]\n",
      "iteration =60  weights ="
     ]
    },
    {
     "name": "stderr",
     "output_type": "stream",
     "text": [
      "WARNING:mrjob.runner:\n",
      "WARNING:mrjob.runner:PLEASE NOTE: Starting in mrjob v0.5.0, protocols will be strict by default. It's recommended you run your job with --strict-protocols or set up mrjob.conf as described at https://pythonhosted.org/mrjob/whats-new.html#ready-for-strict-protocols\n",
      "WARNING:mrjob.runner:\n",
      "WARNING:mrjob.job:mr() is deprecated and will be removed in v0.6.0. Use mrjob.step.MRStep directly instead.\n",
      "WARNING:mrjob.job:mr() is deprecated and will be removed in v0.6.0. Use mrjob.step.MRStep directly instead.\n",
      "WARNING:mrjob.job:mr() is deprecated and will be removed in v0.6.0. Use mrjob.step.MRStep directly instead.\n",
      "WARNING:mrjob.job:mr() is deprecated and will be removed in v0.6.0. Use mrjob.step.MRStep directly instead.\n",
      "WARNING:mrjob.job:mr() is deprecated and will be removed in v0.6.0. Use mrjob.step.MRStep directly instead.\n"
     ]
    },
    {
     "name": "stdout",
     "output_type": "stream",
     "text": [
      " [-3.92275023  0.99985454]\n",
      "iteration =61  weights ="
     ]
    },
    {
     "name": "stderr",
     "output_type": "stream",
     "text": [
      "WARNING:mrjob.runner:\n",
      "WARNING:mrjob.runner:PLEASE NOTE: Starting in mrjob v0.5.0, protocols will be strict by default. It's recommended you run your job with --strict-protocols or set up mrjob.conf as described at https://pythonhosted.org/mrjob/whats-new.html#ready-for-strict-protocols\n",
      "WARNING:mrjob.runner:\n",
      "WARNING:mrjob.job:mr() is deprecated and will be removed in v0.6.0. Use mrjob.step.MRStep directly instead.\n",
      "WARNING:mrjob.job:mr() is deprecated and will be removed in v0.6.0. Use mrjob.step.MRStep directly instead.\n",
      "WARNING:mrjob.job:mr() is deprecated and will be removed in v0.6.0. Use mrjob.step.MRStep directly instead.\n",
      "WARNING:mrjob.job:mr() is deprecated and will be removed in v0.6.0. Use mrjob.step.MRStep directly instead.\n",
      "WARNING:mrjob.job:mr() is deprecated and will be removed in v0.6.0. Use mrjob.step.MRStep directly instead.\n"
     ]
    },
    {
     "name": "stdout",
     "output_type": "stream",
     "text": [
      " [-3.92662774  0.99985782]\n",
      "iteration =62  weights ="
     ]
    },
    {
     "name": "stderr",
     "output_type": "stream",
     "text": [
      "WARNING:mrjob.runner:\n",
      "WARNING:mrjob.runner:PLEASE NOTE: Starting in mrjob v0.5.0, protocols will be strict by default. It's recommended you run your job with --strict-protocols or set up mrjob.conf as described at https://pythonhosted.org/mrjob/whats-new.html#ready-for-strict-protocols\n",
      "WARNING:mrjob.runner:\n",
      "WARNING:mrjob.job:mr() is deprecated and will be removed in v0.6.0. Use mrjob.step.MRStep directly instead.\n",
      "WARNING:mrjob.job:mr() is deprecated and will be removed in v0.6.0. Use mrjob.step.MRStep directly instead.\n",
      "WARNING:mrjob.job:mr() is deprecated and will be removed in v0.6.0. Use mrjob.step.MRStep directly instead.\n",
      "WARNING:mrjob.job:mr() is deprecated and will be removed in v0.6.0. Use mrjob.step.MRStep directly instead.\n",
      "WARNING:mrjob.job:mr() is deprecated and will be removed in v0.6.0. Use mrjob.step.MRStep directly instead.\n"
     ]
    },
    {
     "name": "stdout",
     "output_type": "stream",
     "text": [
      " [-3.93031137  0.99986093]\n",
      "iteration =63  weights ="
     ]
    },
    {
     "name": "stderr",
     "output_type": "stream",
     "text": [
      "WARNING:mrjob.runner:\n",
      "WARNING:mrjob.runner:PLEASE NOTE: Starting in mrjob v0.5.0, protocols will be strict by default. It's recommended you run your job with --strict-protocols or set up mrjob.conf as described at https://pythonhosted.org/mrjob/whats-new.html#ready-for-strict-protocols\n",
      "WARNING:mrjob.runner:\n",
      "WARNING:mrjob.job:mr() is deprecated and will be removed in v0.6.0. Use mrjob.step.MRStep directly instead.\n",
      "WARNING:mrjob.job:mr() is deprecated and will be removed in v0.6.0. Use mrjob.step.MRStep directly instead.\n",
      "WARNING:mrjob.job:mr() is deprecated and will be removed in v0.6.0. Use mrjob.step.MRStep directly instead.\n",
      "WARNING:mrjob.job:mr() is deprecated and will be removed in v0.6.0. Use mrjob.step.MRStep directly instead.\n",
      "WARNING:mrjob.job:mr() is deprecated and will be removed in v0.6.0. Use mrjob.step.MRStep directly instead.\n"
     ]
    },
    {
     "name": "stdout",
     "output_type": "stream",
     "text": [
      " [-3.93381082  0.99986389]\n",
      "iteration =64  weights ="
     ]
    },
    {
     "name": "stderr",
     "output_type": "stream",
     "text": [
      "WARNING:mrjob.runner:\n",
      "WARNING:mrjob.runner:PLEASE NOTE: Starting in mrjob v0.5.0, protocols will be strict by default. It's recommended you run your job with --strict-protocols or set up mrjob.conf as described at https://pythonhosted.org/mrjob/whats-new.html#ready-for-strict-protocols\n",
      "WARNING:mrjob.runner:\n",
      "WARNING:mrjob.job:mr() is deprecated and will be removed in v0.6.0. Use mrjob.step.MRStep directly instead.\n",
      "WARNING:mrjob.job:mr() is deprecated and will be removed in v0.6.0. Use mrjob.step.MRStep directly instead.\n",
      "WARNING:mrjob.job:mr() is deprecated and will be removed in v0.6.0. Use mrjob.step.MRStep directly instead.\n",
      "WARNING:mrjob.job:mr() is deprecated and will be removed in v0.6.0. Use mrjob.step.MRStep directly instead.\n",
      "WARNING:mrjob.job:mr() is deprecated and will be removed in v0.6.0. Use mrjob.step.MRStep directly instead.\n"
     ]
    },
    {
     "name": "stdout",
     "output_type": "stream",
     "text": [
      " [-3.9371353   0.99986669]\n",
      "iteration =65  weights ="
     ]
    },
    {
     "name": "stderr",
     "output_type": "stream",
     "text": [
      "WARNING:mrjob.runner:\n",
      "WARNING:mrjob.runner:PLEASE NOTE: Starting in mrjob v0.5.0, protocols will be strict by default. It's recommended you run your job with --strict-protocols or set up mrjob.conf as described at https://pythonhosted.org/mrjob/whats-new.html#ready-for-strict-protocols\n",
      "WARNING:mrjob.runner:\n",
      "WARNING:mrjob.job:mr() is deprecated and will be removed in v0.6.0. Use mrjob.step.MRStep directly instead.\n",
      "WARNING:mrjob.job:mr() is deprecated and will be removed in v0.6.0. Use mrjob.step.MRStep directly instead.\n",
      "WARNING:mrjob.job:mr() is deprecated and will be removed in v0.6.0. Use mrjob.step.MRStep directly instead.\n",
      "WARNING:mrjob.job:mr() is deprecated and will be removed in v0.6.0. Use mrjob.step.MRStep directly instead.\n",
      "WARNING:mrjob.job:mr() is deprecated and will be removed in v0.6.0. Use mrjob.step.MRStep directly instead.\n"
     ]
    },
    {
     "name": "stdout",
     "output_type": "stream",
     "text": [
      " [-3.94029356  0.99986936]\n",
      "iteration =66  weights ="
     ]
    },
    {
     "name": "stderr",
     "output_type": "stream",
     "text": [
      "WARNING:mrjob.runner:\n",
      "WARNING:mrjob.runner:PLEASE NOTE: Starting in mrjob v0.5.0, protocols will be strict by default. It's recommended you run your job with --strict-protocols or set up mrjob.conf as described at https://pythonhosted.org/mrjob/whats-new.html#ready-for-strict-protocols\n",
      "WARNING:mrjob.runner:\n",
      "WARNING:mrjob.job:mr() is deprecated and will be removed in v0.6.0. Use mrjob.step.MRStep directly instead.\n",
      "WARNING:mrjob.job:mr() is deprecated and will be removed in v0.6.0. Use mrjob.step.MRStep directly instead.\n",
      "WARNING:mrjob.job:mr() is deprecated and will be removed in v0.6.0. Use mrjob.step.MRStep directly instead.\n",
      "WARNING:mrjob.job:mr() is deprecated and will be removed in v0.6.0. Use mrjob.step.MRStep directly instead.\n",
      "WARNING:mrjob.job:mr() is deprecated and will be removed in v0.6.0. Use mrjob.step.MRStep directly instead.\n"
     ]
    },
    {
     "name": "stdout",
     "output_type": "stream",
     "text": [
      " [-3.9432939   0.99987189]\n",
      "iteration =67  weights ="
     ]
    },
    {
     "name": "stderr",
     "output_type": "stream",
     "text": [
      "WARNING:mrjob.runner:\n",
      "WARNING:mrjob.runner:PLEASE NOTE: Starting in mrjob v0.5.0, protocols will be strict by default. It's recommended you run your job with --strict-protocols or set up mrjob.conf as described at https://pythonhosted.org/mrjob/whats-new.html#ready-for-strict-protocols\n",
      "WARNING:mrjob.runner:\n",
      "WARNING:mrjob.job:mr() is deprecated and will be removed in v0.6.0. Use mrjob.step.MRStep directly instead.\n",
      "WARNING:mrjob.job:mr() is deprecated and will be removed in v0.6.0. Use mrjob.step.MRStep directly instead.\n",
      "WARNING:mrjob.job:mr() is deprecated and will be removed in v0.6.0. Use mrjob.step.MRStep directly instead.\n",
      "WARNING:mrjob.job:mr() is deprecated and will be removed in v0.6.0. Use mrjob.step.MRStep directly instead.\n",
      "WARNING:mrjob.job:mr() is deprecated and will be removed in v0.6.0. Use mrjob.step.MRStep directly instead.\n"
     ]
    },
    {
     "name": "stdout",
     "output_type": "stream",
     "text": [
      " [-3.94614423  0.99987429]\n",
      "iteration =68  weights ="
     ]
    },
    {
     "name": "stderr",
     "output_type": "stream",
     "text": [
      "WARNING:mrjob.runner:\n",
      "WARNING:mrjob.runner:PLEASE NOTE: Starting in mrjob v0.5.0, protocols will be strict by default. It's recommended you run your job with --strict-protocols or set up mrjob.conf as described at https://pythonhosted.org/mrjob/whats-new.html#ready-for-strict-protocols\n",
      "WARNING:mrjob.runner:\n",
      "WARNING:mrjob.job:mr() is deprecated and will be removed in v0.6.0. Use mrjob.step.MRStep directly instead.\n",
      "WARNING:mrjob.job:mr() is deprecated and will be removed in v0.6.0. Use mrjob.step.MRStep directly instead.\n",
      "WARNING:mrjob.job:mr() is deprecated and will be removed in v0.6.0. Use mrjob.step.MRStep directly instead.\n",
      "WARNING:mrjob.job:mr() is deprecated and will be removed in v0.6.0. Use mrjob.step.MRStep directly instead.\n",
      "WARNING:mrjob.job:mr() is deprecated and will be removed in v0.6.0. Use mrjob.step.MRStep directly instead.\n"
     ]
    },
    {
     "name": "stdout",
     "output_type": "stream",
     "text": [
      " [-3.94885204  0.99987658]\n",
      "iteration =69  weights ="
     ]
    },
    {
     "name": "stderr",
     "output_type": "stream",
     "text": [
      "WARNING:mrjob.runner:\n",
      "WARNING:mrjob.runner:PLEASE NOTE: Starting in mrjob v0.5.0, protocols will be strict by default. It's recommended you run your job with --strict-protocols or set up mrjob.conf as described at https://pythonhosted.org/mrjob/whats-new.html#ready-for-strict-protocols\n",
      "WARNING:mrjob.runner:\n",
      "WARNING:mrjob.job:mr() is deprecated and will be removed in v0.6.0. Use mrjob.step.MRStep directly instead.\n",
      "WARNING:mrjob.job:mr() is deprecated and will be removed in v0.6.0. Use mrjob.step.MRStep directly instead.\n",
      "WARNING:mrjob.job:mr() is deprecated and will be removed in v0.6.0. Use mrjob.step.MRStep directly instead.\n",
      "WARNING:mrjob.job:mr() is deprecated and will be removed in v0.6.0. Use mrjob.step.MRStep directly instead.\n",
      "WARNING:mrjob.job:mr() is deprecated and will be removed in v0.6.0. Use mrjob.step.MRStep directly instead.\n"
     ]
    },
    {
     "name": "stdout",
     "output_type": "stream",
     "text": [
      " [-3.95142446  0.99987875]\n",
      "iteration =70  weights ="
     ]
    },
    {
     "name": "stderr",
     "output_type": "stream",
     "text": [
      "WARNING:mrjob.runner:\n",
      "WARNING:mrjob.runner:PLEASE NOTE: Starting in mrjob v0.5.0, protocols will be strict by default. It's recommended you run your job with --strict-protocols or set up mrjob.conf as described at https://pythonhosted.org/mrjob/whats-new.html#ready-for-strict-protocols\n",
      "WARNING:mrjob.runner:\n",
      "WARNING:mrjob.job:mr() is deprecated and will be removed in v0.6.0. Use mrjob.step.MRStep directly instead.\n",
      "WARNING:mrjob.job:mr() is deprecated and will be removed in v0.6.0. Use mrjob.step.MRStep directly instead.\n",
      "WARNING:mrjob.job:mr() is deprecated and will be removed in v0.6.0. Use mrjob.step.MRStep directly instead.\n",
      "WARNING:mrjob.job:mr() is deprecated and will be removed in v0.6.0. Use mrjob.step.MRStep directly instead.\n",
      "WARNING:mrjob.job:mr() is deprecated and will be removed in v0.6.0. Use mrjob.step.MRStep directly instead.\n"
     ]
    },
    {
     "name": "stdout",
     "output_type": "stream",
     "text": [
      " [-3.95386826  0.99988081]\n",
      "iteration =71  weights ="
     ]
    },
    {
     "name": "stderr",
     "output_type": "stream",
     "text": [
      "WARNING:mrjob.runner:\n",
      "WARNING:mrjob.runner:PLEASE NOTE: Starting in mrjob v0.5.0, protocols will be strict by default. It's recommended you run your job with --strict-protocols or set up mrjob.conf as described at https://pythonhosted.org/mrjob/whats-new.html#ready-for-strict-protocols\n",
      "WARNING:mrjob.runner:\n",
      "WARNING:mrjob.job:mr() is deprecated and will be removed in v0.6.0. Use mrjob.step.MRStep directly instead.\n",
      "WARNING:mrjob.job:mr() is deprecated and will be removed in v0.6.0. Use mrjob.step.MRStep directly instead.\n",
      "WARNING:mrjob.job:mr() is deprecated and will be removed in v0.6.0. Use mrjob.step.MRStep directly instead.\n",
      "WARNING:mrjob.job:mr() is deprecated and will be removed in v0.6.0. Use mrjob.step.MRStep directly instead.\n",
      "WARNING:mrjob.job:mr() is deprecated and will be removed in v0.6.0. Use mrjob.step.MRStep directly instead.\n"
     ]
    },
    {
     "name": "stdout",
     "output_type": "stream",
     "text": [
      " [-3.95618987  0.99988277]\n",
      "Final weights\n",
      "\n",
      "[-3.9583954   0.99988463]\n"
     ]
    }
   ],
   "source": [
    "# Driver code\n",
    "\n",
    "from numpy import random,array\n",
    "from WLS_Gradient_Descend import MrJobBatchGDUpdate_LinearRegression\n",
    "\n",
    "learning_rate = 0.05\n",
    "stop_criteria = 0.000005\n",
    "\n",
    "# Generate random values as inital weights\n",
    "weights = array([random.uniform(-3,3),random.uniform(-3,3)])\n",
    "# Write the weights to the files\n",
    "with open('weights.txt', 'w+') as f:\n",
    "    f.writelines(','.join(str(j) for j in weights))\n",
    "\n",
    "# create a mrjob instance for batch gradient descent update over all data\n",
    "mr_job = MrJobBatchGDUpdate_LinearRegression(args=['LinearRegression.csv', '--file', 'weights.txt'])\n",
    "# Update centroids iteratively\n",
    "i = 0\n",
    "while(1):\n",
    "    print \"iteration =\"+str(i)+\"  weights =\",weights\n",
    "    # Save weights from previous iteration\n",
    "    weights_old = weights\n",
    "    with mr_job.make_runner() as runner: \n",
    "        runner.run()\n",
    "        # stream_output: get access of the output \n",
    "        for line in runner.stream_output():\n",
    "            # value is the gradient value\n",
    "            key,value =  mr_job.parse_output_line(line)\n",
    "            # Update weights\n",
    "            weights = weights + learning_rate*array(value)\n",
    "    i = i + 1\n",
    "    # Write the updated weights to file \n",
    "    with open('weights.txt', 'w+') as f:\n",
    "        f.writelines(','.join(str(j) for j in weights))\n",
    "    # Stop if weights get converged\n",
    "    if(sum((weights_old-weights)**2)<stop_criteria):\n",
    "        break\n",
    "        \n",
    "print \"Final weights\\n\"\n",
    "print weights"
   ]
  },
  {
   "cell_type": "markdown",
   "metadata": {},
   "source": [
    "Final Weights after 71 iterations:\n",
    "[-3.9583954,   0.99988463]"
   ]
  },
  {
   "cell_type": "code",
   "execution_count": 7,
   "metadata": {
    "collapsed": false
   },
   "outputs": [
    {
     "name": "stdout",
     "output_type": "stream",
     "text": [
      "slope:[[ 1.00057978]], intercept: [-4.00085214]\n"
     ]
    },
    {
     "name": "stderr",
     "output_type": "stream",
     "text": [
      "C:\\Anaconda\\lib\\site-packages\\ipykernel\\__main__.py:25: DeprecationWarning: The n_jobs parameter in fit is deprecated and will be removed in 0.17. It has been moved from the fit method to the LinearRegression class constructor.\n"
     ]
    }
   ],
   "source": [
    "# using sk-learn\n",
    "\n",
    "# sample 1%\n",
    "# since the data is randomly generated, grabbing the first 1% should do\n",
    "sample_size = 1000000*0.01\n",
    "sampled_count = 0\n",
    "x = []\n",
    "y = []\n",
    "sample_weights = []\n",
    "for line in open('LinearRegression.csv', 'r'):\n",
    "    if sampled_count < sample_size:\n",
    "        y_i, x_i = map(float, line.strip().split(','))\n",
    "        x.append([x_i])\n",
    "        y.append([y_i])\n",
    "        sample_weights.append(abs(1/x_i))\n",
    "        sampled_count += 1\n",
    "    else:\n",
    "        break\n",
    "        \n",
    "#print \"%s, %s, %s\"%(len(x), len(y), len(sample_weights))\n",
    "\n",
    "# train the linear regression model\n",
    "from sklearn.linear_model import LinearRegression\n",
    "model = LinearRegression()\n",
    "model.fit(x, y, sample_weights)\n",
    "# print out the coefficients:\n",
    "print \"slope:%s, intercept: %s\"%(str(model.coef_), str(model.intercept_))"
   ]
  },
  {
   "cell_type": "code",
   "execution_count": 4,
   "metadata": {
    "collapsed": false
   },
   "outputs": [
    {
     "data": {
      "image/png": "[encoded data removed]",
      "text/plain": [
       "<matplotlib.figure.Figure at 0x5503350>"
      ]
     },
     "metadata": {},
     "output_type": "display_data"
    }
   ],
   "source": [
    "%matplotlib inline\n",
    "import matplotlib.pyplot as plt\n",
    "import numpy as np\n",
    "\n",
    "# make plot for the original and the fitted models\n",
    "\n",
    "x_vals = [x for x in range(0, 100, 10)]\n",
    "\n",
    "plt.plot(x_vals, [x*1.0-4 for x in x_vals], label=\"original model\")\n",
    "plt.plot(x_vals, [x*0.99988463-3.9583954 for x in x_vals], label=\"fitted model\")\n",
    "plt.legend(loc=\"best\")\n",
    "plt.xlabel(\"x\")\n",
    "plt.ylabel(\"y\")\n",
    "plt.show()"
   ]
  },
  {
   "cell_type": "markdown",
   "metadata": {},
   "source": [
    "The two models are very close."
   ]
  },
  {
   "cell_type": "markdown",
   "metadata": {
    "collapsed": true
   },
   "source": [
    "# HW6.6 Clean up notebook for GMM via EM\n",
    "\n",
    "Using the following notebook as a starting point:\n",
    "\n",
    "http://nbviewer.jupyter.org/urls/dl.dropbox.com/s/0t7985e40fovlkw/EM-GMM-MapReduce%20Design%201.ipynb \n",
    "\n",
    "Improve this notebook as follows:\n",
    "- Add in equations into the notebook (not images of equations) \n",
    "- Number the equations\n",
    "- Make sure the equation notation matches the code and the code and comments refer to the equations numbers\n",
    "- Comment the code\n",
    "- Rename/Reorganize the code to make it more readable\n",
    "- Rerun the examples similar graphics (or possibly better graphics)"
   ]
  },
  {
   "cell_type": "markdown",
   "metadata": {},
   "source": [
    "Please refer to this location:<br/>\n",
    "https://github.com/venamax/ucb-261/blob/master/hw6/EM-GMM-MapReduce%20Design%201.ipynb"
   ]
  },
  {
   "cell_type": "markdown",
   "metadata": {},
   "source": [
    "# HW6.7  Implement Bernoulli Mixture Model via EM\n",
    "Implement the EM clustering algorithm to determine Bernoulli Mixture Model for discrete data in MRJob.\n",
    "\n",
    "As a unit test use the dataset in the following slides:\n",
    "\n",
    "https://www.dropbox.com/s/maoj9jidxj1xf5l/MIDS-Live-Lecture-06-EM-Bernouilli-MM-Systems-Test.pdf?dl=0\n",
    "\n",
    "Cross-check that you get the same cluster assignments and cluster Bernouilli models as presented in \n",
    "the slides after 25 iterations. Dont forget the smoothing.\n",
    "\n",
    "As a full test: use the same dataset from HW 4.5, the Tweet Dataset. \n",
    "Using this data, you will implement a 1000-dimensional EM-based Bernoulli Mixture Model  algorithm in MrJob on the users\n",
    "by their 1000-dimensional word stripes/vectors using K = 4.  Use the same smoothing as in the unit test.\n",
    "\n",
    "Repeat this experiment using your KMeans MRJob implementation fron HW4.\n",
    "Report the rand index score using the class code as ground truth label for both algorithms and comment on your findings."
   ]
  },
  {
   "cell_type": "code",
   "execution_count": 16,
   "metadata": {
    "collapsed": false
   },
   "outputs": [
    {
     "name": "stdout",
     "output_type": "stream",
     "text": [
      "set(['ghana', 'butter', 'cane', 'icing', 'truffles', 'sweet', 'brazil', 'africa', 'chocolate', 'cocoa', 'hot', 'beans', 'forest', 'cake', 'beet', 'sugar', 'harvest', 'black'])\n"
     ]
    }
   ],
   "source": [
    "# unit test data and converting unit test data into the same format as the full dataset\n",
    "\n",
    "unit_test = ['hot chocolate cocoa beans',\n",
    "             'cocoa ghana africa',\n",
    "             'beans harvest ghana',\n",
    "             'cocoa butter',\n",
    "             'butter truffles',\n",
    "             'sweet chocolate',\n",
    "             'sweet sugar',\n",
    "             'sugar cane brazil',\n",
    "             'sweet sugar beet',\n",
    "             'sweet cake icing',\n",
    "             'cake black forest']\n",
    "\n",
    "# convert to the format of USERID,CODE,TOTAL,WORD1_COUNT,WORD2_COUNT,...\n",
    "\n",
    "# unique words\n",
    "vocabs = set()\n",
    "for doc in unit_test:\n",
    "    for word in doc.split(' '): vocabs.add(word)\n",
    "        \n",
    "print str(vocabs)\n",
    "        \n",
    "writer = open('unit_test.txt', 'w')\n",
    "for i, doc in enumerate(unit_test):\n",
    "    words = doc.split(' ')\n",
    "    # set all codes to 0, since we don't really have that data\n",
    "    writer.write(str(i+1) + ',0,' + str(len(words)))\n",
    "    for voc in vocabs:\n",
    "        # counts for each unique words\n",
    "        writer.write(',' + str(words.count(voc)))\n",
    "    writer.write('\\n')\n",
    "writer.close()"
   ]
  },
  {
   "cell_type": "code",
   "execution_count": 5,
   "metadata": {
    "collapsed": false
   },
   "outputs": [
    {
     "name": "stdout",
     "output_type": "stream",
     "text": [
      "Overwriting BEM_Initialization.py\n"
     ]
    }
   ],
   "source": [
    "%%writefile BEM_Initialization.py\n",
    "import random\n",
    "\n",
    "# initialize Bernoulli model for EM\n",
    "# k: number of clusters\n",
    "# data_file: file containing data in the specific format mentioned in the problem statement\n",
    "def InitializeBEM(k, data_file):\n",
    "    writer = open('cluster_assignments.txt', 'w')\n",
    "    for line in open(data_file, 'r'):\n",
    "        doc_id = line.strip().split(',')[0]\n",
    "        # uniform random assignment for each cluster\n",
    "        r_nk = [random.random() for i in range(k)]\n",
    "        # normalize the assignment\n",
    "        r_nk = map(lambda x: str(x/sum(r_nk)), r_nk)\n",
    "        writer.write(doc_id + ',' + ','.join(r_nk) + '\\n')\n",
    "    writer.close()"
   ]
  },
  {
   "cell_type": "code",
   "execution_count": 1,
   "metadata": {
    "collapsed": false
   },
   "outputs": [
    {
     "name": "stdout",
     "output_type": "stream",
     "text": [
      "Overwriting BEM_Iterate.py\n"
     ]
    }
   ],
   "source": [
    "%%writefile BEM_Iterate.py\n",
    "\n",
    "# EM iteration implementation for the Bernoulli Mixture Model\n",
    "from mrjob.job import MRJob\n",
    "from mrjob.protocol import RawValueProtocol\n",
    "from mrjob.step import MRStep\n",
    "\n",
    "class BEM(MRJob):\n",
    "    \n",
    "    #OUTPUT_PROTOCOL = RawValueProtocol\n",
    "    # enable secondary sort\n",
    "    SORT_VALUES = True\n",
    "    \n",
    "    def steps(self):\n",
    "        return [\n",
    "            MRStep(mapper_init=self.setK, mapper=self.max_mapper, \n",
    "                   reducer_init=self.load_soft_assignments, reducer=self.max_reducer),\n",
    "            MRStep(reducer_init=self.load_apriori, reducer=self.exp_reducer)\n",
    "        ]\n",
    "    \n",
    "    # set k (number of clusters) by looking at the first row of the initialization file\n",
    "    def setK(self):\n",
    "        for line in open('cluster_assignments.txt', 'r'):\n",
    "            self.k = len(line.strip().split(',')[1:])\n",
    "            break\n",
    "    \n",
    "    # loading up soft cluster assignments\n",
    "    def load_soft_assignments(self):\n",
    "        # soft cluster assignments\n",
    "        self.soft_assignments = {}\n",
    "        # a priori for each cluster\n",
    "        self.a_k = None\n",
    "        # total documents\n",
    "        self.total_docs = 0\n",
    "        for line in open('cluster_assignments.txt', 'r'):\n",
    "            self.total_docs += 1\n",
    "            lineArr = line.strip().split(',')\n",
    "            # first element is the documentID, followed by soft assignments\n",
    "            doc_id = lineArr[0]\n",
    "            assignments = map(float, lineArr[1:])\n",
    "            self.soft_assignments[doc_id] = assignments\n",
    "            # assumulate a_k: cluster a priori\n",
    "            if self.a_k == None: self.a_k = [0]*len(assignments)\n",
    "            for i, assign in enumerate(assignments):\n",
    "                self.a_k[i] += assign\n",
    "        # normalize a_k (the a priori for each cluster)\n",
    "        self.a_k = map(lambda x: x/self.total_docs, self.a_k)\n",
    "    \n",
    "    # mapper for the maximization step\n",
    "    def max_mapper(self, _, line):\n",
    "        lineArr = line.strip().split(',')\n",
    "        docId = lineArr[0]\n",
    "        known_clusterId = lineArr[1]\n",
    "        for term_idx, word_count in enumerate(lineArr[3:]):\n",
    "            # binarize word counts for bernoulli to work\n",
    "            occurence = 0\n",
    "            if int(word_count) > 0:\n",
    "                occurence = 1\n",
    "            for k in range(self.k):\n",
    "                # emit the same data twice, first to calculate qmk, and second to pass along to calculate rnk\n",
    "                # this way we don't need to store co-occurence vectors in memroy in reducer\n",
    "                # secondary sort is required so that qmk is calculated first\n",
    "                yield (term_idx, k), (0, docId, occurence)\n",
    "                yield (term_idx, k), (1, docId, occurence)\n",
    "    \n",
    "    # reducer for the maximization step\n",
    "    def max_reducer(self, term_cluster_id, term_occurences):\n",
    "        termId, clusterId = term_cluster_id\n",
    "        q_mk = [0.0]*len(self.a_k)\n",
    "        q_normalized = False\n",
    "        r_nk_sum = [0.0]*len(self.a_k)\n",
    "        #print '--------' + str(term_cluster_id) + '------------'\n",
    "        for term_occurence_data in term_occurences:\n",
    "            flag, docId, occurence = term_occurence_data\n",
    "            #print str(term_occurence_data)\n",
    "            if flag == 0:\n",
    "                # calculate q_mk\n",
    "                for k in range(len(self.a_k)):\n",
    "                    # soft assignment for this doc for this clusterID\n",
    "                    r_nk = self.soft_assignments[docId][k] + 0.0001 # smoothing\n",
    "                    r_nk_sum[k] += r_nk\n",
    "                    q_mk[k] += r_nk*occurence\n",
    "            else:\n",
    "                if q_normalized == False:\n",
    "                    # normalize term prob for each cluster\n",
    "                    q_mk = [q/r for q,r in zip(q_mk, r_nk_sum)]\n",
    "                    q_normalized = True\n",
    "                # emit to next step to calculate the new r_nk\n",
    "                for k, q in enumerate(q_mk):\n",
    "                    if occurence == 0:\n",
    "                        yield docId, (k, 1-q)\n",
    "                    else:\n",
    "                        yield docId, (k, q)\n",
    "    \n",
    "    # load up a priori for the expectation calculation.\n",
    "    def load_apriori(self):\n",
    "        # a priori for each cluster\n",
    "        self.a_k = None\n",
    "        # total documents\n",
    "        self.total_docs = 0\n",
    "        for line in open('cluster_assignments.txt', 'r'):\n",
    "            self.total_docs += 1\n",
    "            lineArr = line.strip().split(',')\n",
    "            # first element is the documentID, followed by soft assignments\n",
    "            doc_id = lineArr[0]\n",
    "            assignments = map(float, lineArr[1:])\n",
    "            # assumulate a_k: cluster a priori\n",
    "            if self.a_k == None: self.a_k = [0]*len(assignments)\n",
    "            for i, assign in enumerate(assignments):\n",
    "                self.a_k[i] += assign\n",
    "        # normalize a_k (the a priori for each cluster)\n",
    "        self.a_k = map(lambda x: x/self.total_docs, self.a_k)\n",
    "    \n",
    "    # expectation step.  reducing from outputs of the maximazation reducer step\n",
    "    def exp_reducer(self, docId, k_q):\n",
    "        import numpy as np\n",
    "        \n",
    "        # sum of logs of q_mk to prevent underflow\n",
    "        q_log_sums = {}\n",
    "        \n",
    "        # k is clusterID\n",
    "        # q is either q_mk or (1-q_mk) depending on co-occurence\n",
    "        for k_q_pair in k_q:\n",
    "            k, q = k_q_pair\n",
    "            if k not in q_log_sums:\n",
    "                q_log_sums[k] = np.log(q)\n",
    "            else:\n",
    "                q_log_sums[k] += np.log(q)\n",
    "                \n",
    "        # convert to loglikelihood\n",
    "        r_logliklihood = [np.log(self.a_k[k])+q_log_sums[k] for k in q_log_sums]\n",
    "        \n",
    "        # scale the loglikehood so that the exponentials don't zero out\n",
    "        base_likelihood = max(r_logliklihood)\n",
    "        #base_likelihood = 0.0\n",
    "        r_liklihood = np.exp([val-base_likelihood for val in r_logliklihood])\n",
    "        # normalizing constant\n",
    "        norm_const = np.sum(r_liklihood)   \n",
    "        \n",
    "        yield docId, [r/norm_const for r in r_liklihood]\n",
    "        \n",
    "            \n",
    "            \n",
    "        \n",
    "        "
   ]
  },
  {
   "cell_type": "markdown",
   "metadata": {},
   "source": [
    "### Driver Program (Unit Test)"
   ]
  },
  {
   "cell_type": "code",
   "execution_count": 8,
   "metadata": {
    "collapsed": false
   },
   "outputs": [
    {
     "name": "stderr",
     "output_type": "stream",
     "text": [
      "WARNING:mrjob.sim:ignoring partitioner keyword arg (requires real Hadoop): 'org.apache.hadoop.mapred.lib.KeyFieldBasedPartitioner'\n",
      "WARNING:mrjob.runner:\n",
      "WARNING:mrjob.runner:PLEASE NOTE: Starting in mrjob v0.5.0, protocols will be strict by default. It's recommended you run your job with --strict-protocols or set up mrjob.conf as described at https://pythonhosted.org/mrjob/whats-new.html#ready-for-strict-protocols\n",
      "WARNING:mrjob.runner:\n",
      "WARNING:mrjob.sim:ignoring partitioner keyword arg (requires real Hadoop): 'org.apache.hadoop.mapred.lib.KeyFieldBasedPartitioner'\n",
      "WARNING:mrjob.runner:\n",
      "WARNING:mrjob.runner:PLEASE NOTE: Starting in mrjob v0.5.0, protocols will be strict by default. It's recommended you run your job with --strict-protocols or set up mrjob.conf as described at https://pythonhosted.org/mrjob/whats-new.html#ready-for-strict-protocols\n",
      "WARNING:mrjob.runner:\n"
     ]
    },
    {
     "name": "stdout",
     "output_type": "stream",
     "text": [
      "-----iter: 1------\n",
      "1 [0.9841585507906842, 0.01584144920931574]\n",
      "10 [0.32199980606917855, 0.6780001939308214]\n",
      "11 [0.003534001654162192, 0.9964659983458377]\n",
      "2 [0.6432407700372131, 0.3567592299627869]\n",
      "3 [0.7817890409170634, 0.21821095908293672]\n",
      "4 [0.49876109826856335, 0.5012389017314368]\n",
      "5 [0.9604162574349364, 0.03958374256506358]\n",
      "6 [0.9099513065739586, 0.09004869342604137]\n",
      "7 [0.6360756469375456, 0.3639243530624544]\n",
      "8 [0.36233334685072227, 0.6376666531492776]\n",
      "9 [0.5700100301635934, 0.4299899698364066]\n",
      "-----iter: 2------"
     ]
    },
    {
     "name": "stderr",
     "output_type": "stream",
     "text": [
      "WARNING:mrjob.sim:ignoring partitioner keyword arg (requires real Hadoop): 'org.apache.hadoop.mapred.lib.KeyFieldBasedPartitioner'\n",
      "WARNING:mrjob.runner:\n",
      "WARNING:mrjob.runner:PLEASE NOTE: Starting in mrjob v0.5.0, protocols will be strict by default. It's recommended you run your job with --strict-protocols or set up mrjob.conf as described at https://pythonhosted.org/mrjob/whats-new.html#ready-for-strict-protocols\n",
      "WARNING:mrjob.runner:\n"
     ]
    },
    {
     "name": "stdout",
     "output_type": "stream",
     "text": [
      "\n",
      "1 [0.9999999929552807, 7.044719253653194e-09]\n",
      "10 [0.0009858693707719434, 0.9990141306292281]\n",
      "11 [1.4029390197253822e-13, 0.9999999999998598]\n",
      "2 [0.9668130535220145, 0.03318694647798543]\n",
      "3 [0.9993313199476418, 0.0006686800523582232]\n",
      "4 [0.9619145041002902, 0.03808549589970989]\n",
      "5 [0.9995905844919831, 0.0004094155080169316]\n",
      "6 [0.9979966458923301, 0.0020033541076699387]\n",
      "7 [0.43618937501535965, 0.5638106249846404]\n",
      "8 [0.00900107404524053, 0.9909989259547595]\n",
      "9 [0.356792929636158, 0.6432070703638421]\n",
      "-----iter: 3------"
     ]
    },
    {
     "name": "stderr",
     "output_type": "stream",
     "text": [
      "WARNING:mrjob.sim:ignoring partitioner keyword arg (requires real Hadoop): 'org.apache.hadoop.mapred.lib.KeyFieldBasedPartitioner'\n",
      "WARNING:mrjob.runner:\n",
      "WARNING:mrjob.runner:PLEASE NOTE: Starting in mrjob v0.5.0, protocols will be strict by default. It's recommended you run your job with --strict-protocols or set up mrjob.conf as described at https://pythonhosted.org/mrjob/whats-new.html#ready-for-strict-protocols\n",
      "WARNING:mrjob.runner:\n"
     ]
    },
    {
     "name": "stdout",
     "output_type": "stream",
     "text": [
      "\n",
      "1 [1.0, 6.859943928435365e-25]\n",
      "10 [5.721184969175686e-15, 0.9999999999999942]\n",
      "11 [9.935983094277617e-25, 1.0]\n",
      "2 [0.999999999908386, 9.161395664527223e-11]\n",
      "3 [1.0, 2.1085374147025678e-17]\n",
      "4 [0.9999999455162559, 5.4483744073972285e-08]\n",
      "5 [0.9999999999479221, 5.207791671142214e-11]\n",
      "6 [0.99999707062553, 2.9293744699545234e-06]\n",
      "7 [0.00824218520382434, 0.9917578147961756]\n",
      "8 [2.917405340315555e-11, 0.999999999970826]\n",
      "9 [0.0008288361290396704, 0.9991711638709604]\n",
      "-----iter: 4------"
     ]
    },
    {
     "name": "stderr",
     "output_type": "stream",
     "text": [
      "WARNING:mrjob.sim:ignoring partitioner keyword arg (requires real Hadoop): 'org.apache.hadoop.mapred.lib.KeyFieldBasedPartitioner'\n",
      "WARNING:mrjob.runner:\n",
      "WARNING:mrjob.runner:PLEASE NOTE: Starting in mrjob v0.5.0, protocols will be strict by default. It's recommended you run your job with --strict-protocols or set up mrjob.conf as described at https://pythonhosted.org/mrjob/whats-new.html#ready-for-strict-protocols\n",
      "WARNING:mrjob.runner:\n"
     ]
    },
    {
     "name": "stdout",
     "output_type": "stream",
     "text": [
      "\n",
      "1 [1.0, 5.213676899031947e-34]\n",
      "10 [5.9963519071645615e-19, 1.0]\n",
      "11 [1.4509397619105832e-25, 1.0]\n",
      "2 [1.0, 7.849427757674461e-26]\n",
      "3 [1.0, 1.3926714537732041e-25]\n",
      "4 [1.0, 7.798491155616246e-18]\n",
      "5 [1.0, 2.159785069558342e-17]\n",
      "6 [0.9999998789446489, 1.2105535110612468e-07]\n",
      "7 [5.98671462943131e-08, 0.9999999401328538]\n",
      "8 [6.389575259374715e-23, 1.0]\n",
      "9 [2.2835350133943594e-14, 0.9999999999999772]\n",
      "-----iter: 5------"
     ]
    },
    {
     "name": "stderr",
     "output_type": "stream",
     "text": [
      "WARNING:mrjob.sim:ignoring partitioner keyword arg (requires real Hadoop): 'org.apache.hadoop.mapred.lib.KeyFieldBasedPartitioner'\n",
      "WARNING:mrjob.runner:\n",
      "WARNING:mrjob.runner:PLEASE NOTE: Starting in mrjob v0.5.0, protocols will be strict by default. It's recommended you run your job with --strict-protocols or set up mrjob.conf as described at https://pythonhosted.org/mrjob/whats-new.html#ready-for-strict-protocols\n",
      "WARNING:mrjob.runner:\n"
     ]
    },
    {
     "name": "stdout",
     "output_type": "stream",
     "text": [
      "\n",
      "1 [1.0, 4.945512715004127e-34]\n",
      "10 [5.9003510944300595e-19, 1.0]\n",
      "11 [1.473633711634636e-25, 1.0]\n",
      "2 [1.0, 7.71886545816135e-26]\n",
      "3 [1.0, 1.3720735666990666e-25]\n",
      "4 [1.0, 7.720409686286107e-18]\n",
      "5 [1.0, 2.14410092176254e-17]\n",
      "6 [0.9999998793391444, 1.2066085575677696e-07]\n",
      "7 [5.90428074040732e-11, 0.9999999999409571]\n",
      "8 [6.553626846736712e-26, 1.0]\n",
      "9 [2.624037374416219e-19, 1.0]\n",
      "-----iter: 6------"
     ]
    },
    {
     "name": "stderr",
     "output_type": "stream",
     "text": [
      "WARNING:mrjob.sim:ignoring partitioner keyword arg (requires real Hadoop): 'org.apache.hadoop.mapred.lib.KeyFieldBasedPartitioner'\n",
      "WARNING:mrjob.runner:\n",
      "WARNING:mrjob.runner:PLEASE NOTE: Starting in mrjob v0.5.0, protocols will be strict by default. It's recommended you run your job with --strict-protocols or set up mrjob.conf as described at https://pythonhosted.org/mrjob/whats-new.html#ready-for-strict-protocols\n",
      "WARNING:mrjob.runner:\n"
     ]
    },
    {
     "name": "stdout",
     "output_type": "stream",
     "text": [
      "\n",
      "1 [1.0, 4.9454924388529505e-34]\n",
      "10 [5.900350441306297e-19, 1.0]\n",
      "11 [1.4736338548612712e-25, 1.0]\n",
      "2 [1.0, 7.71886466206849e-26]\n",
      "3 [1.0, 1.3720734387709783e-25]\n",
      "4 [1.0, 7.720409256919781e-18]\n",
      "5 [1.0, 2.1441008364797553e-17]\n",
      "6 [0.9999998793396, 1.2066039999880676e-07]\n",
      "7 [5.901925750467609e-11, 0.9999999999409808]\n",
      "8 [6.551014543810337e-26, 1.0]\n",
      "9 [2.6229908757229067e-19, 1.0]\n",
      "-----iter: 7------"
     ]
    },
    {
     "name": "stderr",
     "output_type": "stream",
     "text": [
      "WARNING:mrjob.sim:ignoring partitioner keyword arg (requires real Hadoop): 'org.apache.hadoop.mapred.lib.KeyFieldBasedPartitioner'\n",
      "WARNING:mrjob.runner:\n",
      "WARNING:mrjob.runner:PLEASE NOTE: Starting in mrjob v0.5.0, protocols will be strict by default. It's recommended you run your job with --strict-protocols or set up mrjob.conf as described at https://pythonhosted.org/mrjob/whats-new.html#ready-for-strict-protocols\n",
      "WARNING:mrjob.runner:\n"
     ]
    },
    {
     "name": "stdout",
     "output_type": "stream",
     "text": [
      "\n",
      "1 [1.0, 4.945492416327612e-34]\n",
      "10 [5.900350441318267e-19, 1.0]\n",
      "11 [1.4736338548601244e-25, 1.0]\n",
      "2 [1.0, 7.718864662077045e-26]\n",
      "3 [1.0, 1.3720734387722992e-25]\n",
      "4 [1.0, 7.720409256923786e-18]\n",
      "5 [1.0, 2.144100836480327e-17]\n",
      "6 [0.9999998793396006, 1.206603994487064e-07]\n",
      "7 [5.90192574955537e-11, 0.9999999999409808]\n",
      "8 [6.551014542775672e-26, 1.0]\n",
      "9 [2.6229908753160136e-19, 1.0]\n",
      "-----iter: 8------"
     ]
    },
    {
     "name": "stderr",
     "output_type": "stream",
     "text": [
      "WARNING:mrjob.sim:ignoring partitioner keyword arg (requires real Hadoop): 'org.apache.hadoop.mapred.lib.KeyFieldBasedPartitioner'\n",
      "WARNING:mrjob.runner:\n",
      "WARNING:mrjob.runner:PLEASE NOTE: Starting in mrjob v0.5.0, protocols will be strict by default. It's recommended you run your job with --strict-protocols or set up mrjob.conf as described at https://pythonhosted.org/mrjob/whats-new.html#ready-for-strict-protocols\n",
      "WARNING:mrjob.runner:\n"
     ]
    },
    {
     "name": "stdout",
     "output_type": "stream",
     "text": [
      "\n",
      "1 [1.0, 4.945492416300413e-34]\n",
      "10 [5.900350441318267e-19, 1.0]\n",
      "11 [1.4736338548601244e-25, 1.0]\n",
      "2 [1.0, 7.718864662077045e-26]\n",
      "3 [1.0, 1.3720734387722992e-25]\n",
      "4 [1.0, 7.720409256923786e-18]\n",
      "5 [1.0, 2.144100836480327e-17]\n",
      "6 [0.9999998793396006, 1.206603994480428e-07]\n",
      "7 [5.901925749555391e-11, 0.9999999999409808]\n",
      "8 [6.551014542775672e-26, 1.0]\n",
      "9 [2.6229908753160136e-19, 1.0]\n",
      "-----iter: 9------"
     ]
    },
    {
     "name": "stderr",
     "output_type": "stream",
     "text": [
      "WARNING:mrjob.sim:ignoring partitioner keyword arg (requires real Hadoop): 'org.apache.hadoop.mapred.lib.KeyFieldBasedPartitioner'\n",
      "WARNING:mrjob.runner:\n",
      "WARNING:mrjob.runner:PLEASE NOTE: Starting in mrjob v0.5.0, protocols will be strict by default. It's recommended you run your job with --strict-protocols or set up mrjob.conf as described at https://pythonhosted.org/mrjob/whats-new.html#ready-for-strict-protocols\n",
      "WARNING:mrjob.runner:\n"
     ]
    },
    {
     "name": "stdout",
     "output_type": "stream",
     "text": [
      "\n",
      "1 [1.0, 4.945492416300342e-34]\n",
      "10 [5.900350441318267e-19, 1.0]\n",
      "11 [1.4736338548601244e-25, 1.0]\n",
      "2 [1.0, 7.718864662077045e-26]\n",
      "3 [1.0, 1.3720734387722992e-25]\n",
      "4 [1.0, 7.720409256923786e-18]\n",
      "5 [1.0, 2.144100836480327e-17]\n",
      "6 [0.9999998793396006, 1.2066039944804198e-07]\n",
      "7 [5.901925749555391e-11, 0.9999999999409808]\n",
      "8 [6.551014542775672e-26, 1.0]\n",
      "9 [2.6229908753160136e-19, 1.0]\n",
      "-----iter: 10------"
     ]
    },
    {
     "name": "stderr",
     "output_type": "stream",
     "text": [
      "WARNING:mrjob.sim:ignoring partitioner keyword arg (requires real Hadoop): 'org.apache.hadoop.mapred.lib.KeyFieldBasedPartitioner'\n",
      "WARNING:mrjob.runner:\n",
      "WARNING:mrjob.runner:PLEASE NOTE: Starting in mrjob v0.5.0, protocols will be strict by default. It's recommended you run your job with --strict-protocols or set up mrjob.conf as described at https://pythonhosted.org/mrjob/whats-new.html#ready-for-strict-protocols\n",
      "WARNING:mrjob.runner:\n"
     ]
    },
    {
     "name": "stdout",
     "output_type": "stream",
     "text": [
      "\n",
      "1 [1.0, 4.945492416300342e-34]\n",
      "10 [5.900350441318267e-19, 1.0]\n",
      "11 [1.4736338548601244e-25, 1.0]\n",
      "2 [1.0, 7.718864662077045e-26]\n",
      "3 [1.0, 1.3720734387722992e-25]\n",
      "4 [1.0, 7.720409256923786e-18]\n",
      "5 [1.0, 2.144100836480327e-17]\n",
      "6 [0.9999998793396006, 1.2066039944804198e-07]\n",
      "7 [5.901925749555391e-11, 0.9999999999409808]\n",
      "8 [6.551014542775672e-26, 1.0]\n",
      "9 [2.6229908753160136e-19, 1.0]\n",
      "-----iter: 11------"
     ]
    },
    {
     "name": "stderr",
     "output_type": "stream",
     "text": [
      "WARNING:mrjob.sim:ignoring partitioner keyword arg (requires real Hadoop): 'org.apache.hadoop.mapred.lib.KeyFieldBasedPartitioner'\n",
      "WARNING:mrjob.runner:\n",
      "WARNING:mrjob.runner:PLEASE NOTE: Starting in mrjob v0.5.0, protocols will be strict by default. It's recommended you run your job with --strict-protocols or set up mrjob.conf as described at https://pythonhosted.org/mrjob/whats-new.html#ready-for-strict-protocols\n",
      "WARNING:mrjob.runner:\n"
     ]
    },
    {
     "name": "stdout",
     "output_type": "stream",
     "text": [
      "\n",
      "1 [1.0, 4.945492416300342e-34]\n",
      "10 [5.900350441318267e-19, 1.0]\n",
      "11 [1.4736338548601244e-25, 1.0]\n",
      "2 [1.0, 7.718864662077045e-26]\n",
      "3 [1.0, 1.3720734387722992e-25]\n",
      "4 [1.0, 7.720409256923786e-18]\n",
      "5 [1.0, 2.144100836480327e-17]\n",
      "6 [0.9999998793396006, 1.2066039944804198e-07]\n",
      "7 [5.901925749555391e-11, 0.9999999999409808]\n",
      "8 [6.551014542775672e-26, 1.0]\n",
      "9 [2.6229908753160136e-19, 1.0]\n",
      "-----iter: 12------"
     ]
    },
    {
     "name": "stderr",
     "output_type": "stream",
     "text": [
      "WARNING:mrjob.sim:ignoring partitioner keyword arg (requires real Hadoop): 'org.apache.hadoop.mapred.lib.KeyFieldBasedPartitioner'\n",
      "WARNING:mrjob.runner:\n",
      "WARNING:mrjob.runner:PLEASE NOTE: Starting in mrjob v0.5.0, protocols will be strict by default. It's recommended you run your job with --strict-protocols or set up mrjob.conf as described at https://pythonhosted.org/mrjob/whats-new.html#ready-for-strict-protocols\n",
      "WARNING:mrjob.runner:\n"
     ]
    },
    {
     "name": "stdout",
     "output_type": "stream",
     "text": [
      "\n",
      "1 [1.0, 4.945492416300342e-34]\n",
      "10 [5.900350441318267e-19, 1.0]\n",
      "11 [1.4736338548601244e-25, 1.0]\n",
      "2 [1.0, 7.718864662077045e-26]\n",
      "3 [1.0, 1.3720734387722992e-25]\n",
      "4 [1.0, 7.720409256923786e-18]\n",
      "5 [1.0, 2.144100836480327e-17]\n",
      "6 [0.9999998793396006, 1.2066039944804198e-07]\n",
      "7 [5.901925749555391e-11, 0.9999999999409808]\n",
      "8 [6.551014542775672e-26, 1.0]\n",
      "9 [2.6229908753160136e-19, 1.0]\n",
      "-----iter: 13------"
     ]
    },
    {
     "name": "stderr",
     "output_type": "stream",
     "text": [
      "WARNING:mrjob.sim:ignoring partitioner keyword arg (requires real Hadoop): 'org.apache.hadoop.mapred.lib.KeyFieldBasedPartitioner'\n",
      "WARNING:mrjob.runner:\n",
      "WARNING:mrjob.runner:PLEASE NOTE: Starting in mrjob v0.5.0, protocols will be strict by default. It's recommended you run your job with --strict-protocols or set up mrjob.conf as described at https://pythonhosted.org/mrjob/whats-new.html#ready-for-strict-protocols\n",
      "WARNING:mrjob.runner:\n"
     ]
    },
    {
     "name": "stdout",
     "output_type": "stream",
     "text": [
      "\n",
      "1 [1.0, 4.945492416300342e-34]\n",
      "10 [5.900350441318267e-19, 1.0]\n",
      "11 [1.4736338548601244e-25, 1.0]\n",
      "2 [1.0, 7.718864662077045e-26]\n",
      "3 [1.0, 1.3720734387722992e-25]\n",
      "4 [1.0, 7.720409256923786e-18]\n",
      "5 [1.0, 2.144100836480327e-17]\n",
      "6 [0.9999998793396006, 1.2066039944804198e-07]\n",
      "7 [5.901925749555391e-11, 0.9999999999409808]\n",
      "8 [6.551014542775672e-26, 1.0]\n",
      "9 [2.6229908753160136e-19, 1.0]\n",
      "-----iter: 14------"
     ]
    },
    {
     "name": "stderr",
     "output_type": "stream",
     "text": [
      "WARNING:mrjob.sim:ignoring partitioner keyword arg (requires real Hadoop): 'org.apache.hadoop.mapred.lib.KeyFieldBasedPartitioner'\n",
      "WARNING:mrjob.runner:\n",
      "WARNING:mrjob.runner:PLEASE NOTE: Starting in mrjob v0.5.0, protocols will be strict by default. It's recommended you run your job with --strict-protocols or set up mrjob.conf as described at https://pythonhosted.org/mrjob/whats-new.html#ready-for-strict-protocols\n",
      "WARNING:mrjob.runner:\n"
     ]
    },
    {
     "name": "stdout",
     "output_type": "stream",
     "text": [
      "\n",
      "1 [1.0, 4.945492416300342e-34]\n",
      "10 [5.900350441318267e-19, 1.0]\n",
      "11 [1.4736338548601244e-25, 1.0]\n",
      "2 [1.0, 7.718864662077045e-26]\n",
      "3 [1.0, 1.3720734387722992e-25]\n",
      "4 [1.0, 7.720409256923786e-18]\n",
      "5 [1.0, 2.144100836480327e-17]\n",
      "6 [0.9999998793396006, 1.2066039944804198e-07]\n",
      "7 [5.901925749555391e-11, 0.9999999999409808]\n",
      "8 [6.551014542775672e-26, 1.0]\n",
      "9 [2.6229908753160136e-19, 1.0]\n",
      "-----iter: 15------"
     ]
    },
    {
     "name": "stderr",
     "output_type": "stream",
     "text": [
      "WARNING:mrjob.sim:ignoring partitioner keyword arg (requires real Hadoop): 'org.apache.hadoop.mapred.lib.KeyFieldBasedPartitioner'\n",
      "WARNING:mrjob.runner:\n",
      "WARNING:mrjob.runner:PLEASE NOTE: Starting in mrjob v0.5.0, protocols will be strict by default. It's recommended you run your job with --strict-protocols or set up mrjob.conf as described at https://pythonhosted.org/mrjob/whats-new.html#ready-for-strict-protocols\n",
      "WARNING:mrjob.runner:\n"
     ]
    },
    {
     "name": "stdout",
     "output_type": "stream",
     "text": [
      "\n",
      "1 [1.0, 4.945492416300342e-34]\n",
      "10 [5.900350441318267e-19, 1.0]\n",
      "11 [1.4736338548601244e-25, 1.0]\n",
      "2 [1.0, 7.718864662077045e-26]\n",
      "3 [1.0, 1.3720734387722992e-25]\n",
      "4 [1.0, 7.720409256923786e-18]\n",
      "5 [1.0, 2.144100836480327e-17]\n",
      "6 [0.9999998793396006, 1.2066039944804198e-07]\n",
      "7 [5.901925749555391e-11, 0.9999999999409808]\n",
      "8 [6.551014542775672e-26, 1.0]\n",
      "9 [2.6229908753160136e-19, 1.0]\n",
      "-----iter: 16------"
     ]
    },
    {
     "name": "stderr",
     "output_type": "stream",
     "text": [
      "WARNING:mrjob.sim:ignoring partitioner keyword arg (requires real Hadoop): 'org.apache.hadoop.mapred.lib.KeyFieldBasedPartitioner'\n",
      "WARNING:mrjob.runner:\n",
      "WARNING:mrjob.runner:PLEASE NOTE: Starting in mrjob v0.5.0, protocols will be strict by default. It's recommended you run your job with --strict-protocols or set up mrjob.conf as described at https://pythonhosted.org/mrjob/whats-new.html#ready-for-strict-protocols\n",
      "WARNING:mrjob.runner:\n"
     ]
    },
    {
     "name": "stdout",
     "output_type": "stream",
     "text": [
      "\n",
      "1 [1.0, 4.945492416300342e-34]\n",
      "10 [5.900350441318267e-19, 1.0]\n",
      "11 [1.4736338548601244e-25, 1.0]\n",
      "2 [1.0, 7.718864662077045e-26]\n",
      "3 [1.0, 1.3720734387722992e-25]\n",
      "4 [1.0, 7.720409256923786e-18]\n",
      "5 [1.0, 2.144100836480327e-17]\n",
      "6 [0.9999998793396006, 1.2066039944804198e-07]\n",
      "7 [5.901925749555391e-11, 0.9999999999409808]\n",
      "8 [6.551014542775672e-26, 1.0]\n",
      "9 [2.6229908753160136e-19, 1.0]\n",
      "-----iter: 17------"
     ]
    },
    {
     "name": "stderr",
     "output_type": "stream",
     "text": [
      "WARNING:mrjob.sim:ignoring partitioner keyword arg (requires real Hadoop): 'org.apache.hadoop.mapred.lib.KeyFieldBasedPartitioner'\n",
      "WARNING:mrjob.runner:\n",
      "WARNING:mrjob.runner:PLEASE NOTE: Starting in mrjob v0.5.0, protocols will be strict by default. It's recommended you run your job with --strict-protocols or set up mrjob.conf as described at https://pythonhosted.org/mrjob/whats-new.html#ready-for-strict-protocols\n",
      "WARNING:mrjob.runner:\n"
     ]
    },
    {
     "name": "stdout",
     "output_type": "stream",
     "text": [
      "\n",
      "1 [1.0, 4.945492416300342e-34]\n",
      "10 [5.900350441318267e-19, 1.0]\n",
      "11 [1.4736338548601244e-25, 1.0]\n",
      "2 [1.0, 7.718864662077045e-26]\n",
      "3 [1.0, 1.3720734387722992e-25]\n",
      "4 [1.0, 7.720409256923786e-18]\n",
      "5 [1.0, 2.144100836480327e-17]\n",
      "6 [0.9999998793396006, 1.2066039944804198e-07]\n",
      "7 [5.901925749555391e-11, 0.9999999999409808]\n",
      "8 [6.551014542775672e-26, 1.0]\n",
      "9 [2.6229908753160136e-19, 1.0]\n",
      "-----iter: 18------"
     ]
    },
    {
     "name": "stderr",
     "output_type": "stream",
     "text": [
      "WARNING:mrjob.sim:ignoring partitioner keyword arg (requires real Hadoop): 'org.apache.hadoop.mapred.lib.KeyFieldBasedPartitioner'\n",
      "WARNING:mrjob.runner:\n",
      "WARNING:mrjob.runner:PLEASE NOTE: Starting in mrjob v0.5.0, protocols will be strict by default. It's recommended you run your job with --strict-protocols or set up mrjob.conf as described at https://pythonhosted.org/mrjob/whats-new.html#ready-for-strict-protocols\n",
      "WARNING:mrjob.runner:\n"
     ]
    },
    {
     "name": "stdout",
     "output_type": "stream",
     "text": [
      "\n",
      "1 [1.0, 4.945492416300342e-34]\n",
      "10 [5.900350441318267e-19, 1.0]\n",
      "11 [1.4736338548601244e-25, 1.0]\n",
      "2 [1.0, 7.718864662077045e-26]\n",
      "3 [1.0, 1.3720734387722992e-25]\n",
      "4 [1.0, 7.720409256923786e-18]\n",
      "5 [1.0, 2.144100836480327e-17]\n",
      "6 [0.9999998793396006, 1.2066039944804198e-07]\n",
      "7 [5.901925749555391e-11, 0.9999999999409808]\n",
      "8 [6.551014542775672e-26, 1.0]\n",
      "9 [2.6229908753160136e-19, 1.0]\n",
      "-----iter: 19------"
     ]
    },
    {
     "name": "stderr",
     "output_type": "stream",
     "text": [
      "WARNING:mrjob.sim:ignoring partitioner keyword arg (requires real Hadoop): 'org.apache.hadoop.mapred.lib.KeyFieldBasedPartitioner'\n",
      "WARNING:mrjob.runner:\n",
      "WARNING:mrjob.runner:PLEASE NOTE: Starting in mrjob v0.5.0, protocols will be strict by default. It's recommended you run your job with --strict-protocols or set up mrjob.conf as described at https://pythonhosted.org/mrjob/whats-new.html#ready-for-strict-protocols\n",
      "WARNING:mrjob.runner:\n"
     ]
    },
    {
     "name": "stdout",
     "output_type": "stream",
     "text": [
      "\n",
      "1 [1.0, 4.945492416300342e-34]\n",
      "10 [5.900350441318267e-19, 1.0]\n",
      "11 [1.4736338548601244e-25, 1.0]\n",
      "2 [1.0, 7.718864662077045e-26]\n",
      "3 [1.0, 1.3720734387722992e-25]\n",
      "4 [1.0, 7.720409256923786e-18]\n",
      "5 [1.0, 2.144100836480327e-17]\n",
      "6 [0.9999998793396006, 1.2066039944804198e-07]\n",
      "7 [5.901925749555391e-11, 0.9999999999409808]\n",
      "8 [6.551014542775672e-26, 1.0]\n",
      "9 [2.6229908753160136e-19, 1.0]\n",
      "-----iter: 20------"
     ]
    },
    {
     "name": "stderr",
     "output_type": "stream",
     "text": [
      "WARNING:mrjob.sim:ignoring partitioner keyword arg (requires real Hadoop): 'org.apache.hadoop.mapred.lib.KeyFieldBasedPartitioner'\n",
      "WARNING:mrjob.runner:\n",
      "WARNING:mrjob.runner:PLEASE NOTE: Starting in mrjob v0.5.0, protocols will be strict by default. It's recommended you run your job with --strict-protocols or set up mrjob.conf as described at https://pythonhosted.org/mrjob/whats-new.html#ready-for-strict-protocols\n",
      "WARNING:mrjob.runner:\n"
     ]
    },
    {
     "name": "stdout",
     "output_type": "stream",
     "text": [
      "\n",
      "1 [1.0, 4.945492416300342e-34]\n",
      "10 [5.900350441318267e-19, 1.0]\n",
      "11 [1.4736338548601244e-25, 1.0]\n",
      "2 [1.0, 7.718864662077045e-26]\n",
      "3 [1.0, 1.3720734387722992e-25]\n",
      "4 [1.0, 7.720409256923786e-18]\n",
      "5 [1.0, 2.144100836480327e-17]\n",
      "6 [0.9999998793396006, 1.2066039944804198e-07]\n",
      "7 [5.901925749555391e-11, 0.9999999999409808]\n",
      "8 [6.551014542775672e-26, 1.0]\n",
      "9 [2.6229908753160136e-19, 1.0]\n",
      "-----iter: 21------"
     ]
    },
    {
     "name": "stderr",
     "output_type": "stream",
     "text": [
      "WARNING:mrjob.sim:ignoring partitioner keyword arg (requires real Hadoop): 'org.apache.hadoop.mapred.lib.KeyFieldBasedPartitioner'\n",
      "WARNING:mrjob.runner:\n",
      "WARNING:mrjob.runner:PLEASE NOTE: Starting in mrjob v0.5.0, protocols will be strict by default. It's recommended you run your job with --strict-protocols or set up mrjob.conf as described at https://pythonhosted.org/mrjob/whats-new.html#ready-for-strict-protocols\n",
      "WARNING:mrjob.runner:\n"
     ]
    },
    {
     "name": "stdout",
     "output_type": "stream",
     "text": [
      "\n",
      "1 [1.0, 4.945492416300342e-34]\n",
      "10 [5.900350441318267e-19, 1.0]\n",
      "11 [1.4736338548601244e-25, 1.0]\n",
      "2 [1.0, 7.718864662077045e-26]\n",
      "3 [1.0, 1.3720734387722992e-25]\n",
      "4 [1.0, 7.720409256923786e-18]\n",
      "5 [1.0, 2.144100836480327e-17]\n",
      "6 [0.9999998793396006, 1.2066039944804198e-07]\n",
      "7 [5.901925749555391e-11, 0.9999999999409808]\n",
      "8 [6.551014542775672e-26, 1.0]\n",
      "9 [2.6229908753160136e-19, 1.0]\n",
      "-----iter: 22------"
     ]
    },
    {
     "name": "stderr",
     "output_type": "stream",
     "text": [
      "WARNING:mrjob.sim:ignoring partitioner keyword arg (requires real Hadoop): 'org.apache.hadoop.mapred.lib.KeyFieldBasedPartitioner'\n",
      "WARNING:mrjob.runner:\n",
      "WARNING:mrjob.runner:PLEASE NOTE: Starting in mrjob v0.5.0, protocols will be strict by default. It's recommended you run your job with --strict-protocols or set up mrjob.conf as described at https://pythonhosted.org/mrjob/whats-new.html#ready-for-strict-protocols\n",
      "WARNING:mrjob.runner:\n"
     ]
    },
    {
     "name": "stdout",
     "output_type": "stream",
     "text": [
      "\n",
      "1 [1.0, 4.945492416300342e-34]\n",
      "10 [5.900350441318267e-19, 1.0]\n",
      "11 [1.4736338548601244e-25, 1.0]\n",
      "2 [1.0, 7.718864662077045e-26]\n",
      "3 [1.0, 1.3720734387722992e-25]\n",
      "4 [1.0, 7.720409256923786e-18]\n",
      "5 [1.0, 2.144100836480327e-17]\n",
      "6 [0.9999998793396006, 1.2066039944804198e-07]\n",
      "7 [5.901925749555391e-11, 0.9999999999409808]\n",
      "8 [6.551014542775672e-26, 1.0]\n",
      "9 [2.6229908753160136e-19, 1.0]\n",
      "-----iter: 23------"
     ]
    },
    {
     "name": "stderr",
     "output_type": "stream",
     "text": [
      "WARNING:mrjob.sim:ignoring partitioner keyword arg (requires real Hadoop): 'org.apache.hadoop.mapred.lib.KeyFieldBasedPartitioner'\n",
      "WARNING:mrjob.runner:\n",
      "WARNING:mrjob.runner:PLEASE NOTE: Starting in mrjob v0.5.0, protocols will be strict by default. It's recommended you run your job with --strict-protocols or set up mrjob.conf as described at https://pythonhosted.org/mrjob/whats-new.html#ready-for-strict-protocols\n",
      "WARNING:mrjob.runner:\n"
     ]
    },
    {
     "name": "stdout",
     "output_type": "stream",
     "text": [
      "\n",
      "1 [1.0, 4.945492416300342e-34]\n",
      "10 [5.900350441318267e-19, 1.0]\n",
      "11 [1.4736338548601244e-25, 1.0]\n",
      "2 [1.0, 7.718864662077045e-26]\n",
      "3 [1.0, 1.3720734387722992e-25]\n",
      "4 [1.0, 7.720409256923786e-18]\n",
      "5 [1.0, 2.144100836480327e-17]\n",
      "6 [0.9999998793396006, 1.2066039944804198e-07]\n",
      "7 [5.901925749555391e-11, 0.9999999999409808]\n",
      "8 [6.551014542775672e-26, 1.0]\n",
      "9 [2.6229908753160136e-19, 1.0]\n",
      "-----iter: 24------"
     ]
    },
    {
     "name": "stderr",
     "output_type": "stream",
     "text": [
      "WARNING:mrjob.sim:ignoring partitioner keyword arg (requires real Hadoop): 'org.apache.hadoop.mapred.lib.KeyFieldBasedPartitioner'\n",
      "WARNING:mrjob.runner:\n",
      "WARNING:mrjob.runner:PLEASE NOTE: Starting in mrjob v0.5.0, protocols will be strict by default. It's recommended you run your job with --strict-protocols or set up mrjob.conf as described at https://pythonhosted.org/mrjob/whats-new.html#ready-for-strict-protocols\n",
      "WARNING:mrjob.runner:\n"
     ]
    },
    {
     "name": "stdout",
     "output_type": "stream",
     "text": [
      "\n",
      "1 [1.0, 4.945492416300342e-34]\n",
      "10 [5.900350441318267e-19, 1.0]\n",
      "11 [1.4736338548601244e-25, 1.0]\n",
      "2 [1.0, 7.718864662077045e-26]\n",
      "3 [1.0, 1.3720734387722992e-25]\n",
      "4 [1.0, 7.720409256923786e-18]\n",
      "5 [1.0, 2.144100836480327e-17]\n",
      "6 [0.9999998793396006, 1.2066039944804198e-07]\n",
      "7 [5.901925749555391e-11, 0.9999999999409808]\n",
      "8 [6.551014542775672e-26, 1.0]\n",
      "9 [2.6229908753160136e-19, 1.0]\n",
      "-----iter: 25------\n",
      "1 [1.0, 4.945492416300342e-34]\n",
      "10 [5.900350441318267e-19, 1.0]\n",
      "11 [1.4736338548601244e-25, 1.0]\n",
      "2 [1.0, 7.718864662077045e-26]\n",
      "3 [1.0, 1.3720734387722992e-25]\n",
      "4 [1.0, 7.720409256923786e-18]\n",
      "5 [1.0, 2.144100836480327e-17]\n",
      "6 [0.9999998793396006, 1.2066039944804198e-07]\n",
      "7 [5.901925749555391e-11, 0.9999999999409808]\n",
      "8 [6.551014542775672e-26, 1.0]\n",
      "9 [2.6229908753160136e-19, 1.0]\n",
      "\n",
      "final mixture cluster prior:\n",
      "[0.5454545344908199, 0.4545454655092181]\n"
     ]
    }
   ],
   "source": [
    "%reload_ext autoreload\n",
    "%autoreload 2\n",
    "from BEM_Initialization import InitializeBEM\n",
    "from BEM_Iterate import BEM\n",
    "\n",
    "# load the current cluster soft assigments\n",
    "def load_soft_assignments():\n",
    "    # soft cluster assignments\n",
    "    soft_assignments = {}\n",
    "    # a priori for each cluster\n",
    "    a_k = None\n",
    "    # total documents\n",
    "    total_docs = 0\n",
    "    for line in open('cluster_assignments.txt', 'r'):\n",
    "        total_docs += 1\n",
    "        lineArr = line.strip().split(',')\n",
    "        # first element is the documentID, followed by soft assignments\n",
    "        doc_id = lineArr[0]\n",
    "        assignments = map(float, lineArr[1:])\n",
    "        soft_assignments[doc_id] = assignments\n",
    "        # assumulate a_k: cluster a priori\n",
    "        if a_k == None: a_k = [0]*len(assignments)\n",
    "        for i, assign in enumerate(assignments):\n",
    "            a_k[i] += assign\n",
    "    # normalize a_k (the a priori for each cluster)\n",
    "    a_k = map(lambda x: x/total_docs, a_k)\n",
    "    return (a_k, soft_assignments)\n",
    "\n",
    "# initialize soft assignment\n",
    "InitializeBEM(2, 'unit_test.txt') # unit test\n",
    "a_k, soft_assignments = load_soft_assignments()\n",
    "\n",
    "# stop criterions\n",
    "max_iter = 25\n",
    "min_change = 0.0005 # minimal change required to continue\n",
    "\n",
    "mrJob = BEM(args=['unit_test.txt', '--file', 'cluster_assignments.txt'])\n",
    "iter_num = 0\n",
    "while(1):\n",
    "    with mrJob.make_runner() as runner:\n",
    "        runner.run()\n",
    "        iter_num += 1\n",
    "        iter_max_change = 0\n",
    "        print \"-----iter: \" + str(iter_num) + \"------\"\n",
    "        writer = open('cluster_assignments.txt', 'w')\n",
    "        for line in runner.stream_output():\n",
    "            docId,cluster_assignments =  mrJob.parse_output_line(line)\n",
    "            # max change in soft cluster assignment for this document\n",
    "            doc_max_change = max(abs(i-j) for i,j in zip(soft_assignments[docId], cluster_assignments))\n",
    "            if doc_max_change > iter_max_change:\n",
    "                iter_max_change = doc_max_change\n",
    "            print docId, cluster_assignments\n",
    "            writer.write(docId + ',' + ','.join(map(str, cluster_assignments)) + '\\n')\n",
    "        writer.close()\n",
    "        a_k, soft_assignments = load_soft_assignments()\n",
    "        #if iter_num >= max_iter or iter_max_change < min_change:\n",
    "        if iter_num >= max_iter:\n",
    "            break\n",
    "\n",
    "print\n",
    "print \"final mixture cluster prior:\"\n",
    "print a_k"
   ]
  },
  {
   "cell_type": "markdown",
   "metadata": {
    "collapsed": true
   },
   "source": [
    "The unit test result is very similar to the examples in the book in terms of both the calculated cluster prior probs and the soft assignments."
   ]
  },
  {
   "cell_type": "markdown",
   "metadata": {},
   "source": [
    "### Driver Code (Bernoulli EM full test)"
   ]
  },
  {
   "cell_type": "code",
   "execution_count": null,
   "metadata": {
    "collapsed": false
   },
   "outputs": [
    {
     "name": "stderr",
     "output_type": "stream",
     "text": [
      "WARNING:mrjob.sim:ignoring partitioner keyword arg (requires real Hadoop): 'org.apache.hadoop.mapred.lib.KeyFieldBasedPartitioner'\n",
      "WARNING:mrjob.runner:\n",
      "WARNING:mrjob.runner:PLEASE NOTE: Starting in mrjob v0.5.0, protocols will be strict by default. It's recommended you run your job with --strict-protocols or set up mrjob.conf as described at https://pythonhosted.org/mrjob/whats-new.html#ready-for-strict-protocols\n",
      "WARNING:mrjob.runner:\n"
     ]
    }
   ],
   "source": [
    "%reload_ext autoreload\n",
    "%autoreload 2\n",
    "from BEM_Initialization import InitializeBEM\n",
    "from BEM_Iterate import BEM\n",
    "\n",
    "# load the current cluster soft assigments\n",
    "def load_soft_assignments():\n",
    "    # soft cluster assignments\n",
    "    soft_assignments = {}\n",
    "    # a priori for each cluster\n",
    "    a_k = None\n",
    "    # total documents\n",
    "    total_docs = 0\n",
    "    for line in open('cluster_assignments.txt', 'r'):\n",
    "        total_docs += 1\n",
    "        lineArr = line.strip().split(',')\n",
    "        # first element is the documentID, followed by soft assignments\n",
    "        doc_id = lineArr[0]\n",
    "        assignments = map(float, lineArr[1:])\n",
    "        soft_assignments[doc_id] = assignments\n",
    "        # assumulate a_k: cluster a priori\n",
    "        if a_k == None: a_k = [0]*len(assignments)\n",
    "        for i, assign in enumerate(assignments):\n",
    "            a_k[i] += assign\n",
    "    # normalize a_k (the a priori for each cluster)\n",
    "    a_k = map(lambda x: x/total_docs, a_k)\n",
    "    return (a_k, soft_assignments)\n",
    "\n",
    "# initialize soft assignment\n",
    "InitializeBEM(4, 'topUsers_Apr-Jul_2014_1000-words.txt') # four clusters on full dataset\n",
    "a_k, soft_assignments = load_soft_assignments()\n",
    "\n",
    "# stop criterions\n",
    "max_iter = 100\n",
    "min_change = 0.0005 # minimal change required to continue\n",
    "\n",
    "mrJob = BEM(args=['topUsers_Apr-Jul_2014_1000-words.txt', '--file', 'cluster_assignments.txt'])\n",
    "iter_num = 0\n",
    "while(1):\n",
    "    with mrJob.make_runner() as runner:\n",
    "        runner.run()\n",
    "        iter_num += 1\n",
    "        iter_max_change = 0\n",
    "        writer = open('cluster_assignments.txt', 'w')\n",
    "        for line in runner.stream_output():\n",
    "            docId,cluster_assignments =  mrJob.parse_output_line(line)\n",
    "            # max change in soft cluster assignment for this document\n",
    "            doc_max_change = max(abs(i-j) for i,j in zip(soft_assignments[docId], cluster_assignments))\n",
    "            if doc_max_change > iter_max_change:\n",
    "                iter_max_change = doc_max_change\n",
    "            writer.write(docId + ',' + ','.join(map(str, cluster_assignments)) + '\\n')\n",
    "        writer.close()\n",
    "        a_k, soft_assignments = load_soft_assignments()\n",
    "        if iter_num >= max_iter:\n",
    "            print \"max iter number reached\"\n",
    "            break\n",
    "        if iter_max_change < min_change:\n",
    "            print \"min change threshold reached\"\n",
    "            break\n",
    "\n",
    "print\n",
    "print \"final mixture cluster prior:\"\n",
    "print a_k"
   ]
  },
  {
   "cell_type": "markdown",
   "metadata": {
    "collapsed": true
   },
   "source": [
    "### K-Mean Implementation\n",
    "Same setup as HW4.5"
   ]
  },
  {
   "cell_type": "code",
   "execution_count": 1,
   "metadata": {
    "collapsed": false
   },
   "outputs": [
    {
     "name": "stdout",
     "output_type": "stream",
     "text": [
      "Writing Kmeans.py\n"
     ]
    }
   ],
   "source": [
    "%%writefile Kmeans.py\n",
    "from numpy import argmin, array, random\n",
    "from mrjob.job import MRJob\n",
    "from mrjob.step import MRJobStep\n",
    "from itertools import chain\n",
    "\n",
    "#Calculate find the nearest centroid for data point \n",
    "def MinDist(datapoint, centroid_points):\n",
    "    datapoint = array(datapoint)\n",
    "    centroid_points = array(centroid_points)\n",
    "    diff = datapoint - centroid_points \n",
    "    diffsq = diff*diff\n",
    "    # Get the nearest centroid for each instance\n",
    "    minidx = argmin(list(diffsq.sum(axis = 1)))\n",
    "    return minidx\n",
    "\n",
    "#Check whether centroids converge\n",
    "def stop_criterion(centroid_points_old, centroid_points_new,T):\n",
    "    oldvalue = list(chain(*centroid_points_old))\n",
    "    newvalue = list(chain(*centroid_points_new))\n",
    "    Diff = [abs(x-y) for x, y in zip(oldvalue, newvalue)]\n",
    "    Flag = True\n",
    "    for i in Diff:\n",
    "        if(i>T):\n",
    "            Flag = False\n",
    "            break\n",
    "    return Flag\n",
    "\n",
    "class MRKmeans(MRJob):\n",
    "    centroid_points=[]\n",
    "    k=4\n",
    "    dim=1000\n",
    "    def steps(self):\n",
    "        return [\n",
    "            MRJobStep(mapper_init = self.mapper_init, mapper=self.mapper,combiner = self.combiner,reducer=self.reducer)\n",
    "               ]\n",
    "    #load centroids info from file\n",
    "    def mapper_init(self):\n",
    "        self.centroid_points = [map(float,s.split('\\n')[0].split(',')) for s in open(\"Centroids.txt\").readlines()]\n",
    "        self.k = len(self.centroid_points)\n",
    "        self.k = len(self.centroid_points[0])\n",
    "        open('/data/w261/hw4/fitted_results.txt', 'w').close()\n",
    "    #load data and output the nearest centroid index and data point \n",
    "    def mapper(self, _, line):\n",
    "        lineArr = line.strip().split(',')\n",
    "        user_id = lineArr[0]\n",
    "        user_class = lineArr[1]\n",
    "        user_total_words = float(lineArr[2])\n",
    "        # normalize by user total word counts\n",
    "        D = (map(lambda x: float(x)/user_total_words,lineArr[3:]))\n",
    "        fitted_centroid_idx = int(MinDist(D,self.centroid_points))\n",
    "        with open('/data/w261/hw4/fitted_results.txt', 'a') as f:\n",
    "            f.writelines(','.join([str(fitted_centroid_idx), user_class, user_id]) + '\\n')\n",
    "        yield fitted_centroid_idx, ([1]+D)\n",
    "    #Combine sum of data points locally\n",
    "    def combiner(self, idx, inputdata):\n",
    "        datasum = []\n",
    "        for data in inputdata:\n",
    "            if len(datasum) == 0:\n",
    "                datasum = array(data)\n",
    "            else:\n",
    "                datasum = datasum + data\n",
    "        yield idx, list(datasum)    \n",
    "    #Aggregate sum for each cluster and then calculate the new centroids\n",
    "    def reducer(self, idx, inputdata): \n",
    "        #print \"running reducer for centroid index %s\"%idx\n",
    "        centroids = []\n",
    "        num = [0]*self.k \n",
    "        for i in range(self.k):\n",
    "            centroids.append([0]*self.dim)\n",
    "        for data in inputdata:\n",
    "            n = data[0]\n",
    "            data = data[1:]\n",
    "            num[idx] = num[idx] + n\n",
    "            for data_idx, data_val in enumerate(data):\n",
    "                centroids[idx][data_idx] = centroids[idx][data_idx] + data_val\n",
    "        for centroid_val_idx, centroid_val in enumerate(centroids[idx]):\n",
    "            centroids[idx][centroid_val_idx] = centroid_val/num[idx]\n",
    "        #with open('/data/w261/hw4/Centroids.txt', 'a') as f:\n",
    "        #    f.writelines(','.join(map(str,centroids[idx])) + '\\n')\n",
    "        yield idx,centroids[idx]\n",
    "      \n",
    "if __name__ == '__main__':\n",
    "    MRKmeans.run()"
   ]
  },
  {
   "cell_type": "code",
   "execution_count": null,
   "metadata": {
    "collapsed": true
   },
   "outputs": [],
   "source": [
    "%%writefile kmeans_driver.py\n",
    "from numpy import random\n",
    "from random import randint\n",
    "from Kmeans import MRKmeans, stop_criterion\n",
    "import sys\n",
    "\n",
    "init_options = sys.argv[1].upper()\n",
    "\n",
    "mr_job = MRKmeans(args=['topUsers_Apr-Jul_2014_1000-words.txt', '--file',  'Centroids.txt'])\n",
    "\n",
    "# function that prints out purity results of the fitted clusters\n",
    "def printFittedResults():\n",
    "    results = {}\n",
    "    for line in open('fitted_results.txt', 'r'):\n",
    "        line = line.strip()\n",
    "        if line == '': continue\n",
    "        lineArr = line.split(',')\n",
    "        fitted_class = lineArr[0]\n",
    "        actual_class = lineArr[1]\n",
    "        if fitted_class not in results:\n",
    "            results[fitted_class] = {actual_class: 1, 'total': 1}\n",
    "        else:\n",
    "            fitted_results = results[fitted_class]\n",
    "            fitted_results['total'] += 1\n",
    "            if actual_class not in fitted_results:\n",
    "                fitted_results[actual_class] = 1\n",
    "            else:\n",
    "                fitted_results[actual_class] += 1\n",
    "    for fitted_class in results:\n",
    "        fitted_results = results[fitted_class]\n",
    "        print '---------------------------------'\n",
    "        print \"Fitted Cluster Index: %s\" % fitted_class\n",
    "        print \"\\ttotal records: %s\" % fitted_results['total']\n",
    "        for actual_class in fitted_results:\n",
    "            if actual_class != 'total':\n",
    "                print \"\\tactual class %s: %s [%.4f]\" % (actual_class, fitted_results[actual_class], float(fitted_results[actual_class])/fitted_results['total'])\n",
    "\n",
    "#Geneate k initial centroids with uniform distribution\n",
    "def generateKUniform(k, feature_size, lower_bound, upper_bound):\n",
    "    results = []\n",
    "    for i in range(k):\n",
    "        results.append([random.uniform(0,0.5) for i in range(feature_size)])\n",
    "    return results\n",
    "\n",
    "# randomly perturb from user-wide aggregated data\n",
    "def randomPerturbUserWide(k):\n",
    "    summary_data = []\n",
    "    results = []\n",
    "    #summary_total_count = 0\n",
    "    for line in open('topUsers_Apr-Jul_2014_1000-words_summaries.txt', 'r'):\n",
    "        line = line.strip()\n",
    "        if line.startswith('ALL_CODES,'):\n",
    "            lineArr = line.split(',')\n",
    "            #summary_total_count = float(lineArr[2])\n",
    "            summary_data = map(float, lineArr[3:])\n",
    "            break\n",
    "    for i in range(k):\n",
    "        perturbed_data = map(lambda x: x+random.uniform(0,10), summary_data)\n",
    "        perturbed_sum = sum(perturbed_data)\n",
    "        results.append(map(lambda x: x/perturbed_sum, perturbed_data))\n",
    "    return results\n",
    "\n",
    "# randomly pick k records from data as centroids\n",
    "def randomPickKUsers(k):\n",
    "    results = []\n",
    "    data = []\n",
    "    for line in open('topUsers_Apr-Jul_2014_1000-words.txt', 'r'):\n",
    "        line = line.strip()\n",
    "        if line == '': continue\n",
    "        data.append(line)\n",
    "    for i in range(k):\n",
    "        selectedIdx = randint(0, len(data)-1)\n",
    "        selectedLine = data[selectedIdx].split(',')\n",
    "        total_words = float(selectedLine[2])\n",
    "        results.append(map(lambda x: float(x)/total_words, selectedLine[3:]))\n",
    "    return results\n",
    "\n",
    "# find averages from class-wide distribution as the initilizing points\n",
    "def loadTrainedCentroids():\n",
    "    results = []\n",
    "    for line in open('topUsers_Apr-Jul_2014_1000-words_summaries.txt', 'r'):\n",
    "        line = line.strip()\n",
    "        if line == '' or not line.startswith('CODE,'): continue\n",
    "        lineArr = line.split(',')\n",
    "        total_words = float(lineArr[2])\n",
    "        results.append(map(lambda x: float(x)/total_words, lineArr[3:]))\n",
    "    return results\n",
    "\n",
    "# persist centroid points to disc\n",
    "def saveCentroid():\n",
    "    with open('Centroids.txt', 'w+') as f:\n",
    "        f.writelines(','.join(str(j) for j in i) + '\\n' for i in centroid_points)\n",
    "\n",
    "# feature_size\n",
    "dim = 1000\n",
    "# convergence threahold\n",
    "thold = 0.001\n",
    "\n",
    "if init_options == 'A':\n",
    "    # (A) K=4, uniform random centroids\n",
    "    print \"K=4, uniformly random initialization\"\n",
    "    centroid_points = randomPickKUsers(4)\n",
    "elif init_options == 'B':\n",
    "    # (B) K=2 with perturbation-centroid\n",
    "    print \"K=2, perturbed centroids from user-wide aggregation\"\n",
    "    centroid_points = randomPerturbUserWide(2)\n",
    "elif init_options == 'C':\n",
    "    # (C) K=4 with perturbation-centroid\n",
    "    print \"K=4, perturbed centroids from user-wide aggregation\"\n",
    "    centroid_points = randomPerturbUserWide(4)\n",
    "else:\n",
    "    # (D) K=4 with trained centroid\n",
    "    print \"Initialize centroids with training data\"\n",
    "    centroid_points = loadTrainedCentroids()\n",
    "\n",
    "# save centroid initialization\n",
    "saveCentroid()\n",
    "\n",
    "# Update centroids iteratively\n",
    "i = 0\n",
    "while(1):\n",
    "    # save previous centoids to check convergency\n",
    "    centroid_points_old = centroid_points[:]\n",
    "    #print \"iteration\"+str(i)+\":\"\n",
    "    with mr_job.make_runner() as runner:\n",
    "        runner.run()\n",
    "        # stream_output: get access of the output \n",
    "        for line in runner.stream_output():\n",
    "            key,value =  mr_job.parse_output_line(line)\n",
    "            #print key, value\n",
    "            centroid_points[key] = value\n",
    "    # persist the current centroid point\n",
    "    saveCentroid()\n",
    "    i = i + 1\n",
    "    if(stop_criterion(centroid_points_old,centroid_points,thold)):\n",
    "        break\n",
    "#print \"Centroids\\n\"\n",
    "#print centroid_points\n",
    "print \"converged at iteration: %s\" % i\n",
    "printFittedResults()"
   ]
  },
  {
   "cell_type": "markdown",
   "metadata": {},
   "source": [
    "(Since it's the same code from HW4.5, I am not going to re-run it.  I will use the fitted results from last time for the analysis below)"
   ]
  },
  {
   "cell_type": "code",
   "execution_count": 6,
   "metadata": {
    "collapsed": true
   },
   "outputs": [],
   "source": [
    "# custom implementation for (unadjusted) Rand Index\n",
    "\n",
    "def RandIndexUnadjusted(true_labels, pred_labels):\n",
    "    tp = 0\n",
    "    tn = 0\n",
    "    fp = 0\n",
    "    fn = 0\n",
    "    \n",
    "    # pair-wise decision to calculate rand index\n",
    "    for i, true_label1 in enumerate(true_labels):\n",
    "        pred_label1 = pred_labels[i]\n",
    "        \n",
    "        for j, true_label2 in enumerate(true_labels[i+1:]):\n",
    "            pred_label2 = pred_labels[i+1:][j]\n",
    "            \n",
    "            if (pred_label1 == pred_label2) and (true_label1 == true_label2): # true positive\n",
    "                tp += 1\n",
    "            elif (pred_label1 != pred_label2) and (true_label1 != true_label2): # true negative\n",
    "                tn += 1\n",
    "            elif (pred_label1 == pred_label2) and (true_label1 != true_label2): # false positive\n",
    "                fp += 1\n",
    "            elif (pred_label1 != pred_label2) and (true_label1 == true_label2): # false negative\n",
    "                fn += 1\n",
    "    \n",
    "    return float(tp+tn)/(tp+fp+fn+tn)\n",
    "            \n",
    "    "
   ]
  },
  {
   "cell_type": "code",
   "execution_count": 7,
   "metadata": {
    "collapsed": false
   },
   "outputs": [
    {
     "name": "stdout",
     "output_type": "stream",
     "text": [
      "Rand Idex for EM (custom implementation): 0.794714714715\n",
      "Ajust Rand Idex for EM (sciki-learn): 0.594783912384\n",
      "Rand Idex for KMean (custom implementation): 0.633263263263\n",
      "Ajust Rand Idex for KMean (sciki-learn): 0.292210024622\n"
     ]
    }
   ],
   "source": [
    "# calculate rand index\n",
    "\n",
    "def showRandIndex():\n",
    "    from sklearn.metrics import adjusted_rand_score\n",
    "\n",
    "    label_data_file = 'topUsers_Apr-Jul_2014_1000-words.txt'\n",
    "    em_result_file = 'cluster_assignments.txt' # results from EM\n",
    "    k_mean_result_file = 'fitted_results.txt' # results from kmean\n",
    "\n",
    "    label_data = {}\n",
    "    test_data = {}\n",
    "    \n",
    "    # results from EM\n",
    "    for line in open(label_data_file, 'r'):\n",
    "        lineArr = line.strip().split(',')\n",
    "        label_data[lineArr[0]] = int(lineArr[1]) # get true label\n",
    "\n",
    "    for line in open(em_result_file, 'r'):\n",
    "        lineArr = line.strip().split(',')\n",
    "        assignments = map(float, lineArr[1:])\n",
    "        test_data[lineArr[0]] = assignments.index(max(assignments)) # get em label (largest prob)\n",
    "\n",
    "    label = []\n",
    "    pred = []\n",
    "\n",
    "    for key in label_data:\n",
    "        label.append(label_data[key])\n",
    "        pred.append(test_data[key])\n",
    "\n",
    "    print \"Rand Idex for EM (custom implementation): %s\"%RandIndexUnadjusted(label, pred)\n",
    "    print \"Ajust Rand Idex for EM (sciki-learn): %s\"%adjusted_rand_score(label, pred)\n",
    "    \n",
    "    # results from kmean\n",
    "    label = []\n",
    "    pred = []\n",
    "    # the fitted result file from kmean has the first index as the predicted label\n",
    "    # and the second index as the true label\n",
    "    for line in open(k_mean_result_file, 'r'):\n",
    "        lineArr = line.strip().split(',')\n",
    "        label.append(int(lineArr[1]))\n",
    "        pred.append(int(lineArr[0]))\n",
    "    \n",
    "    print \"Rand Idex for KMean (custom implementation): %s\"%RandIndexUnadjusted(label, pred)\n",
    "    print \"Ajust Rand Idex for KMean (sciki-learn): %s\"%adjusted_rand_score(label, pred)\n",
    "\n",
    "showRandIndex()"
   ]
  },
  {
   "cell_type": "code",
   "execution_count": null,
   "metadata": {
    "collapsed": true
   },
   "outputs": [],
   "source": []
  }
 ],
 "metadata": {
  "kernelspec": {
   "display_name": "Python 2",
   "language": "python",
   "name": "python2"
  },
  "language_info": {
   "codemirror_mode": {
    "name": "ipython",
    "version": 2
   },
   "file_extension": ".py",
   "mimetype": "text/x-python",
   "name": "python",
   "nbconvert_exporter": "python",
   "pygments_lexer": "ipython2",
   "version": "2.7.5"
  }
 },
 "nbformat": 4,
 "nbformat_minor": 0
}
