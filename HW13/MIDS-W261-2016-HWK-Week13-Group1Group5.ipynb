{
 "cells": [
  {
   "cell_type": "markdown",
   "metadata": {},
   "source": [
    "* **Student**: Miki Seltzer, Minhchau Dang, Kuan Lin, Alejandro Rojas, Ricardo Barrera\n",
    "* **Email Address**: miki.seltzer@berkeley.edu, minhchau.dang@berkeley.edu, kuanlin@ischool.berkeley.edu, ale@ischool.berkeley.edu, ricardofrank@ischool.berkeley.edu\n",
    "* **Course**: 2016-0111 DATASCI W261: Machine Learning at Scale\n",
    "* **Section**: Spring 2016, Section 2\n",
    "* **Assignment**: Homework 13, Week 13\n",
    "* **Submission Date**: April 28, 2016"
   ]
  },
  {
   "cell_type": "markdown",
   "metadata": {},
   "source": [
    "# Helper utilities"
   ]
  },
  {
   "cell_type": "markdown",
   "metadata": {},
   "source": [
    "## Notebook imports"
   ]
  },
  {
   "cell_type": "markdown",
   "metadata": {},
   "source": [
    "If the following cell (which imports all the Python packages used by the different drivers) doesn't run, some of the drivers and helper functions in the notebook will also fail to run. Note that you will also need `pyspark` to run the actual jobs themselves."
   ]
  },
  {
   "cell_type": "code",
   "execution_count": null,
   "metadata": {
    "collapsed": false
   },
   "outputs": [],
   "source": [
    "%matplotlib inline"
   ]
  },
  {
   "cell_type": "code",
   "execution_count": null,
   "metadata": {
    "collapsed": false
   },
   "outputs": [],
   "source": [
    "from __future__ import division\n",
    "from collections import defaultdict\n",
    "from datetime import datetime\n",
    "import functools\n",
    "from math import exp, log\n",
    "import matplotlib\n",
    "import matplotlib.pyplot as plt\n",
    "import numpy\n",
    "import operator\n",
    "import os\n",
    "import pandas\n",
    "import seaborn\n",
    "import subprocess\n",
    "import sys\n",
    "import time"
   ]
  },
  {
   "cell_type": "markdown",
   "metadata": {},
   "source": [
    "## Set Cluster Size"
   ]
  },
  {
   "cell_type": "markdown",
   "metadata": {},
   "source": [
    "Using r3.xlarge nodes, there is 23424 MB of available memory for Yarn scheduling and there are 4 cores per server.\n",
    "\n",
    "* http://www.ec2instances.info\n",
    "* http://docs.aws.amazon.com/ElasticMapReduce/latest/ReleaseGuide/emr-hadoop-task-config.html"
   ]
  },
  {
   "cell_type": "code",
   "execution_count": null,
   "metadata": {
    "collapsed": true
   },
   "outputs": [],
   "source": [
    "node_count = 10\n",
    "yarn_memory = 20000\n",
    "executors_per_node = 2"
   ]
  },
  {
   "cell_type": "markdown",
   "metadata": {},
   "source": [
    "## Set Cluster Name"
   ]
  },
  {
   "cell_type": "code",
   "execution_count": null,
   "metadata": {
    "collapsed": true
   },
   "outputs": [],
   "source": [
    "cluster_name = 'Week13_Cluster'"
   ]
  },
  {
   "cell_type": "markdown",
   "metadata": {},
   "source": [
    "## Initialize Spark"
   ]
  },
  {
   "cell_type": "markdown",
   "metadata": {},
   "source": [
    "Use the ``findspark`` library in order to help setup the Spark context. This allows the same code to work across different versions of Spark.\n",
    "\n",
    "https://github.com/minrk/findspark"
   ]
  },
  {
   "cell_type": "code",
   "execution_count": null,
   "metadata": {
    "collapsed": false
   },
   "outputs": [],
   "source": [
    "import findspark\n",
    "findspark.init()\n",
    "\n",
    "import pyspark\n",
    "from pyspark import SparkConf, SparkContext"
   ]
  },
  {
   "cell_type": "markdown",
   "metadata": {},
   "source": [
    "Compute the configuration for our cluster."
   ]
  },
  {
   "cell_type": "code",
   "execution_count": null,
   "metadata": {
    "collapsed": false
   },
   "outputs": [
    {
     "name": "stdout",
     "output_type": "stream",
     "text": [
      "spark.app.name=Week13_Cluster\n",
      "spark.dynamicAllocation.enabled=False\n",
      "spark.eventLog.dir=hdfs:///spark-history\n",
      "spark.eventLog.enabled=true\n",
      "spark.executor.cores=2\n",
      "spark.executor.instances=20\n",
      "spark.executor.memory=9090M\n",
      "spark.history.fs.logDirectory=hdfs:///spark-history\n",
      "spark.history.kerberos.keytab=none\n",
      "spark.history.kerberos.principal=none\n",
      "spark.history.provider=org.apache.spark.deploy.history.FsHistoryProvider\n",
      "spark.history.ui.port=18080\n",
      "spark.master=yarn-client\n",
      "spark.submit.deployMode=client\n",
      "spark.yarn.containerLauncherMaxThreads=25\n",
      "spark.yarn.driver.memoryOverhead=384\n",
      "spark.yarn.executor.memoryOverhead=909\n",
      "spark.yarn.historyServer.address=ip-172-31-34-197.us-west-2.compute.internal:18080\n",
      "spark.yarn.max.executor.failures=3\n",
      "spark.yarn.preserve.staging.files=false\n",
      "spark.yarn.queue=default\n",
      "spark.yarn.scheduler.heartbeat.interval-ms=5000\n",
      "spark.yarn.submit.file.replication=3\n"
     ]
    }
   ],
   "source": [
    "server_cores = int(subprocess.check_output('nproc'))\n",
    "memory_per_executor = int((yarn_memory / executors_per_node) / 1.1)\n",
    "cores_per_executor = int(int(server_cores) / executors_per_node)\n",
    "executor_count = executors_per_node * node_count\n",
    "\n",
    "conf = SparkConf()\n",
    "\n",
    "conf.setAppName(cluster_name)\n",
    "conf.setMaster('yarn-client')\n",
    "conf.set('spark.dynamicAllocation.enabled', False)\n",
    "conf.set('spark.executor.cores', cores_per_executor)\n",
    "conf.set('spark.executor.memory', str(memory_per_executor) + 'M')\n",
    "conf.set('spark.yarn.executor.memoryOverhead', int(memory_per_executor / 10))\n",
    "conf.set('spark.executor.instances', executor_count)\n",
    "\n",
    "print conf.toDebugString()\n",
    "\n",
    "sc = SparkContext(conf=conf)"
   ]
  },
  {
   "cell_type": "markdown",
   "metadata": {},
   "source": [
    "# HW 13.1: Spark implementation of basic PageRank"
   ]
  },
  {
   "cell_type": "markdown",
   "metadata": {},
   "source": [
    "> Write a basic Spark implementation of the iterative PageRank algorithm\n",
    "that takes sparse adjacency lists as input.\n",
    "\n",
    "> Make sure that your implementation utilizes teleportation (1-damping/the number of nodes in the network),\n",
    "and further, distributes the mass of dangling nodes with each iteration\n",
    "so that the output of each iteration is correctly normalized (sums to 1).\n",
    "\n",
    "> [NOTE: The PageRank algorithm assumes that a random surfer (walker), starting from a random web page,\n",
    "chooses the next page to which it will move by clicking at random, with probability $d$,\n",
    "one of the hyperlinks in the current page. This probability is represented by a so-called\n",
    "'damping factor' $d$, where $d \\in (0, 1)$. Otherwise, with probability $(1 − d)$, the surfer\n",
    "jumps to any web page in the network. If a page is a dangling end, meaning it has no\n",
    "outgoing hyperlinks, the random surfer selects an arbitrary web page from a uniform\n",
    "distribution and \"teleports\" to that page]\n",
    "\n",
    "> In your Spark solution, please use broadcast variables and caching to make sure your code is as efficient as possible."
   ]
  },
  {
   "cell_type": "markdown",
   "metadata": {},
   "source": [
    "## Identify dangling nodes"
   ]
  },
  {
   "cell_type": "markdown",
   "metadata": {},
   "source": [
    "Graph files only list nodes with outgoing links, so any counts will be inaccurate unless they also have the nodes that have zero outgoing links (dangling nodes). The following code attempts to create the entire graph so that these nodes can be factored in for counting."
   ]
  },
  {
   "cell_type": "code",
   "execution_count": null,
   "metadata": {
    "collapsed": false
   },
   "outputs": [],
   "source": [
    "# Utility functions which will expand neighbors as a list and collapse pairs\n",
    "# of neighbor dictionaries into a single dictionary\n",
    "\n",
    "def getNeighborNames(x):\n",
    "    name, neighbors = x\n",
    "    return [str(neighbor) for neighbor in neighbors.iterkeys()]\n",
    "\n",
    "def asDanglingNode(x):\n",
    "    return x, {}\n",
    "\n",
    "def getTrueNeighbors(x, y):\n",
    "    if len(x) == 0:\n",
    "        return y\n",
    "    return x\n",
    "\n",
    "# Utility function which will construct a new RDD with all dangling nodes\n",
    "# added to the graph.\n",
    "\n",
    "def getCompleteAdjacencyList(leftRDD, rightRDD=None):\n",
    "    leftTableRDD = leftRDD\n",
    "\n",
    "    # Convert the right table into the left table (identifies dangling nodes)\n",
    "    # if no right table is provided. Otherwise, reuse the same format.\n",
    "\n",
    "    if rightRDD is None:\n",
    "        rightTableRDD = leftRDD.flatMap(getNeighborNames).distinct().map(asDanglingNode)\n",
    "    else:\n",
    "        rightTableRDD = rightRDD.map(lambda x: (x[0], {}))\n",
    "\n",
    "    return leftTableRDD.union(rightTableRDD) \\\n",
    "        .reduceByKey(getTrueNeighbors) \\\n",
    "        .cache()"
   ]
  },
  {
   "cell_type": "markdown",
   "metadata": {},
   "source": [
    "## Apply PageRank to adjacency list RDD"
   ]
  },
  {
   "cell_type": "markdown",
   "metadata": {},
   "source": [
    "Next, given a complete graph, we'll run the page rank algorithm. The goal is to boost performance as much as possible by caching each intermediate RDD (to avoid having to serialize it to disk), using broadcast variables and accumulators, and reducing the number of transformations."
   ]
  },
  {
   "cell_type": "code",
   "execution_count": null,
   "metadata": {
    "collapsed": false
   },
   "outputs": [],
   "source": [
    "# Perform one iteration of page rank\n",
    "\n",
    "def pageRankIteration(dataRDD, pageRankRDD, nodeCountValue, dampingFactorValue, danglingMassValue):\n",
    "\n",
    "    # Compute the bonus mass that we will add to each node (compute this\n",
    "    # in advance so that we can broadcast it during the initial map phase\n",
    "    # and avoid unnecessary transformations).\n",
    "\n",
    "    teleportMassValue = (1.0 - dampingFactorValue) / nodeCountValue\n",
    "    dampedDanglingMassValue = (danglingMassValue * dampingFactorValue) / nodeCountValue\n",
    "\n",
    "    dampingFactor = sc.broadcast(dampingFactorValue)\n",
    "    bonusMass = sc.broadcast(teleportMassValue + dampedDanglingMassValue)\n",
    "\n",
    "    # Function to distribute the probability mass\n",
    "\n",
    "    danglingMass = sc.accumulator(0.0)\n",
    "\n",
    "    def distributeProbabilityMass(x):\n",
    "        name, values = x\n",
    "        neighbors, mass = values\n",
    "\n",
    "        neighborCount = len(neighbors)\n",
    "\n",
    "        # Normally we would just indicate that we have 0.0 mass from our node,\n",
    "        # but the reality is we actually already know that we will have the\n",
    "        # guaranteed mass from the teleport and dangling nodes.\n",
    "\n",
    "        nodeData = [(name, bonusMass.value)]\n",
    "\n",
    "        if neighborCount == 0:\n",
    "            danglingMass.add(mass)\n",
    "            return nodeData\n",
    "\n",
    "        # Multiply the distributed mass by the damping factor here rather than\n",
    "        # as a separate step.\n",
    "\n",
    "        distributedMass = (mass / neighborCount) * dampingFactor.value\n",
    "\n",
    "        nodeDistributedMass = [\n",
    "            (neighbor, distributedMass)\n",
    "                 for neighbor in neighbors.iterkeys()\n",
    "        ]\n",
    "\n",
    "        return nodeData + nodeDistributedMass\n",
    "\n",
    "    # Perform one iteration of page rank\n",
    "\n",
    "    newPageRankRDD = dataRDD.join(pageRankRDD, numPartitions=dataRDD.getNumPartitions()) \\\n",
    "        .flatMap(distributeProbabilityMass) \\\n",
    "        .reduceByKey(operator.add) \\\n",
    "        .cache()\n",
    "\n",
    "    newPageRankRDD.count()\n",
    "    danglingMassValue = danglingMass.value\n",
    "\n",
    "    return danglingMassValue, newPageRankRDD\n",
    "\n",
    "# Iterate page rank for the given number of iterations\n",
    "\n",
    "def pageRank(dataRDD, pageRankRDD, danglingMassValue, iterationCount, debugIterationChanges):\n",
    "    times = []\n",
    "\n",
    "    now = datetime.today()\n",
    "    print now, 'Materializing node count'\n",
    "\n",
    "    nodeCountValue = dataRDD.count()\n",
    "\n",
    "    if pageRankRDD is None:\n",
    "        initialMassValue = 1.0 / nodeCountValue\n",
    "        initialMass = sc.broadcast(initialMassValue)\n",
    "\n",
    "        danglingMass = sc.accumulator(0.0)\n",
    "\n",
    "        def getInitialPageRank(x):\n",
    "            name, neighbors = x\n",
    "\n",
    "            if len(neighbors) == 0:\n",
    "                danglingMass.add(initialMass.value)\n",
    "\n",
    "            return name, initialMass.value\n",
    "\n",
    "        oldPageRankRDD = dataRDD.map(getInitialPageRank).cache()\n",
    "        oldPageRankRDD.count()\n",
    "\n",
    "        danglingMassValue = danglingMass.value\n",
    "    else:\n",
    "        oldPageRankRDD = pageRankRDD\n",
    "\n",
    "    now = datetime.today()\n",
    "    print now, 'Started page rank computation'\n",
    "\n",
    "    for i in range(0, iterationCount):\n",
    "        if debugIterationChanges:\n",
    "            now = datetime.today()\n",
    "            print now, 'Iteration', i + 1, 'started'\n",
    "\n",
    "        started = time.time()\n",
    "\n",
    "        danglingMassValue, newPageRankRDD = pageRankIteration(\n",
    "            dataRDD, oldPageRankRDD, nodeCountValue, 0.85, danglingMassValue)\n",
    "\n",
    "        finished = time.time()\n",
    "\n",
    "        times.append(finished - started)\n",
    "\n",
    "        # Update to the new page rank\n",
    "\n",
    "        oldPageRankRDD.unpersist()\n",
    "        oldPageRankRDD = newPageRankRDD\n",
    "\n",
    "    now = datetime.today()\n",
    "    print now, 'Finished page rank computation'\n",
    "\n",
    "    return times, danglingMassValue, newPageRankRDD"
   ]
  },
  {
   "cell_type": "markdown",
   "metadata": {},
   "source": [
    "## Acquire test network"
   ]
  },
  {
   "cell_type": "markdown",
   "metadata": {},
   "source": [
    "> As you build your code, use the test data\n",
    "\n",
    "> * s3://ucb-mids-mls-networks/PageRank-test.txt\n",
    "\n",
    "> Or under the Data Subfolder for HW7 on Dropbox with the same file name.\n",
    "\n",
    "> (On Dropbox https://www.dropbox.com/sh/2c0k5adwz36lkcw/AAAAKsjQfF9uHfv-X9mCqr9wa?dl=0)"
   ]
  },
  {
   "cell_type": "code",
   "execution_count": null,
   "metadata": {
    "collapsed": false
   },
   "outputs": [],
   "source": [
    "if not os.path.isfile('PageRank-test.txt'):\n",
    "    !wget -qq https://www.dropbox.com/sh/2c0k5adwz36lkcw/AADxzBgNxNF5Q6-eanjnK64qa/PageRank-test.txt\n",
    "    !hdfs dfs -copyFromLocal PageRank-test.txt"
   ]
  },
  {
   "cell_type": "markdown",
   "metadata": {},
   "source": [
    "## Add test network dangling nodes"
   ]
  },
  {
   "cell_type": "markdown",
   "metadata": {},
   "source": [
    "Use ``count`` in order to materialize the RDD so that the time to load the RDDs in these stages don't affect the computation time."
   ]
  },
  {
   "cell_type": "code",
   "execution_count": null,
   "metadata": {
    "collapsed": true
   },
   "outputs": [],
   "source": [
    "def parseLine(x):\n",
    "    name, value = x.split('\\t', 1)\n",
    "    return str(name), eval(value)"
   ]
  },
  {
   "cell_type": "code",
   "execution_count": null,
   "metadata": {
    "collapsed": false
   },
   "outputs": [
    {
     "name": "stdout",
     "output_type": "stream",
     "text": [
      "10\n"
     ]
    }
   ],
   "source": [
    "testDataRDD = sc.textFile('PageRank-test.txt').map(parseLine).cache()\n",
    "print testDataRDD.count()"
   ]
  },
  {
   "cell_type": "code",
   "execution_count": null,
   "metadata": {
    "collapsed": false
   },
   "outputs": [
    {
     "name": "stdout",
     "output_type": "stream",
     "text": [
      "11\n"
     ]
    }
   ],
   "source": [
    "testCompleteAdjacencyListRDD = getCompleteAdjacencyList(testDataRDD)\n",
    "print testCompleteAdjacencyListRDD.count()"
   ]
  },
  {
   "cell_type": "markdown",
   "metadata": {},
   "source": [
    "## Provide a way to plot time elapsed"
   ]
  },
  {
   "cell_type": "code",
   "execution_count": null,
   "metadata": {
    "collapsed": true
   },
   "outputs": [],
   "source": [
    "def plotTimes(t):\n",
    "    plt.scatter(range(1, len(t) + 1), t, marker='o')\n",
    "    plt.plot(range(1, len(t) + 1), t)\n",
    "    plt.title('Length of time per iteration')\n",
    "    plt.xlabel('Iteration')\n",
    "    plt.ylabel('Time (sec)')\n",
    "    plt.xlim(0,len(t) + 1)\n",
    "    plt.grid(True)"
   ]
  },
  {
   "cell_type": "markdown",
   "metadata": {},
   "source": [
    "## Execute PageRank on test network"
   ]
  },
  {
   "cell_type": "markdown",
   "metadata": {},
   "source": [
    "> With teleportation parameter set to 0.15 (1-d, where d, the damping factor is set to 0.85), and crosscheck\n",
    "your work with the true result, displayed in the first image\n",
    "in the Wikipedia article:\n",
    "\n",
    "> https://en.wikipedia.org/wiki/PageRank"
   ]
  },
  {
   "cell_type": "markdown",
   "metadata": {},
   "source": [
    "### Cross-check PageRank test data result locally"
   ]
  },
  {
   "cell_type": "markdown",
   "metadata": {},
   "source": [
    "> Run this experiment locally first. Report the local configuration that you used and how long in minutes and seconds it takes to complete your job."
   ]
  },
  {
   "cell_type": "markdown",
   "metadata": {},
   "source": [
    "Running it locally is the same as running it with just one partition. Therefore, repartition the data so that there is just one and run the page rank algorithm."
   ]
  },
  {
   "cell_type": "code",
   "execution_count": null,
   "metadata": {
    "collapsed": false
   },
   "outputs": [
    {
     "name": "stdout",
     "output_type": "stream",
     "text": [
      "2016-04-28 06:23:03.002564 Materializing node count\n",
      "2016-04-28 06:23:03.515883 Started page rank computation\n",
      "2016-04-28 06:23:17.749581 Finished page rank computation\n",
      "CPU times: user 809 ms, sys: 150 ms, total: 959 ms\n",
      "Wall time: 14.8 s\n"
     ]
    }
   ],
   "source": [
    "%time testPageRankTimes, testDanglingMass, testPageRankResult = pageRank( \\\n",
    "    testCompleteAdjacencyListRDD.partitionBy(1), None, 0.0, 40, False)"
   ]
  },
  {
   "cell_type": "code",
   "execution_count": null,
   "metadata": {
    "collapsed": false
   },
   "outputs": [
    {
     "data": {
      "image/png": "[encoded data removed]",
      "text/plain": [
      ]
     },
     "metadata": {},
     "output_type": "display_data"
    }
   ],
   "source": [
    "plotTimes(testPageRankTimes)"
   ]
  },
  {
   "cell_type": "markdown",
   "metadata": {},
   "source": [
    "Essentially this is run with the cluster configuration reported above, but on just one executor (thus emulating a local run of the code)."
   ]
  },
  {
   "cell_type": "markdown",
   "metadata": {},
   "source": [
    "* **Instance Type**: [Memory Optimized](https://aws.amazon.com/ec2/instance-types/#memory-optimized)\n",
    "* **Instance Class**: r3.xlarge\n",
    "* **Job Completion Time**: 15 seconds"
   ]
  },
  {
   "cell_type": "markdown",
   "metadata": {},
   "source": [
    "### Cross-check PageRank test data result on AWS"
   ]
  },
  {
   "cell_type": "markdown",
   "metadata": {},
   "source": [
    "> Repeat this experiment on AWS. Report the AWS cluster configuration that you used and how long in minutes and seconds it takes to complete your job. (in your notebook, cat the cluster config file)"
   ]
  },
  {
   "cell_type": "code",
   "execution_count": null,
   "metadata": {
    "collapsed": false
   },
   "outputs": [
    {
     "name": "stdout",
     "output_type": "stream",
     "text": [
      "2016-04-28 06:23:18.043424 Materializing node count\n",
      "2016-04-28 06:23:18.276046 Started page rank computation\n",
      "2016-04-28 06:23:33.325536 Finished page rank computation\n",
      "CPU times: user 781 ms, sys: 287 ms, total: 1.07 s\n",
      "Wall time: 15.3 s\n"
     ]
    }
   ],
   "source": [
    "%time testPageRankTimes, testDanglingMass, testPageRankResult = pageRank( \\\n",
    "    testCompleteAdjacencyListRDD, None, 0.0, 40, False)"
   ]
  },
  {
   "cell_type": "code",
   "execution_count": null,
   "metadata": {
    "collapsed": false
   },
   "outputs": [
    {
     "data": {
      "image/png": "[encoded data removed]",
      "text/plain": [
      ]
     },
     "metadata": {},
     "output_type": "display_data"
    }
   ],
   "source": [
    "plotTimes(testPageRankTimes)"
   ]
  },
  {
   "cell_type": "markdown",
   "metadata": {},
   "source": [
    "* **Instance Type**: [Memory Optimized](https://aws.amazon.com/ec2/instance-types/#memory-optimized)\n",
    "* **Instance Class**: r3.xlarge\n",
    "* **Cluster Size**: 10 nodes\n",
    "* **Job Completion Time**: 15 seconds"
   ]
  },
  {
   "cell_type": "markdown",
   "metadata": {},
   "source": [
    "### Confirm the PageRank test data matches"
   ]
  },
  {
   "cell_type": "markdown",
   "metadata": {},
   "source": [
    "> Here for reference are the corresponding PageRank probabilities:\n",
    "\n",
    "> ```\n",
    "    A,0.033\n",
    "    B,0.384\n",
    "    C,0.343\n",
    "    D,0.039\n",
    "    E,0.081\n",
    "    F,0.039\n",
    "    G,0.016\n",
    "    H,0.016\n",
    "    I,0.016\n",
    "    J,0.016\n",
    "    K,0.016\n",
    "```"
   ]
  },
  {
   "cell_type": "code",
   "execution_count": null,
   "metadata": {
    "collapsed": false
   },
   "outputs": [
    {
     "data": {
      "text/plain": [
       "[('A', '0.033'),\n",
       " ('B', '0.384'),\n",
       " ('C', '0.343'),\n",
       " ('D', '0.039'),\n",
       " ('E', '0.081'),\n",
       " ('F', '0.039'),\n",
       " ('G', '0.016'),\n",
       " ('H', '0.016'),\n",
       " ('I', '0.016'),\n",
       " ('J', '0.016'),\n",
       " ('K', '0.016')]"
      ]
     },
     "execution_count": null,
     "metadata": {},
     "output_type": "execute_result"
    }
   ],
   "source": [
    "[(x[0], '%0.3f' % x[1]) for x in testPageRankResult.sortByKey().collect()]"
   ]
  },
  {
   "cell_type": "markdown",
   "metadata": {},
   "source": [
    "# HW 13.2: Applying PageRank to the Wikipedia hyperlinks network"
   ]
  },
  {
   "cell_type": "markdown",
   "metadata": {},
   "source": [
    "> The dataset is built from the Sept. 2015 XML snapshot of English Wikipedia.\n",
    "For this directed network, a link between articles:\n",
    "\n",
    "> ```\n",
    "A -> B\n",
    "```\n",
    "\n",
    "> is defined by the existence of a hyperlink in A pointing to B.\n",
    "This network also exists in the indexed format:\n",
    "\n",
    "> * Data: s3://ucb-mids-mls-networks/wikipedia/all-pages-indexed-out.txt\n",
    "> * Data: s3://ucb-mids-mls-networks/wikipedia/all-pages-indexed-in.txt\n",
    "> * Data: s3://ucb-mids-mls-networks/wikipedia/indices.txt\n",
    "\n",
    "> but has an index with more detailed data:\n",
    "\n",
    "> ```\n",
    "(article name) \\t (index) \\t (in degree) \\t (out degree)\n",
    "```\n",
    "\n",
    "> In the dictionary, target nodes are keys, link weights are values .\n",
    "Here, a weight indicates the number of time a page links to another.\n",
    "However, for the sake of this assignment, treat this an unweighted network,\n",
    "and set all weights to 1 upon data input."
   ]
  },
  {
   "cell_type": "markdown",
   "metadata": {},
   "source": [
    "## Download Wikipedia data set"
   ]
  },
  {
   "cell_type": "code",
   "execution_count": null,
   "metadata": {
    "collapsed": false
   },
   "outputs": [],
   "source": [
    "if not os.path.isfile('all-pages-indexed-out.txt'):\n",
    "    !aws s3 cp s3://ucb-mids-mls-networks/wikipedia/all-pages-indexed-out.txt .\n",
    "    !hdfs dfs -copyFromLocal all-pages-indexed-out.txt\n",
    "\n",
    "if not os.path.isfile('all-pages-indexed-in.txt'):\n",
    "    !aws s3 cp s3://ucb-mids-mls-networks/wikipedia/all-pages-indexed-in.txt .\n",
    "    !hdfs dfs -copyFromLocal all-pages-indexed-in.txt"
   ]
  },
  {
   "cell_type": "markdown",
   "metadata": {},
   "source": [
    "## Add Wikipedia network dangling nodes"
   ]
  },
  {
   "cell_type": "markdown",
   "metadata": {},
   "source": [
    "Use ``count`` in order to materialize the RDD so that the time to load the RDDs in these stages don't affect the computation time."
   ]
  },
  {
   "cell_type": "code",
   "execution_count": null,
   "metadata": {
    "collapsed": false
   },
   "outputs": [
    {
     "name": "stdout",
     "output_type": "stream",
     "text": [
      "5781290\n",
      "14216021\n"
     ]
    }
   ],
   "source": [
    "wikipediaOutgoingRDD = \\\n",
    "    sc.textFile('all-pages-indexed-out.txt') \\\n",
    "        .map(parseLine) \\\n",
    "        .cache()\n",
    "\n",
    "wikipediaIncomingRDD = \\\n",
    "    sc.textFile('all-pages-indexed-in.txt') \\\n",
    "        .map(parseLine) \\\n",
    "        .cache()\n",
    "\n",
    "print wikipediaOutgoingRDD.count()\n",
    "print wikipediaIncomingRDD.count()"
   ]
  },
  {
   "cell_type": "markdown",
   "metadata": {},
   "source": [
    "Since the graph is large, we'll also want to know how long it takes to fill in the missing nodes of the graph."
   ]
  },
  {
   "cell_type": "code",
   "execution_count": null,
   "metadata": {
    "collapsed": false
   },
   "outputs": [
    {
     "name": "stdout",
     "output_type": "stream",
     "text": [
      "CPU times: user 14.9 ms, sys: 2.27 ms, total: 17.2 ms\n",
      "Wall time: 1min 16s\n"
     ]
    },
    {
     "data": {
      "text/plain": [
       "15192277"
      ]
     },
     "execution_count": null,
     "metadata": {},
     "output_type": "execute_result"
    }
   ],
   "source": [
    "wikipediaCompleteAdjacencyListRDD = getCompleteAdjacencyList(wikipediaOutgoingRDD, wikipediaIncomingRDD)\n",
    "%time wikipediaCompleteAdjacencyListRDD.count()"
   ]
  },
  {
   "cell_type": "markdown",
   "metadata": {},
   "source": [
    "## Execute PageRank on Wikipedia network"
   ]
  },
  {
   "cell_type": "markdown",
   "metadata": {},
   "source": [
    "### 10 Iterations - Execution"
   ]
  },
  {
   "cell_type": "markdown",
   "metadata": {},
   "source": [
    "> Run your Spark PageRank implementation on the Wikipedia dataset for 10 iterations,\n",
    "and display the top 100 ranked nodes (with alpha = 0.85)."
   ]
  },
  {
   "cell_type": "code",
   "execution_count": null,
   "metadata": {
    "collapsed": false
   },
   "outputs": [
    {
     "name": "stdout",
     "output_type": "stream",
     "text": [
      "2016-04-28 06:27:33.980714 Materializing node count\n",
      "2016-04-28 06:27:40.852787 Started page rank computation\n",
      "2016-04-28 06:27:40.852925 Iteration 1 started\n",
      "2016-04-28 06:31:58.024892 Iteration 2 started\n",
      "2016-04-28 06:35:29.574986 Iteration 3 started\n",
      "2016-04-28 06:39:00.576113 Iteration 4 started\n",
      "2016-04-28 06:42:33.583153 Iteration 5 started\n",
      "2016-04-28 06:45:56.733466 Iteration 6 started\n",
      "2016-04-28 06:49:25.194844 Iteration 7 started\n",
      "2016-04-28 06:52:34.138123 Iteration 8 started\n",
      "2016-04-28 06:55:53.033017 Iteration 9 started\n",
      "2016-04-28 06:59:22.791116 Iteration 10 started\n",
      "2016-04-28 07:02:45.033696 Finished page rank computation\n",
      "CPU times: user 379 ms, sys: 143 ms, total: 521 ms\n",
      "Wall time: 35min 11s\n"
     ]
    }
   ],
   "source": [
    "%time wikipedia10PageRankTimes, wikipedia10DanglingMass, wikipedia10PageRankResult = \\\n",
    "    pageRank(wikipediaCompleteAdjacencyListRDD, None, 0.0, 10, True)"
   ]
  },
  {
   "cell_type": "code",
   "execution_count": null,
   "metadata": {
    "collapsed": false
   },
   "outputs": [
    {
     "data": {
      "image/png": "[encoded data removed]",
      "text/plain": [
      ]
     },
     "metadata": {},
     "output_type": "display_data"
    }
   ],
   "source": [
    "plotTimes(wikipedia10PageRankTimes)"
   ]
  },
  {
   "cell_type": "markdown",
   "metadata": {},
   "source": [
    "### 10 Iterations - Top 100"
   ]
  },
  {
   "cell_type": "markdown",
   "metadata": {
    "collapsed": true
   },
   "source": [
    "Now we take the top 100 page rank values."
   ]
  },
  {
   "cell_type": "code",
   "execution_count": null,
   "metadata": {
    "collapsed": true
   },
   "outputs": [],
   "source": [
    "wikipedia10Top100PageRanks = wikipedia10PageRankResult.takeOrdered(100, lambda x: -x[1])\n",
    "wikipedia10Top100PageRankValues = { x[0]: x[1] for x in wikipedia10Top100PageRanks } "
   ]
  },
  {
   "cell_type": "markdown",
   "metadata": {},
   "source": [
    "Load the indices so that we can have something that is more human-readable."
   ]
  },
  {
   "cell_type": "code",
   "execution_count": null,
   "metadata": {
    "collapsed": false
   },
   "outputs": [
    {
     "name": "stdout",
     "output_type": "stream",
     "text": [
      "download: s3://ucb-mids-mls-networks/wikipedia/indices.txt to ./indices.txt\n"
     ]
    }
   ],
   "source": [
    "if not os.path.isfile('indices.txt'):\n",
    "    !aws s3 cp s3://ucb-mids-mls-networks/wikipedia/indices.txt .\n",
    "    !hdfs dfs -copyFromLocal indices.txt"
   ]
  },
  {
   "cell_type": "code",
   "execution_count": null,
   "metadata": {
    "collapsed": true
   },
   "outputs": [],
   "source": [
    "wikipediaIndicesRDD = sc.textFile('indices.txt')"
   ]
  },
  {
   "cell_type": "markdown",
   "metadata": {},
   "source": [
    "Perform a hash join of the indices with the top 100 IDs, which we can achieve in a more performant way by broadcasting the tables and generating the join via a filter followed by a map."
   ]
  },
  {
   "cell_type": "code",
   "execution_count": null,
   "metadata": {
    "collapsed": false
   },
   "outputs": [
    {
     "data": {
      "text/html": [
       "<div>\n",
       "<table border=\"1\" class=\"dataframe\">\n",
       "  <thead>\n",
       "    <tr style=\"text-align: right;\">\n",
       "      <th></th>\n",
       "      <th>Page Name</th>\n",
       "      <th>PageRank</th>\n",
       "    </tr>\n",
       "  </thead>\n",
       "  <tbody>\n",
       "    <tr>\n",
       "      <th>0</th>\n",
       "      <td>United States</td>\n",
       "      <td>0.001532</td>\n",
       "    </tr>\n",
       "    <tr>\n",
       "      <th>1</th>\n",
       "      <td>Animal</td>\n",
       "      <td>0.000694</td>\n",
       "    </tr>\n",
       "    <tr>\n",
       "      <th>2</th>\n",
       "      <td>France</td>\n",
       "      <td>0.000670</td>\n",
       "    </tr>\n",
       "    <tr>\n",
       "      <th>3</th>\n",
       "      <td>Germany</td>\n",
       "      <td>0.000602</td>\n",
       "    </tr>\n",
       "    <tr>\n",
       "      <th>4</th>\n",
       "      <td>Canada</td>\n",
       "      <td>0.000468</td>\n",
       "    </tr>\n",
       "    <tr>\n",
       "      <th>5</th>\n",
       "      <td>Arthropod</td>\n",
       "      <td>0.000468</td>\n",
       "    </tr>\n",
       "    <tr>\n",
       "      <th>6</th>\n",
       "      <td>List of sovereign states</td>\n",
       "      <td>0.000467</td>\n",
       "    </tr>\n",
       "    <tr>\n",
       "      <th>7</th>\n",
       "      <td>Insect</td>\n",
       "      <td>0.000462</td>\n",
       "    </tr>\n",
       "    <tr>\n",
       "      <th>8</th>\n",
       "      <td>United Kingdom</td>\n",
       "      <td>0.000455</td>\n",
       "    </tr>\n",
       "    <tr>\n",
       "      <th>9</th>\n",
       "      <td>India</td>\n",
       "      <td>0.000447</td>\n",
       "    </tr>\n",
       "    <tr>\n",
       "      <th>10</th>\n",
       "      <td>England</td>\n",
       "      <td>0.000443</td>\n",
       "    </tr>\n",
       "    <tr>\n",
       "      <th>11</th>\n",
       "      <td>Iran</td>\n",
       "      <td>0.000417</td>\n",
       "    </tr>\n",
       "    <tr>\n",
       "      <th>12</th>\n",
       "      <td>World War II</td>\n",
       "      <td>0.000405</td>\n",
       "    </tr>\n",
       "    <tr>\n",
       "      <th>13</th>\n",
       "      <td>Poland</td>\n",
       "      <td>0.000381</td>\n",
       "    </tr>\n",
       "    <tr>\n",
       "      <th>14</th>\n",
       "      <td>village</td>\n",
       "      <td>0.000359</td>\n",
       "    </tr>\n",
       "    <tr>\n",
       "      <th>15</th>\n",
       "      <td>Countries of the world</td>\n",
       "      <td>0.000354</td>\n",
       "    </tr>\n",
       "    <tr>\n",
       "      <th>16</th>\n",
       "      <td>Japan</td>\n",
       "      <td>0.000345</td>\n",
       "    </tr>\n",
       "    <tr>\n",
       "      <th>17</th>\n",
       "      <td>Italy</td>\n",
       "      <td>0.000345</td>\n",
       "    </tr>\n",
       "    <tr>\n",
       "      <th>18</th>\n",
       "      <td>Australia</td>\n",
       "      <td>0.000341</td>\n",
       "    </tr>\n",
       "    <tr>\n",
       "      <th>19</th>\n",
       "      <td>List of countries</td>\n",
       "      <td>0.000340</td>\n",
       "    </tr>\n",
       "    <tr>\n",
       "      <th>20</th>\n",
       "      <td>Voivodeships of Poland</td>\n",
       "      <td>0.000328</td>\n",
       "    </tr>\n",
       "    <tr>\n",
       "      <th>21</th>\n",
       "      <td>National Register of Historic Places</td>\n",
       "      <td>0.000322</td>\n",
       "    </tr>\n",
       "    <tr>\n",
       "      <th>22</th>\n",
       "      <td>Lepidoptera</td>\n",
       "      <td>0.000320</td>\n",
       "    </tr>\n",
       "    <tr>\n",
       "      <th>23</th>\n",
       "      <td>Powiat</td>\n",
       "      <td>0.000318</td>\n",
       "    </tr>\n",
       "    <tr>\n",
       "      <th>24</th>\n",
       "      <td>Gmina</td>\n",
       "      <td>0.000312</td>\n",
       "    </tr>\n",
       "    <tr>\n",
       "      <th>25</th>\n",
       "      <td>The New York Times</td>\n",
       "      <td>0.000302</td>\n",
       "    </tr>\n",
       "    <tr>\n",
       "      <th>26</th>\n",
       "      <td>London</td>\n",
       "      <td>0.000298</td>\n",
       "    </tr>\n",
       "    <tr>\n",
       "      <th>27</th>\n",
       "      <td>English language</td>\n",
       "      <td>0.000283</td>\n",
       "    </tr>\n",
       "    <tr>\n",
       "      <th>28</th>\n",
       "      <td>China</td>\n",
       "      <td>0.000277</td>\n",
       "    </tr>\n",
       "    <tr>\n",
       "      <th>29</th>\n",
       "      <td>Russia</td>\n",
       "      <td>0.000274</td>\n",
       "    </tr>\n",
       "    <tr>\n",
       "      <th>30</th>\n",
       "      <td>New York City</td>\n",
       "      <td>0.000271</td>\n",
       "    </tr>\n",
       "    <tr>\n",
       "      <th>31</th>\n",
       "      <td>Departments of France</td>\n",
       "      <td>0.000266</td>\n",
       "    </tr>\n",
       "    <tr>\n",
       "      <th>32</th>\n",
       "      <td>Spain</td>\n",
       "      <td>0.000263</td>\n",
       "    </tr>\n",
       "    <tr>\n",
       "      <th>33</th>\n",
       "      <td>Communes of France</td>\n",
       "      <td>0.000260</td>\n",
       "    </tr>\n",
       "    <tr>\n",
       "      <th>34</th>\n",
       "      <td>Brazil</td>\n",
       "      <td>0.000256</td>\n",
       "    </tr>\n",
       "    <tr>\n",
       "      <th>35</th>\n",
       "      <td>moth</td>\n",
       "      <td>0.000255</td>\n",
       "    </tr>\n",
       "    <tr>\n",
       "      <th>36</th>\n",
       "      <td>Association football</td>\n",
       "      <td>0.000250</td>\n",
       "    </tr>\n",
       "    <tr>\n",
       "      <th>37</th>\n",
       "      <td>association football</td>\n",
       "      <td>0.000244</td>\n",
       "    </tr>\n",
       "    <tr>\n",
       "      <th>38</th>\n",
       "      <td>California</td>\n",
       "      <td>0.000231</td>\n",
       "    </tr>\n",
       "    <tr>\n",
       "      <th>39</th>\n",
       "      <td>Counties of Iran</td>\n",
       "      <td>0.000224</td>\n",
       "    </tr>\n",
       "    <tr>\n",
       "      <th>40</th>\n",
       "      <td>Provinces of Iran</td>\n",
       "      <td>0.000224</td>\n",
       "    </tr>\n",
       "    <tr>\n",
       "      <th>41</th>\n",
       "      <td>Central European Time</td>\n",
       "      <td>0.000221</td>\n",
       "    </tr>\n",
       "    <tr>\n",
       "      <th>42</th>\n",
       "      <td>Romania</td>\n",
       "      <td>0.000221</td>\n",
       "    </tr>\n",
       "    <tr>\n",
       "      <th>43</th>\n",
       "      <td>Bakhsh</td>\n",
       "      <td>0.000216</td>\n",
       "    </tr>\n",
       "    <tr>\n",
       "      <th>44</th>\n",
       "      <td>Sweden</td>\n",
       "      <td>0.000213</td>\n",
       "    </tr>\n",
       "    <tr>\n",
       "      <th>45</th>\n",
       "      <td>Rural Districts of Iran</td>\n",
       "      <td>0.000211</td>\n",
       "    </tr>\n",
       "    <tr>\n",
       "      <th>46</th>\n",
       "      <td>Netherlands</td>\n",
       "      <td>0.000207</td>\n",
       "    </tr>\n",
       "    <tr>\n",
       "      <th>47</th>\n",
       "      <td>World War I</td>\n",
       "      <td>0.000201</td>\n",
       "    </tr>\n",
       "    <tr>\n",
       "      <th>48</th>\n",
       "      <td>Private Use Areas</td>\n",
       "      <td>0.000198</td>\n",
       "    </tr>\n",
       "    <tr>\n",
       "      <th>49</th>\n",
       "      <td>New York</td>\n",
       "      <td>0.000197</td>\n",
       "    </tr>\n",
       "    <tr>\n",
       "      <th>50</th>\n",
       "      <td>Central European Summer Time</td>\n",
       "      <td>0.000197</td>\n",
       "    </tr>\n",
       "    <tr>\n",
       "      <th>51</th>\n",
       "      <td>Mexico</td>\n",
       "      <td>0.000196</td>\n",
       "    </tr>\n",
       "    <tr>\n",
       "      <th>52</th>\n",
       "      <td>AllMusic</td>\n",
       "      <td>0.000195</td>\n",
       "    </tr>\n",
       "    <tr>\n",
       "      <th>53</th>\n",
       "      <td>Iran Standard Time</td>\n",
       "      <td>0.000194</td>\n",
       "    </tr>\n",
       "    <tr>\n",
       "      <th>54</th>\n",
       "      <td>Iran Daylight Time</td>\n",
       "      <td>0.000186</td>\n",
       "    </tr>\n",
       "    <tr>\n",
       "      <th>55</th>\n",
       "      <td>Hangul</td>\n",
       "      <td>0.000185</td>\n",
       "    </tr>\n",
       "    <tr>\n",
       "      <th>56</th>\n",
       "      <td>Scotland</td>\n",
       "      <td>0.000182</td>\n",
       "    </tr>\n",
       "    <tr>\n",
       "      <th>57</th>\n",
       "      <td>gene</td>\n",
       "      <td>0.000177</td>\n",
       "    </tr>\n",
       "    <tr>\n",
       "      <th>58</th>\n",
       "      <td>Soviet Union</td>\n",
       "      <td>0.000176</td>\n",
       "    </tr>\n",
       "    <tr>\n",
       "      <th>59</th>\n",
       "      <td>Norway</td>\n",
       "      <td>0.000175</td>\n",
       "    </tr>\n",
       "    <tr>\n",
       "      <th>60</th>\n",
       "      <td>Allmusic</td>\n",
       "      <td>0.000173</td>\n",
       "    </tr>\n",
       "    <tr>\n",
       "      <th>61</th>\n",
       "      <td>Paris</td>\n",
       "      <td>0.000169</td>\n",
       "    </tr>\n",
       "    <tr>\n",
       "      <th>62</th>\n",
       "      <td>New Zealand</td>\n",
       "      <td>0.000168</td>\n",
       "    </tr>\n",
       "    <tr>\n",
       "      <th>63</th>\n",
       "      <td>Turkey</td>\n",
       "      <td>0.000167</td>\n",
       "    </tr>\n",
       "    <tr>\n",
       "      <th>64</th>\n",
       "      <td>Plant</td>\n",
       "      <td>0.000166</td>\n",
       "    </tr>\n",
       "    <tr>\n",
       "      <th>65</th>\n",
       "      <td>Switzerland</td>\n",
       "      <td>0.000163</td>\n",
       "    </tr>\n",
       "    <tr>\n",
       "      <th>66</th>\n",
       "      <td>Geographic Names Information System</td>\n",
       "      <td>0.000162</td>\n",
       "    </tr>\n",
       "    <tr>\n",
       "      <th>67</th>\n",
       "      <td>Los Angeles</td>\n",
       "      <td>0.000161</td>\n",
       "    </tr>\n",
       "    <tr>\n",
       "      <th>68</th>\n",
       "      <td>United States Census Bureau</td>\n",
       "      <td>0.000155</td>\n",
       "    </tr>\n",
       "    <tr>\n",
       "      <th>69</th>\n",
       "      <td>Europe</td>\n",
       "      <td>0.000155</td>\n",
       "    </tr>\n",
       "    <tr>\n",
       "      <th>70</th>\n",
       "      <td>Romanize</td>\n",
       "      <td>0.000155</td>\n",
       "    </tr>\n",
       "    <tr>\n",
       "      <th>71</th>\n",
       "      <td>Angiosperms</td>\n",
       "      <td>0.000148</td>\n",
       "    </tr>\n",
       "    <tr>\n",
       "      <th>72</th>\n",
       "      <td>South Africa</td>\n",
       "      <td>0.000148</td>\n",
       "    </tr>\n",
       "    <tr>\n",
       "      <th>73</th>\n",
       "      <td>census</td>\n",
       "      <td>0.000146</td>\n",
       "    </tr>\n",
       "    <tr>\n",
       "      <th>74</th>\n",
       "      <td>Flowering plant</td>\n",
       "      <td>0.000145</td>\n",
       "    </tr>\n",
       "    <tr>\n",
       "      <th>75</th>\n",
       "      <td>Austria</td>\n",
       "      <td>0.000143</td>\n",
       "    </tr>\n",
       "    <tr>\n",
       "      <th>76</th>\n",
       "      <td>U.S. state</td>\n",
       "      <td>0.000141</td>\n",
       "    </tr>\n",
       "    <tr>\n",
       "      <th>77</th>\n",
       "      <td>protein</td>\n",
       "      <td>0.000141</td>\n",
       "    </tr>\n",
       "    <tr>\n",
       "      <th>78</th>\n",
       "      <td>Argentina</td>\n",
       "      <td>0.000137</td>\n",
       "    </tr>\n",
       "    <tr>\n",
       "      <th>79</th>\n",
       "      <td>population density</td>\n",
       "      <td>0.000137</td>\n",
       "    </tr>\n",
       "    <tr>\n",
       "      <th>80</th>\n",
       "      <td>Political divisions of the United States</td>\n",
       "      <td>0.000136</td>\n",
       "    </tr>\n",
       "    <tr>\n",
       "      <th>81</th>\n",
       "      <td>Catholic Church</td>\n",
       "      <td>0.000136</td>\n",
       "    </tr>\n",
       "    <tr>\n",
       "      <th>82</th>\n",
       "      <td>Chordate</td>\n",
       "      <td>0.000135</td>\n",
       "    </tr>\n",
       "    <tr>\n",
       "      <th>83</th>\n",
       "      <td>BBC</td>\n",
       "      <td>0.000134</td>\n",
       "    </tr>\n",
       "    <tr>\n",
       "      <th>84</th>\n",
       "      <td>Belgium</td>\n",
       "      <td>0.000133</td>\n",
       "    </tr>\n",
       "    <tr>\n",
       "      <th>85</th>\n",
       "      <td>Chicago</td>\n",
       "      <td>0.000131</td>\n",
       "    </tr>\n",
       "    <tr>\n",
       "      <th>86</th>\n",
       "      <td>Washington, D.C.</td>\n",
       "      <td>0.000127</td>\n",
       "    </tr>\n",
       "    <tr>\n",
       "      <th>87</th>\n",
       "      <td>Pakistan</td>\n",
       "      <td>0.000126</td>\n",
       "    </tr>\n",
       "    <tr>\n",
       "      <th>88</th>\n",
       "      <td>Finland</td>\n",
       "      <td>0.000121</td>\n",
       "    </tr>\n",
       "    <tr>\n",
       "      <th>89</th>\n",
       "      <td>Latin</td>\n",
       "      <td>0.000121</td>\n",
       "    </tr>\n",
       "    <tr>\n",
       "      <th>90</th>\n",
       "      <td>The Guardian</td>\n",
       "      <td>0.000121</td>\n",
       "    </tr>\n",
       "    <tr>\n",
       "      <th>91</th>\n",
       "      <td>Ontario</td>\n",
       "      <td>0.000120</td>\n",
       "    </tr>\n",
       "    <tr>\n",
       "      <th>92</th>\n",
       "      <td>Czech Republic</td>\n",
       "      <td>0.000119</td>\n",
       "    </tr>\n",
       "    <tr>\n",
       "      <th>93</th>\n",
       "      <td>Denmark</td>\n",
       "      <td>0.000119</td>\n",
       "    </tr>\n",
       "    <tr>\n",
       "      <th>94</th>\n",
       "      <td>Philippines</td>\n",
       "      <td>0.000119</td>\n",
       "    </tr>\n",
       "    <tr>\n",
       "      <th>95</th>\n",
       "      <td>Greece</td>\n",
       "      <td>0.000119</td>\n",
       "    </tr>\n",
       "    <tr>\n",
       "      <th>96</th>\n",
       "      <td>genus</td>\n",
       "      <td>0.000118</td>\n",
       "    </tr>\n",
       "    <tr>\n",
       "      <th>97</th>\n",
       "      <td>football (soccer)</td>\n",
       "      <td>0.000118</td>\n",
       "    </tr>\n",
       "    <tr>\n",
       "      <th>98</th>\n",
       "      <td>Hungary</td>\n",
       "      <td>0.000118</td>\n",
       "    </tr>\n",
       "    <tr>\n",
       "      <th>99</th>\n",
       "      <td>Eastern European Time</td>\n",
       "      <td>0.000117</td>\n",
       "    </tr>\n",
       "  </tbody>\n",
       "</table>\n",
       "</div>"
      ],
      "text/plain": [
       "                                   Page Name  PageRank\n",
       "0                              United States  0.001532\n",
       "1                                     Animal  0.000694\n",
       "2                                     France  0.000670\n",
       "3                                    Germany  0.000602\n",
       "4                                     Canada  0.000468\n",
       "5                                  Arthropod  0.000468\n",
       "6                   List of sovereign states  0.000467\n",
       "7                                     Insect  0.000462\n",
       "8                             United Kingdom  0.000455\n",
       "9                                      India  0.000447\n",
       "10                                   England  0.000443\n",
       "11                                      Iran  0.000417\n",
       "12                              World War II  0.000405\n",
       "13                                    Poland  0.000381\n",
       "14                                   village  0.000359\n",
       "15                    Countries of the world  0.000354\n",
       "16                                     Japan  0.000345\n",
       "17                                     Italy  0.000345\n",
       "18                                 Australia  0.000341\n",
       "19                         List of countries  0.000340\n",
       "20                    Voivodeships of Poland  0.000328\n",
       "21      National Register of Historic Places  0.000322\n",
       "22                               Lepidoptera  0.000320\n",
       "23                                    Powiat  0.000318\n",
       "24                                     Gmina  0.000312\n",
       "25                        The New York Times  0.000302\n",
       "26                                    London  0.000298\n",
       "27                          English language  0.000283\n",
       "28                                     China  0.000277\n",
       "29                                    Russia  0.000274\n",
       "30                             New York City  0.000271\n",
       "31                     Departments of France  0.000266\n",
       "32                                     Spain  0.000263\n",
       "33                        Communes of France  0.000260\n",
       "34                                    Brazil  0.000256\n",
       "35                                      moth  0.000255\n",
       "36                      Association football  0.000250\n",
       "37                      association football  0.000244\n",
       "38                                California  0.000231\n",
       "39                          Counties of Iran  0.000224\n",
       "40                         Provinces of Iran  0.000224\n",
       "41                     Central European Time  0.000221\n",
       "42                                   Romania  0.000221\n",
       "43                                    Bakhsh  0.000216\n",
       "44                                    Sweden  0.000213\n",
       "45                   Rural Districts of Iran  0.000211\n",
       "46                               Netherlands  0.000207\n",
       "47                               World War I  0.000201\n",
       "48                         Private Use Areas  0.000198\n",
       "49                                  New York  0.000197\n",
       "50              Central European Summer Time  0.000197\n",
       "51                                    Mexico  0.000196\n",
       "52                                  AllMusic  0.000195\n",
       "53                        Iran Standard Time  0.000194\n",
       "54                        Iran Daylight Time  0.000186\n",
       "55                                    Hangul  0.000185\n",
       "56                                  Scotland  0.000182\n",
       "57                                      gene  0.000177\n",
       "58                              Soviet Union  0.000176\n",
       "59                                    Norway  0.000175\n",
       "60                                  Allmusic  0.000173\n",
       "61                                     Paris  0.000169\n",
       "62                               New Zealand  0.000168\n",
       "63                                    Turkey  0.000167\n",
       "64                                     Plant  0.000166\n",
       "65                               Switzerland  0.000163\n",
       "66       Geographic Names Information System  0.000162\n",
       "67                               Los Angeles  0.000161\n",
       "68               United States Census Bureau  0.000155\n",
       "69                                    Europe  0.000155\n",
       "70                                  Romanize  0.000155\n",
       "71                               Angiosperms  0.000148\n",
       "72                              South Africa  0.000148\n",
       "73                                    census  0.000146\n",
       "74                           Flowering plant  0.000145\n",
       "75                                   Austria  0.000143\n",
       "76                                U.S. state  0.000141\n",
       "77                                   protein  0.000141\n",
       "78                                 Argentina  0.000137\n",
       "79                        population density  0.000137\n",
       "80  Political divisions of the United States  0.000136\n",
       "81                           Catholic Church  0.000136\n",
       "82                                  Chordate  0.000135\n",
       "83                                       BBC  0.000134\n",
       "84                                   Belgium  0.000133\n",
       "85                                   Chicago  0.000131\n",
       "86                          Washington, D.C.  0.000127\n",
       "87                                  Pakistan  0.000126\n",
       "88                                   Finland  0.000121\n",
       "89                                     Latin  0.000121\n",
       "90                              The Guardian  0.000121\n",
       "91                                   Ontario  0.000120\n",
       "92                            Czech Republic  0.000119\n",
       "93                                   Denmark  0.000119\n",
       "94                               Philippines  0.000119\n",
       "95                                    Greece  0.000119\n",
       "96                                     genus  0.000118\n",
       "97                         football (soccer)  0.000118\n",
       "98                                   Hungary  0.000118\n",
       "99                     Eastern European Time  0.000117"
      ]
     },
     "execution_count": null,
     "metadata": {},
     "output_type": "execute_result"
    }
   ],
   "source": [
    "def getNamedPageRanks(top100PageRankValues):\n",
    "    global wikipediaIndicesRDD\n",
    "\n",
    "    top100PageRanks = sc.broadcast(top100PageRankValues)\n",
    "\n",
    "    def isTop100Index(x):\n",
    "        pageId = x.split('\\t')[1]\n",
    "        return pageId in top100PageRanks.value\n",
    "\n",
    "    def getPageRank(x):\n",
    "        pageName, pageId, values = x.split('\\t', 2)\n",
    "        return pageName, top100PageRanks.value[pageId]\n",
    "\n",
    "    return wikipediaIndicesRDD \\\n",
    "        .filter(isTop100Index) \\\n",
    "        .map(getPageRank) \\\n",
    "        .takeOrdered(100, lambda x: -x[1])\n",
    "\n",
    "pandas.set_option('display.max_rows', 100)\n",
    "\n",
    "wikipedia10 = pandas.DataFrame( \\\n",
    "    getNamedPageRanks(wikipedia10Top100PageRankValues), \\\n",
    "    columns=['Page Name', 'PageRank'])\n",
    "\n",
    "wikipedia10.to_csv('wikipedia10.csv')\n",
    "wikipedia10"
   ]
  },
  {
   "cell_type": "markdown",
   "metadata": {},
   "source": [
    "### 50 Iterations - Execution"
   ]
  },
  {
   "cell_type": "markdown",
   "metadata": {},
   "source": [
    "> Run your PageRank implementation on the Wikipedia dataset for 50 iterations,\n",
    "and display the top 100 ranked nodes (with teleportation factor of 0.15). "
   ]
  },
  {
   "cell_type": "code",
   "execution_count": null,
   "metadata": {
    "collapsed": false
   },
   "outputs": [
    {
     "name": "stdout",
     "output_type": "stream",
     "text": [
      "2016-04-28 07:14:13.181001 Materializing node count\n",
      "2016-04-28 07:14:15.085986 Started page rank computation\n",
      "2016-04-28 07:14:15.086156 Iteration 1 started\n",
      "2016-04-28 07:17:40.902493 Iteration 2 started\n",
      "2016-04-28 07:21:16.868179 Iteration 3 started\n",
      "2016-04-28 07:24:41.955739 Iteration 4 started\n",
      "2016-04-28 07:28:02.296140 Iteration 5 started\n",
      "2016-04-28 07:31:19.740367 Iteration 6 started\n",
      "2016-04-28 07:34:36.342526 Iteration 7 started\n",
      "2016-04-28 07:38:08.700308 Iteration 8 started\n",
      "2016-04-28 07:41:25.731395 Iteration 9 started\n",
      "2016-04-28 07:44:39.495285 Iteration 10 started\n",
      "2016-04-28 07:48:18.939736 Iteration 11 started\n",
      "2016-04-28 07:51:41.705826 Iteration 12 started\n",
      "2016-04-28 07:54:57.539863 Iteration 13 started\n",
      "2016-04-28 07:58:17.557013 Iteration 14 started\n",
      "2016-04-28 08:01:25.772825 Iteration 15 started\n",
      "2016-04-28 08:04:42.498227 Iteration 16 started\n",
      "2016-04-28 08:08:04.295407 Iteration 17 started\n",
      "2016-04-28 08:11:50.126125 Iteration 18 started\n",
      "2016-04-28 08:15:04.449860 Iteration 19 started\n",
      "2016-04-28 08:18:32.364234 Iteration 20 started\n",
      "2016-04-28 08:21:46.865417 Iteration 21 started\n",
      "2016-04-28 08:25:19.005241 Iteration 22 started\n",
      "2016-04-28 08:28:40.114989 Iteration 23 started\n",
      "2016-04-28 08:32:02.463207 Iteration 24 started\n",
      "2016-04-28 08:35:11.165888 Iteration 25 started\n",
      "2016-04-28 08:38:23.974867 Iteration 26 started\n",
      "2016-04-28 08:41:51.777859 Iteration 27 started\n",
      "2016-04-28 08:45:11.227338 Iteration 28 started\n",
      "2016-04-28 08:48:42.275848 Iteration 29 started\n",
      "2016-04-28 08:52:42.546230 Iteration 30 started\n",
      "2016-04-28 08:55:55.295281 Iteration 31 started\n",
      "2016-04-28 08:59:26.457045 Iteration 32 started\n",
      "2016-04-28 09:02:33.705238 Iteration 33 started\n",
      "2016-04-28 09:05:38.772129 Iteration 34 started\n",
      "2016-04-28 09:08:54.537053 Iteration 35 started\n",
      "2016-04-28 09:12:26.804139 Iteration 36 started\n",
      "2016-04-28 09:15:34.788779 Iteration 37 started\n",
      "2016-04-28 09:18:46.528377 Iteration 38 started\n",
      "2016-04-28 09:22:18.374488 Iteration 39 started\n",
      "2016-04-28 09:25:59.985769 Iteration 40 started\n",
      "2016-04-28 09:29:30.319430 Finished page rank computation\n",
      "CPU times: user 1.48 s, sys: 482 ms, total: 1.96 s\n",
      "Wall time: 2h 15min 17s\n"
     ]
    }
   ],
   "source": [
    "%time wikipedia50PageRankTimes, wikipedia50DanglingMass, wikipedia50PageRankResult = \\\n",
    "    pageRank(wikipediaCompleteAdjacencyListRDD, wikipedia10PageRankResult, wikipedia10DanglingMass, 40, True)"
   ]
  },
  {
   "cell_type": "code",
   "execution_count": null,
   "metadata": {
    "collapsed": false
   },
   "outputs": [
    {
     "data": {
      "image/png": "[encoded data removed]",
      "text/plain": [
      ]
     },
     "metadata": {},
     "output_type": "display_data"
    }
   ],
   "source": [
    "plotTimes(wikipedia50PageRankTimes)"
   ]
  },
  {
   "cell_type": "markdown",
   "metadata": {},
   "source": [
    "### 50 Iterations - Top 100"
   ]
  },
  {
   "cell_type": "markdown",
   "metadata": {},
   "source": [
    "Now we take the top 100 page rank values."
   ]
  },
  {
   "cell_type": "code",
   "execution_count": null,
   "metadata": {
    "collapsed": true
   },
   "outputs": [],
   "source": [
    "wikipedia50Top100PageRanks = wikipedia50PageRankResult.takeOrdered(100, lambda x: -x[1])\n",
    "wikipedia50Top100PageRankValues = { x[0]: x[1] for x in wikipedia50Top100PageRanks }"
   ]
  },
  {
   "cell_type": "markdown",
   "metadata": {},
   "source": [
    "Perform a hash join of the indices with the top 100 IDs, which we can achieve in a more performant way by broadcasting the tables and generating the join via a filter followed by a map."
   ]
  },
  {
   "cell_type": "code",
   "execution_count": null,
   "metadata": {
    "collapsed": false
   },
   "outputs": [
    {
     "data": {
      "text/html": [
       "<div>\n",
       "<table border=\"1\" class=\"dataframe\">\n",
       "  <thead>\n",
       "    <tr style=\"text-align: right;\">\n",
       "      <th></th>\n",
       "      <th>Page Name</th>\n",
       "      <th>PageRank</th>\n",
       "    </tr>\n",
       "  </thead>\n",
       "  <tbody>\n",
       "    <tr>\n",
       "      <th>0</th>\n",
       "      <td>United States</td>\n",
       "      <td>0.001462</td>\n",
       "    </tr>\n",
       "    <tr>\n",
       "      <th>1</th>\n",
       "      <td>Animal</td>\n",
       "      <td>0.000666</td>\n",
       "    </tr>\n",
       "    <tr>\n",
       "      <th>2</th>\n",
       "      <td>France</td>\n",
       "      <td>0.000640</td>\n",
       "    </tr>\n",
       "    <tr>\n",
       "      <th>3</th>\n",
       "      <td>Germany</td>\n",
       "      <td>0.000575</td>\n",
       "    </tr>\n",
       "    <tr>\n",
       "      <th>4</th>\n",
       "      <td>Arthropod</td>\n",
       "      <td>0.000450</td>\n",
       "    </tr>\n",
       "    <tr>\n",
       "      <th>5</th>\n",
       "      <td>Canada</td>\n",
       "      <td>0.000447</td>\n",
       "    </tr>\n",
       "    <tr>\n",
       "      <th>6</th>\n",
       "      <td>Insect</td>\n",
       "      <td>0.000445</td>\n",
       "    </tr>\n",
       "    <tr>\n",
       "      <th>7</th>\n",
       "      <td>List of sovereign states</td>\n",
       "      <td>0.000444</td>\n",
       "    </tr>\n",
       "    <tr>\n",
       "      <th>8</th>\n",
       "      <td>United Kingdom</td>\n",
       "      <td>0.000433</td>\n",
       "    </tr>\n",
       "    <tr>\n",
       "      <th>9</th>\n",
       "      <td>India</td>\n",
       "      <td>0.000428</td>\n",
       "    </tr>\n",
       "    <tr>\n",
       "      <th>10</th>\n",
       "      <td>England</td>\n",
       "      <td>0.000424</td>\n",
       "    </tr>\n",
       "    <tr>\n",
       "      <th>11</th>\n",
       "      <td>Iran</td>\n",
       "      <td>0.000398</td>\n",
       "    </tr>\n",
       "    <tr>\n",
       "      <th>12</th>\n",
       "      <td>World War II</td>\n",
       "      <td>0.000386</td>\n",
       "    </tr>\n",
       "    <tr>\n",
       "      <th>13</th>\n",
       "      <td>Poland</td>\n",
       "      <td>0.000363</td>\n",
       "    </tr>\n",
       "    <tr>\n",
       "      <th>14</th>\n",
       "      <td>village</td>\n",
       "      <td>0.000344</td>\n",
       "    </tr>\n",
       "    <tr>\n",
       "      <th>15</th>\n",
       "      <td>Countries of the world</td>\n",
       "      <td>0.000338</td>\n",
       "    </tr>\n",
       "    <tr>\n",
       "      <th>16</th>\n",
       "      <td>Japan</td>\n",
       "      <td>0.000329</td>\n",
       "    </tr>\n",
       "    <tr>\n",
       "      <th>17</th>\n",
       "      <td>Italy</td>\n",
       "      <td>0.000329</td>\n",
       "    </tr>\n",
       "    <tr>\n",
       "      <th>18</th>\n",
       "      <td>List of countries</td>\n",
       "      <td>0.000326</td>\n",
       "    </tr>\n",
       "    <tr>\n",
       "      <th>19</th>\n",
       "      <td>Australia</td>\n",
       "      <td>0.000325</td>\n",
       "    </tr>\n",
       "    <tr>\n",
       "      <th>20</th>\n",
       "      <td>Voivodeships of Poland</td>\n",
       "      <td>0.000313</td>\n",
       "    </tr>\n",
       "    <tr>\n",
       "      <th>21</th>\n",
       "      <td>National Register of Historic Places</td>\n",
       "      <td>0.000310</td>\n",
       "    </tr>\n",
       "    <tr>\n",
       "      <th>22</th>\n",
       "      <td>Lepidoptera</td>\n",
       "      <td>0.000308</td>\n",
       "    </tr>\n",
       "    <tr>\n",
       "      <th>23</th>\n",
       "      <td>Powiat</td>\n",
       "      <td>0.000303</td>\n",
       "    </tr>\n",
       "    <tr>\n",
       "      <th>24</th>\n",
       "      <td>Gmina</td>\n",
       "      <td>0.000298</td>\n",
       "    </tr>\n",
       "    <tr>\n",
       "      <th>25</th>\n",
       "      <td>The New York Times</td>\n",
       "      <td>0.000286</td>\n",
       "    </tr>\n",
       "    <tr>\n",
       "      <th>26</th>\n",
       "      <td>London</td>\n",
       "      <td>0.000284</td>\n",
       "    </tr>\n",
       "    <tr>\n",
       "      <th>27</th>\n",
       "      <td>English language</td>\n",
       "      <td>0.000269</td>\n",
       "    </tr>\n",
       "    <tr>\n",
       "      <th>28</th>\n",
       "      <td>China</td>\n",
       "      <td>0.000264</td>\n",
       "    </tr>\n",
       "    <tr>\n",
       "      <th>29</th>\n",
       "      <td>Russia</td>\n",
       "      <td>0.000261</td>\n",
       "    </tr>\n",
       "    <tr>\n",
       "      <th>30</th>\n",
       "      <td>New York City</td>\n",
       "      <td>0.000258</td>\n",
       "    </tr>\n",
       "    <tr>\n",
       "      <th>31</th>\n",
       "      <td>Departments of France</td>\n",
       "      <td>0.000255</td>\n",
       "    </tr>\n",
       "    <tr>\n",
       "      <th>32</th>\n",
       "      <td>Spain</td>\n",
       "      <td>0.000251</td>\n",
       "    </tr>\n",
       "    <tr>\n",
       "      <th>33</th>\n",
       "      <td>Communes of France</td>\n",
       "      <td>0.000249</td>\n",
       "    </tr>\n",
       "    <tr>\n",
       "      <th>34</th>\n",
       "      <td>moth</td>\n",
       "      <td>0.000245</td>\n",
       "    </tr>\n",
       "    <tr>\n",
       "      <th>35</th>\n",
       "      <td>Brazil</td>\n",
       "      <td>0.000245</td>\n",
       "    </tr>\n",
       "    <tr>\n",
       "      <th>36</th>\n",
       "      <td>Association football</td>\n",
       "      <td>0.000239</td>\n",
       "    </tr>\n",
       "    <tr>\n",
       "      <th>37</th>\n",
       "      <td>association football</td>\n",
       "      <td>0.000233</td>\n",
       "    </tr>\n",
       "    <tr>\n",
       "      <th>38</th>\n",
       "      <td>California</td>\n",
       "      <td>0.000221</td>\n",
       "    </tr>\n",
       "    <tr>\n",
       "      <th>39</th>\n",
       "      <td>Counties of Iran</td>\n",
       "      <td>0.000215</td>\n",
       "    </tr>\n",
       "    <tr>\n",
       "      <th>40</th>\n",
       "      <td>Provinces of Iran</td>\n",
       "      <td>0.000215</td>\n",
       "    </tr>\n",
       "    <tr>\n",
       "      <th>41</th>\n",
       "      <td>Central European Time</td>\n",
       "      <td>0.000211</td>\n",
       "    </tr>\n",
       "    <tr>\n",
       "      <th>42</th>\n",
       "      <td>Romania</td>\n",
       "      <td>0.000211</td>\n",
       "    </tr>\n",
       "    <tr>\n",
       "      <th>43</th>\n",
       "      <td>Bakhsh</td>\n",
       "      <td>0.000207</td>\n",
       "    </tr>\n",
       "    <tr>\n",
       "      <th>44</th>\n",
       "      <td>Sweden</td>\n",
       "      <td>0.000203</td>\n",
       "    </tr>\n",
       "    <tr>\n",
       "      <th>45</th>\n",
       "      <td>Rural Districts of Iran</td>\n",
       "      <td>0.000203</td>\n",
       "    </tr>\n",
       "    <tr>\n",
       "      <th>46</th>\n",
       "      <td>Netherlands</td>\n",
       "      <td>0.000197</td>\n",
       "    </tr>\n",
       "    <tr>\n",
       "      <th>47</th>\n",
       "      <td>Private Use Areas</td>\n",
       "      <td>0.000191</td>\n",
       "    </tr>\n",
       "    <tr>\n",
       "      <th>48</th>\n",
       "      <td>World War I</td>\n",
       "      <td>0.000191</td>\n",
       "    </tr>\n",
       "    <tr>\n",
       "      <th>49</th>\n",
       "      <td>New York</td>\n",
       "      <td>0.000188</td>\n",
       "    </tr>\n",
       "    <tr>\n",
       "      <th>50</th>\n",
       "      <td>Central European Summer Time</td>\n",
       "      <td>0.000188</td>\n",
       "    </tr>\n",
       "    <tr>\n",
       "      <th>51</th>\n",
       "      <td>Mexico</td>\n",
       "      <td>0.000187</td>\n",
       "    </tr>\n",
       "    <tr>\n",
       "      <th>52</th>\n",
       "      <td>Iran Standard Time</td>\n",
       "      <td>0.000187</td>\n",
       "    </tr>\n",
       "    <tr>\n",
       "      <th>53</th>\n",
       "      <td>AllMusic</td>\n",
       "      <td>0.000185</td>\n",
       "    </tr>\n",
       "    <tr>\n",
       "      <th>54</th>\n",
       "      <td>Iran Daylight Time</td>\n",
       "      <td>0.000179</td>\n",
       "    </tr>\n",
       "    <tr>\n",
       "      <th>55</th>\n",
       "      <td>Hangul</td>\n",
       "      <td>0.000178</td>\n",
       "    </tr>\n",
       "    <tr>\n",
       "      <th>56</th>\n",
       "      <td>Scotland</td>\n",
       "      <td>0.000173</td>\n",
       "    </tr>\n",
       "    <tr>\n",
       "      <th>57</th>\n",
       "      <td>gene</td>\n",
       "      <td>0.000170</td>\n",
       "    </tr>\n",
       "    <tr>\n",
       "      <th>58</th>\n",
       "      <td>Soviet Union</td>\n",
       "      <td>0.000168</td>\n",
       "    </tr>\n",
       "    <tr>\n",
       "      <th>59</th>\n",
       "      <td>Norway</td>\n",
       "      <td>0.000167</td>\n",
       "    </tr>\n",
       "    <tr>\n",
       "      <th>60</th>\n",
       "      <td>Allmusic</td>\n",
       "      <td>0.000165</td>\n",
       "    </tr>\n",
       "    <tr>\n",
       "      <th>61</th>\n",
       "      <td>Paris</td>\n",
       "      <td>0.000161</td>\n",
       "    </tr>\n",
       "    <tr>\n",
       "      <th>62</th>\n",
       "      <td>New Zealand</td>\n",
       "      <td>0.000161</td>\n",
       "    </tr>\n",
       "    <tr>\n",
       "      <th>63</th>\n",
       "      <td>Turkey</td>\n",
       "      <td>0.000159</td>\n",
       "    </tr>\n",
       "    <tr>\n",
       "      <th>64</th>\n",
       "      <td>Plant</td>\n",
       "      <td>0.000158</td>\n",
       "    </tr>\n",
       "    <tr>\n",
       "      <th>65</th>\n",
       "      <td>Geographic Names Information System</td>\n",
       "      <td>0.000155</td>\n",
       "    </tr>\n",
       "    <tr>\n",
       "      <th>66</th>\n",
       "      <td>Switzerland</td>\n",
       "      <td>0.000155</td>\n",
       "    </tr>\n",
       "    <tr>\n",
       "      <th>67</th>\n",
       "      <td>Los Angeles</td>\n",
       "      <td>0.000153</td>\n",
       "    </tr>\n",
       "    <tr>\n",
       "      <th>68</th>\n",
       "      <td>Romanize</td>\n",
       "      <td>0.000149</td>\n",
       "    </tr>\n",
       "    <tr>\n",
       "      <th>69</th>\n",
       "      <td>United States Census Bureau</td>\n",
       "      <td>0.000148</td>\n",
       "    </tr>\n",
       "    <tr>\n",
       "      <th>70</th>\n",
       "      <td>Europe</td>\n",
       "      <td>0.000147</td>\n",
       "    </tr>\n",
       "    <tr>\n",
       "      <th>71</th>\n",
       "      <td>Angiosperms</td>\n",
       "      <td>0.000142</td>\n",
       "    </tr>\n",
       "    <tr>\n",
       "      <th>72</th>\n",
       "      <td>South Africa</td>\n",
       "      <td>0.000141</td>\n",
       "    </tr>\n",
       "    <tr>\n",
       "      <th>73</th>\n",
       "      <td>census</td>\n",
       "      <td>0.000139</td>\n",
       "    </tr>\n",
       "    <tr>\n",
       "      <th>74</th>\n",
       "      <td>Flowering plant</td>\n",
       "      <td>0.000138</td>\n",
       "    </tr>\n",
       "    <tr>\n",
       "      <th>75</th>\n",
       "      <td>Austria</td>\n",
       "      <td>0.000136</td>\n",
       "    </tr>\n",
       "    <tr>\n",
       "      <th>76</th>\n",
       "      <td>protein</td>\n",
       "      <td>0.000135</td>\n",
       "    </tr>\n",
       "    <tr>\n",
       "      <th>77</th>\n",
       "      <td>U.S. state</td>\n",
       "      <td>0.000135</td>\n",
       "    </tr>\n",
       "    <tr>\n",
       "      <th>78</th>\n",
       "      <td>Argentina</td>\n",
       "      <td>0.000131</td>\n",
       "    </tr>\n",
       "    <tr>\n",
       "      <th>79</th>\n",
       "      <td>Political divisions of the United States</td>\n",
       "      <td>0.000130</td>\n",
       "    </tr>\n",
       "    <tr>\n",
       "      <th>80</th>\n",
       "      <td>population density</td>\n",
       "      <td>0.000130</td>\n",
       "    </tr>\n",
       "    <tr>\n",
       "      <th>81</th>\n",
       "      <td>Catholic Church</td>\n",
       "      <td>0.000128</td>\n",
       "    </tr>\n",
       "    <tr>\n",
       "      <th>82</th>\n",
       "      <td>Chordate</td>\n",
       "      <td>0.000128</td>\n",
       "    </tr>\n",
       "    <tr>\n",
       "      <th>83</th>\n",
       "      <td>BBC</td>\n",
       "      <td>0.000127</td>\n",
       "    </tr>\n",
       "    <tr>\n",
       "      <th>84</th>\n",
       "      <td>Belgium</td>\n",
       "      <td>0.000127</td>\n",
       "    </tr>\n",
       "    <tr>\n",
       "      <th>85</th>\n",
       "      <td>Chicago</td>\n",
       "      <td>0.000124</td>\n",
       "    </tr>\n",
       "    <tr>\n",
       "      <th>86</th>\n",
       "      <td>Washington, D.C.</td>\n",
       "      <td>0.000121</td>\n",
       "    </tr>\n",
       "    <tr>\n",
       "      <th>87</th>\n",
       "      <td>Pakistan</td>\n",
       "      <td>0.000120</td>\n",
       "    </tr>\n",
       "    <tr>\n",
       "      <th>88</th>\n",
       "      <td>Finland</td>\n",
       "      <td>0.000116</td>\n",
       "    </tr>\n",
       "    <tr>\n",
       "      <th>89</th>\n",
       "      <td>The Guardian</td>\n",
       "      <td>0.000115</td>\n",
       "    </tr>\n",
       "    <tr>\n",
       "      <th>90</th>\n",
       "      <td>Latin</td>\n",
       "      <td>0.000115</td>\n",
       "    </tr>\n",
       "    <tr>\n",
       "      <th>91</th>\n",
       "      <td>Ontario</td>\n",
       "      <td>0.000114</td>\n",
       "    </tr>\n",
       "    <tr>\n",
       "      <th>92</th>\n",
       "      <td>Czech Republic</td>\n",
       "      <td>0.000114</td>\n",
       "    </tr>\n",
       "    <tr>\n",
       "      <th>93</th>\n",
       "      <td>Philippines</td>\n",
       "      <td>0.000113</td>\n",
       "    </tr>\n",
       "    <tr>\n",
       "      <th>94</th>\n",
       "      <td>Denmark</td>\n",
       "      <td>0.000113</td>\n",
       "    </tr>\n",
       "    <tr>\n",
       "      <th>95</th>\n",
       "      <td>Greece</td>\n",
       "      <td>0.000113</td>\n",
       "    </tr>\n",
       "    <tr>\n",
       "      <th>96</th>\n",
       "      <td>genus</td>\n",
       "      <td>0.000113</td>\n",
       "    </tr>\n",
       "    <tr>\n",
       "      <th>97</th>\n",
       "      <td>football (soccer)</td>\n",
       "      <td>0.000112</td>\n",
       "    </tr>\n",
       "    <tr>\n",
       "      <th>98</th>\n",
       "      <td>Hungary</td>\n",
       "      <td>0.000112</td>\n",
       "    </tr>\n",
       "    <tr>\n",
       "      <th>99</th>\n",
       "      <td>Eastern European Time</td>\n",
       "      <td>0.000112</td>\n",
       "    </tr>\n",
       "  </tbody>\n",
       "</table>\n",
       "</div>"
      ],
      "text/plain": [
       "                                   Page Name  PageRank\n",
       "0                              United States  0.001462\n",
       "1                                     Animal  0.000666\n",
       "2                                     France  0.000640\n",
       "3                                    Germany  0.000575\n",
       "4                                  Arthropod  0.000450\n",
       "5                                     Canada  0.000447\n",
       "6                                     Insect  0.000445\n",
       "7                   List of sovereign states  0.000444\n",
       "8                             United Kingdom  0.000433\n",
       "9                                      India  0.000428\n",
       "10                                   England  0.000424\n",
       "11                                      Iran  0.000398\n",
       "12                              World War II  0.000386\n",
       "13                                    Poland  0.000363\n",
       "14                                   village  0.000344\n",
       "15                    Countries of the world  0.000338\n",
       "16                                     Japan  0.000329\n",
       "17                                     Italy  0.000329\n",
       "18                         List of countries  0.000326\n",
       "19                                 Australia  0.000325\n",
       "20                    Voivodeships of Poland  0.000313\n",
       "21      National Register of Historic Places  0.000310\n",
       "22                               Lepidoptera  0.000308\n",
       "23                                    Powiat  0.000303\n",
       "24                                     Gmina  0.000298\n",
       "25                        The New York Times  0.000286\n",
       "26                                    London  0.000284\n",
       "27                          English language  0.000269\n",
       "28                                     China  0.000264\n",
       "29                                    Russia  0.000261\n",
       "30                             New York City  0.000258\n",
       "31                     Departments of France  0.000255\n",
       "32                                     Spain  0.000251\n",
       "33                        Communes of France  0.000249\n",
       "34                                      moth  0.000245\n",
       "35                                    Brazil  0.000245\n",
       "36                      Association football  0.000239\n",
       "37                      association football  0.000233\n",
       "38                                California  0.000221\n",
       "39                          Counties of Iran  0.000215\n",
       "40                         Provinces of Iran  0.000215\n",
       "41                     Central European Time  0.000211\n",
       "42                                   Romania  0.000211\n",
       "43                                    Bakhsh  0.000207\n",
       "44                                    Sweden  0.000203\n",
       "45                   Rural Districts of Iran  0.000203\n",
       "46                               Netherlands  0.000197\n",
       "47                         Private Use Areas  0.000191\n",
       "48                               World War I  0.000191\n",
       "49                                  New York  0.000188\n",
       "50              Central European Summer Time  0.000188\n",
       "51                                    Mexico  0.000187\n",
       "52                        Iran Standard Time  0.000187\n",
       "53                                  AllMusic  0.000185\n",
       "54                        Iran Daylight Time  0.000179\n",
       "55                                    Hangul  0.000178\n",
       "56                                  Scotland  0.000173\n",
       "57                                      gene  0.000170\n",
       "58                              Soviet Union  0.000168\n",
       "59                                    Norway  0.000167\n",
       "60                                  Allmusic  0.000165\n",
       "61                                     Paris  0.000161\n",
       "62                               New Zealand  0.000161\n",
       "63                                    Turkey  0.000159\n",
       "64                                     Plant  0.000158\n",
       "65       Geographic Names Information System  0.000155\n",
       "66                               Switzerland  0.000155\n",
       "67                               Los Angeles  0.000153\n",
       "68                                  Romanize  0.000149\n",
       "69               United States Census Bureau  0.000148\n",
       "70                                    Europe  0.000147\n",
       "71                               Angiosperms  0.000142\n",
       "72                              South Africa  0.000141\n",
       "73                                    census  0.000139\n",
       "74                           Flowering plant  0.000138\n",
       "75                                   Austria  0.000136\n",
       "76                                   protein  0.000135\n",
       "77                                U.S. state  0.000135\n",
       "78                                 Argentina  0.000131\n",
       "79  Political divisions of the United States  0.000130\n",
       "80                        population density  0.000130\n",
       "81                           Catholic Church  0.000128\n",
       "82                                  Chordate  0.000128\n",
       "83                                       BBC  0.000127\n",
       "84                                   Belgium  0.000127\n",
       "85                                   Chicago  0.000124\n",
       "86                          Washington, D.C.  0.000121\n",
       "87                                  Pakistan  0.000120\n",
       "88                                   Finland  0.000116\n",
       "89                              The Guardian  0.000115\n",
       "90                                     Latin  0.000115\n",
       "91                                   Ontario  0.000114\n",
       "92                            Czech Republic  0.000114\n",
       "93                               Philippines  0.000113\n",
       "94                                   Denmark  0.000113\n",
       "95                                    Greece  0.000113\n",
       "96                                     genus  0.000113\n",
       "97                         football (soccer)  0.000112\n",
       "98                                   Hungary  0.000112\n",
       "99                     Eastern European Time  0.000112"
      ]
     },
     "execution_count": null,
     "metadata": {},
     "output_type": "execute_result"
    }
   ],
   "source": [
    "wikipedia50 = pandas.DataFrame( \\\n",
    "    getNamedPageRanks(wikipedia50Top100PageRankValues), \\\n",
    "    columns=['Page Name', 'PageRank'])\n",
    "\n",
    "wikipedia50.to_csv('wikipedia50.csv')\n",
    "wikipedia50"
   ]
  },
  {
   "cell_type": "markdown",
   "metadata": {},
   "source": [
    "## Evaluate PageRank Results"
   ]
  },
  {
   "cell_type": "markdown",
   "metadata": {},
   "source": [
    "> Plot the pagerank values for the top 100 pages resulting from the 50 iterations run. Then plot the pagerank values for the same 100 pages that resulted from the 10 iterations run.  Comment on your findings."
   ]
  },
  {
   "cell_type": "code",
   "execution_count": null,
   "metadata": {
    "collapsed": false
   },
   "outputs": [
    {
     "data": {
      "text/plain": [
       "<matplotlib.axes._subplots.AxesSubplot at 0x7fba13ed3050>"
      ]
     },
     "execution_count": null,
     "metadata": {},
     "output_type": "execute_result"
    },
    {
     "data": {
      "image/png": "[encoded data removed]",
      "text/plain": [
      ]
     },
     "metadata": {},
     "output_type": "display_data"
    }
   ],
   "source": [
    "wikipediaMerged = wikipedia10.merge( \\\n",
    "    wikipedia50, on=['Page Name'], suffixes=[' (10 iterations)', ' (50 iterations)'])\n",
    "\n",
    "fig, axes = plt.subplots(1, 2, figsize=(16, 30))\n",
    "\n",
    "seaborn.barplot(x='PageRank (10 iterations)', y='Page Name', data=wikipediaMerged, ax=axes[0])\n",
    "seaborn.barplot(x='PageRank (50 iterations)', y='Page Name', data=wikipediaMerged, ax=axes[1])"
   ]
  },
  {
   "cell_type": "markdown",
   "metadata": {},
   "source": [
    "> Have the top 100 ranked pages changed? Have the pagerank values changed? Explain."
   ]
  },
  {
   "cell_type": "markdown",
   "metadata": {},
   "source": [
    "We can check if the membership changed using set intersection."
   ]
  },
  {
   "cell_type": "code",
   "execution_count": null,
   "metadata": {
    "collapsed": false
   },
   "outputs": [
    {
     "name": "stdout",
     "output_type": "stream",
     "text": [
      "Intersection: 100 nodes\n"
     ]
    }
   ],
   "source": [
    "top100Nodes10 = [x[0] for x in wikipedia10Top100PageRanks]\n",
    "top100Nodes50 = [x[0] for x in wikipedia50Top100PageRanks]\n",
    "\n",
    "intersection = set(top100Nodes10) & set(top100Nodes50)\n",
    "print 'Intersection:', len(intersection), 'nodes'"
   ]
  },
  {
   "cell_type": "markdown",
   "metadata": {},
   "source": [
    "We can also check the Levenshtein distance between the two rankings to see how much the rankings themselves have changed."
   ]
  },
  {
   "cell_type": "code",
   "execution_count": null,
   "metadata": {
    "collapsed": false
   },
   "outputs": [
    {
     "name": "stdout",
     "output_type": "stream",
     "text": [
      "Levenshtein distance: 23\n"
     ]
    }
   ],
   "source": [
    "# Borrowed under Creative Commons\n",
    "# http://hetland.org/coding/python/levenshtein.py\n",
    "\n",
    "def levenshtein(a,b):\n",
    "    \"Calculates the Levenshtein distance between a and b.\"\n",
    "    n, m = len(a), len(b)\n",
    "    if n > m:\n",
    "        # Make sure n <= m, to use O(min(n,m)) space\n",
    "        a,b = b,a\n",
    "        n,m = m,n\n",
    "\n",
    "    current = range(n+1)\n",
    "    for i in range(1,m+1):\n",
    "        previous, current = current, [i]+[0]*n\n",
    "        for j in range(1,n+1):\n",
    "            add, delete = previous[j]+1, current[j-1]+1\n",
    "            change = previous[j-1]\n",
    "            if a[j-1] != b[i-1]:\n",
    "                change = change + 1\n",
    "            current[j] = min(add, delete, change)\n",
    "\n",
    "    return current[n]\n",
    "\n",
    "print 'Levenshtein distance:', levenshtein(top100Nodes10, top100Nodes50)"
   ]
  },
  {
   "cell_type": "markdown",
   "metadata": {},
   "source": [
    "This means that even though the top 100 has not changed in terms of the nodes themselves, the rankings have shifted slightly during the additional iterations. Let's identify which ones changed."
   ]
  },
  {
   "cell_type": "code",
   "execution_count": null,
   "metadata": {
    "collapsed": false
   },
   "outputs": [
    {
     "data": {
      "text/plain": [
       "[(u'Canada', u'Arthropod'),\n",
       " (u'Arthropod', u'Canada'),\n",
       " (u'List of sovereign states', u'Insect'),\n",
       " (u'Insect', u'List of sovereign states'),\n",
       " (u'Australia', u'List of countries'),\n",
       " (u'List of countries', u'Australia'),\n",
       " (u'Brazil', u'moth'),\n",
       " (u'moth', u'Brazil'),\n",
       " (u'World War I', u'Private Use Areas'),\n",
       " (u'Private Use Areas', u'World War I'),\n",
       " (u'AllMusic', u'Iran Standard Time'),\n",
       " (u'Iran Standard Time', u'AllMusic'),\n",
       " (u'Switzerland', u'Geographic Names Information System'),\n",
       " (u'Geographic Names Information System', u'Switzerland'),\n",
       " (u'United States Census Bureau', u'Romanize'),\n",
       " (u'Europe', u'United States Census Bureau'),\n",
       " (u'Romanize', u'Europe'),\n",
       " (u'U.S. state', u'protein'),\n",
       " (u'protein', u'U.S. state'),\n",
       " (u'population density', u'Political divisions of the United States'),\n",
       " (u'Political divisions of the United States', u'population density'),\n",
       " (u'Latin', u'The Guardian'),\n",
       " (u'The Guardian', u'Latin'),\n",
       " (u'Denmark', u'Philippines'),\n",
       " (u'Philippines', u'Denmark')]"
      ]
     },
     "execution_count": null,
     "metadata": {},
     "output_type": "execute_result"
    }
   ],
   "source": [
    "[(x, y) for x, y in zip(top100Nodes10, top100Nodes50) if x != y]"
   ]
  },
  {
   "cell_type": "markdown",
   "metadata": {},
   "source": [
    "Because the zip is ordered, and everything mismatched is immediately flipped, many of the top 100 are switching places back and forth as the PageRank continues to iterate, with one exception being a set of three (United States Census Bureau, Romanize, Europe) that appear to be switching places."
   ]
  },
  {
   "cell_type": "code",
   "execution_count": null,
   "metadata": {
    "collapsed": false
   },
   "outputs": [
    {
     "name": "stdout",
     "output_type": "stream",
     "text": [
      "maximum change: 5.478%\n"
     ]
    },
    {
     "data": {
      "text/html": [
       "<div>\n",
       "<table border=\"1\" class=\"dataframe\">\n",
       "  <thead>\n",
       "    <tr style=\"text-align: right;\">\n",
       "      <th></th>\n",
       "      <th>Page Name</th>\n",
       "      <th>PageRank (10 iterations)</th>\n",
       "      <th>PageRank (50 iterations)</th>\n",
       "    </tr>\n",
       "  </thead>\n",
       "  <tbody>\n",
       "    <tr>\n",
       "      <th>81</th>\n",
       "      <td>Catholic Church</td>\n",
       "      <td>0.000136</td>\n",
       "      <td>0.000128</td>\n",
       "    </tr>\n",
       "  </tbody>\n",
       "</table>\n",
       "</div>"
      ],
      "text/plain": [
       "          Page Name  PageRank (10 iterations)  PageRank (50 iterations)\n",
       "81  Catholic Church                  0.000136                  0.000128"
      ]
     },
     "execution_count": null,
     "metadata": {},
     "output_type": "execute_result"
    }
   ],
   "source": [
    "allPageRanks = wikipediaMerged[['PageRank (10 iterations)', 'PageRank (50 iterations)']].values\n",
    "maxChange = numpy.max(numpy.divide(allPageRanks[:,0], allPageRanks[:,1]) - 1)\n",
    "maxChangeIndex = numpy.argmax(numpy.divide(allPageRanks[:,0], allPageRanks[:,1]) - 1)\n",
    "\n",
    "print 'maximum change: {:.3%}'.format(maxChange)\n",
    "wikipediaMerged[maxChangeIndex:maxChangeIndex+1]"
   ]
  },
  {
   "cell_type": "markdown",
   "metadata": {},
   "source": [
    "As we can see above, even though the Levenshtein distance appears to be large, the actual absolute values in switching page ranks are fairly small, with the maximum relative percentage change being 5.48%."
   ]
  },
  {
   "cell_type": "markdown",
   "metadata": {},
   "source": [
    "# HW 13.3: Spark GraphX versus your implementation of PageRank"
   ]
  },
  {
   "cell_type": "markdown",
   "metadata": {},
   "source": [
    "## Provide utility method to run GraphX PageRank"
   ]
  },
  {
   "cell_type": "markdown",
   "metadata": {},
   "source": [
    "First, we provide a utility library which will let us run page rank just by passing a file name."
   ]
  },
  {
   "cell_type": "code",
   "execution_count": null,
   "metadata": {
    "collapsed": false
   },
   "outputs": [
    {
     "name": "stdout",
     "output_type": "stream",
     "text": [
      "Overwriting PageRank.scala\n"
     ]
    }
   ],
   "source": [
    "%%writefile PageRank.scala\n",
    "import java.io._\n",
    "import org.apache.spark._\n",
    "import org.apache.spark.graphx._\n",
    "import org.apache.spark.graphx.lib._\n",
    "import org.apache.spark.rdd.RDD\n",
    "\n",
    "/**\n",
    " * Retrieve edges from a single line in the input file\n",
    " */\n",
    "def getEdges(line:String): List[Edge[Int]] = {\n",
    "  val splitLine = line.split(\"\\t\")\n",
    "\n",
    "  val label:String = splitLine(0)\n",
    "  val re = \"'([^']*)'\".r\n",
    "\n",
    "  val matchList = (re findAllIn splitLine(1)).matchData.toList\n",
    "  matchList.map { matchItem => Edge(label.toLong, matchItem.group(1).toLong, 1) }\n",
    "}\n",
    "\n",
    "/**\n",
    " * Run PageRank against the specified file and take the top N results\n",
    " */\n",
    "def pageRank(inputFileName:String, outputFileName:String, iterations:Int, topN:Int) {\n",
    "    val edges = sc.textFile(inputFileName).flatMap(getEdges).cache()\n",
    "    edges.count()\n",
    "\n",
    "    val graph:Graph[Any,Int] = Graph.fromEdges(edges, 1)\n",
    "\n",
    "    val start = System.nanoTime()\n",
    "    val pageRank = PageRank.run(graph, numIter=iterations, resetProb=0.15).vertices\n",
    "    val topPageRank = pageRank.takeOrdered(topN)(Ordering[Double].reverse.on { x => x._2 })\n",
    "    val end = System.nanoTime()\n",
    "\n",
    "    sc.parallelize(topPageRank).saveAsTextFile(outputFileName)\n",
    "\n",
    "    val writer = new PrintWriter(new File(outputFileName + \".time_elapsed\"))\n",
    "    writer.println((end - start) * 1e-9)\n",
    "    writer.close()\n",
    "}"
   ]
  },
  {
   "cell_type": "markdown",
   "metadata": {},
   "source": [
    "## Check implementation against test data"
   ]
  },
  {
   "cell_type": "markdown",
   "metadata": {},
   "source": [
    "Before we run the shell script, we'll make sure that our log4j.properties suppresses INFO level logging so that we only print out WARN or above."
   ]
  },
  {
   "cell_type": "code",
   "execution_count": null,
   "metadata": {
    "collapsed": false
   },
   "outputs": [],
   "source": [
    "!sudo sed -i 's/INFO/WARN/g' {os.environ['SPARK_HOME']}/conf/log4j.properties"
   ]
  },
  {
   "cell_type": "markdown",
   "metadata": {},
   "source": [
    "An `Edge` in spark requires that we use a numbered edge graph (all vertex identifiers are 64-bit integers rather than strings), so we start by retrieving a different file for our test."
   ]
  },
  {
   "cell_type": "code",
   "execution_count": null,
   "metadata": {
    "collapsed": true
   },
   "outputs": [],
   "source": [
    "if not os.path.isfile('PageRank-test_indexed.txt'):\n",
    "    !wget -qq https://www.dropbox.com/sh/2c0k5adwz36lkcw/AACf_33TeM7rKfEhjEoNmMCaa/PageRank-test_indexed.txt\n",
    "    !hdfs dfs -copyFromLocal PageRank-test_indexed.txt"
   ]
  },
  {
   "cell_type": "markdown",
   "metadata": {},
   "source": [
    "Now we submit our script to the Spark shell. Given that we are just using the test set, we don't need to provide the extra configuration options for the shell."
   ]
  },
  {
   "cell_type": "code",
   "execution_count": null,
   "metadata": {
    "collapsed": false
   },
   "outputs": [
    {
     "name": "stdout",
     "output_type": "stream",
     "text": [
      "Overwriting TestPageRank.scala\n"
     ]
    }
   ],
   "source": [
    "%%writefile TestPageRank.scala\n",
    ":load PageRank.scala\n",
    "pageRank(\"PageRank-test_indexed.txt\", \"scala_test\", 40, 11)"
   ]
  },
  {
   "cell_type": "code",
   "execution_count": null,
   "metadata": {
    "collapsed": false
   },
   "outputs": [
    {
     "name": "stdout",
     "output_type": "stream",
     "text": [
      "(2,3.560429918779537)\r\n",
      "(3,3.1757908007345232)\r\n",
      "(5,0.7503552818569399)\r\n",
      "(6,0.3626006631927996)\r\n",
      "(4,0.3626006631927996)\r\n",
      "(1,0.30410528185693986)\r\n",
      "(8,0.15)\r\n",
      "(10,0.15)\r\n",
      "(11,0.15)\r\n",
      "(9,0.15)\r\n",
      "(7,0.15)\r\n"
     ]
    }
   ],
   "source": [
    "!echo >> TestPageRank.scala\n",
    "!hdfs dfs -rm -r -f -skipTrash scala_test > /dev/null\n",
    "!cat TestPageRank.scala | spark-shell > /dev/null 2>&1\n",
    "!hdfs dfs -cat scala_test/*"
   ]
  },
  {
   "cell_type": "markdown",
   "metadata": {},
   "source": [
    "Note: although the rankings end up the same for GraphX vs. our home grown implementation, the PageRank values are different. This is due to differences in normalization, dangling mass distribution and initialization values.\n",
    "\n",
    "* **Normalization**: our implementation has PageRanks of all nodes sum to 1. GraphX does not.\n",
    "* **Dangling mass distribution**: we distribute dangling mass. GraphX sets PageRank of dangling nodes to be alpha.\n",
    "* **Initialization values**: we initialize the PageRank to 1/n. GraphX initalizes to 1."
   ]
  },
  {
   "cell_type": "markdown",
   "metadata": {},
   "source": [
    "## Check implementation against Wikipedia data set"
   ]
  },
  {
   "cell_type": "markdown",
   "metadata": {},
   "source": [
    "In order to run efficiently, we'll need to stop our current Spark context."
   ]
  },
  {
   "cell_type": "code",
   "execution_count": null,
   "metadata": {
    "collapsed": true
   },
   "outputs": [],
   "source": [
    "sc.stop()"
   ]
  },
  {
   "cell_type": "markdown",
   "metadata": {},
   "source": [
    "### 10 Iterations - Execution"
   ]
  },
  {
   "cell_type": "markdown",
   "metadata": {},
   "source": [
    "> Run the Spark  GraphX PageRank implementation on the Wikipedia dataset for 10 iterations,\n",
    "and display the top 100 ranked nodes (with alpha = 0.85)."
   ]
  },
  {
   "cell_type": "code",
   "execution_count": null,
   "metadata": {
    "collapsed": false
   },
   "outputs": [
    {
     "name": "stdout",
     "output_type": "stream",
     "text": [
      "Overwriting Wikipedia10PageRank.scala\n"
     ]
    }
   ],
   "source": [
    "%%writefile Wikipedia10PageRank.scala\n",
    ":load PageRank.scala\n",
    "pageRank(\"all-pages-indexed-out.txt\", \"scala_wikipedia10\", 10, 100)"
   ]
  },
  {
   "cell_type": "code",
   "execution_count": null,
   "metadata": {
    "collapsed": false
   },
   "outputs": [
    {
     "name": "stdout",
     "output_type": "stream",
     "text": [
      "239.543514528\r\n"
     ]
    }
   ],
   "source": [
    "!echo >> Wikipedia10PageRank.scala\n",
    "!hdfs dfs -rm -r -f -skipTrash scala_wikipedia10 > /dev/null\n",
    "\n",
    "!cat Wikipedia10PageRank.scala | \\\n",
    "    spark-shell --master yarn-client --num-executors {executor_count} \\\n",
    "    --executor-memory {memory_per_executor}M --executor-cores {cores_per_executor} \\\n",
    "    > /dev/null 2>&1\n",
    "\n",
    "!cat scala_wikipedia10.time_elapsed"
   ]
  },
  {
   "cell_type": "markdown",
   "metadata": {},
   "source": [
    "### 50 Iterations - Execution"
   ]
  },
  {
   "cell_type": "markdown",
   "metadata": {},
   "source": [
    "> Run your PageRank implementation on the Wikipedia dataset for 50 iterations,\n",
    "and display the top 100 ranked nodes (with teleportation factor of 0.15). "
   ]
  },
  {
   "cell_type": "code",
   "execution_count": null,
   "metadata": {
    "collapsed": false
   },
   "outputs": [
    {
     "name": "stdout",
     "output_type": "stream",
     "text": [
      "Overwriting Wikipedia50PageRank.scala\n"
     ]
    }
   ],
   "source": [
    "%%writefile Wikipedia50PageRank.scala\n",
    ":load PageRank.scala\n",
    "pageRank(\"all-pages-indexed-out.txt\", \"scala_wikipedia50\", 50, 100)"
   ]
  },
  {
   "cell_type": "code",
   "execution_count": null,
   "metadata": {
    "collapsed": false
   },
   "outputs": [
    {
     "name": "stdout",
     "output_type": "stream",
     "text": [
      "696.389905248\r\n"
     ]
    }
   ],
   "source": [
    "!echo >> Wikipedia50PageRank.scala\n",
    "!hdfs dfs -rm -r -f -skipTrash scala_wikipedia50 > /dev/null\n",
    "\n",
    "!cat Wikipedia50PageRank.scala | \\\n",
    "    spark-shell --master yarn-client --num-executors {executor_count} \\\n",
    "    --executor-memory {memory_per_executor}M --executor-cores {cores_per_executor} \\\n",
    "    > /dev/null 2>&1\n",
    "\n",
    "!cat scala_wikipedia50.time_elapsed"
   ]
  },
  {
   "cell_type": "markdown",
   "metadata": {},
   "source": [
    "## Evaluate PageRank Results"
   ]
  },
  {
   "cell_type": "markdown",
   "metadata": {},
   "source": [
    "We'll need to restart our Spark context to redo our analysis. We'll also need to reload the indexes RDD."
   ]
  },
  {
   "cell_type": "code",
   "execution_count": null,
   "metadata": {
    "collapsed": true
   },
   "outputs": [],
   "source": [
    "sc = SparkContext(conf=conf)\n",
    "wikipediaIndicesRDD = sc.textFile('indices.txt')"
   ]
  },
  {
   "cell_type": "markdown",
   "metadata": {},
   "source": [
    "### Check top 100 changes"
   ]
  },
  {
   "cell_type": "markdown",
   "metadata": {},
   "source": [
    "> Have the top 100 ranked pages changed? Comment on your findings. Plot both 100 curves."
   ]
  },
  {
   "cell_type": "markdown",
   "metadata": {},
   "source": [
    "Both plots end up being very similar, with the curves nearly falling right on top of each other."
   ]
  },
  {
   "cell_type": "code",
   "execution_count": null,
   "metadata": {
    "collapsed": false
   },
   "outputs": [
    {
     "data": {
      "text/plain": [
       "<matplotlib.axes._subplots.AxesSubplot at 0x7fba1242b610>"
      ]
     },
     "execution_count": null,
     "metadata": {},
     "output_type": "execute_result"
    },
    {
     "data": {
      "image/png": "[encoded data removed]",
      "text/plain": [
      ]
     },
     "metadata": {},
     "output_type": "display_data"
    }
   ],
   "source": [
    "graphxWikipedia10Top100PageRanks = sc.textFile('scala_wikipedia10').map(eval).collect()\n",
    "graphxWikipedia10Top100PageRankValues = { str(x[0]): x[1] for x in graphxWikipedia10Top100PageRanks }\n",
    "\n",
    "graphxWikipedia10 = pandas.DataFrame( \\\n",
    "    getNamedPageRanks(graphxWikipedia10Top100PageRankValues), \\\n",
    "    columns=['Page Name', 'PageRank'])\n",
    "\n",
    "graphxWikipedia50Top100PageRanks = sc.textFile('scala_wikipedia50').map(eval).collect()\n",
    "graphxWikipedia50Top100PageRankValues = { str(x[0]): x[1] for x in graphxWikipedia50Top100PageRanks }\n",
    "\n",
    "graphxWikipedia50 = pandas.DataFrame( \\\n",
    "    getNamedPageRanks(graphxWikipedia50Top100PageRankValues), \\\n",
    "    columns=['Page Name', 'PageRank'])\n",
    "\n",
    "graphxWikipediaMerged = graphxWikipedia10.merge( \\\n",
    "    graphxWikipedia50, on=['Page Name'], suffixes=[' (10 iterations)', ' (50 iterations)'])\n",
    "\n",
    "graphxWikipediaMerged.plot()"
   ]
  },
  {
   "cell_type": "markdown",
   "metadata": {},
   "source": [
    "We can check if the membership changed using set intersection."
   ]
  },
  {
   "cell_type": "code",
   "execution_count": null,
   "metadata": {
    "collapsed": false
   },
   "outputs": [
    {
     "name": "stdout",
     "output_type": "stream",
     "text": [
      "Intersection: 99 nodes\n"
     ]
    }
   ],
   "source": [
    "graphxTop100Nodes10 = [str(x[0]) for x in graphxWikipedia10Top100PageRanks]\n",
    "graphxTop100Nodes50 = [str(x[0]) for x in graphxWikipedia50Top100PageRanks]\n",
    "\n",
    "intersection = set(graphxTop100Nodes10) & set(graphxTop100Nodes50)\n",
    "print 'Intersection:', len(intersection), 'nodes'"
   ]
  },
  {
   "cell_type": "markdown",
   "metadata": {},
   "source": [
    "We can also check the Levenshtein distance between the two rankings to see how much the rankings themselves have changed."
   ]
  },
  {
   "cell_type": "code",
   "execution_count": null,
   "metadata": {
    "collapsed": false
   },
   "outputs": [
    {
     "name": "stdout",
     "output_type": "stream",
     "text": [
      "Levenshtein distance: 27\n"
     ]
    }
   ],
   "source": [
    "print 'Levenshtein distance:', levenshtein(graphxTop100Nodes10, graphxTop100Nodes50)"
   ]
  },
  {
   "cell_type": "markdown",
   "metadata": {},
   "source": [
    "> Report the AWS cluster configuration that you used and how long in minutes and seconds it takes to complete this job."
   ]
  },
  {
   "cell_type": "markdown",
   "metadata": {},
   "source": [
    "* **Instance Type**: [Memory Optimized](https://aws.amazon.com/ec2/instance-types/#memory-optimized)\n",
    "* **Instance Class**: r3.xlarge\n",
    "* **Cluster Size**: 10 nodes\n",
    "* **Job Completion Time**: ???"
   ]
  },
  {
   "cell_type": "markdown",
   "metadata": {},
   "source": [
    "### Compare runtimes"
   ]
  },
  {
   "cell_type": "markdown",
   "metadata": {},
   "source": [
    "> Put the runtime results of HW13.2 and HW13.3 in a tabular format (with rows corresponding to implemention and columns corresponding to experiment setup (10 iterations, 50 iterations)). Discuss the run times and explain the differences."
   ]
  },
  {
   "cell_type": "code",
   "execution_count": null,
   "metadata": {
    "collapsed": false
   },
   "outputs": [
    {
     "data": {
      "text/html": [
       "<div>\n",
       "<table border=\"1\" class=\"dataframe\">\n",
       "  <thead>\n",
       "    <tr style=\"text-align: right;\">\n",
       "      <th></th>\n",
       "      <th>50 iterations</th>\n",
       "      <th>10 iterations</th>\n",
       "    </tr>\n",
       "  </thead>\n",
       "  <tbody>\n",
       "    <tr>\n",
       "      <th>GraphX</th>\n",
       "      <td>13.050000</td>\n",
       "      <td>4.000000</td>\n",
       "    </tr>\n",
       "    <tr>\n",
       "      <th>Manual</th>\n",
       "      <td>135.283333</td>\n",
       "      <td>35.183333</td>\n",
       "    </tr>\n",
       "  </tbody>\n",
       "</table>\n",
       "</div>"
      ],
      "text/plain": [
       "        50 iterations  10 iterations\n",
       "GraphX      13.050000       4.000000\n",
       "Manual     135.283333      35.183333"
      ]
     },
     "execution_count": null,
     "metadata": {},
     "output_type": "execute_result"
    }
   ],
   "source": [
    "runtimes = {\n",
    "    'Manual': {'10 iterations': (35*60+11)/60, '50 iterations': (2*3600+15*60+17)/60},\n",
    "    'GraphX': {'10 iterations': (240)/60, '50 iterations': (13*60+3)/60}\n",
    "}\n",
    "\n",
    "pandas.DataFrame.from_dict(runtimes, orient='index')"
   ]
  },
  {
   "cell_type": "markdown",
   "metadata": {},
   "source": [
    "GraphX produces runtimes that are much shorter than our home grown implementation. While GraphX ran 10 iterations in less than 5 minutes after accounting for data materialization, while our home grown implementation took over 30 minutes after accounting for data materialization.\n",
    "\n",
    "Although the home grown implementation could utilize the 10 iteration run as a starting point and only run 40 more iterations, there was still a significant improvement when using GraphX. The home grown implementation took approximately 170 minutes (sum of the 10 iteration and 40 iteration runs), while GraphX took less than 15 minutes.\n",
    "\n",
    "Ultimately, though, 3.5 minute iterations are approximately 7 times faster than Hadoop, and GraphX is almost 10 times faster than the manual implementation. This means that we have an almost 70x speedup by using GraphX.\n",
    "\n",
    "There are likely some optimizations used in the GraphX algorithm that we are not exploiting, perhaps more efficient partitioning or caching. It's also possible that the representation allows for GraphX's improved performance."
   ]
  },
  {
   "cell_type": "markdown",
   "metadata": {},
   "source": [
    "### Compare results"
   ]
  },
  {
   "cell_type": "markdown",
   "metadata": {},
   "source": [
    "> Plot the pagerank values for the top 100 pages resulting from the 50 iterations run (using GraphX). Then plot the pagerank values for the same 100 pages that resulted from the 50 iterations run of your homegrown pagerank implementation.  Comment on your findings.\n",
    "\n",
    "> Have the top 100 ranked pages changed? Have the pagerank values changed? Explain."
   ]
  },
  {
   "cell_type": "markdown",
   "metadata": {},
   "source": [
    "The PageRank values for the GraphX implementation and our home grown implementation are not immediately comparable. Our home grown implementation distributes the dangling mass to all nodes in the graph in each iteration, while the GraphX implementation does not (all dangling nodes have PageRank values equal to alpha). Additionally, the PageRank values in the GraphX implementation are not normalized, thus they do not sum to 1.\n",
    "\n",
    "To begin comparing, we need to normalize both of the PageRank values by dividing each PageRank value by the max value for each implementation."
   ]
  },
  {
   "cell_type": "code",
   "execution_count": null,
   "metadata": {
    "collapsed": false
   },
   "outputs": [
    {
     "data": {
      "text/plain": [
       "<matplotlib.axes._subplots.AxesSubplot at 0x7fba12369390>"
      ]
     },
     "execution_count": null,
     "metadata": {},
     "output_type": "execute_result"
    },
    {
     "data": {
      "image/png": "[encoded data removed]",
      "text/plain": [
      ]
     },
     "metadata": {},
     "output_type": "display_data"
    }
   ],
   "source": [
    "wikipedia50 = pandas.DataFrame.from_csv('wikipedia50.csv')\n",
    "manualGraphXCompare = wikipedia50.merge(graphxWikipedia50, on=['Page Name'], suffixes=[' (manual)', ' (graphx)'])\n",
    "\n",
    "manualGraphXCompare['PageRank (manual)'] = \\\n",
    "    manualGraphXCompare['PageRank (manual)'] / manualGraphXCompare['PageRank (manual)'].max()\n",
    "\n",
    "manualGraphXCompare['PageRank (graphx)'] = \\\n",
    "    manualGraphXCompare['PageRank (graphx)'] / manualGraphXCompare['PageRank (graphx)'].max()\n",
    "\n",
    "manualGraphXCompare.plot()"
   ]
  },
  {
   "cell_type": "markdown",
   "metadata": {},
   "source": [
    "After normalization, we see that the curves are nearly identical."
   ]
  },
  {
   "cell_type": "markdown",
   "metadata": {},
   "source": [
    "# HW 13.4: Criteo Phase 2 baseline"
   ]
  },
  {
   "cell_type": "markdown",
   "metadata": {},
   "source": [
    "> The Criteo data for this challenge is located in the following S3/Dropbox buckets:\n",
    "\n",
    "> On Dropbox see:\n",
    "> * https://www.dropbox.com/sh/dnevke9vsk6yj3p/AABoP-Kv2SRxuK8j3TtJsSv5a?dl=0\n",
    "\n",
    "> Raw Data:  (Training, Validation and Test data)\n",
    "> * https://console.aws.amazon.com/s3/home?region=us-west-1#&bucket=criteo-dataset&prefix=rawdata/\n",
    "\n",
    "> Hashed Data: Training, Validation and Test data in hash encoded (10,000 buckets) and sparse representation\n",
    "> * https://console.aws.amazon.com/s3/home?region=us-west-1#&bucket=criteo-dataset&prefix=processeddata/"
   ]
  },
  {
   "cell_type": "code",
   "execution_count": null,
   "metadata": {
    "collapsed": false
   },
   "outputs": [],
   "source": [
    "if not os.path.isdir('processeddata'):\n",
    "    !mkdir processeddata\n",
    "    !aws s3 sync s3://criteo-dataset/processeddata processeddata\n",
    "    !hdfs dfs -copyFromLocal processeddata"
   ]
  },
  {
   "cell_type": "markdown",
   "metadata": {},
   "source": [
    "First, we need functions that can load our data files into `LabeledPoint` objects used in logistic regression."
   ]
  },
  {
   "cell_type": "code",
   "execution_count": null,
   "metadata": {
    "collapsed": false
   },
   "outputs": [],
   "source": [
    "from pyspark.mllib.linalg import SparseVector\n",
    "from pyspark.mllib.regression import LabeledPoint\n",
    "\n",
    "# Deserialize a LabeledPoint that was serialized as a tuple\n",
    "\n",
    "def moduloPoint(numBuckets, data):\n",
    "    label, sparse = eval(data)\n",
    "    oldBuckets, indices, values = sparse\n",
    "\n",
    "    features = {}\n",
    "\n",
    "    for index, value in zip(indices, values):\n",
    "        modIndex = index % numBuckets\n",
    "\n",
    "        if modIndex in features:\n",
    "            features[modIndex] += value\n",
    "        else:\n",
    "            features[modIndex] = value\n",
    "\n",
    "    return LabeledPoint(label, SparseVector(numBuckets, features))\n",
    "\n",
    "# Load the data as a materialized RDD\n",
    "\n",
    "cachedDataSets = {}\n",
    "\n",
    "def getParsedData(numBuckets, subfolders):\n",
    "    global cachedDataSets\n",
    "\n",
    "    if 10000 % numBuckets != 0:\n",
    "        print '10000 %', numBuckets, '!= 0'\n",
    "        return [sc.emptyRDD()] * len(subfolders)\n",
    "\n",
    "    # Build the RDDs from the S3 URLs for train, validation, test\n",
    "\n",
    "    dataRDDs = []\n",
    "\n",
    "    for subfolder in subfolders:\n",
    "        now = datetime.today()\n",
    "        print now, 'Materializing text file RDD for', subfolder\n",
    "\n",
    "        dataPath = 'processeddata/%s' % subfolder\n",
    "\n",
    "        if dataPath in cachedDataSets:\n",
    "            folderRDD = cachedDataSets[dataPath]\n",
    "        else:\n",
    "            folderRDD = sc.textFile(dataPath).cache()\n",
    "            folderRDD.count()\n",
    "\n",
    "            cachedDataSets[dataPath] = folderRDD\n",
    "\n",
    "        now = datetime.today()\n",
    "        print now, 'Materializing parsed RDD for', subfolder\n",
    "\n",
    "        dataRDD = folderRDD.map(functools.partial(moduloPoint, numBuckets)).cache()\n",
    "        dataRDD.count()\n",
    "\n",
    "        dataRDDs.append(dataRDD)\n",
    "\n",
    "    return dataRDDs"
   ]
  },
  {
   "cell_type": "markdown",
   "metadata": {},
   "source": [
    "Now we load the 1000 bucket data set."
   ]
  },
  {
   "cell_type": "code",
   "execution_count": null,
   "metadata": {
    "collapsed": false
   },
   "outputs": [
    {
     "name": "stdout",
     "output_type": "stream",
     "text": [
      "2016-04-29 05:23:19.103827 Materializing text file RDD for train\n",
      "2016-04-29 05:23:19.104599 Materializing parsed RDD for train\n",
      "2016-04-29 05:29:06.064387 Materializing text file RDD for validation\n",
      "2016-04-29 05:29:06.064514 Materializing parsed RDD for validation\n",
      "2016-04-29 05:29:47.065701 Materializing text file RDD for test\n",
      "2016-04-29 05:29:47.065954 Materializing parsed RDD for test\n",
      "CPU times: user 81.2 ms, sys: 36.1 ms, total: 117 ms\n",
      "Wall time: 7min 11s\n"
     ]
    }
   ],
   "source": [
    "%time hashedRawTrainRDD, hashedRawValidationRDD, hashedRawTestRDD = \\\n",
    "    getParsedData(1000, ['train', 'validation', 'test'])"
   ]
  },
  {
   "cell_type": "markdown",
   "metadata": {},
   "source": [
    "## Train the Logistic Regression"
   ]
  },
  {
   "cell_type": "markdown",
   "metadata": {},
   "source": [
    "> Using the training dataset, validation dataset and testing dataset in the Criteo bucket perform the following experiment:\n",
    "\n",
    "> Write spark code (borrow from Phase 1 of this project) to train a logistic regression model with the following hyperparameters:\n",
    "\n",
    "> * Number of buckets for hashing: 1,000\n",
    "> * Logistic Regression: no regularization term\n",
    "> * Logistic Regression: step size = 10"
   ]
  },
  {
   "cell_type": "markdown",
   "metadata": {},
   "source": [
    "Now we perform the linear regression (100 iterations) on the materialized and cached RDD and record the elapsed time for reporting purposes."
   ]
  },
  {
   "cell_type": "code",
   "execution_count": null,
   "metadata": {
    "collapsed": false
   },
   "outputs": [
    {
     "name": "stdout",
     "output_type": "stream",
     "text": [
      "CPU times: user 1.37 s, sys: 420 ms, total: 1.79 s\n",
      "Wall time: 2min 9s\n"
     ]
    }
   ],
   "source": [
    "from pyspark.mllib.classification import LogisticRegressionWithSGD\n",
    "\n",
    "numIters = 100\n",
    "stepSize = 10.0\n",
    "regParam = 1e-6\n",
    "regType = 'none'\n",
    "includeIntercept = True\n",
    "\n",
    "%time model = LogisticRegressionWithSGD.train( \\\n",
    "    data=hashedRawTrainRDD, iterations=numIters, step=stepSize, \\\n",
    "    regParam=regParam, regType=regType, intercept=includeIntercept)"
   ]
  },
  {
   "cell_type": "markdown",
   "metadata": {},
   "source": [
    "> Report the AWS cluster configuration that you used and how long in minutes and seconds it takes to complete this job."
   ]
  },
  {
   "cell_type": "markdown",
   "metadata": {},
   "source": [
    "* **Instance Type**: [Memory Optimized](https://aws.amazon.com/ec2/instance-types/#memory-optimized)\n",
    "* **Instance Class**: r3.xlarge\n",
    "* **Cluster Size**: 10 nodes\n",
    "* **Job Completion Time**: about 2 minutes"
   ]
  },
  {
   "cell_type": "markdown",
   "metadata": {},
   "source": [
    "## Evaluate Logistic Regression"
   ]
  },
  {
   "cell_type": "markdown",
   "metadata": {},
   "source": [
    "> Report in tabular form the AUC value (https://en.wikipedia.org/wiki/Receiver_operating_characteristic) for the Training, Validation, and Testing datasets."
   ]
  },
  {
   "cell_type": "markdown",
   "metadata": {},
   "source": [
    "First, we need to compute those metrics."
   ]
  },
  {
   "cell_type": "code",
   "execution_count": null,
   "metadata": {
    "collapsed": false
   },
   "outputs": [],
   "source": [
    "from pyspark.mllib.evaluation import BinaryClassificationMetrics\n",
    "\n",
    "modelBroadcast = sc.broadcast(model)\n",
    "\n",
    "# Compute the scores and labels\n",
    "\n",
    "def getScoresAndLabels(point):\n",
    "    return float(modelBroadcast.value.predict(point.features)), point.label\n",
    "\n",
    "# Compute the area under the ROC curve\n",
    "\n",
    "def getAreaUnderROC(dataRDD):\n",
    "    scoresAndLabelsRDD = dataRDD.map(getScoresAndLabels)\n",
    "    metrics = BinaryClassificationMetrics(scoresAndLabelsRDD)\n",
    "    return metrics.areaUnderROC\n",
    "\n",
    "# Run code against all data sets\n",
    "\n",
    "hashedRawTrainAUC = getAreaUnderROC(hashedRawTrainRDD)\n",
    "hashedRawValidationAUC = getAreaUnderROC(hashedRawValidationRDD)\n",
    "hashedRawTestAUC = getAreaUnderROC(hashedRawTestRDD)"
   ]
  },
  {
   "cell_type": "markdown",
   "metadata": {},
   "source": [
    "Next, we'll put it into a nice table."
   ]
  },
  {
   "cell_type": "code",
   "execution_count": null,
   "metadata": {
    "collapsed": false
   },
   "outputs": [
    {
     "data": {
      "text/html": [
       "<div>\n",
       "<table border=\"1\" class=\"dataframe\">\n",
       "  <thead>\n",
       "    <tr style=\"text-align: right;\">\n",
       "      <th></th>\n",
       "      <th>Data Set</th>\n",
       "      <th>Area Under ROC Curve</th>\n",
       "    </tr>\n",
       "  </thead>\n",
       "  <tbody>\n",
       "    <tr>\n",
       "      <th>0</th>\n",
       "      <td>Train</td>\n",
       "      <td>0.587922</td>\n",
       "    </tr>\n",
       "    <tr>\n",
       "      <th>1</th>\n",
       "      <td>Validation</td>\n",
       "      <td>0.588109</td>\n",
       "    </tr>\n",
       "    <tr>\n",
       "      <th>2</th>\n",
       "      <td>Test</td>\n",
       "      <td>0.587916</td>\n",
       "    </tr>\n",
       "  </tbody>\n",
       "</table>\n",
       "</div>"
      ],
      "text/plain": [
       "     Data Set  Area Under ROC Curve\n",
       "0       Train              0.587922\n",
       "1  Validation              0.588109\n",
       "2        Test              0.587916"
      ]
     },
     "execution_count": null,
     "metadata": {},
     "output_type": "execute_result"
    }
   ],
   "source": [
    "pandas.DataFrame(data=[\n",
    "    ('Train', hashedRawTrainAUC),\n",
    "    ('Validation', hashedRawValidationAUC),\n",
    "    ('Test', hashedRawTestAUC)\n",
    "], columns=['Data Set', 'Area Under ROC Curve'])"
   ]
  },
  {
   "cell_type": "markdown",
   "metadata": {},
   "source": [
    "> Report in tabular form  the logLossTest for the Training, Validation, and Testing datasets."
   ]
  },
  {
   "cell_type": "markdown",
   "metadata": {},
   "source": [
    "First, we need to compute this metric."
   ]
  },
  {
   "cell_type": "code",
   "execution_count": null,
   "metadata": {
    "collapsed": false
   },
   "outputs": [],
   "source": [
    "# Keep the prediction bounded to minimize log loss\n",
    "\n",
    "def getBoundedPrediction(features):\n",
    "    rawPrediction = features.dot(modelBroadcast.value.weights) + modelBroadcast.value.intercept\n",
    "\n",
    "    # Bound the raw prediction value\n",
    "    rawPrediction = min(rawPrediction, 20)\n",
    "    rawPrediction = max(rawPrediction, -20)\n",
    "\n",
    "    return 1.0 / (1.0 + exp(-rawPrediction))\n",
    "\n",
    "# Retrieve a bounded score and label\n",
    "\n",
    "def getBoundedScoresAndLabels(point):\n",
    "    return getBoundedPrediction(point.features), point.label\n",
    "\n",
    "# Compute an individual log loss using the same code as the CTR assignment\n",
    "\n",
    "def computeLogLoss(scoreAndLabel):\n",
    "    p, y = scoreAndLabel\n",
    "\n",
    "    epsilon = 10e-12\n",
    "    if p == 0:\n",
    "        prob = epsilon\n",
    "    elif p == 1:\n",
    "        prob = 1 - epsilon\n",
    "    else:\n",
    "        prob = p * 1.0\n",
    "    return -(y * log(prob) + (1.0 - y) * log(1.0 - prob))\n",
    "\n",
    "# Compute the average log loss using the same code as the CTR assignment\n",
    "\n",
    "def getAverageLogLoss(dataRDD):\n",
    "    scoresAndLabelsRDD = dataRDD.map(getBoundedScoresAndLabels)\n",
    "    logLossRDD = scoresAndLabelsRDD.map(computeLogLoss)\n",
    "    return logLossRDD.mean()\n",
    "\n",
    "# Run code against all data sets\n",
    "\n",
    "hashedRawTrainLogLoss = getAverageLogLoss(hashedRawTrainRDD)\n",
    "hashedRawValidationLogLoss = getAverageLogLoss(hashedRawValidationRDD)\n",
    "hashedRawTestLogLoss = getAverageLogLoss(hashedRawTestRDD)"
   ]
  },
  {
   "cell_type": "markdown",
   "metadata": {},
   "source": [
    "Next, we'll put it into a nice table."
   ]
  },
  {
   "cell_type": "code",
   "execution_count": null,
   "metadata": {
    "collapsed": false
   },
   "outputs": [
    {
     "data": {
      "text/html": [
       "<div>\n",
       "<table border=\"1\" class=\"dataframe\">\n",
       "  <thead>\n",
       "    <tr style=\"text-align: right;\">\n",
       "      <th></th>\n",
       "      <th>Data Set</th>\n",
       "      <th>Log Loss</th>\n",
       "    </tr>\n",
       "  </thead>\n",
       "  <tbody>\n",
       "    <tr>\n",
       "      <th>0</th>\n",
       "      <td>Train</td>\n",
       "      <td>0.497478</td>\n",
       "    </tr>\n",
       "    <tr>\n",
       "      <th>1</th>\n",
       "      <td>Validation</td>\n",
       "      <td>0.497643</td>\n",
       "    </tr>\n",
       "    <tr>\n",
       "      <th>2</th>\n",
       "      <td>Test</td>\n",
       "      <td>0.497676</td>\n",
       "    </tr>\n",
       "  </tbody>\n",
       "</table>\n",
       "</div>"
      ],
      "text/plain": [
       "     Data Set  Log Loss\n",
       "0       Train  0.497478\n",
       "1  Validation  0.497643\n",
       "2        Test  0.497676"
      ]
     },
     "execution_count": null,
     "metadata": {},
     "output_type": "execute_result"
    }
   ],
   "source": [
    "pandas.DataFrame(data=[\n",
    "    ('Train', hashedRawTrainLogLoss),\n",
    "    ('Validation', hashedRawValidationLogLoss),\n",
    "    ('Test', hashedRawTestLogLoss)\n",
    "], columns=['Data Set', 'Log Loss'])"
   ]
  },
  {
   "cell_type": "markdown",
   "metadata": {},
   "source": [
    "# HW 13.5: Criteo Phase 2 hyperparameter tuning"
   ]
  },
  {
   "cell_type": "markdown",
   "metadata": {},
   "source": [
    "## Unpersist old RDDs"
   ]
  },
  {
   "cell_type": "markdown",
   "metadata": {},
   "source": [
    "We can run out of memory quickly on our Spark cluster if we persist all of the RDDs we've computed so far. While we cache the data loading, we'll uncache the parsed data."
   ]
  },
  {
   "cell_type": "code",
   "execution_count": null,
   "metadata": {
    "collapsed": false
   },
   "outputs": [
    {
     "data": {
      "text/plain": [
       "PythonRDD[620] at RDD at PythonRDD.scala:43"
      ]
     },
     "execution_count": null,
     "metadata": {},
     "output_type": "execute_result"
    }
   ],
   "source": [
    "hashedRawTrainRDD.unpersist()\n",
    "hashedRawValidationRDD.unpersist()\n",
    "hashedRawTestRDD.unpersist()"
   ]
  },
  {
   "cell_type": "markdown",
   "metadata": {},
   "source": [
    "## Train the Logistic Regression"
   ]
  },
  {
   "cell_type": "markdown",
   "metadata": {},
   "source": [
    "> Using the training dataset, validation dataset and testing dataset in the Criteo bucket perform the following experiments:\n",
    "\n",
    "> Write spark code (borrow from Phase 1 of this project) to train a logistic regression model with various hyperparameters. Do a gridsearch of the hyperparameter space and determine optimal settings using the validation set.\n",
    "\n",
    "> * Number of buckets for hashing: 1,000, 10,000, .... explore different values  here\n",
    "> * Logistic Regression: regularization term: [1e-6, 1e-3]  explore other  values here also\n",
    "> * Logistic Regression: step size: explore different step sizes. Focus on a stepsize of 1 initially"
   ]
  },
  {
   "cell_type": "markdown",
   "metadata": {},
   "source": [
    "## Initial training"
   ]
  },
  {
   "cell_type": "code",
   "execution_count": null,
   "metadata": {
    "collapsed": false
   },
   "outputs": [
    {
     "name": "stdout",
     "output_type": "stream",
     "text": [
      "2016-04-29 07:38:24.914425 Materializing text file RDD for train\n",
      "2016-04-29 07:38:24.914747 Materializing parsed RDD for train\n",
      "2016-04-29 07:43:38.600005 Materializing text file RDD for validation\n",
      "2016-04-29 07:43:38.600125 Materializing parsed RDD for validation\n",
      "2016-04-29 07:44:18.769973 {'regParam': 1e-06, 'step': 10, 'intercept': True, 'regType': 'l2'}\n",
      "2016-04-29 07:46:32.709122 {'regParam': 1e-06, 'step': 1, 'intercept': True, 'regType': 'l2'}\n",
      "2016-04-29 07:48:21.495452 {'regParam': 1e-06, 'step': 0.1, 'intercept': True, 'regType': 'l2'}\n",
      "2016-04-29 07:49:51.651813 {'regParam': 0.001, 'step': 10, 'intercept': True, 'regType': 'l2'}\n",
      "2016-04-29 07:51:40.239929 {'regParam': 0.001, 'step': 1, 'intercept': True, 'regType': 'l2'}\n",
      "2016-04-29 07:53:43.401491 {'regParam': 0.001, 'step': 0.1, 'intercept': True, 'regType': 'l2'}\n",
      "2016-04-29 07:55:07.423169 {'regParam': 0.1, 'step': 10, 'intercept': True, 'regType': 'l2'}\n",
      "2016-04-29 07:57:04.876932 {'regParam': 0.1, 'step': 1, 'intercept': True, 'regType': 'l2'}\n",
      "2016-04-29 07:58:58.298570 {'regParam': 0.1, 'step': 0.1, 'intercept': True, 'regType': 'l2'}\n",
      "2016-04-29 08:00:56.838595 Materializing text file RDD for train\n",
      "2016-04-29 08:00:56.838721 Materializing parsed RDD for train\n",
      "2016-04-29 08:06:29.449337 Materializing text file RDD for validation\n",
      "2016-04-29 08:06:29.449500 Materializing parsed RDD for validation\n",
      "2016-04-29 08:07:11.868368 {'regParam': 1e-06, 'step': 10, 'intercept': True, 'regType': 'l2'}\n",
      "2016-04-29 08:10:00.682585 {'regParam': 1e-06, 'step': 1, 'intercept': True, 'regType': 'l2'}\n",
      "2016-04-29 08:12:47.990574 {'regParam': 1e-06, 'step': 0.1, 'intercept': True, 'regType': 'l2'}\n",
      "2016-04-29 08:15:12.706000 {'regParam': 0.001, 'step': 10, 'intercept': True, 'regType': 'l2'}\n",
      "2016-04-29 08:17:57.277976 {'regParam': 0.001, 'step': 1, 'intercept': True, 'regType': 'l2'}\n",
      "2016-04-29 08:20:47.466105 {'regParam': 0.001, 'step': 0.1, 'intercept': True, 'regType': 'l2'}\n",
      "2016-04-29 08:23:14.209592 {'regParam': 0.1, 'step': 10, 'intercept': True, 'regType': 'l2'}\n",
      "2016-04-29 08:25:57.963682 {'regParam': 0.1, 'step': 1, 'intercept': True, 'regType': 'l2'}\n",
      "2016-04-29 08:28:48.061129 {'regParam': 0.1, 'step': 0.1, 'intercept': True, 'regType': 'l2'}\n",
      "2016-04-29 08:31:37.912419 Materializing text file RDD for train\n",
      "2016-04-29 08:31:37.912637 Materializing parsed RDD for train\n",
      "2016-04-29 08:37:04.976047 Materializing text file RDD for validation\n",
      "2016-04-29 08:37:04.976163 Materializing parsed RDD for validation\n",
      "2016-04-29 08:37:47.273773 {'regParam': 1e-06, 'step': 10, 'intercept': True, 'regType': 'l2'}\n",
      "2016-04-29 08:40:23.281415 {'regParam': 1e-06, 'step': 1, 'intercept': True, 'regType': 'l2'}\n",
      "2016-04-29 08:43:20.997959 {'regParam': 1e-06, 'step': 0.1, 'intercept': True, 'regType': 'l2'}\n",
      "2016-04-29 08:46:12.971813 {'regParam': 0.001, 'step': 10, 'intercept': True, 'regType': 'l2'}\n",
      "2016-04-29 08:49:22.795369 {'regParam': 0.001, 'step': 1, 'intercept': True, 'regType': 'l2'}\n",
      "2016-04-29 08:52:29.554943 {'regParam': 0.001, 'step': 0.1, 'intercept': True, 'regType': 'l2'}\n",
      "2016-04-29 08:55:24.380034 {'regParam': 0.1, 'step': 10, 'intercept': True, 'regType': 'l2'}\n",
      "2016-04-29 08:58:26.881879 {'regParam': 0.1, 'step': 1, 'intercept': True, 'regType': 'l2'}\n",
      "2016-04-29 09:01:27.463859 {'regParam': 0.1, 'step': 0.1, 'intercept': True, 'regType': 'l2'}\n",
      "CPU times: user 26.1 s, sys: 10.2 s, total: 36.3 s\n",
      "Wall time: 1h 26min 3s\n"
     ]
    }
   ],
   "source": [
    "from pyspark.ml.tuning import ParamGridBuilder\n",
    "\n",
    "# Provide a function which computes the log loss on the validation set\n",
    "# after training the model on the training set.\n",
    "\n",
    "def getModelMetrics(trainRDD, validationRDD, parameters):\n",
    "    global modelBroadcast\n",
    "\n",
    "    now = datetime.today()\n",
    "    print now, parameters\n",
    "\n",
    "    t0 = time.time()\n",
    "    model = LogisticRegressionWithSGD.train(data=trainRDD, iterations=numIters, **parameters)\n",
    "    t1 = time.time()\n",
    "\n",
    "    elapsedTime = t1 - t0\n",
    "\n",
    "    modelBroadcast = sc.broadcast(model)\n",
    "    return elapsedTime, getAreaUnderROC(validationRDD), getAverageLogLoss(validationRDD)\n",
    "\n",
    "# Iterate over all desired bucket sizes and parameter combinations and\n",
    "# compute the metrics. Build up a list of all the results for later steps.\n",
    "\n",
    "def getTrainingResults(bucketSizes, builder):\n",
    "    modelMetrics = []\n",
    "\n",
    "    for bucketSize in bucketSizes:\n",
    "        trainRDD, validationRDD = getParsedData(bucketSize, ['train', 'validation'])\n",
    "\n",
    "        for parameters in builder.build():\n",
    "\n",
    "            elapsedTime, areaUnderROC, logLoss = getModelMetrics(trainRDD, validationRDD, parameters)\n",
    "\n",
    "            parameters['bucketSize'] = bucketSize\n",
    "\n",
    "            parameters['elapsedTime'] = elapsedTime\n",
    "            parameters['areaUnderROC'] = areaUnderROC\n",
    "            parameters['logLoss'] = logLoss\n",
    "\n",
    "            modelMetrics.append(parameters)\n",
    "\n",
    "        trainRDD.unpersist()\n",
    "        validationRDD.unpersist()\n",
    "\n",
    "    return modelMetrics\n",
    "\n",
    "# Check the model for a small number of parameters across 3 bucket sizes\n",
    "\n",
    "builder = ParamGridBuilder()\n",
    "builder.addGrid('step', [10, 1, 0.1])\n",
    "builder.addGrid('regParam', [1e-6, 1e-3, 1e-1])\n",
    "builder.addGrid('regType', ['l2'])\n",
    "builder.addGrid('intercept', [True])\n",
    "\n",
    "%time trainingResults = getTrainingResults([100, 1000, 10000], builder)\n",
    "df = pandas.DataFrame(trainingResults)"
   ]
  },
  {
   "cell_type": "markdown",
   "metadata": {},
   "source": [
    "After completing the training, we can take a look at the log loss ordering."
   ]
  },
  {
   "cell_type": "code",
   "execution_count": null,
   "metadata": {
    "collapsed": false
   },
   "outputs": [
    {
     "data": {
      "text/html": [
       "<div>\n",
       "<table border=\"1\" class=\"dataframe\">\n",
       "  <thead>\n",
       "    <tr style=\"text-align: right;\">\n",
       "      <th></th>\n",
       "      <th>areaUnderROC</th>\n",
       "      <th>bucketSize</th>\n",
       "      <th>elapsedTime</th>\n",
       "      <th>intercept</th>\n",
       "      <th>logLoss</th>\n",
       "      <th>regParam</th>\n",
       "      <th>regType</th>\n",
       "      <th>step</th>\n",
       "    </tr>\n",
       "  </thead>\n",
       "  <tbody>\n",
       "    <tr>\n",
       "      <th>18</th>\n",
       "      <td>0.588110</td>\n",
       "      <td>10000</td>\n",
       "      <td>132.000550</td>\n",
       "      <td>True</td>\n",
       "      <td>0.497643</td>\n",
       "      <td>0.000001</td>\n",
       "      <td>l2</td>\n",
       "      <td>10.0</td>\n",
       "    </tr>\n",
       "    <tr>\n",
       "      <th>21</th>\n",
       "      <td>0.584856</td>\n",
       "      <td>10000</td>\n",
       "      <td>165.985974</td>\n",
       "      <td>True</td>\n",
       "      <td>0.498389</td>\n",
       "      <td>0.001000</td>\n",
       "      <td>l2</td>\n",
       "      <td>10.0</td>\n",
       "    </tr>\n",
       "    <tr>\n",
       "      <th>9</th>\n",
       "      <td>0.582249</td>\n",
       "      <td>1000</td>\n",
       "      <td>146.544066</td>\n",
       "      <td>True</td>\n",
       "      <td>0.505676</td>\n",
       "      <td>0.000001</td>\n",
       "      <td>l2</td>\n",
       "      <td>10.0</td>\n",
       "    </tr>\n",
       "    <tr>\n",
       "      <th>12</th>\n",
       "      <td>0.579034</td>\n",
       "      <td>1000</td>\n",
       "      <td>142.434425</td>\n",
       "      <td>True</td>\n",
       "      <td>0.505941</td>\n",
       "      <td>0.001000</td>\n",
       "      <td>l2</td>\n",
       "      <td>10.0</td>\n",
       "    </tr>\n",
       "    <tr>\n",
       "      <th>19</th>\n",
       "      <td>0.527311</td>\n",
       "      <td>10000</td>\n",
       "      <td>155.052287</td>\n",
       "      <td>True</td>\n",
       "      <td>0.521904</td>\n",
       "      <td>0.000001</td>\n",
       "      <td>l2</td>\n",
       "      <td>1.0</td>\n",
       "    </tr>\n",
       "    <tr>\n",
       "      <th>22</th>\n",
       "      <td>0.526536</td>\n",
       "      <td>10000</td>\n",
       "      <td>164.570358</td>\n",
       "      <td>True</td>\n",
       "      <td>0.522045</td>\n",
       "      <td>0.001000</td>\n",
       "      <td>l2</td>\n",
       "      <td>1.0</td>\n",
       "    </tr>\n",
       "    <tr>\n",
       "      <th>10</th>\n",
       "      <td>0.525496</td>\n",
       "      <td>1000</td>\n",
       "      <td>145.645847</td>\n",
       "      <td>True</td>\n",
       "      <td>0.523577</td>\n",
       "      <td>0.000001</td>\n",
       "      <td>l2</td>\n",
       "      <td>1.0</td>\n",
       "    </tr>\n",
       "    <tr>\n",
       "      <th>13</th>\n",
       "      <td>0.524822</td>\n",
       "      <td>1000</td>\n",
       "      <td>146.166606</td>\n",
       "      <td>True</td>\n",
       "      <td>0.523708</td>\n",
       "      <td>0.001000</td>\n",
       "      <td>l2</td>\n",
       "      <td>1.0</td>\n",
       "    </tr>\n",
       "    <tr>\n",
       "      <th>24</th>\n",
       "      <td>0.500114</td>\n",
       "      <td>10000</td>\n",
       "      <td>158.187310</td>\n",
       "      <td>True</td>\n",
       "      <td>0.535102</td>\n",
       "      <td>0.100000</td>\n",
       "      <td>l2</td>\n",
       "      <td>10.0</td>\n",
       "    </tr>\n",
       "    <tr>\n",
       "      <th>25</th>\n",
       "      <td>0.500089</td>\n",
       "      <td>10000</td>\n",
       "      <td>158.208224</td>\n",
       "      <td>True</td>\n",
       "      <td>0.536422</td>\n",
       "      <td>0.100000</td>\n",
       "      <td>l2</td>\n",
       "      <td>1.0</td>\n",
       "    </tr>\n",
       "  </tbody>\n",
       "</table>\n",
       "</div>"
      ],
      "text/plain": [
       "    areaUnderROC  bucketSize  elapsedTime intercept   logLoss  regParam  \\\n",
       "18      0.588110       10000   132.000550      True  0.497643  0.000001\n",
       "21      0.584856       10000   165.985974      True  0.498389  0.001000\n",
       "9       0.582249        1000   146.544066      True  0.505676  0.000001\n",
       "12      0.579034        1000   142.434425      True  0.505941  0.001000\n",
       "19      0.527311       10000   155.052287      True  0.521904  0.000001\n",
       "22      0.526536       10000   164.570358      True  0.522045  0.001000\n",
       "10      0.525496        1000   145.645847      True  0.523577  0.000001\n",
       "13      0.524822        1000   146.166606      True  0.523708  0.001000\n",
       "24      0.500114       10000   158.187310      True  0.535102  0.100000\n",
       "25      0.500089       10000   158.208224      True  0.536422  0.100000\n",
       "\n",
       "   regType  step\n",
       "18      l2  10.0\n",
       "21      l2  10.0\n",
       "9       l2  10.0\n",
       "12      l2  10.0\n",
       "19      l2   1.0\n",
       "22      l2   1.0\n",
       "10      l2   1.0\n",
       "13      l2   1.0\n",
       "24      l2  10.0\n",
       "25      l2   1.0  "
      ]
     },
     "execution_count": null,
     "metadata": {},
     "output_type": "execute_result"
    }
   ],
   "source": [
    "df.sort_values(by=['logLoss'], ascending=True).head(10)"
   ]
  },
  {
   "cell_type": "markdown",
   "metadata": {},
   "source": [
    "Among the top 10, we observe the following trends in log loss.\n",
    "\n",
    "* a bucket size of 10,000 has a slight advantage over a bucket size of 1,000\n",
    "* a regularization parameter of $10^{-6}$ has a slight advantage over a regularization parameter of $10^{-3}$\n",
    "* a larger step size of 10 has a slight advantage over a smaller step size of 1"
   ]
  },
  {
   "cell_type": "code",
   "execution_count": null,
   "metadata": {
    "collapsed": false
   },
   "outputs": [
    {
     "data": {
      "text/html": [
       "<div>\n",
       "<table border=\"1\" class=\"dataframe\">\n",
       "  <thead>\n",
       "    <tr style=\"text-align: right;\">\n",
       "      <th></th>\n",
       "      <th>areaUnderROC</th>\n",
       "      <th>bucketSize</th>\n",
       "      <th>elapsedTime</th>\n",
       "      <th>intercept</th>\n",
       "      <th>logLoss</th>\n",
       "      <th>regParam</th>\n",
       "      <th>regType</th>\n",
       "      <th>step</th>\n",
       "    </tr>\n",
       "  </thead>\n",
       "  <tbody>\n",
       "    <tr>\n",
       "      <th>3</th>\n",
       "      <td>0.590576</td>\n",
       "      <td>100</td>\n",
       "      <td>87.959479</td>\n",
       "      <td>True</td>\n",
       "      <td>0.979312</td>\n",
       "      <td>0.001000</td>\n",
       "      <td>l2</td>\n",
       "      <td>10.0</td>\n",
       "    </tr>\n",
       "    <tr>\n",
       "      <th>18</th>\n",
       "      <td>0.588110</td>\n",
       "      <td>10000</td>\n",
       "      <td>132.000550</td>\n",
       "      <td>True</td>\n",
       "      <td>0.497643</td>\n",
       "      <td>0.000001</td>\n",
       "      <td>l2</td>\n",
       "      <td>10.0</td>\n",
       "    </tr>\n",
       "    <tr>\n",
       "      <th>21</th>\n",
       "      <td>0.584856</td>\n",
       "      <td>10000</td>\n",
       "      <td>165.985974</td>\n",
       "      <td>True</td>\n",
       "      <td>0.498389</td>\n",
       "      <td>0.001000</td>\n",
       "      <td>l2</td>\n",
       "      <td>10.0</td>\n",
       "    </tr>\n",
       "    <tr>\n",
       "      <th>9</th>\n",
       "      <td>0.582249</td>\n",
       "      <td>1000</td>\n",
       "      <td>146.544066</td>\n",
       "      <td>True</td>\n",
       "      <td>0.505676</td>\n",
       "      <td>0.000001</td>\n",
       "      <td>l2</td>\n",
       "      <td>10.0</td>\n",
       "    </tr>\n",
       "    <tr>\n",
       "      <th>12</th>\n",
       "      <td>0.579034</td>\n",
       "      <td>1000</td>\n",
       "      <td>142.434425</td>\n",
       "      <td>True</td>\n",
       "      <td>0.505941</td>\n",
       "      <td>0.001000</td>\n",
       "      <td>l2</td>\n",
       "      <td>10.0</td>\n",
       "    </tr>\n",
       "    <tr>\n",
       "      <th>0</th>\n",
       "      <td>0.571511</td>\n",
       "      <td>100</td>\n",
       "      <td>109.984050</td>\n",
       "      <td>True</td>\n",
       "      <td>1.108461</td>\n",
       "      <td>0.000001</td>\n",
       "      <td>l2</td>\n",
       "      <td>10.0</td>\n",
       "    </tr>\n",
       "    <tr>\n",
       "      <th>19</th>\n",
       "      <td>0.527311</td>\n",
       "      <td>10000</td>\n",
       "      <td>155.052287</td>\n",
       "      <td>True</td>\n",
       "      <td>0.521904</td>\n",
       "      <td>0.000001</td>\n",
       "      <td>l2</td>\n",
       "      <td>1.0</td>\n",
       "    </tr>\n",
       "    <tr>\n",
       "      <th>6</th>\n",
       "      <td>0.526950</td>\n",
       "      <td>100</td>\n",
       "      <td>96.487581</td>\n",
       "      <td>True</td>\n",
       "      <td>1.020920</td>\n",
       "      <td>0.100000</td>\n",
       "      <td>l2</td>\n",
       "      <td>10.0</td>\n",
       "    </tr>\n",
       "    <tr>\n",
       "      <th>22</th>\n",
       "      <td>0.526536</td>\n",
       "      <td>10000</td>\n",
       "      <td>164.570358</td>\n",
       "      <td>True</td>\n",
       "      <td>0.522045</td>\n",
       "      <td>0.001000</td>\n",
       "      <td>l2</td>\n",
       "      <td>1.0</td>\n",
       "    </tr>\n",
       "    <tr>\n",
       "      <th>10</th>\n",
       "      <td>0.525496</td>\n",
       "      <td>1000</td>\n",
       "      <td>145.645847</td>\n",
       "      <td>True</td>\n",
       "      <td>0.523577</td>\n",
       "      <td>0.000001</td>\n",
       "      <td>l2</td>\n",
       "      <td>1.0</td>\n",
       "    </tr>\n",
       "  </tbody>\n",
       "</table>\n",
       "</div>"
      ],
      "text/plain": [
       "    areaUnderROC  bucketSize  elapsedTime intercept   logLoss  regParam  \\\n",
       "3       0.590576         100    87.959479      True  0.979312  0.001000\n",
       "18      0.588110       10000   132.000550      True  0.497643  0.000001\n",
       "21      0.584856       10000   165.985974      True  0.498389  0.001000\n",
       "9       0.582249        1000   146.544066      True  0.505676  0.000001\n",
       "12      0.579034        1000   142.434425      True  0.505941  0.001000\n",
       "0       0.571511         100   109.984050      True  1.108461  0.000001\n",
       "19      0.527311       10000   155.052287      True  0.521904  0.000001\n",
       "6       0.526950         100    96.487581      True  1.020920  0.100000\n",
       "22      0.526536       10000   164.570358      True  0.522045  0.001000\n",
       "10      0.525496        1000   145.645847      True  0.523577  0.000001\n",
       "\n",
       "   regType  step\n",
       "3       l2  10.0\n",
       "18      l2  10.0\n",
       "21      l2  10.0\n",
       "9       l2  10.0\n",
       "12      l2  10.0\n",
       "0       l2  10.0\n",
       "19      l2   1.0\n",
       "6       l2  10.0\n",
       "22      l2   1.0\n",
       "10      l2   1.0  "
      ]
     },
     "execution_count": null,
     "metadata": {},
     "output_type": "execute_result"
    }
   ],
   "source": [
    "df.sort_values(by=['areaUnderROC'], ascending=False).head(10)"
   ]
  },
  {
   "cell_type": "markdown",
   "metadata": {},
   "source": [
    "Among the top 10, we observe the following trends in the AUC:\n",
    "\n",
    "* while the best is a bucket size of 100, larger buckets are more common\n",
    "* a larger regularization parameter of $10^{-3}$ has a slight advantage over a regularization parameter of $10^{-6}$, which is the opposite of log loss\n",
    "* a larger step size is consistently better"
   ]
  },
  {
   "cell_type": "markdown",
   "metadata": {},
   "source": [
    "## Additional training"
   ]
  },
  {
   "cell_type": "markdown",
   "metadata": {},
   "source": [
    "It looks like having 10,000 buckets consistently produces lower logloss values, let's stick with that number. We'll get more granular with the smaller regularization parameters between $10^{-6}$ and $10^{-3}$ and step sizes between 1 and 10."
   ]
  },
  {
   "cell_type": "code",
   "execution_count": null,
   "metadata": {
    "collapsed": false
   },
   "outputs": [
    {
     "name": "stdout",
     "output_type": "stream",
     "text": [
      "2016-04-29 09:24:53.730183 Materializing text file RDD for train\n",
      "2016-04-29 09:24:53.730550 Materializing parsed RDD for train\n",
      "2016-04-29 09:30:19.541226 Materializing text file RDD for validation\n",
      "2016-04-29 09:30:19.541395 Materializing parsed RDD for validation\n",
      "2016-04-29 09:31:01.880122 {'regParam': 1e-06, 'step': 10, 'intercept': True, 'regType': 'l2'}\n",
      "2016-04-29 09:34:12.325766 {'regParam': 1e-06, 'step': 5, 'intercept': True, 'regType': 'l2'}\n",
      "2016-04-29 09:37:15.605319 {'regParam': 1e-06, 'step': 1, 'intercept': True, 'regType': 'l2'}\n",
      "2016-04-29 09:40:14.997325 {'regParam': 1e-05, 'step': 10, 'intercept': True, 'regType': 'l2'}\n",
      "2016-04-29 09:43:21.045821 {'regParam': 1e-05, 'step': 5, 'intercept': True, 'regType': 'l2'}\n",
      "2016-04-29 09:46:25.964345 {'regParam': 1e-05, 'step': 1, 'intercept': True, 'regType': 'l2'}\n",
      "2016-04-29 09:49:27.267297 {'regParam': 0.0001, 'step': 10, 'intercept': True, 'regType': 'l2'}\n",
      "2016-04-29 09:52:26.518519 {'regParam': 0.0001, 'step': 5, 'intercept': True, 'regType': 'l2'}\n",
      "2016-04-29 09:55:28.864179 {'regParam': 0.0001, 'step': 1, 'intercept': True, 'regType': 'l2'}\n",
      "2016-04-29 09:58:32.931460 {'regParam': 0.001, 'step': 10, 'intercept': True, 'regType': 'l2'}\n",
      "2016-04-29 10:01:40.985888 {'regParam': 0.001, 'step': 5, 'intercept': True, 'regType': 'l2'}\n",
      "2016-04-29 10:04:43.448408 {'regParam': 0.001, 'step': 1, 'intercept': True, 'regType': 'l2'}\n"
     ]
    }
   ],
   "source": [
    "builder = ParamGridBuilder()\n",
    "builder.addGrid('step', [10, 5, 1])\n",
    "builder.addGrid('regParam', [1e-6, 1e-5, 1e-4, 1e-3])\n",
    "builder.addGrid('regType', ['l2'])\n",
    "builder.addGrid('intercept', [True])\n",
    "\n",
    "trainingResults = getTrainingResults([10000], builder)\n",
    "df2 = pandas.DataFrame(trainingResults)"
   ]
  },
  {
   "cell_type": "markdown",
   "metadata": {},
   "source": [
    "After completing the training, we can take a look at the log loss ordering."
   ]
  },
  {
   "cell_type": "code",
   "execution_count": null,
   "metadata": {
    "collapsed": false
   },
   "outputs": [
    {
     "data": {
      "text/html": [
       "<div>\n",
       "<table border=\"1\" class=\"dataframe\">\n",
       "  <thead>\n",
       "    <tr style=\"text-align: right;\">\n",
       "      <th></th>\n",
       "      <th>areaUnderROC</th>\n",
       "      <th>bucketSize</th>\n",
       "      <th>elapsedTime</th>\n",
       "      <th>intercept</th>\n",
       "      <th>logLoss</th>\n",
       "      <th>regParam</th>\n",
       "      <th>regType</th>\n",
       "      <th>step</th>\n",
       "    </tr>\n",
       "  </thead>\n",
       "  <tbody>\n",
       "    <tr>\n",
       "      <th>0</th>\n",
       "      <td>0.588110</td>\n",
       "      <td>10000</td>\n",
       "      <td>168.713610</td>\n",
       "      <td>True</td>\n",
       "      <td>0.497643</td>\n",
       "      <td>0.000001</td>\n",
       "      <td>l2</td>\n",
       "      <td>10</td>\n",
       "    </tr>\n",
       "    <tr>\n",
       "      <th>3</th>\n",
       "      <td>0.588216</td>\n",
       "      <td>10000</td>\n",
       "      <td>160.240905</td>\n",
       "      <td>True</td>\n",
       "      <td>0.497644</td>\n",
       "      <td>0.000010</td>\n",
       "      <td>l2</td>\n",
       "      <td>10</td>\n",
       "    </tr>\n",
       "    <tr>\n",
       "      <th>6</th>\n",
       "      <td>0.588056</td>\n",
       "      <td>10000</td>\n",
       "      <td>156.854272</td>\n",
       "      <td>True</td>\n",
       "      <td>0.497702</td>\n",
       "      <td>0.000100</td>\n",
       "      <td>l2</td>\n",
       "      <td>10</td>\n",
       "    </tr>\n",
       "    <tr>\n",
       "      <th>9</th>\n",
       "      <td>0.584856</td>\n",
       "      <td>10000</td>\n",
       "      <td>165.952102</td>\n",
       "      <td>True</td>\n",
       "      <td>0.498389</td>\n",
       "      <td>0.001000</td>\n",
       "      <td>l2</td>\n",
       "      <td>10</td>\n",
       "    </tr>\n",
       "    <tr>\n",
       "      <th>1</th>\n",
       "      <td>0.575065</td>\n",
       "      <td>10000</td>\n",
       "      <td>159.051584</td>\n",
       "      <td>True</td>\n",
       "      <td>0.503715</td>\n",
       "      <td>0.000001</td>\n",
       "      <td>l2</td>\n",
       "      <td>5</td>\n",
       "    </tr>\n",
       "    <tr>\n",
       "      <th>4</th>\n",
       "      <td>0.575048</td>\n",
       "      <td>10000</td>\n",
       "      <td>161.799162</td>\n",
       "      <td>True</td>\n",
       "      <td>0.503719</td>\n",
       "      <td>0.000010</td>\n",
       "      <td>l2</td>\n",
       "      <td>5</td>\n",
       "    </tr>\n",
       "    <tr>\n",
       "      <th>7</th>\n",
       "      <td>0.574835</td>\n",
       "      <td>10000</td>\n",
       "      <td>159.620154</td>\n",
       "      <td>True</td>\n",
       "      <td>0.503760</td>\n",
       "      <td>0.000100</td>\n",
       "      <td>l2</td>\n",
       "      <td>5</td>\n",
       "    </tr>\n",
       "    <tr>\n",
       "      <th>10</th>\n",
       "      <td>0.572806</td>\n",
       "      <td>10000</td>\n",
       "      <td>159.721988</td>\n",
       "      <td>True</td>\n",
       "      <td>0.504190</td>\n",
       "      <td>0.001000</td>\n",
       "      <td>l2</td>\n",
       "      <td>5</td>\n",
       "    </tr>\n",
       "    <tr>\n",
       "      <th>2</th>\n",
       "      <td>0.527311</td>\n",
       "      <td>10000</td>\n",
       "      <td>157.057871</td>\n",
       "      <td>True</td>\n",
       "      <td>0.521904</td>\n",
       "      <td>0.000001</td>\n",
       "      <td>l2</td>\n",
       "      <td>1</td>\n",
       "    </tr>\n",
       "    <tr>\n",
       "      <th>5</th>\n",
       "      <td>0.527302</td>\n",
       "      <td>10000</td>\n",
       "      <td>159.505818</td>\n",
       "      <td>True</td>\n",
       "      <td>0.521906</td>\n",
       "      <td>0.000010</td>\n",
       "      <td>l2</td>\n",
       "      <td>1</td>\n",
       "    </tr>\n",
       "  </tbody>\n",
       "</table>\n",
       "</div>"
      ],
      "text/plain": [
       "    areaUnderROC  bucketSize  elapsedTime intercept   logLoss  regParam  \\\n",
       "0       0.588110       10000   168.713610      True  0.497643  0.000001\n",
       "3       0.588216       10000   160.240905      True  0.497644  0.000010\n",
       "6       0.588056       10000   156.854272      True  0.497702  0.000100\n",
       "9       0.584856       10000   165.952102      True  0.498389  0.001000\n",
       "1       0.575065       10000   159.051584      True  0.503715  0.000001\n",
       "4       0.575048       10000   161.799162      True  0.503719  0.000010\n",
       "7       0.574835       10000   159.620154      True  0.503760  0.000100\n",
       "10      0.572806       10000   159.721988      True  0.504190  0.001000\n",
       "2       0.527311       10000   157.057871      True  0.521904  0.000001\n",
       "5       0.527302       10000   159.505818      True  0.521906  0.000010\n",
       "\n",
       "   regType  step\n",
       "0       l2    10\n",
       "3       l2    10\n",
       "6       l2    10\n",
       "9       l2    10\n",
       "1       l2     5\n",
       "4       l2     5\n",
       "7       l2     5\n",
       "10      l2     5\n",
       "2       l2     1\n",
       "5       l2     1  "
      ]
     },
     "execution_count": null,
     "metadata": {},
     "output_type": "execute_result"
    }
   ],
   "source": [
    "df2.sort_values(by=['logLoss'], ascending=True).head(10)"
   ]
  },
  {
   "cell_type": "markdown",
   "metadata": {},
   "source": [
    "In terms of log loss, the smallest regularization parameter and the largest step size performs the best."
   ]
  },
  {
   "cell_type": "code",
   "execution_count": null,
   "metadata": {
    "collapsed": false
   },
   "outputs": [
    {
     "data": {
      "text/html": [
       "<div>\n",
       "<table border=\"1\" class=\"dataframe\">\n",
       "  <thead>\n",
       "    <tr style=\"text-align: right;\">\n",
       "      <th></th>\n",
       "      <th>areaUnderROC</th>\n",
       "      <th>bucketSize</th>\n",
       "      <th>elapsedTime</th>\n",
       "      <th>intercept</th>\n",
       "      <th>logLoss</th>\n",
       "      <th>regParam</th>\n",
       "      <th>regType</th>\n",
       "      <th>step</th>\n",
       "    </tr>\n",
       "  </thead>\n",
       "  <tbody>\n",
       "    <tr>\n",
       "      <th>3</th>\n",
       "      <td>0.588216</td>\n",
       "      <td>10000</td>\n",
       "      <td>160.240905</td>\n",
       "      <td>True</td>\n",
       "      <td>0.497644</td>\n",
       "      <td>0.000010</td>\n",
       "      <td>l2</td>\n",
       "      <td>10</td>\n",
       "    </tr>\n",
       "    <tr>\n",
       "      <th>0</th>\n",
       "      <td>0.588110</td>\n",
       "      <td>10000</td>\n",
       "      <td>168.713610</td>\n",
       "      <td>True</td>\n",
       "      <td>0.497643</td>\n",
       "      <td>0.000001</td>\n",
       "      <td>l2</td>\n",
       "      <td>10</td>\n",
       "    </tr>\n",
       "    <tr>\n",
       "      <th>6</th>\n",
       "      <td>0.588056</td>\n",
       "      <td>10000</td>\n",
       "      <td>156.854272</td>\n",
       "      <td>True</td>\n",
       "      <td>0.497702</td>\n",
       "      <td>0.000100</td>\n",
       "      <td>l2</td>\n",
       "      <td>10</td>\n",
       "    </tr>\n",
       "    <tr>\n",
       "      <th>9</th>\n",
       "      <td>0.584856</td>\n",
       "      <td>10000</td>\n",
       "      <td>165.952102</td>\n",
       "      <td>True</td>\n",
       "      <td>0.498389</td>\n",
       "      <td>0.001000</td>\n",
       "      <td>l2</td>\n",
       "      <td>10</td>\n",
       "    </tr>\n",
       "    <tr>\n",
       "      <th>1</th>\n",
       "      <td>0.575065</td>\n",
       "      <td>10000</td>\n",
       "      <td>159.051584</td>\n",
       "      <td>True</td>\n",
       "      <td>0.503715</td>\n",
       "      <td>0.000001</td>\n",
       "      <td>l2</td>\n",
       "      <td>5</td>\n",
       "    </tr>\n",
       "    <tr>\n",
       "      <th>4</th>\n",
       "      <td>0.575048</td>\n",
       "      <td>10000</td>\n",
       "      <td>161.799162</td>\n",
       "      <td>True</td>\n",
       "      <td>0.503719</td>\n",
       "      <td>0.000010</td>\n",
       "      <td>l2</td>\n",
       "      <td>5</td>\n",
       "    </tr>\n",
       "    <tr>\n",
       "      <th>7</th>\n",
       "      <td>0.574835</td>\n",
       "      <td>10000</td>\n",
       "      <td>159.620154</td>\n",
       "      <td>True</td>\n",
       "      <td>0.503760</td>\n",
       "      <td>0.000100</td>\n",
       "      <td>l2</td>\n",
       "      <td>5</td>\n",
       "    </tr>\n",
       "    <tr>\n",
       "      <th>10</th>\n",
       "      <td>0.572806</td>\n",
       "      <td>10000</td>\n",
       "      <td>159.721988</td>\n",
       "      <td>True</td>\n",
       "      <td>0.504190</td>\n",
       "      <td>0.001000</td>\n",
       "      <td>l2</td>\n",
       "      <td>5</td>\n",
       "    </tr>\n",
       "    <tr>\n",
       "      <th>2</th>\n",
       "      <td>0.527311</td>\n",
       "      <td>10000</td>\n",
       "      <td>157.057871</td>\n",
       "      <td>True</td>\n",
       "      <td>0.521904</td>\n",
       "      <td>0.000001</td>\n",
       "      <td>l2</td>\n",
       "      <td>1</td>\n",
       "    </tr>\n",
       "    <tr>\n",
       "      <th>5</th>\n",
       "      <td>0.527302</td>\n",
       "      <td>10000</td>\n",
       "      <td>159.505818</td>\n",
       "      <td>True</td>\n",
       "      <td>0.521906</td>\n",
       "      <td>0.000010</td>\n",
       "      <td>l2</td>\n",
       "      <td>1</td>\n",
       "    </tr>\n",
       "  </tbody>\n",
       "</table>\n",
       "</div>"
      ],
      "text/plain": [
       "    areaUnderROC  bucketSize  elapsedTime intercept   logLoss  regParam  \\\n",
       "3       0.588216       10000   160.240905      True  0.497644  0.000010\n",
       "0       0.588110       10000   168.713610      True  0.497643  0.000001\n",
       "6       0.588056       10000   156.854272      True  0.497702  0.000100\n",
       "9       0.584856       10000   165.952102      True  0.498389  0.001000\n",
       "1       0.575065       10000   159.051584      True  0.503715  0.000001\n",
       "4       0.575048       10000   161.799162      True  0.503719  0.000010\n",
       "7       0.574835       10000   159.620154      True  0.503760  0.000100\n",
       "10      0.572806       10000   159.721988      True  0.504190  0.001000\n",
       "2       0.527311       10000   157.057871      True  0.521904  0.000001\n",
       "5       0.527302       10000   159.505818      True  0.521906  0.000010\n",
       "\n",
       "   regType  step\n",
       "3       l2    10\n",
       "0       l2    10\n",
       "6       l2    10\n",
       "9       l2    10\n",
       "1       l2     5\n",
       "4       l2     5\n",
       "7       l2     5\n",
       "10      l2     5\n",
       "2       l2     1\n",
       "5       l2     1  "
      ]
     },
     "execution_count": null,
     "metadata": {},
     "output_type": "execute_result"
    }
   ],
   "source": [
    "df2.sort_values(by=['areaUnderROC'], ascending=False).head(10)"
   ]
  },
  {
   "cell_type": "markdown",
   "metadata": {},
   "source": [
    "Just as was the case for log loss, the smallest regularization parameter and the largest step size performs the best with respect to the area under the ROC curve."
   ]
  },
  {
   "cell_type": "markdown",
   "metadata": {},
   "source": [
    "## Training timing"
   ]
  },
  {
   "cell_type": "markdown",
   "metadata": {},
   "source": [
    "> Report the AWS cluster configuration that you used and how long in minutes and seconds it takes to complete this job."
   ]
  },
  {
   "cell_type": "markdown",
   "metadata": {},
   "source": [
    "The times for the training itself were stored in a column, and that is summed up here."
   ]
  },
  {
   "cell_type": "code",
   "execution_count": null,
   "metadata": {
    "collapsed": false
   },
   "outputs": [
    {
     "name": "stdout",
     "output_type": "stream",
     "text": [
      "89.9266285539\n"
     ]
    }
   ],
   "source": [
    "print (df['elapsedTime'].sum() + df2['elapsedTime'].sum()) / 60"
   ]
  },
  {
   "cell_type": "markdown",
   "metadata": {},
   "source": [
    "So in total, the two grid searches required an hour and a half in training time scanning the different parameter values for bucket size, regularization parameter, and step size required an hour and a half."
   ]
  },
  {
   "cell_type": "markdown",
   "metadata": {
    "collapsed": true
   },
   "source": [
    "* **Instance Type**: [Memory Optimized](https://aws.amazon.com/ec2/instance-types/#memory-optimized)\n",
    "* **Instance Class**: r3.xlarge\n",
    "* **Cluster Size**: 10 nodes\n",
    "* **Job Completion Time**: almost an hour and a half"
   ]
  },
  {
   "cell_type": "markdown",
   "metadata": {},
   "source": [
    "## Evaluate the Logistic Regression"
   ]
  },
  {
   "cell_type": "markdown",
   "metadata": {},
   "source": [
    "> Report in tabular form and using heatmaps the AUC values (https://en.wikipedia.org/wiki/Receiver_operating_characteristic) for the Training, Validation, and Testing datasets.\n",
    "Report in tabular form and using heatmaps  the logLossTest for the Training, Validation, and Testing datasets.\n",
    "\n",
    "> Don't forget to put a caption on your tables (above the table) and on your heatmap figures (put caption below figures) detailing the experiment associated with each table or figure (data, algorithm used, parameters and settings explored."
   ]
  },
  {
   "cell_type": "markdown",
   "metadata": {},
   "source": [
    "First, we print out the raw dictionary so that we can perform the analysis without having to wait for the whole thing to complete again."
   ]
  },
  {
   "cell_type": "code",
   "execution_count": null,
   "metadata": {
    "collapsed": false
   },
   "outputs": [
    {
     "data": {
      "image/png": "[encoded data removed]",
      "text/plain": [
      ]
     },
     "metadata": {},
     "output_type": "display_data"
    }
   ],
   "source": [
    "fig, axes = plt.subplots(1, 2, figsize=(15, 6))\n",
    "\n",
    "for i, measure in zip(range(2), ['areaUnderROC', 'logLoss']):\n",
    "    pivot_df2 = df2.pivot('step', 'regParam', measure)\n",
    "    seaborn.heatmap(pivot_df2, ax=axes[i], annot=True)\n",
    "    axes[i].set_title('step vs. regParam: ' + measure)"
   ]
  },
  {
   "cell_type": "markdown",
   "metadata": {},
   "source": [
    "## Reflect on the Evaluation of the Logistic Regression"
   ]
  },
  {
   "cell_type": "markdown",
   "metadata": {},
   "source": [
    "> Discuss the optimal setting to solve this problem  in terms of the following:\n",
    "> * Features\n",
    "> * Learning algorithm\n",
    "> * Spark cluster\n",
    "\n",
    "> Justify your recommendations based on your experimental results and cross reference with table numbers and figure numbers. Also highlight key results with annotations, both textual and line and box based, on your tables and graphs."
   ]
  },
  {
   "cell_type": "markdown",
   "metadata": {
    "collapsed": true
   },
   "source": [
    "### Features\n",
    "\n",
    "Increasing the number of buckets slightly improves the average log loss while increasing the complexity of the model; it shifts from approximately 0.582 for a small number of buckets to 0.588 at ten buckets. Even though this small improvement incrases the number of features by a factor of 10 (and it would be more parsimonious to chooses the 1,000 model), the recommendation would be use 10,000 buckets in the logistic regression."
   ]
  },
  {
   "cell_type": "markdown",
   "metadata": {},
   "source": [
    "### Learning Algorithm\n",
    "\n",
    "In the logistic regression model, the hyperparameters of regularization parameter = 1e-6 and step size = 5 produce the lowest logloss value on the validation data. Therefore, the recommendation would be to use these values for regularization parameters."
   ]
  },
  {
   "cell_type": "markdown",
   "metadata": {},
   "source": [
    "### Spark Cluster\n",
    "\n",
    "One of the problems in this assignment was making sure we had sufficient memory to hold the training and validation data sets. Therefore, the recommendation is to make sure that many executors are available and each executor has lots of free memory to dedicate to solving this problem.\n",
    "\n",
    "However, unless you request a very large cluster, you need to frequently unpersist the values in order to allow for the next iteration of grid search. This makes it more difficult to re-test values within the grid search without having to re-parse the data set. This lead to the strategy of running a smaller set of tests to identify the most appropriate bucket size followed by more fine-grained testing of candidate values."
   ]
  }
 ],
 "metadata": {
  "kernelspec": {
   "display_name": "Python 2",
   "language": "python",
   "name": "python2"
  },
  "language_info": {
   "codemirror_mode": {
    "name": "ipython",
    "version": 2
   },
   "file_extension": ".py",
   "mimetype": "text/x-python",
   "name": "python",
   "nbconvert_exporter": "python",
   "pygments_lexer": "ipython2",
   "version": "2.7.6"
  },
  "toc": {
   "toc_cell": false,
   "toc_number_sections": true,
   "toc_threshold": 6,
   "toc_window_display": false
  }
 },
 "nbformat": 4,
 "nbformat_minor": 0
}
