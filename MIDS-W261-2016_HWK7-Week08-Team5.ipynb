{
 "cells": [
  {
   "cell_type": "markdown",
   "metadata": {},
   "source": [
    "# HW6, DATSCI W261\n",
    "Team: Kuan Lin, Alejandro J. Rojas, Ricardo Barrera<br/>\n",
    "Emails: kuanlin@ischool.berkeley.edu, ale@ischool.berkeley.edu, ricardofrank@ischool.berkeley.edu<br/>\n",
    "Time of Initial Submission: 8:00 AM PST, Thursday, March 10, 2016<br/>\n",
    "W261-1, Spring 2016 Week 6 Homework<br/>"
   ]
  },
  {
   "cell_type": "markdown",
   "metadata": {},
   "source": [
    "# General Description\n",
    "In this assignment you will explore networks and develop MRJob code for \n",
    "finding shortest path graph distances. To build up to large data \n",
    "you will develop your code on some very simple, toy networks.\n",
    "After this you will take your developed code forward and modify it and \n",
    "apply it to two larger datasets (performing EDA along the way)."
   ]
  },
  {
   "cell_type": "markdown",
   "metadata": {},
   "source": [
    "# HW 7.0: Shortest path graph distances (toy networks)\n",
    "\n",
    "In this part of your assignment you will develop the base of your code for the week.\n",
    "\n",
    "Write MRJob classes to find shortest path graph distances, \n",
    "as described in the lectures. In addition to finding the distances, \n",
    "your code should also output a distance-minimizing path between the source and target.\n",
    "Work locally for this part of the assignment, and use \n",
    "both of the undirected and directed toy networks.\n",
    "\n",
    "To proof you code's function, run the following jobs\n",
    "\n",
    "- shortest path in the undirected network from node 1 to node 4\n",
    "<p>Solution: 1,5,4</p>\n",
    "\n",
    "- shortest path in the directed network from node 1 to node 5\n",
    "<p>Solution: 1,2,4,5</p>\n",
    "\n",
    "and report your output---make sure it is correct!"
   ]
  },
  {
   "cell_type": "markdown",
   "metadata": {},
   "source": [
    "### Parallel Breadth First Search for Single Source Shortest Path"
   ]
  },
  {
   "cell_type": "code",
   "execution_count": 74,
   "metadata": {
    "collapsed": false
   },
   "outputs": [
    {
     "name": "stdout",
     "output_type": "stream",
     "text": [
      "Overwriting parallel_breadth_first.py\n"
     ]
    }
   ],
   "source": [
    "%%writefile parallel_breadth_first.py\n",
    "from mrjob.job import MRJob\n",
    "\n",
    "# parallel breadth first search for single source shortest path\n",
    "class pbf(MRJob):\n",
    "    \n",
    "    # load current shortest path from explored nodes\n",
    "    def loadKnownPath(self):\n",
    "        self.explored_nodes = {}\n",
    "        self.frontier_nodes = set()\n",
    "        for line in open('explored_nodes.txt', 'r'):\n",
    "            line = line.strip()\n",
    "            if line == '': continue\n",
    "            lineArr = line.split('\\t')\n",
    "            nodeId = int(lineArr[0])\n",
    "            distance_from_source = float(lineArr[1])\n",
    "            shortest_path = []\n",
    "            if len(lineArr) > 2: # only frontier nodes will carry path info\n",
    "                for nid in lineArr[2].strip().split(','):\n",
    "                    shortest_path.append(int(nid))\n",
    "                self.frontier_nodes.add(nodeId)\n",
    "            self.explored_nodes[nodeId] = (distance_from_source, shortest_path)\n",
    "        if len(self.frontier_nodes) == 0 and len(self.explored_nodes) == 1: # initialization phase\n",
    "            self.frontier_nodes.add(self.explored_nodes.keys()[0])\n",
    "            \n",
    "    def mapper_init(self):\n",
    "        self.loadKnownPath()\n",
    "        \n",
    "    def mapper(self, _, line):\n",
    "        line = line.strip()\n",
    "        # parse adjacency list\n",
    "        lineArr = line.split('\\t')\n",
    "        nodeId = int(lineArr[0])\n",
    "        if nodeId in self.frontier_nodes: # only process nodes at the frontier\n",
    "            distance_from_source, shortest_path = self.explored_nodes[nodeId]\n",
    "            shortest_path.append(nodeId) # add to the current node to make shortest path to the next node\n",
    "            # adjacency list should be a dictionary object\n",
    "            for neighbor_nodeID,edge_weight in eval(lineArr[1]).items():\n",
    "                neighbor_nodeID = int(neighbor_nodeID) # convert to int for ID for consistency\n",
    "                current_distance = distance_from_source+edge_weight\n",
    "                # emit if this is a new node or the path found is shorter then known path\n",
    "                if neighbor_nodeID not in self.explored_nodes or current_distance < self.explored_nodes[neighbor_nodeID][0]:\n",
    "                    yield neighbor_nodeID, (current_distance, shortest_path)\n",
    "    \n",
    "    # use combiner to preselect shortest path\n",
    "    def combiner(self, nodeId, payload):\n",
    "        shortest_distance = None\n",
    "        shortest_path = None\n",
    "        for dist,path in payload:\n",
    "            if shortest_distance == None or dist < shortest_distance:\n",
    "                shortest_distance = dist\n",
    "                shortest_path = path\n",
    "        if shortest_distance != None:\n",
    "            yield nodeId, (shortest_distance, shortest_path)\n",
    "    \n",
    "    # pretty much the same as the combiner\n",
    "    def reducer(self, nodeId, payload):\n",
    "        shortest_distance = None\n",
    "        shortest_path = None\n",
    "        for dist,path in payload:\n",
    "            if shortest_distance == None or dist < shortest_distance:\n",
    "                shortest_distance = dist\n",
    "                shortest_path = path\n",
    "        # since I am only emitting newly explored nodes or nodes with updated distances\n",
    "        # the driver can terminate if there is nothing emitted from reducer (that is,\n",
    "        # more node to explore and no distance changes)\n",
    "        yield nodeId, (shortest_distance, shortest_path)\n",
    "        \n",
    "if __name__ == '__main__':\n",
    "    pbf.run()"
   ]
  },
  {
   "cell_type": "markdown",
   "metadata": {},
   "source": [
    "### Driver code for Parallel Breadth First Search"
   ]
  },
  {
   "cell_type": "code",
   "execution_count": 75,
   "metadata": {
    "collapsed": false,
    "scrolled": true
   },
   "outputs": [
    {
     "name": "stdout",
     "output_type": "stream",
     "text": [
      "Overwriting pbf_driver.py\n"
     ]
    }
   ],
   "source": [
    "%%writefile pbf_driver.py\n",
    "from parallel_breadth_first import pbf\n",
    "import os\n",
    "import sys\n",
    "\n",
    "input_file = sys.argv[1]\n",
    "source_nodeId = int(sys.argv[2])\n",
    "target_nodeId = int(sys.argv[3])\n",
    "if len(sys.argv) > 4:\n",
    "    unweighted = int(sys.argv[4])\n",
    "else:\n",
    "    unweighted = 0\n",
    "    \n",
    "shortest_path_to_target = None\n",
    "shortest_distance_to_target = 0.0\n",
    "\n",
    "# initialize distance and shortest path for the known node - which is just the source\n",
    "writer = open('explored_nodes.txt', 'w')\n",
    "# format: 'nodeID'\\t'shortest_distance'\\t'shortes_path' (comma seperated, only for frontier nodes)\n",
    "writer.write('\\t'.join([str(source_nodeId), '0']) + '\\n')\n",
    "writer.close()\n",
    "\n",
    "def recordUpdateNodes(updateInfo):\n",
    "    writer = open('explored_nodes.txt.temp', 'w')\n",
    "    written_nodes = set()\n",
    "    for line in open('explored_nodes.txt', 'r'):\n",
    "        line = line.strip()\n",
    "        if line == '': continue\n",
    "        nodeId = int(line.split('\\t')[0])\n",
    "        if nodeId in updateInfo:\n",
    "            shortest_distance, shortest_path = updateInfo[nodeId]\n",
    "            # record updated node info, and re-designate as a new frontier\n",
    "            writer.write('\\t'.join([str(nodeId), str(shortest_distance), ','.join(map(str,shortest_path))]) + '\\n')\n",
    "            written_nodes.add(nodeId)\n",
    "        else:\n",
    "            writer.write('\\t'.join(line.split('\\t')[0:2]) + '\\n') # no need to keep path-info for non-frontier nodes\n",
    "    # record newly discovered nodes\n",
    "    for nodeId in updateInfo:\n",
    "        if nodeId not in written_nodes:\n",
    "            shortest_distance, shortest_path = updateInfo[nodeId]\n",
    "            # newly discvoerd nodes are frontier nodes\n",
    "            writer.write('\\t'.join([str(nodeId), str(shortest_distance), ','.join(map(str,shortest_path))]) + '\\n')\n",
    "    writer.close()\n",
    "    os.remove('explored_nodes.txt')\n",
    "    os.rename('explored_nodes.txt.temp', 'explored_nodes.txt')\n",
    "\n",
    "\n",
    "mr_job = pbf(args=[input_file, '--file', 'explored_nodes.txt'])\n",
    "while(1):\n",
    "    with mr_job.make_runner() as runner:\n",
    "        runner.run()\n",
    "        # stream_output: get access of the output\n",
    "        updated_nodes = {}\n",
    "        for line in runner.stream_output():\n",
    "            nodeId,payload = mr_job.parse_output_line(line)\n",
    "            updated_nodes[nodeId] = payload\n",
    "        if len(updated_nodes) > 0:\n",
    "            #print str(updated_nodes)\n",
    "            recordUpdateNodes(updated_nodes)\n",
    "            if target_nodeId in updated_nodes:\n",
    "                shortest_distance_to_target, shortest_path_to_target = updated_nodes[target_nodeId]\n",
    "                if unweighted > 0: # in unweighted graph, we cann terminate once we found the target in the first time\n",
    "                    break\n",
    "        else:\n",
    "            break # no new updated information about the nodes\n",
    "            \n",
    "print \"Shortest distance from node%s to node%s: %s\"%(source_nodeId, target_nodeId, shortest_distance_to_target)\n",
    "print \"via path: %s\"%(','.join(map(str,shortest_path_to_target)) + ',' + str(target_nodeId))"
   ]
  },
  {
   "cell_type": "code",
   "execution_count": 84,
   "metadata": {
    "collapsed": false
   },
   "outputs": [
    {
     "name": "stdout",
     "output_type": "stream",
     "text": [
      "Shortest distance from node1 to node4: 2.0\n",
      "via path: 1,2,4\n"
     ]
    },
    {
     "name": "stderr",
     "output_type": "stream",
     "text": [
      "No handlers could be found for logger \"mrjob.runner\"\n"
     ]
    }
   ],
   "source": [
    "# test shortest path in the undirected network from node 1 to node 4\n",
    "# Solution: 1,5,4 \n",
    "!python pbf_driver.py undirected_toy.txt 1 4 1"
   ]
  },
  {
   "cell_type": "code",
   "execution_count": 85,
   "metadata": {
    "collapsed": false
   },
   "outputs": [
    {
     "name": "stdout",
     "output_type": "stream",
     "text": [
      "1\t0\n",
      "2\t1.0\n",
      "5\t1.0\n",
      "3\t2.0\t1,2\n",
      "4\t2.0\t1,2\n"
     ]
    }
   ],
   "source": [
    "for line in open('explored_nodes.txt', 'r'): print line.strip()"
   ]
  },
  {
   "cell_type": "code",
   "execution_count": 89,
   "metadata": {
    "collapsed": false
   },
   "outputs": [
    {
     "name": "stdout",
     "output_type": "stream",
     "text": [
      "Shortest distance from node4 to node6: 3.0\n",
      "via path: 4,2,1,6\n"
     ]
    },
    {
     "name": "stderr",
     "output_type": "stream",
     "text": [
      "No handlers could be found for logger \"mrjob.runner\"\n"
     ]
    }
   ],
   "source": [
    "# test shortest path in the directed network from node 1 to node 5\n",
    "# Solution: 1,2,4,5\n",
    "!python pbf_driver.py directed_toy.txt 4 6 1"
   ]
  },
  {
   "cell_type": "code",
   "execution_count": 90,
   "metadata": {
    "collapsed": false
   },
   "outputs": [
    {
     "name": "stdout",
     "output_type": "stream",
     "text": [
      "4\t0\n",
      "2\t1.0\n",
      "5\t1.0\n",
      "1\t2.0\n",
      "3\t2.0\n",
      "6\t3.0\t4,2,1\n"
     ]
    }
   ],
   "source": [
    "for line in open('explored_nodes.txt', 'r'): print line.strip()"
   ]
  },
  {
   "cell_type": "markdown",
   "metadata": {},
   "source": [
    "# Main dataset 1: NLTK synonyms\n",
    "\n",
    "In the next part of this assignment you will explore a network derived from\n",
    "the NLTK synonym database used for evaluation in HW 5. At a high level, this\n",
    "network is undirected, defined so that there exists link between two nodes/words \n",
    "if the pair or words are a synonym. These data may be found at the location:\n",
    "\n",
    "s3://ucb-mids-mls-networks/synNet/synNet.txt<br/>\n",
    "s3://ucb-mids-mls-networks/synNet/indices.txt<br/>\n",
    "On under the Data Subfolder for HW7 on Dropbox with the same file names\n",
    "\n",
    "where synNet.txt contains a sparse representation of the network:\n",
    "\n",
    "(index) \\t (dictionary of links)\n",
    "\n",
    "in indexed form, and indices.txt contains a lookup list\n",
    "\n",
    "(word) \\t (index)\n",
    "\n",
    "of indices and words. This network is small enough for you to explore and run\n",
    "scripts locally, but will also be good for a systems test (for later) on AWS.\n",
    "\n",
    "In the dictionary, target nodes are keys, link weights are values \n",
    "(here, all weights are 1, i.e., the network is unweighted)."
   ]
  },
  {
   "cell_type": "markdown",
   "metadata": {},
   "source": [
    "# HW 7.1: Exploratory data analysis (NLTK synonyms)\n",
    "\n",
    "Using MRJob, explore the synonyms network data.<br/>\n",
    "Consider plotting the degree distribution (does it follow a power law?),<br/>\n",
    "and determine some of the key features, like:<br/>\n",
    "\n",
    "number of nodes, <br/>\n",
    "number links,<br/>\n",
    "or the average degree (i.e., the average number of links per node),<br/>\n",
    "etc...\n",
    "\n",
    "As you develop your code, please be sure to run it locally first (though on the whole dataset). <br/>\n",
    "Once you have gotten you code to run locally, deploy it on AWS as a systems test<br/>\n",
    "in preparation for our next dataset (which will require AWS)."
   ]
  },
  {
   "cell_type": "code",
   "execution_count": 19,
   "metadata": {
    "collapsed": false
   },
   "outputs": [
    {
     "name": "stdout",
     "output_type": "stream",
     "text": [
      "Overwriting synNetEDA.py\n"
     ]
    }
   ],
   "source": [
    "%%writefile synNetEDA.py\n",
    "from mrjob.job import MRJob\n",
    "\n",
    "class synNetEDA(MRJob):\n",
    "    \n",
    "    def mapper_init(self):\n",
    "        # hold node degrees\n",
    "        self.degrees = []\n",
    "    \n",
    "    def mapper(self, _, line):\n",
    "        line = line.strip()\n",
    "        # outlinks are dictionary objs\n",
    "        links = eval(line.split('\\t')[1])\n",
    "        # record degree information\n",
    "        self.degrees.append(len(links))\n",
    "        \n",
    "    def mapper_final(self):\n",
    "        # emit node degrees\n",
    "        yield None, self.degrees\n",
    "        \n",
    "    def reducer(self, _, degree_info):\n",
    "        for info in degree_info:\n",
    "            yield None, info\n",
    "                \n",
    "if __name__ == '__main__':\n",
    "    synNetEDA.run()"
   ]
  },
  {
   "cell_type": "code",
   "execution_count": 21,
   "metadata": {
    "collapsed": false
   },
   "outputs": [
    {
     "name": "stderr",
     "output_type": "stream",
     "text": [
      "WARNING:mrjob.runner:\n",
      "WARNING:mrjob.runner:PLEASE NOTE: Starting in mrjob v0.5.0, protocols will be strict by default. It's recommended you run your job with --strict-protocols or set up mrjob.conf as described at https://pythonhosted.org/mrjob/whats-new.html#ready-for-strict-protocols\n",
      "WARNING:mrjob.runner:\n"
     ]
    },
    {
     "name": "stdout",
     "output_type": "stream",
     "text": [
      "The autoreload extension is already loaded. To reload it, use:\n",
      "  %reload_ext autoreload\n",
      "Number of Nodes: 1000\n",
      "Number of Links: 6854\n",
      "Average Node Degrees: 13.709\n"
     ]
    },
    {
     "data": {
      "image/png": "[encoded data removed]",
      "text/plain": [
       "<matplotlib.figure.Figure at 0x2b91270>"
      ]
     },
     "metadata": {},
     "output_type": "display_data"
    }
   ],
   "source": [
    "%load_ext autoreload\n",
    "%autoreload 2\n",
    "%matplotlib inline\n",
    "import matplotlib.pyplot as plt\n",
    "from matplotlib.ticker import MultipleLocator\n",
    "\n",
    "# driver code for synNet EDA\n",
    "from synNetEDA import synNetEDA\n",
    "\n",
    "mr_job = synNetEDA(args=['synNet_reduced.txt'])\n",
    "with mr_job.make_runner() as runner: \n",
    "    runner.run()\n",
    "    num_nodes = 0 # number of nodes\n",
    "    num_links = 0 # number of links\n",
    "    total_degrees = 0 # total number of degrees\n",
    "    degrees_dist = []\n",
    "    for line in runner.stream_output():\n",
    "        degree_nums = mr_job.parse_output_line(line)[1]\n",
    "        num_nodes += len(degree_nums)\n",
    "        num_links += sum(degree_nums)\n",
    "        total_degrees += sum(degree_nums)\n",
    "        degrees_dist += degree_nums\n",
    "        \n",
    "num_links = num_links/2 # since this is undirected graph, we are double counting links\n",
    "avg_degree = total_degrees*1.0/num_nodes # average number of degrees per node\n",
    "\n",
    "print \"Number of Nodes: %s\"%num_nodes\n",
    "print \"Number of Links: %s\"%num_links\n",
    "print \"Average Node Degrees: %s\"%avg_degree\n",
    "    \n",
    "# plot the distribution of average node degree\n",
    "\n",
    "plt.hist(degrees_dist)\n",
    "plt.title(\"Node degree distribution for synNet\")\n",
    "plt.xlabel(\"Node Degree\")\n",
    "plt.ylabel(\"count\")\n",
    "plt.show()"
   ]
  },
  {
   "cell_type": "markdown",
   "metadata": {},
   "source": [
    "# HW 7.2: Shortest path graph distances (NLTK synonyms)\n",
    "\n",
    "Write (reuse your code from 7.0) an MRJob class to find shortest path graph distances, <br/>\n",
    "and apply it to the NLTK synonyms network dataset.\n",
    "\n",
    "Proof your code's function by running the job:<br/>\n",
    "\n",
    "- shortest path starting at \"walk\" (index=7827) and ending at \"make\" (index=536),\n",
    "\n",
    "and showing you code's output. Once again, your output should include the path and the distance.\n",
    "\n",
    "As you develop your code, please be sure to run it locally first (though on the whole dataset). <br/>\n",
    "Once you have gotten you code to run locally, deploy it on AWS as a systems test<br/>\n",
    "in preparation for our next dataset (which will require AWS)."
   ]
  },
  {
   "cell_type": "markdown",
   "metadata": {},
   "source": [
    "#### The code from 7.0 should be able to handle this problem without further modification"
   ]
  },
  {
   "cell_type": "code",
   "execution_count": 88,
   "metadata": {
    "collapsed": false
   },
   "outputs": [
    {
     "name": "stdout",
     "output_type": "stream",
     "text": [
      "Shortest distance from node7827 to node536: 3.0\n",
      "via path: 7827,1426,1668,536\n"
     ]
    },
    {
     "name": "stderr",
     "output_type": "stream",
     "text": [
      "No handlers could be found for logger \"mrjob.runner\"\n"
     ]
    }
   ],
   "source": [
    "!python pbf_driver.py synNet.txt 7827 536 1"
   ]
  },
  {
   "cell_type": "markdown",
   "metadata": {},
   "source": [
    "#### I ran the system test on EMR using synNet in 7.4.  Please refer to that section for its output"
   ]
  },
  {
   "cell_type": "markdown",
   "metadata": {},
   "source": [
    "# Main dataset 2: English Wikipedia\n",
    "\n",
    "For the remainder of this assignment you will explore the English Wikipedia hyperlink network.<br/>\n",
    "The dataset is built from the Sept. 2015 XML snapshot of English Wikipedia.<br/>\n",
    "For this directed network, a link between articles: <br/>\n",
    "\n",
    "A -> B\n",
    "\n",
    "is defined by the existence of a hyperlink in A pointing to B.<br/>\n",
    "This network also exists in the indexed format:<br/>\n",
    "\n",
    "Data: s3://ucb-mids-mls-networks/wikipedia/all-pages-indexed-out.txt<br/>\n",
    "Data: s3://ucb-mids-mls-networks/wikipedia/all-pages-indexed-in.txt<br/>\n",
    "Data: s3://ucb-mids-mls-networks/wikipedia/indices.txt<br/>\n",
    "On under the Data Subfolder for HW7 on Dropbox with the same file names<br/>\n",
    "\n",
    "but has an index with more detailed data:\n",
    "\n",
    "(article name) \\t (index) \\t (in degree) \\t (out degree)\n",
    "\n",
    "In the dictionary, target nodes are keys, link weights are values .<br/>\n",
    "Here, a weight indicates the number of time a page links to another.<br/>\n",
    "However, for the sake of this assignment, treat this an unweighted network,<br/>\n",
    "and set all weights to 1 upon data input."
   ]
  },
  {
   "cell_type": "markdown",
   "metadata": {},
   "source": [
    "# HW 7.3: Exploratory data analysis (Wikipedia)\n",
    "\n",
    "Using MRJob, explore the Wikipedia network data on the AWS cloud. Reuse your code from HW 7.1---does is scale well? \n",
    "Be cautioned that Wikipedia is a directed network, where links are not symmetric. \n",
    "So, even though a node may be linked to, it will not appear as a primary record itself if it has no out-links. \n",
    "This means that you may have to ADJUST your code (depending on its design). \n",
    "To be sure of your code's functionality in this context, run a systems test on the directed_toy.txt network."
   ]
  },
  {
   "cell_type": "markdown",
   "metadata": {},
   "source": [
    "#### The code from 7.1 will need the following modification:\n",
    "- Need to account for nodes with no outlink\n",
    "- Need to perform resovior sampling to get the final degree distribution in order to scale out.\n",
    "\n",
    "The code below will do that."
   ]
  },
  {
   "cell_type": "code",
   "execution_count": 30,
   "metadata": {
    "collapsed": false
   },
   "outputs": [
    {
     "name": "stdout",
     "output_type": "stream",
     "text": [
      "Overwriting wikiEDA.py\n"
     ]
    }
   ],
   "source": [
    "%%writefile wikiEDA.py\n",
    "from mrjob.job import MRJob\n",
    "from mrjob.step import MRStep\n",
    "from random import randint\n",
    "\n",
    "class wikiEDA(MRJob):\n",
    "    \n",
    "    def steps(self):\n",
    "        return [\n",
    "            MRStep(mapper_init=self.first_pass_mapper_init, mapper=self.node_info_mapper, \n",
    "                   mapper_final=self.node_info_mapper_final, reducer=self.node_info_reducer),\n",
    "            MRStep(reducer=self.final_aggregation)\n",
    "        ]\n",
    "    \n",
    "    # setup first pass mapper to hold link counts for each node\n",
    "    def first_pass_mapper_init(self):\n",
    "        self.node_info = {}\n",
    "    \n",
    "    # first pass mapper, collect link/degree information for each node\n",
    "    def node_info_mapper(self, _, line):\n",
    "        lineArr = line.strip().split('\\t')\n",
    "        nodeId = int(lineArr[0]) # nodeId to be documented for outlinks\n",
    "        nodeLinks = eval(lineArr[1]) # outlink information\n",
    "        self.node_info.setdefault(nodeId, [0, 0]) # [inlink, outlink]\n",
    "        self.node_info[nodeId][1] += sum(nodeLinks.values()) # add to outlink counts\n",
    "        for neighbor in nodeLinks:\n",
    "            neighborId = int(neighbor)\n",
    "            self.node_info.setdefault(neighborId, [0, 0])\n",
    "            self.node_info[neighborId][0] += nodeLinks[neighbor] # add to inlink counts\n",
    "    \n",
    "    def node_info_mapper_final(self):\n",
    "        # emit by nodeId so that reducer can perform final aggregation\n",
    "        for nodeId, linkInfo in self.node_info.items():\n",
    "            yield nodeId, linkInfo\n",
    "            \n",
    "    def node_info_reducer(self, nodeId, linkInfos):\n",
    "        # aggregate all link information for each node\n",
    "        inLinkCounts = 0\n",
    "        outLinkCounts = 0\n",
    "        for inCount,outCount in linkInfos:\n",
    "            inLinkCounts += inCount\n",
    "            outLinkCounts += outCount\n",
    "        # send to second step for a final aggregation\n",
    "        yield None, (inLinkCounts, outLinkCounts)\n",
    "        \n",
    "    # sample k from stream\n",
    "    def resoviar_sampling(self, pool_size, current_pool, stream_idx, stream_item):\n",
    "        if len(current_pool) < pool_size:\n",
    "            current_pool.append(stream_item)\n",
    "        else:\n",
    "            j = randint(0, stream_idx)\n",
    "            if j < pool_size:\n",
    "                current_pool[j] = stream_item\n",
    "        \n",
    "    def final_aggregation(self, _, linkInfos):\n",
    "        total_node_counts = 0\n",
    "        total_inLinkCounts = 0\n",
    "        total_outLinkCounts = 0\n",
    "        link_sample = [] # sample of node links\n",
    "        \n",
    "        idx = 0\n",
    "        for inLinkCounts,outLinkCounts in linkInfos:\n",
    "            total_node_counts += 1\n",
    "            total_inLinkCounts += inLinkCounts\n",
    "            total_outLinkCounts += outLinkCounts\n",
    "            self.resoviar_sampling(500, link_sample, idx, (inLinkCounts,outLinkCounts)) # sample 500 from stream\n",
    "            idx += 1\n",
    "        \n",
    "        yield None, (total_node_counts, total_inLinkCounts, total_outLinkCounts, link_sample) \n",
    "                \n",
    "if __name__ == '__main__':\n",
    "    wikiEDA.run()"
   ]
  },
  {
   "cell_type": "markdown",
   "metadata": {},
   "source": [
    "#### Driver for Wiki EDA"
   ]
  },
  {
   "cell_type": "code",
   "execution_count": 2,
   "metadata": {
    "collapsed": false
   },
   "outputs": [
    {
     "name": "stderr",
     "output_type": "stream",
     "text": [
      "WARNING:mrjob.runner:\n",
      "WARNING:mrjob.runner:PLEASE NOTE: Starting in mrjob v0.5.0, protocols will be strict by default. It's recommended you run your job with --strict-protocols or set up mrjob.conf as described at https://pythonhosted.org/mrjob/whats-new.html#ready-for-strict-protocols\n",
      "WARNING:mrjob.runner:\n"
     ]
    },
    {
     "name": "stdout",
     "output_type": "stream",
     "text": [
      "The autoreload extension is already loaded. To reload it, use:\n",
      "  %reload_ext autoreload\n",
      "Number of Nodes: 6\n",
      "Number of out-Links: 12\n"
     ]
    },
    {
     "data": {
      "image/png": "[encoded data removed]",
      "text/plain": [
       "<matplotlib.figure.Figure at 0x4c3a6d0>"
      ]
     },
     "metadata": {},
     "output_type": "display_data"
    },
    {
     "data": {
      "image/png": "[encoded data removed]",
      "text/plain": [
       "<matplotlib.figure.Figure at 0x561ff50>"
      ]
     },
     "metadata": {},
     "output_type": "display_data"
    }
   ],
   "source": [
    "# *************** local unit test with directed toy data *************\n",
    "\n",
    "%load_ext autoreload\n",
    "%autoreload 2\n",
    "%matplotlib inline\n",
    "import matplotlib.pyplot as plt\n",
    "from matplotlib.ticker import MultipleLocator\n",
    "\n",
    "# driver code for wiki EDA\n",
    "from wikiEDA import wikiEDA\n",
    "\n",
    "mr_job = wikiEDA(args=['directed_toy.txt'])\n",
    "with mr_job.make_runner() as runner: \n",
    "    runner.run()\n",
    "    for line in runner.stream_output():\n",
    "        total_node_counts, total_inLinkCounts, total_outLinkCounts, degree_sample = mr_job.parse_output_line(line)[1]\n",
    "\n",
    "print \"Number of Nodes: %s\"%total_node_counts\n",
    "#print \"Number of in-Links: %s\"%total_inLinkCounts\n",
    "print \"Number of out-Links: %s\"%total_outLinkCounts\n",
    "    \n",
    "# plot the distribution of average node degree\n",
    "\n",
    "plt.hist([i[0] for i in degree_sample])\n",
    "plt.title(\"In-Degree Distribution\")\n",
    "plt.xlabel(\"Node Degree\")\n",
    "plt.ylabel(\"count\")\n",
    "plt.show()\n",
    "\n",
    "plt.hist([i[1] for i in degree_sample])\n",
    "plt.title(\"Out-Degree Distribution\")\n",
    "plt.xlabel(\"Node Degree\")\n",
    "plt.ylabel(\"count\")\n",
    "plt.show()"
   ]
  },
  {
   "cell_type": "code",
   "execution_count": 32,
   "metadata": {
    "collapsed": true
   },
   "outputs": [],
   "source": [
    "# configuration for running MRJob on EMR\n",
    "import os\n",
    "\n",
    "aws_id = os.environ['AWSAccessKeyId']\n",
    "aws_key = os.environ['AWSSecretKey']\n",
    "\n",
    "writer = open('mrjob_emr.conf', 'w')\n",
    "writer.write(\n",
    "\"\"\"runners:\n",
    "  emr:\n",
    "    aws_access_key_id: %s\n",
    "    aws_region: us-east-1\n",
    "    ec2_instance_type: m1.medium\n",
    "    ec2_master_instance_type: m1.medium\n",
    "    num_ec2_instances: 3\n",
    "    aws_secret_access_key: %s\"\"\"%(aws_id, aws_key)\n",
    ")\n",
    "writer.close()"
   ]
  },
  {
   "cell_type": "code",
   "execution_count": 33,
   "metadata": {
    "collapsed": false
   },
   "outputs": [
    {
     "name": "stderr",
     "output_type": "stream",
     "text": [
      "WARNING:mrjob.conf:Got unexpected keyword arguments: ssh_tunnel\n",
      "WARNING:mrjob.runner:\n",
      "WARNING:mrjob.runner:PLEASE NOTE: Starting in mrjob v0.5.0, protocols will be strict by default. It's recommended you run your job with --strict-protocols or set up mrjob.conf as described at https://pythonhosted.org/mrjob/whats-new.html#ready-for-strict-protocols\n",
      "WARNING:mrjob.runner:\n"
     ]
    },
    {
     "name": "stdout",
     "output_type": "stream",
     "text": [
      "The autoreload extension is already loaded. To reload it, use:\n",
      "  %reload_ext autoreload\n",
      "Number of Nodes: 15192277\n",
      "Number of in-Links: 185243029\n",
      "Number of out-Links: 185243029\n"
     ]
    },
    {
     "data": {
      "image/png": "[encoded data removed]",
      "text/plain": [
       "<matplotlib.figure.Figure at 0x77ce850>"
      ]
     },
     "metadata": {},
     "output_type": "display_data"
    },
    {
     "data": {
      "image/png": "[encoded data removed]",
      "text/plain": [
       "<matplotlib.figure.Figure at 0x5639490>"
      ]
     },
     "metadata": {},
     "output_type": "display_data"
    }
   ],
   "source": [
    "%load_ext autoreload\n",
    "%autoreload 2\n",
    "%matplotlib inline\n",
    "import matplotlib.pyplot as plt\n",
    "from matplotlib.ticker import MultipleLocator\n",
    "\n",
    "# driver code for wiki EDA\n",
    "from wikiEDA import wikiEDA\n",
    "\n",
    "mr_job = wikiEDA(args=['-r', 'emr', '-c', 'mrjob_emr.conf', 's3://ucb-mids-mls-networks/wikipedia/all-pages-indexed-out.txt'])\n",
    "with mr_job.make_runner() as runner: \n",
    "    runner.run()\n",
    "    for line in runner.stream_output():\n",
    "        total_node_counts, total_inLinkCounts, total_outLinkCounts, degree_sample = mr_job.parse_output_line(line)[1]\n",
    "\n",
    "print \"Number of Nodes: %s\"%total_node_counts\n",
    "print \"Number of in-Links: %s\"%total_inLinkCounts\n",
    "print \"Number of out-Links: %s\"%total_outLinkCounts\n",
    "    \n",
    "# plot the distribution of average node degree\n",
    "\n",
    "plt.hist([i[0] for i in degree_sample])\n",
    "plt.title(\"In-Degree Distribution\")\n",
    "plt.xlabel(\"Node Degree\")\n",
    "plt.ylabel(\"count\")\n",
    "plt.show()\n",
    "\n",
    "plt.hist([i[1] for i in degree_sample])\n",
    "plt.title(\"Out-Degree Distribution\")\n",
    "plt.xlabel(\"Node Degree\")\n",
    "plt.ylabel(\"count\")\n",
    "plt.show()"
   ]
  },
  {
   "cell_type": "markdown",
   "metadata": {
    "collapsed": true
   },
   "source": [
    "# HW 7.4: Shortest path graph distances (Wikipedia)\n",
    "\n",
    "Using MRJob, find shortest path graph distances in the Wikipedia network on the AWS cloud.<br/>\n",
    "Reuse your code from 7.2, but once again be warned of Wikipedia being a directed network.<br/>\n",
    "To be sure of your code's functionality in this context, run a systems test on the directed_toy.txt network.\n",
    "\n",
    "When running your code on the Wikipedia network, proof its function by running the job:\n",
    "\n",
    "- shortest path from \"Ireland\" (index=6176135) to \"University of California, Berkeley\" (index=13466359),\n",
    "\n",
    "and show your code's output.\n",
    "\n",
    "Once your code is running, find some other shortest paths and report your results."
   ]
  },
  {
   "cell_type": "markdown",
   "metadata": {},
   "source": [
    "#### The code from 7.2 will work with directed graph.  But will need to make the following modifications:\n",
    "- Use only 1 as weight as stated in the problem.\n",
    "- Output additional shortest paths"
   ]
  },
  {
   "cell_type": "code",
   "execution_count": 1,
   "metadata": {
    "collapsed": false
   },
   "outputs": [
    {
     "name": "stdout",
     "output_type": "stream",
     "text": [
      "Writing wiki_parallel_breadth_first.py\n"
     ]
    }
   ],
   "source": [
    "%%writefile wiki_parallel_breadth_first.py\n",
    "from mrjob.job import MRJob\n",
    "\n",
    "# parallel breadth first search for single source shortest path\n",
    "class pbf(MRJob):\n",
    "    \n",
    "    # load current shortest path from explored nodes\n",
    "    def loadKnownPath(self):\n",
    "        self.explored_nodes = {}\n",
    "        self.frontier_nodes = set()\n",
    "        for line in open('explored_nodes.txt', 'r'):\n",
    "            line = line.strip()\n",
    "            if line == '': continue\n",
    "            lineArr = line.split('\\t')\n",
    "            nodeId = int(lineArr[0])\n",
    "            distance_from_source = float(lineArr[1])\n",
    "            shortest_path = []\n",
    "            if len(lineArr) > 2: # only frontier nodes will carry path info\n",
    "                for nid in lineArr[2].strip().split(','):\n",
    "                    shortest_path.append(int(nid))\n",
    "                self.frontier_nodes.add(nodeId)\n",
    "            self.explored_nodes[nodeId] = (distance_from_source, shortest_path)\n",
    "        if len(self.frontier_nodes) == 0 and len(self.explored_nodes) == 1: # initialization phase\n",
    "            self.frontier_nodes.add(self.explored_nodes.keys()[0])\n",
    "            \n",
    "    def mapper_init(self):\n",
    "        self.loadKnownPath()\n",
    "        \n",
    "    def mapper(self, _, line):\n",
    "        line = line.strip()\n",
    "        # parse adjacency list\n",
    "        lineArr = line.split('\\t')\n",
    "        nodeId = int(lineArr[0])\n",
    "        if nodeId in self.frontier_nodes: # only process nodes at the frontier\n",
    "            distance_from_source, shortest_path = self.explored_nodes[nodeId]\n",
    "            shortest_path.append(nodeId) # add to the current node to make shortest path to the next node\n",
    "            # adjacency list should be a dictionary object\n",
    "            for neighbor_nodeID,edge_weight in eval(lineArr[1]).items():\n",
    "                neighbor_nodeID = int(neighbor_nodeID) # convert to int for ID for consistency\n",
    "                #current_distance = distance_from_source+edge_weight\n",
    "                current_distance = distance_from_source+1 # set all weights to 1 per stated in the problem\n",
    "                # emit if this is a new node or the path found is shorter then known path\n",
    "                if neighbor_nodeID not in self.explored_nodes or current_distance < self.explored_nodes[neighbor_nodeID][0]:\n",
    "                    yield neighbor_nodeID, (current_distance, shortest_path)\n",
    "    \n",
    "    # use combiner to preselect shortest path\n",
    "    def combiner(self, nodeId, payload):\n",
    "        shortest_distance = None\n",
    "        shortest_path = None\n",
    "        for dist,path in payload:\n",
    "            if shortest_distance == None or dist < shortest_distance:\n",
    "                shortest_distance = dist\n",
    "                shortest_path = path\n",
    "        if shortest_distance != None:\n",
    "            yield nodeId, (shortest_distance, shortest_path)\n",
    "    \n",
    "    # pretty much the same as the combiner\n",
    "    def reducer(self, nodeId, payload):\n",
    "        shortest_distance = None\n",
    "        shortest_path = None\n",
    "        for dist,path in payload:\n",
    "            if shortest_distance == None or dist < shortest_distance:\n",
    "                shortest_distance = dist\n",
    "                shortest_path = path\n",
    "        # since I am only emitting newly explored nodes or nodes with updated distances\n",
    "        # the driver can terminate if there is nothing emitted from reducer (that is,\n",
    "        # more node to explore and no distance changes)\n",
    "        yield nodeId, (shortest_distance, shortest_path)\n",
    "        \n",
    "if __name__ == '__main__':\n",
    "    pbf.run()"
   ]
  },
  {
   "cell_type": "markdown",
   "metadata": {},
   "source": [
    "### Driver Code for Wiki Shortest Paths"
   ]
  },
  {
   "cell_type": "code",
   "execution_count": 13,
   "metadata": {
    "collapsed": false
   },
   "outputs": [
    {
     "name": "stdout",
     "output_type": "stream",
     "text": [
      "Overwriting wiki_pbf_driver.py\n"
     ]
    }
   ],
   "source": [
    "%%writefile wiki_pbf_driver.py\n",
    "from wiki_parallel_breadth_first import pbf\n",
    "import os\n",
    "import sys\n",
    "\n",
    "input_file = sys.argv[1]\n",
    "source_nodeId = int(sys.argv[2])\n",
    "target_nodeId = int(sys.argv[3])\n",
    "if len(sys.argv) > 4:\n",
    "    unweighted = int(sys.argv[4])\n",
    "else:\n",
    "    unweighted = 0\n",
    "    \n",
    "shortest_path_to_target = None\n",
    "shortest_distance_to_target = 0.0\n",
    "\n",
    "# initialize distance and shortest path for the known node - which is just the source\n",
    "writer = open('explored_nodes.txt', 'w')\n",
    "# format: 'nodeID'\\t'shortest_distance'\\t'shortes_path' (comma seperated, only for frontier nodes)\n",
    "writer.write('\\t'.join([str(source_nodeId), '0']) + '\\n')\n",
    "writer.close()\n",
    "\n",
    "def recordUpdateNodes(updateInfo):\n",
    "    writer = open('explored_nodes.txt.temp', 'w')\n",
    "    written_nodes = set()\n",
    "    for line in open('explored_nodes.txt', 'r'):\n",
    "        line = line.strip()\n",
    "        if line == '': continue\n",
    "        nodeId = int(line.split('\\t')[0])\n",
    "        if nodeId in updateInfo:\n",
    "            shortest_distance, shortest_path = updateInfo[nodeId]\n",
    "            # record updated node info, and re-designate as a new frontier\n",
    "            writer.write('\\t'.join([str(nodeId), str(shortest_distance), ','.join(map(str,shortest_path))]) + '\\n')\n",
    "            written_nodes.add(nodeId)\n",
    "        else:\n",
    "            writer.write('\\t'.join(line.split('\\t')[0:2]) + '\\n') # no need to keep path-info for non-frontier nodes\n",
    "    # record newly discovered nodes\n",
    "    for nodeId in updateInfo:\n",
    "        if nodeId not in written_nodes:\n",
    "            shortest_distance, shortest_path = updateInfo[nodeId]\n",
    "            # newly discvoerd nodes are frontier nodes\n",
    "            writer.write('\\t'.join([str(nodeId), str(shortest_distance), ','.join(map(str,shortest_path))]) + '\\n')\n",
    "    writer.close()\n",
    "    os.remove('explored_nodes.txt')\n",
    "    os.rename('explored_nodes.txt.temp', 'explored_nodes.txt')\n",
    "\n",
    "\n",
    "# config to run on EMR\n",
    "mr_job = pbf(args=['-r', 'emr', '-c', 'mrjob_emr.conf', '--pool-emr-job-flows', input_file, '--file', 'explored_nodes.txt'])\n",
    "while(1):\n",
    "    with mr_job.make_runner() as runner:\n",
    "        runner.run()\n",
    "        # stream_output: get access of the output\n",
    "        updated_nodes = {}\n",
    "        for line in runner.stream_output():\n",
    "            nodeId,payload = mr_job.parse_output_line(line)\n",
    "            updated_nodes[nodeId] = payload\n",
    "        if len(updated_nodes) > 0:\n",
    "            #print str(updated_nodes)\n",
    "            recordUpdateNodes(updated_nodes)\n",
    "            if target_nodeId in updated_nodes:\n",
    "                shortest_distance_to_target, shortest_path_to_target = updated_nodes[target_nodeId]\n",
    "                if unweighted > 0: # in unweighted graph, we cann terminate once we found the target in the first time\n",
    "                    break\n",
    "        else:\n",
    "            break # no new updated information about the nodes\n",
    "            \n",
    "print \"Shortest distance from node %s to node %s: %s\"%(source_nodeId, target_nodeId, shortest_distance_to_target)\n",
    "print \"via path: %s\"%(','.join(map(str,shortest_path_to_target)) + ',' + str(target_nodeId))\n",
    "\n",
    "# print out 5 additional shortest paths:\n",
    "print \"---------------------------------------------\"\n",
    "print \"Additional Shortest Pathes...\"\n",
    "print \"---------------------------------------------\"\n",
    "count = 0\n",
    "for nodeId in updated_nodes:\n",
    "    if count >= 5: break\n",
    "    shortest_distance_to_target, shortest_path_to_target = updated_nodes[nodeId]\n",
    "    print \"Shortest distance from node %s to node %s: %s\"%(source_nodeId, nodeId, shortest_distance_to_target)\n",
    "    print \"via path: %s\"%(','.join(map(str,shortest_path_to_target)) + ',' + str(nodeId))\n",
    "    count += 1"
   ]
  },
  {
   "cell_type": "code",
   "execution_count": 12,
   "metadata": {
    "collapsed": true
   },
   "outputs": [],
   "source": [
    "# configuration for running MRJob on EMR\n",
    "import os\n",
    "\n",
    "aws_id = os.environ['AWSAccessKeyId']\n",
    "aws_key = os.environ['AWSSecretKey']\n",
    "\n",
    "writer = open('mrjob_emr.conf', 'w')\n",
    "writer.write(\n",
    "\"\"\"runners:\n",
    "  emr:\n",
    "    aws_access_key_id: %s\n",
    "    aws_region: us-east-1\n",
    "    ec2_instance_type: m1.medium\n",
    "    ec2_master_instance_type: m1.medium\n",
    "    num_ec2_instances: 5\n",
    "    aws_secret_access_key: %s\"\"\"%(aws_id, aws_key)\n",
    ")\n",
    "writer.close()"
   ]
  },
  {
   "cell_type": "code",
   "execution_count": 15,
   "metadata": {
    "collapsed": false
   },
   "outputs": [
    {
     "name": "stdout",
     "output_type": "stream",
     "text": [
      "Shortest distance from node 7827 to node 536: 3.0\n",
      "via path: 7827,1426,264,536\n",
      "---------------------------------------------\n",
      "Additional Shortest Pathes...\n",
      "---------------------------------------------\n",
      "Shortest distance from node 7827 to node 4096: 3.0\n",
      "via path: 7827,1426,1702,4096\n",
      "Shortest distance from node 7827 to node 4097: 3.0\n",
      "via path: 7827,1426,1702,4097\n",
      "Shortest distance from node 7827 to node 4098: 3.0\n",
      "via path: 7827,1426,1702,4098\n",
      "Shortest distance from node 7827 to node 17: 3.0\n",
      "via path: 7827,1426,1688,17\n",
      "Shortest distance from node 7827 to node 5806: 3.0\n",
      "via path: 7827,1426,5689,5806\n"
     ]
    },
    {
     "name": "stderr",
     "output_type": "stream",
     "text": [
      "No handlers could be found for logger \"mrjob.conf\"\n"
     ]
    }
   ],
   "source": [
    "# EMR system test on synNet\n",
    "!python wiki_pbf_driver.py synNet.txt 7827 536 1"
   ]
  },
  {
   "cell_type": "code",
   "execution_count": 16,
   "metadata": {
    "collapsed": false
   },
   "outputs": [
    {
     "name": "stdout",
     "output_type": "stream",
     "text": [
      "Shortest distance from node 6176135 to node 13466359: 2.0\n",
      "via path: 6176135,11607791,13466359\n",
      "---------------------------------------------\n",
      "Additional Shortest Pathes...\n",
      "---------------------------------------------\n",
      "Shortest distance from node 6176135 to node 4325376: 2.0\n",
      "via path: 6176135,10598707,4325376\n",
      "Shortest distance from node 6176135 to node 10966358: 2.0\n",
      "via path: 6176135,13334611,10966358\n",
      "Shortest distance from node 6176135 to node 9306121: 2.0\n",
      "via path: 6176135,4344962,9306121\n",
      "Shortest distance from node 6176135 to node 14024714: 2.0\n",
      "via path: 6176135,10122138,14024714\n",
      "Shortest distance from node 6176135 to node 6160395: 2.0\n",
      "via path: 6176135,11051102,6160395\n"
     ]
    },
    {
     "name": "stderr",
     "output_type": "stream",
     "text": [
      "No handlers could be found for logger \"mrjob.conf\"\n"
     ]
    }
   ],
   "source": [
    "# EMR full run on out-index - shortest distance from Ireland to UC Berkeley\n",
    "!python wiki_pbf_driver.py s3://ucb-mids-mls-networks/wikipedia/all-pages-indexed-out.txt 6176135 13466359 1"
   ]
  },
  {
   "cell_type": "markdown",
   "metadata": {},
   "source": [
    "# HW 7.5: Conceptual exercise: Largest single-source network distances\n",
    "\n",
    "Suppose you wanted to find the largest network distance from a single source,<br/>\n",
    "i.e., a node that is the furthest (but still reachable) from a single source.\n",
    "\n",
    "How would you implement this task? <br/>\n",
    "How is this different from finding the shortest path graph distances?\n",
    "\n",
    "Is this task more difficult to implement than the shortest path distance?\n",
    "\n",
    "As you respond, please comment on program structure, runtimes, iterations, general system requirements, etc..."
   ]
  },
  {
   "cell_type": "markdown",
   "metadata": {},
   "source": [
    "#### Answer:\n",
    "I am interpreting this as finding the \"longest possible shortest path\".\n",
    "So at each iteration we will need to identify shortest path between nodes, and also explore further frontiers.\n",
    "Assuming that the edges are unweighted, a suitable approach would be:\n",
    "\n",
    "- Starting at the source node, for each iteration expanding frontier to the immediate neighbour nodes\n",
    "  - When expanding to the neighbour nodes, check if each neighbour node has been visited before.\n",
    "    In the case of unweighted graph, we don't need to re-visit the visited nodes.\n",
    "\tIf the graph is weighted, we will need to verify if the new path is shorter than the previously found path.\n",
    "- At the end of the iteration, keep track of the maximum path among visited nodes that no longer has any\n",
    "  unvisited neighbours.\n",
    "- Repeat the above procedure until there is no longer any frontier nodes that has unvisited neighbours.\n",
    "\n",
    "The performance and system requirements will depend on the graph size (diameter), as we will need to continue\n",
    "search along the path and could possibly having to iterate through the entire graph in the worse case scenario.\n",
    "\n",
    "The distributed version of the program will be similar to 7.4, where we distribute the search for frontiers\n",
    "to multiple machines.  The difference is the stopping criterion as aforementioned.  The runtime should exponential\n",
    "increase with graph size."
   ]
  },
  {
   "cell_type": "code",
   "execution_count": null,
   "metadata": {
    "collapsed": true
   },
   "outputs": [],
   "source": []
  }
 ],
 "metadata": {
  "kernelspec": {
   "display_name": "Python 2",
   "language": "python",
   "name": "python2"
  },
  "language_info": {
   "codemirror_mode": {
    "name": "ipython",
    "version": 2
   },
   "file_extension": ".py",
   "mimetype": "text/x-python",
   "name": "python",
   "nbconvert_exporter": "python",
   "pygments_lexer": "ipython2",
   "version": "2.7.5"
  }
 },
 "nbformat": 4,
 "nbformat_minor": 0
}
